{
 "cells": [
  {
   "cell_type": "markdown",
   "id": "3629ef67-13a8-4869-8b37-52850da301ed",
   "metadata": {},
   "source": [
    "# Stat Modeling Project\n",
    "## Some hints and useful tools"
   ]
  },
  {
   "cell_type": "code",
   "execution_count": 1,
   "id": "224827e8",
   "metadata": {},
   "outputs": [],
   "source": [
    "import requests\n",
    "from IPython.display import JSON #for nice JSON (or dict) display in JupyterLab (not currently supported in Jupyter Notebook)"
   ]
  },
  {
   "cell_type": "code",
   "execution_count": 2,
   "id": "77274fed",
   "metadata": {
    "tags": []
   },
   "outputs": [
    {
     "data": {
      "application/json": {
       "networks": [
        {
         "company": [
          "ЗАО «СитиБайк»"
         ],
         "href": "/v2/networks/velobike-moscow",
         "id": "velobike-moscow",
         "location": {
          "city": "Moscow",
          "country": "RU",
          "latitude": 55.75,
          "longitude": 37.616667
         },
         "name": "Velobike"
        },
        {
         "company": [
          "Urban Infrastructure Partner"
         ],
         "href": "/v2/networks/baerum-bysykkel",
         "id": "baerum-bysykkel",
         "location": {
          "city": "Bærum",
          "country": "NO",
          "latitude": 59.89455,
          "longitude": 10.546343
         },
         "name": "Bysykkel"
        },
        {
         "company": [
          "Comunicare S.r.l."
         ],
         "href": "/v2/networks/bicincitta-siena",
         "id": "bicincitta-siena",
         "location": {
          "city": "Siena",
          "country": "IT",
          "latitude": 43.3186,
          "longitude": 11.3306
         },
         "name": "Bicincittà",
         "source": "https://www.bicincitta.com/frmLeStazioni.aspx?ID=202"
        },
        {
         "company": [
          "Cyclopolis Systems"
         ],
         "href": "/v2/networks/cyclopolis-maroussi",
         "id": "cyclopolis-maroussi",
         "location": {
          "city": "Maroussi",
          "country": "GR",
          "latitude": 38.0568722388,
          "longitude": 23.8083299536
         },
         "name": "Cyclopolis"
        },
        {
         "company": [
          "Groundwork",
          "Slough Borough Council",
          "ITS"
         ],
         "href": "/v2/networks/cycle-hire-slough",
         "id": "cycle-hire-slough",
         "location": {
          "city": "Slough",
          "country": "GB",
          "latitude": 51.51135,
          "longitude": -0.591562
         },
         "name": "Cycle Hire"
        },
        {
         "company": [
          "Cyclopolis Systems"
         ],
         "href": "/v2/networks/cyclopolis-nafplio",
         "id": "cyclopolis-nafplio",
         "location": {
          "city": "Nafplio",
          "country": "GR",
          "latitude": 37.5639397319,
          "longitude": 22.8093402872
         },
         "name": "Cyclopolis"
        },
        {
         "company": [
          "Comunicare S.r.l."
         ],
         "href": "/v2/networks/bicincitta-parco-dei-colli-di-bergamo",
         "id": "bicincitta-parco-dei-colli-di-bergamo",
         "location": {
          "city": "Parco dei Colli di Bergamo",
          "country": "IT",
          "latitude": 45.72295637032245,
          "longitude": 9.649230073016383
         },
         "name": "Bicincittà",
         "source": "https://www.bicincitta.com/frmLeStazioni.aspx?ID=203"
        },
        {
         "company": [
          "Cyclopolis Systems"
         ],
         "href": "/v2/networks/cyclopolis-aigialeia",
         "id": "cyclopolis-aigialeia",
         "location": {
          "city": "Aigialeia",
          "country": "GR",
          "latitude": 38.2511101325,
          "longitude": 22.0821570196
         },
         "name": "Cyclopolis"
        },
        {
         "company": [
          "Cyclopolis Systems"
         ],
         "href": "/v2/networks/cyclopolis-marathon",
         "id": "cyclopolis-marathon",
         "location": {
          "city": "Marathon",
          "country": "GR",
          "latitude": 38.0855680022,
          "longitude": 23.9776389963
         },
         "name": "Cyclopolis"
        },
        {
         "company": [
          "Comunicare S.r.l."
         ],
         "href": "/v2/networks/bicincitta-mantova",
         "id": "bicincitta-mantova",
         "location": {
          "city": "Mantova",
          "country": "IT",
          "latitude": 45.15866370764634,
          "longitude": 10.783718973016335
         },
         "name": "Bicincittà",
         "source": "https://www.bicincitta.com/frmLeStazioni.aspx?ID=204"
        },
        {
         "company": [
          "Cyclopolis Systems"
         ],
         "href": "/v2/networks/cyclopolis-neasmyrni",
         "id": "cyclopolis-neasmyrni",
         "location": {
          "city": "Νea Smyrni",
          "country": "GR",
          "latitude": 37.9381,
          "longitude": 23.7126
         },
         "name": "Cyclopolis"
        },
        {
         "company": [
          "Cyclopolis Systems"
         ],
         "href": "/v2/networks/cyclopolis-moschatotavros",
         "id": "cyclopolis-moschatotavros",
         "location": {
          "city": "Μoschato-Tavros",
          "country": "GR",
          "latitude": 37.9538991434,
          "longitude": 23.6824746661
         },
         "name": "Cyclopolis"
        },
        {
         "company": [
          "Cyclopolis Systems"
         ],
         "href": "/v2/networks/cyclopolis-arxaiaolympia",
         "id": "cyclopolis-arxaiaolympia",
         "location": {
          "city": "Αrxaia Olympia",
          "country": "GR",
          "latitude": 37.6419700934,
          "longitude": 21.6247265179
         },
         "name": "Cyclopolis"
        },
        {
         "company": [
          "Cyclopolis Systems"
         ],
         "href": "/v2/networks/cyclopolis-kiato",
         "id": "cyclopolis-kiato",
         "location": {
          "city": "Kιato",
          "country": "GR",
          "latitude": 38.0132674508,
          "longitude": 22.7493819902
         },
         "name": "Cyclopolis"
        },
        {
         "company": [
          "Comunicare S.r.l."
         ],
         "href": "/v2/networks/bicincitta-assemini",
         "id": "bicincitta-assemini",
         "location": {
          "city": "Assemini",
          "country": "IT",
          "latitude": 39.28956306007679,
          "longitude": 9.006601555294765
         },
         "name": "Bicincittà",
         "source": "https://www.bicincitta.com/frmLeStazioni.aspx?ID=205"
        },
        {
         "company": [
          "Cyclopolis Systems"
         ],
         "href": "/v2/networks/cyclopolis-rhodes",
         "id": "cyclopolis-rhodes",
         "location": {
          "city": "Rhodes",
          "country": "GR",
          "latitude": 36.4509118,
          "longitude": 28.2246966
         },
         "name": "Cyclopolis"
        },
        {
         "company": [
          "Cyclopolis Systems"
         ],
         "href": "/v2/networks/cyclopolis-florina",
         "id": "cyclopolis-florina",
         "location": {
          "city": "Florina",
          "country": "GR",
          "latitude": 40.8016111,
          "longitude": 21.4245222
         },
         "name": "Cyclopolis"
        },
        {
         "company": [
          "Comunicare S.r.l."
         ],
         "href": "/v2/networks/bicincitta-tortoli",
         "id": "bicincitta-tortoli",
         "location": {
          "city": "Tortolì",
          "country": "IT",
          "latitude": 39.92664489852196,
          "longitude": 9.654953570777934
         },
         "name": "Bicincittà",
         "source": "https://www.bicincitta.com/frmLeStazioni.aspx?ID=206"
        },
        {
         "company": [
          "Cyclopolis Systems"
         ],
         "href": "/v2/networks/cyclopolis-limnos",
         "id": "cyclopolis-limnos",
         "location": {
          "city": "Limnos",
          "country": "GR",
          "latitude": 39.8747861,
          "longitude": 25.0586722
         },
         "name": "Cyclopolis"
        },
        {
         "company": [
          "Comunicare S.r.l."
         ],
         "href": "/v2/networks/bicincitta-gaeta",
         "id": "bicincitta-gaeta",
         "location": {
          "city": "Gaeta",
          "country": "IT",
          "latitude": 41.209620965538036,
          "longitude": 13.584335125656139
         },
         "name": "Bicincittà",
         "source": "https://www.bicincitta.com/frmLeStazioni.aspx?ID=207"
        },
        {
         "company": [
          "Comunicare S.r.l."
         ],
         "href": "/v2/networks/bicincitta-borgarello",
         "id": "bicincitta-borgarello",
         "location": {
          "city": "Borgarello",
          "country": "IT",
          "latitude": 45.23963753440171,
          "longitude": 9.136150475640875
         },
         "name": "Bicincittà",
         "source": "https://www.bicincitta.com/frmLeStazioni.aspx?ID=208"
        },
        {
         "company": [
          "Comunicare S.r.l."
         ],
         "href": "/v2/networks/bicincitta-pizzighettone-formigara",
         "id": "bicincitta-pizzighettone-formigara",
         "location": {
          "city": "Pizzighettone e Formigara",
          "country": "IT",
          "latitude": 45.186748819167434,
          "longitude": 9.778087948479424
         },
         "name": "Bicincittà",
         "source": "https://www.bicincitta.com/frmLeStazioni.aspx?ID=209"
        },
        {
         "company": [
          "The National Transport Authority"
         ],
         "href": "/v2/networks/cork",
         "id": "cork",
         "location": {
          "city": "Cork",
          "country": "IE",
          "latitude": 51.893604,
          "longitude": -8.494174
         },
         "name": "Coca-Cola Zero® Bikes"
        },
        {
         "company": [
          "The National Transport Authority"
         ],
         "href": "/v2/networks/limerick",
         "id": "limerick",
         "location": {
          "city": "Limerick",
          "country": "IE",
          "latitude": 52.668746,
          "longitude": -8.627809
         },
         "name": "Coca-Cola Zero® Bikes"
        },
        {
         "company": [
          "BTS Group Holdings"
         ],
         "href": "/v2/networks/punpunbikeshare",
         "id": "punpunbikeshare",
         "location": {
          "city": "Bangkok",
          "country": "TH",
          "latitude": 13.75,
          "longitude": 100.516667
         },
         "name": "Pun Pun Bike Share"
        },
        {
         "company": [
          "The National Transport Authority"
         ],
         "href": "/v2/networks/galway",
         "id": "galway",
         "location": {
          "city": "Galway",
          "country": "IE",
          "latitude": 53.2783491544,
          "longitude": -9.05069143207
         },
         "name": "Coca-Cola Zero® Bikes"
        },
        {
         "company": [
          "Bike U Sp. z o.o."
         ],
         "href": "/v2/networks/bbbike",
         "id": "bbbike",
         "location": {
          "city": "Bielsko-Biała",
          "country": "PL",
          "latitude": 49.8225,
          "longitude": 19.044444
         },
         "name": "BBBike"
        },
        {
         "company": [
          "Comunicare S.r.l."
         ],
         "href": "/v2/networks/bicincitta-montecatini-terme",
         "id": "bicincitta-montecatini-terme",
         "location": {
          "city": "Montecatini Terme",
          "country": "IT",
          "latitude": 43.88362791665083,
          "longitude": 10.764385656591799
         },
         "name": "Bicincittà",
         "source": "https://www.bicincitta.com/frmLeStazioni.aspx?ID=210"
        },
        {
         "company": [
          "Bike U Sp. z o.o."
         ],
         "href": "/v2/networks/bikeu-bra",
         "id": "bikeu-bra",
         "location": {
          "city": "Bydgoszcz",
          "country": "PL",
          "latitude": 53.12193,
          "longitude": 18.00038
         },
         "name": "Bydgoski rower aglomeracyjny"
        },
        {
         "company": [
          "PBSC",
          "Serco Group plc"
         ],
         "href": "/v2/networks/santander-cycles",
         "id": "santander-cycles",
         "location": {
          "city": "London",
          "country": "GB",
          "latitude": 51.51121389999999,
          "longitude": -0.1198244
         },
         "name": "Santander Cycles"
        },
        {
         "company": [
          "PBSC",
          "Alta Bicycle Share, Inc"
         ],
         "gbfs_href": "https://asp.publicbikesystem.net/ube/gbfs/v1/gbfs.json",
         "href": "/v2/networks/we-cycle",
         "id": "we-cycle",
         "location": {
          "city": "Aspen, CO",
          "country": "US",
          "latitude": 39.194951,
          "longitude": -106.837002
         },
         "name": "WE-cycle"
        },
        {
         "company": [
          "Comunicare S.r.l."
         ],
         "href": "/v2/networks/bicincitta-carrara",
         "id": "bicincitta-carrara",
         "location": {
          "city": "Carrara",
          "country": "IT",
          "latitude": 44.07731805550891,
          "longitude": 10.097172450401331
         },
         "name": "Bicincittà",
         "source": "https://www.bicincitta.com/frmLeStazioni.aspx?ID=211"
        },
        {
         "company": [
          "PBSC",
          "Alta Bicycle Share, Inc"
         ],
         "href": "/v2/networks/wowcycle-reykjavik",
         "id": "wowcycle-reykjavik",
         "location": {
          "city": "Reykjavík",
          "country": "IS",
          "latitude": 64.128288,
          "longitude": -21.827774
         },
         "name": "WOW Citybike"
        },
        {
         "company": [
          "Transparenzportal Hamburg"
         ],
         "href": "/v2/networks/stadtrad-hamburg",
         "id": "stadtrad-hamburg",
         "license": {
          "name": "Data licence Germany – attribution – version 2.0",
          "url": "https://www.govdata.de/dl-de/by-2-0"
         },
         "location": {
          "city": "Hamburg",
          "country": "DE",
          "latitude": 53.57532,
          "longitude": 10.01534
         },
         "name": "StadtRAD Hamburg'"
        },
        {
         "company": [
          "Comunicare S.r.l."
         ],
         "href": "/v2/networks/tigullionbike",
         "id": "tigullionbike",
         "location": {
          "city": "Sestri Levante - Lavagna",
          "country": "IT",
          "latitude": 44.272554,
          "longitude": 9.395714
         },
         "name": "Tigullionbike",
         "source": "https://www.bicincitta.com/frmLeStazioni.aspx?ID=80"
        },
        {
         "company": [
          "Comunicare S.r.l."
         ],
         "href": "/v2/networks/arbike",
         "id": "arbike",
         "location": {
          "city": "Arezzo",
          "country": "IT",
          "latitude": 43.473333,
          "longitude": 11.87
         },
         "name": "ARbike",
         "source": "https://www.bicincitta.com/frmLeStazioni.aspx?ID=84"
        },
        {
         "company": [
          "Velobike.kz, LLP",
          "Smoove"
         ],
         "href": "/v2/networks/velobike",
         "id": "velobike",
         "location": {
          "city": "Astana",
          "country": "KZ",
          "latitude": 51.166667,
          "longitude": 71.416667
         },
         "name": "Velobike"
        },
        {
         "company": null,
         "ebikes": true,
         "gbfs_href": "https://velib-metropole-opendata.smoove.pro/opendata/Velib_Metropole/gbfs.json",
         "href": "/v2/networks/velib",
         "id": "velib",
         "license": {
          "name": "OPEN LICENCE 2.0",
          "url": "etalab.gouv.fr/wp-content/uploads/2018/11/open-licence.pdf"
         },
         "location": {
          "city": "Paris",
          "country": "FR",
          "latitude": 48.856614,
          "longitude": 2.3522219
         },
         "name": "Vélib' Métropole"
        },
        {
         "company": [
          "Comunicare S.r.l."
         ],
         "href": "/v2/networks/ascoli-piceno",
         "id": "ascoli-piceno",
         "location": {
          "city": "Ascoli Piceno",
          "country": "IT",
          "latitude": 42.85,
          "longitude": 13.583333
         },
         "name": "Ascoli Piceno",
         "source": "https://www.bicincitta.com/frmLeStazioni.aspx?ID=73"
        },
        {
         "company": [
          "Comunicare S.r.l."
         ],
         "href": "/v2/networks/bigi",
         "id": "bigi",
         "location": {
          "city": "Bergamo",
          "country": "IT",
          "latitude": 45.695,
          "longitude": 9.67
         },
         "name": "BiGi",
         "source": "https://www.bicincitta.com/frmLeStazioni.aspx?ID=133"
        },
        {
         "company": [
          "ICNITA S.L."
         ],
         "href": "/v2/networks/girocleta",
         "id": "girocleta",
         "location": {
          "city": "Girona",
          "country": "ES",
          "latitude": 41.9794005,
          "longitude": 2.8214264
         },
         "name": "Girocleta"
        },
        {
         "company": [
          "Comunicare S.r.l."
         ],
         "href": "/v2/networks/alba",
         "id": "alba",
         "location": {
          "city": "Alba",
          "country": "IT",
          "latitude": 44.716667,
          "longitude": 8.083333
         },
         "name": "Alba",
         "source": "https://www.bicincitta.com/frmLeStazioni.aspx?ID=139"
        },
        {
         "company": [
          "ClearChannel"
         ],
         "ebikes": true,
         "href": "/v2/networks/bikemi",
         "id": "bikemi",
         "location": {
          "city": "Milano",
          "country": "IT",
          "latitude": 45.4654542,
          "longitude": 9.186516
         },
         "name": "BikeMi"
        },
        {
         "company": [
          "Comunicare S.r.l."
         ],
         "href": "/v2/networks/biella",
         "id": "biella",
         "location": {
          "city": "Biella",
          "country": "IT",
          "latitude": 45.5775,
          "longitude": 8.051111
         },
         "name": "Biella",
         "source": "https://www.bicincitta.com/frmLeStazioni.aspx?ID=112"
        },
        {
         "company": [
          "Comunicare S.r.l."
         ],
         "href": "/v2/networks/chivasso",
         "id": "chivasso",
         "location": {
          "city": "Chivasso",
          "country": "IT",
          "latitude": 45.189765,
          "longitude": 7.888935
         },
         "name": "Chivasso",
         "source": "https://www.bicincitta.com/frmLeStazioni.aspx?ID=201"
        },
        {
         "company": [
          "ClearChannel"
         ],
         "href": "/v2/networks/bizi",
         "id": "bizi",
         "location": {
          "city": "Zaragoza",
          "country": "ES",
          "latitude": 41.6487908,
          "longitude": -0.8895811
         },
         "name": "Bizi"
        },
        {
         "company": null,
         "gbfs_href": "https://gbfs.mex.lyftbikes.com/gbfs/gbfs.json",
         "href": "/v2/networks/ecobici",
         "id": "ecobici",
         "location": {
          "city": "Cd de México",
          "country": "MX",
          "latitude": 19.4326077,
          "longitude": -99.133208
         },
         "name": "EcoBici"
        },
        {
         "company": [
          "Comunicare S.r.l."
         ],
         "href": "/v2/networks/bici-in-busto",
         "id": "bici-in-busto",
         "location": {
          "city": "Busto Arsizio",
          "country": "IT",
          "latitude": 45.610555,
          "longitude": 8.852062
         },
         "name": "Bici in Busto",
         "source": "https://www.bicincitta.com/frmLeStazioni.aspx?ID=66"
        },
        {
         "company": [
          "ClearChannel"
         ],
         "href": "/v2/networks/velo-antwerpen",
         "id": "velo-antwerpen",
         "location": {
          "city": "Antwerpen",
          "country": "BE",
          "latitude": 51.216667,
          "longitude": 4.4
         },
         "name": "Velo Antwerpen"
        },
        {
         "company": [
          "Comunicare S.r.l."
         ],
         "href": "/v2/networks/cuneo",
         "id": "cuneo",
         "location": {
          "city": "Cuneo",
          "country": "IT",
          "latitude": 44.384238,
          "longitude": 7.541428
         },
         "name": "Cuneo",
         "source": "https://www.bicincitta.com/frmLeStazioni.aspx?ID=39"
        },
        {
         "company": [
          "ClearChannel"
         ],
         "href": "/v2/networks/malmobybike",
         "id": "malmobybike",
         "location": {
          "city": "Malmö",
          "country": "SE",
          "latitude": 55.605,
          "longitude": 13.0038
         },
         "name": "Malmö by bike"
        },
        {
         "company": [
          "ClearChannel"
         ],
         "href": "/v2/networks/bicilascondes",
         "id": "bicilascondes",
         "location": {
          "city": "Las Condes",
          "country": "CL",
          "latitude": -33.401944,
          "longitude": -70.55
         },
         "name": "Bici las Condes"
        },
        {
         "company": "Empresa Municipal de Transportes de Madrid, S.A.",
         "href": "/v2/networks/bicimad",
         "id": "bicimad",
         "location": {
          "city": "Madrid",
          "country": "ES",
          "latitude": 40.4168,
          "longitude": -3.7038
         },
         "name": "BiciMAD"
        },
        {
         "company": [
          "Brainbox Technology",
          "Smoove SAS"
         ],
         "href": "/v2/networks/easybike-didymoteicho",
         "id": "easybike-didymoteicho",
         "location": {
          "city": "Didymoteicho",
          "country": "GR",
          "latitude": 41.3502539849,
          "longitude": 26.4972960949
         },
         "name": "EasyBike"
        },
        {
         "company": [
          "Comunicare S.r.l."
         ],
         "href": "/v2/networks/free-bike-sharing",
         "id": "free-bike-sharing",
         "location": {
          "city": "Frosinone",
          "country": "IT",
          "latitude": 41.645081,
          "longitude": 13.342123
         },
         "name": "FRee Bike sharing",
         "source": "https://www.bicincitta.com/frmLeStazioni.aspx?ID=53"
        },
        {
         "company": [
          "Brainbox Technology",
          "Smoove SAS"
         ],
         "href": "/v2/networks/easybike-glyfada",
         "id": "easybike-glyfada",
         "location": {
          "city": "Glyfada",
          "country": "GR",
          "latitude": 37.8715809825,
          "longitude": 23.7355544376
         },
         "name": "EasyBike"
        },
        {
         "company": [
          "Brainbox Technology",
          "Smoove SAS"
         ],
         "href": "/v2/networks/easybike-igoumenitsa",
         "id": "easybike-igoumenitsa",
         "location": {
          "city": "Igoumenitsa",
          "country": "GR",
          "latitude": 39.5005770633,
          "longitude": 20.2635206985
         },
         "name": "EasyBike"
        },
        {
         "company": [
          "Comunicare S.r.l."
         ],
         "href": "/v2/networks/lecce",
         "id": "lecce",
         "location": {
          "city": "Lecce",
          "country": "IT",
          "latitude": 40.35040350928062,
          "longitude": 18.177824020385742
         },
         "name": "lecce",
         "source": "https://www.bicincitta.com/frmLeStazioni.aspx?ID=159"
        },
        {
         "company": [
          "Brainbox Technology",
          "Smoove SAS"
         ],
         "href": "/v2/networks/easybike-ioannina",
         "id": "easybike-ioannina",
         "location": {
          "city": "Ioannina",
          "country": "GR",
          "latitude": 39.6639818,
          "longitude": 20.8522784
         },
         "name": "EasyBike"
        },
        {
         "company": [
          "Brainbox Technology",
          "Smoove SAS"
         ],
         "href": "/v2/networks/easybike-karditsa",
         "id": "easybike-karditsa",
         "location": {
          "city": "Karditsa",
          "country": "GR",
          "latitude": 39.3634604,
          "longitude": 21.9211192
         },
         "name": "EasyBike"
        },
        {
         "company": [
          "Comunicare S.r.l."
         ],
         "href": "/v2/networks/manerba-in-bici",
         "id": "manerba-in-bici",
         "location": {
          "city": "Manerba del Garda",
          "country": "IT",
          "latitude": 45.561179,
          "longitude": 10.559406
         },
         "name": "Manerba in Bici",
         "source": "https://www.bicincitta.com/frmLeStazioni.aspx?ID=102"
        },
        {
         "company": [
          "Brainbox Technology",
          "Smoove SAS"
         ],
         "href": "/v2/networks/easybike-kavala",
         "id": "easybike-kavala",
         "location": {
          "city": "Kavala",
          "country": "GR",
          "latitude": 40.9369068,
          "longitude": 24.4122164
         },
         "name": "EasyBike"
        },
        {
         "company": [
          "Brainbox Technology",
          "Smoove SAS"
         ],
         "href": "/v2/networks/easybike-kinouria",
         "id": "easybike-kinouria",
         "location": {
          "city": "Kinouria",
          "country": "GR",
          "latitude": 37.1476704305,
          "longitude": 22.8933729935
         },
         "name": "EasyBike"
        },
        {
         "company": [
          "Brainbox Technology",
          "Smoove SAS"
         ],
         "href": "/v2/networks/easybike-komotini",
         "id": "easybike-komotini",
         "location": {
          "city": "Komotini",
          "country": "GR",
          "latitude": 41.117833,
          "longitude": 25.4041307
         },
         "name": "EasyBike"
        },
        {
         "company": [
          "Brainbox Technology",
          "Smoove SAS"
         ],
         "href": "/v2/networks/easybike-patra",
         "id": "easybike-patra",
         "location": {
          "city": "Patra",
          "country": "GR",
          "latitude": 38.2410966371,
          "longitude": 21.7259683418
         },
         "name": "EasyBike"
        },
        {
         "company": [
          "Comunicare S.r.l."
         ],
         "href": "/v2/networks/mar-e-bici",
         "id": "mar-e-bici",
         "location": {
          "city": "Marciana Marina",
          "country": "IT",
          "latitude": 42.805855,
          "longitude": 10.196514
         },
         "name": "Mar e Bici",
         "source": "https://www.bicincitta.com/frmLeStazioni.aspx?ID=90"
        },
        {
         "company": [
          "Brainbox Technology",
          "Smoove SAS"
         ],
         "href": "/v2/networks/easybike-rethymno",
         "id": "easybike-rethymno",
         "location": {
          "city": "Rethymno",
          "country": "GR",
          "latitude": 35.3667571777,
          "longitude": 24.4832845736
         },
         "name": "EasyBike"
        },
        {
         "company": [
          "Brainbox Technology",
          "Smoove SAS"
         ],
         "href": "/v2/networks/easybike-samos",
         "id": "easybike-samos",
         "location": {
          "city": "Samos",
          "country": "GR",
          "latitude": 37.754065919,
          "longitude": 26.9787850189
         },
         "name": "EasyBike"
        },
        {
         "company": [
          "Comunicare S.r.l."
         ],
         "href": "/v2/networks/novara",
         "id": "novara",
         "location": {
          "city": "Novara",
          "country": "IT",
          "latitude": 45.44574,
          "longitude": 8.622165
         },
         "name": "Novara",
         "source": "https://www.bicincitta.com/frmLeStazioni.aspx?ID=131"
        },
        {
         "company": [
          "Brainbox Technology",
          "Smoove SAS"
         ],
         "href": "/v2/networks/easybike-nicosia",
         "id": "easybike-nicosia",
         "location": {
          "city": "Nicosia",
          "country": "CY",
          "latitude": 35.1739302,
          "longitude": 33.364726
         },
         "name": "EasyBike"
        },
        {
         "company": [
          "Brainbox Technology",
          "Smoove SAS"
         ],
         "href": "/v2/networks/easybike-mani",
         "id": "easybike-mani",
         "location": {
          "city": "Mani",
          "country": "GR",
          "latitude": 41.4097472,
          "longitude": 26.4024952
         },
         "name": "EasyBike"
        },
        {
         "company": [
          "Brainbox Technology",
          "Smoove SAS"
         ],
         "href": "/v2/networks/easybike-irakleio",
         "id": "easybike-irakleio",
         "location": {
          "city": "Irakleio",
          "country": "GR",
          "latitude": 35.338735,
          "longitude": 25.144213
         },
         "name": "EasyBike"
        },
        {
         "company": [
          "Brainbox Technology",
          "Smoove SAS"
         ],
         "href": "/v2/networks/thessbike",
         "id": "thessbike",
         "location": {
          "city": "Thessaloniki",
          "country": "GR",
          "latitude": 40.6403167,
          "longitude": 22.9352716
         },
         "name": "ThessBike"
        },
        {
         "company": [
          "Brainbox Technology",
          "Smoove SAS"
         ],
         "href": "/v2/networks/athens-bikes",
         "id": "athens-bikes",
         "location": {
          "city": "Athens",
          "country": "GR",
          "latitude": 37.9838,
          "longitude": 23.7275
         },
         "name": "AthensBikes"
        },
        {
         "company": [
          "Comunicare S.r.l."
         ],
         "href": "/v2/networks/goodbike",
         "id": "goodbike",
         "location": {
          "city": "Padova",
          "country": "IT",
          "latitude": 45.4064349,
          "longitude": 11.8767611
         },
         "name": "GoodBike",
         "source": "http://www.goodbikepadova.it/frmLeStazioni.aspx?ID=59"
        },
        {
         "company": [
          "PegBike"
         ],
         "href": "/v2/networks/ciclosampa",
         "id": "ciclosampa",
         "location": {
          "city": "São Paulo",
          "country": "BR",
          "latitude": -23.55,
          "longitude": -46.6333
         },
         "name": "CicloSampa"
        },
        {
         "company": null,
         "gbfs_href": "https://acoruna.publicbikesystem.net/customer/gbfs/v2/gbfs.json",
         "href": "/v2/networks/bicicorunha",
         "id": "bicicorunha",
         "location": {
          "city": "A Coruña",
          "country": "ES",
          "latitude": 43.3623,
          "longitude": -8.4115
         },
         "name": "Bicicoruña"
        },
        {
         "company": [
          "Tuimil S.A."
         ],
         "href": "/v2/networks/bici-ferrol-terra",
         "id": "bici-ferrol-terra",
         "location": {
          "city": "Ferrol - Narón",
          "country": "ES",
          "latitude": 43.4896,
          "longitude": -8.2193
         },
         "name": "BiciFerrolTerra"
        },
        {
         "company": [
          "Social Bicycles Inc."
         ],
         "gbfs_href": "http://curtinbikeshare.com/opendata/gbfs.json",
         "href": "/v2/networks/curtin-bike-share",
         "id": "curtin-bike-share",
         "location": {
          "city": "Curtin University, Perth, WA",
          "country": "AU",
          "latitude": -32.0034172153127,
          "longitude": 115.89431270956993
         },
         "name": "Curtin Bike Share"
        },
        {
         "company": [
          "Social Bicycles Inc."
         ],
         "gbfs_href": "https://monashbikeshare.com/opendata/gbfs.json",
         "href": "/v2/networks/monash-bikeshare",
         "id": "monash-bikeshare",
         "location": {
          "city": "Melbourne, AU",
          "country": "AU",
          "latitude": -37.91238410208696,
          "longitude": 145.1362281292677
         },
         "name": "Monash BikeShare"
        },
        {
         "company": [
          "Comunicare S.r.l."
         ],
         "href": "/v2/networks/mimuovofe",
         "id": "mimuovofe",
         "location": {
          "city": "Ferrara",
          "country": "IT",
          "latitude": 44.8350382,
          "longitude": 11.6240562
         },
         "name": "Mi Muovo in Bici",
         "source": "http://www.mimuovoinbici.it/frmLeStazioni.aspx?ID=142"
        },
        {
         "company": [
          "Motivate International, Inc.",
          "PBSC Urban Solutions",
          "BIXI Montréal"
         ],
         "ebikes": true,
         "gbfs_href": "https://gbfs.velobixi.com/gbfs/gbfs.json",
         "href": "/v2/networks/bixi-montreal",
         "id": "bixi-montreal",
         "location": {
          "city": "Montréal, QC",
          "country": "CA",
          "latitude": 45.508693,
          "longitude": -73.553928
         },
         "name": "Bixi"
        },
        {
         "company": [
          "Comunicare S.r.l."
         ],
         "href": "/v2/networks/parma",
         "id": "parma",
         "location": {
          "city": "Parma",
          "country": "IT",
          "latitude": 44.801485,
          "longitude": 10.3279036
         },
         "name": "Mi Muovo in Bici",
         "source": "http://www.mimuovoinbici.it/frmLeStazioni.aspx?ID=58"
        },
        {
         "company": [
          "Motivate International, Inc.",
          "PBSC Urban Solutions"
         ],
         "gbfs_href": "https://tor.publicbikesystem.net/ube/gbfs/v1/",
         "href": "/v2/networks/bixi-toronto",
         "id": "bixi-toronto",
         "location": {
          "city": "Toronto, ON",
          "country": "CA",
          "latitude": 43.653226,
          "longitude": -79.3831843
         },
         "name": "Bike Share Toronto"
        },
        {
         "company": [
          "Social Bicycles Inc."
         ],
         "gbfs_href": "https://hamilton.socialbicycles.com/opendata/gbfs.json",
         "href": "/v2/networks/sobi-hamilton",
         "id": "sobi-hamilton",
         "location": {
          "city": "Hamilton, ON",
          "country": "CA",
          "latitude": 43.25643601915583,
          "longitude": -79.86929655075073
         },
         "name": "SoBi"
        },
        {
         "company": [
          "Clean Energy Coalition",
          "BCycle, LLC"
         ],
         "gbfs_href": "https://gbfs.bcycle.com/bcycle_arborbike/gbfs.json",
         "href": "/v2/networks/arborbike",
         "id": "arborbike",
         "location": {
          "city": "Ann Arbor, MI",
          "country": "US",
          "latitude": 42.27853,
          "longitude": -83.74536
         },
         "name": "ArborBike"
        },
        {
         "company": [
          "Comunicare S.r.l."
         ],
         "href": "/v2/networks/pavia-in-bici",
         "id": "pavia-in-bici",
         "location": {
          "city": "Pavia",
          "country": "IT",
          "latitude": 45.1847248,
          "longitude": 9.1582069
         },
         "name": "Pavia in bici",
         "source": "https://www.bicincitta.com/frmLeStazioni.aspx?ID=45"
        },
        {
         "company": [
          "Comunicare S.r.l."
         ],
         "href": "/v2/networks/bici-perugia",
         "id": "bici-perugia",
         "location": {
          "city": "Perugia",
          "country": "IT",
          "latitude": 43.1107168,
          "longitude": 12.3908279
         },
         "name": "Bici Perugia",
         "source": "https://www.bicincitta.com/frmLeStazioni.aspx?ID=122"
        },
        {
         "company": [
          "BCycle, LLC"
         ],
         "gbfs_href": "https://gbfs.bcycle.com/bcycle_austin/gbfs.json",
         "href": "/v2/networks/austin",
         "id": "austin",
         "location": {
          "city": "Austin, TX",
          "country": "US",
          "latitude": 30.26408,
          "longitude": -97.74355
         },
         "name": "Austin B-cycle"
        },
        {
         "company": [
          "Motivate International, Inc",
          "PBSC"
         ],
         "ebikes": true,
         "gbfs_href": "https://chat.publicbikesystem.net/ube/gbfs/v1/",
         "href": "/v2/networks/bike-chattanooga",
         "id": "bike-chattanooga",
         "location": {
          "city": "Chattanooga, TN",
          "country": "US",
          "latitude": 35.0456297,
          "longitude": -85.3096801
         },
         "name": "Bike Chattanooga"
        },
        {
         "company": [
          "Comunicare S.r.l."
         ],
         "href": "/v2/networks/piacenza",
         "id": "piacenza",
         "location": {
          "city": "Piacenza",
          "country": "IT",
          "latitude": 45.0473754,
          "longitude": 9.6865813
         },
         "name": "Mi Muovo in Bici",
         "source": "http://www.mimuovoinbici.it/frmLeStazioni.aspx?ID=148"
        },
        {
         "company": [
          "Comunicare S.r.l."
         ],
         "href": "/v2/networks/pinerolo",
         "id": "pinerolo",
         "location": {
          "city": "Pinerolo",
          "country": "IT",
          "latitude": 44.8850256,
          "longitude": 7.3499953
         },
         "name": "Pinerolo",
         "source": "https://www.bicincitta.com/frmLeStazioni.aspx?ID=71"
        },
        {
         "company": [
          "Portland Bureau of Transportation (PBOT)",
          "Lyft Inc."
         ],
         "gbfs_href": "https://gbfs.biketownpdx.com/gbfs/gbfs.json",
         "href": "/v2/networks/biketown",
         "id": "biketown",
         "location": {
          "city": "Portland, OR",
          "country": "US",
          "latitude": 45.52175423291714,
          "longitude": -122.68107935786247
         },
         "name": "BIKETOWN"
        },
        {
         "company": [
          "Comunicare S.r.l."
         ],
         "href": "/v2/networks/reggio-emilia",
         "id": "reggio-emilia",
         "location": {
          "city": "Reggio Emilia",
          "country": "IT",
          "latitude": 44.6989932,
          "longitude": 10.6296859
         },
         "name": "Mi Muovo in Bici",
         "source": "http://www.mimuovoinbici.it/frmLeStazioni.aspx?ID=155"
        },
        {
         "company": [
          "CycleHop, LLC",
          "Social Bicycles Inc."
         ],
         "gbfs_href": "http://britebikes.socialbicycles.com/opendata/gbfs.json",
         "href": "/v2/networks/britebikes",
         "id": "britebikes",
         "location": {
          "city": "San Ramon, CA",
          "country": "US",
          "latitude": 37.759444753878,
          "longitude": -121.955134881881
         },
         "name": "BRiteBikes"
        },
        {
         "company": [
          "ValleyRide",
          "Social Bicycles Inc."
         ],
         "gbfs_href": "http://boise.greenbike.com/opendata/gbfs.json",
         "href": "/v2/networks/boise-greenbike",
         "id": "boise-greenbike",
         "location": {
          "city": "Boise, ID",
          "country": "US",
          "latitude": 43.6153060610528,
          "longitude": -116.201761349309
         },
         "name": "Boise GreenBike"
        },
        {
         "company": [
          "BCycle, LLC"
         ],
         "gbfs_href": "https://gbfs.bcycle.com/bcycle_boulder/gbfs.json",
         "href": "/v2/networks/boulder",
         "id": "boulder",
         "location": {
          "city": "Boulder, CO",
          "country": "US",
          "latitude": 40.00811,
          "longitude": -105.26385
         },
         "name": "Boulder B-cycle"
        },
        {
         "company": [
          "CycleHop, LLC",
          "Social Bicycles Inc."
         ],
         "gbfs_href": "http://santamonicabikeshare.com/opendata/gbfs.json",
         "href": "/v2/networks/breeze-bike-share",
         "id": "breeze-bike-share",
         "location": {
          "city": "Santa Monica, CA",
          "country": "US",
          "latitude": 34.01780925008178,
          "longitude": -118.4965717792511
         },
         "name": "Breeze Bike Share"
        },
        {
         "company": [
          "Comunicare S.r.l."
         ],
         "href": "/v2/networks/rimini",
         "id": "rimini",
         "location": {
          "city": "Rimini",
          "country": "IT",
          "latitude": 44.0570817,
          "longitude": 12.5646003
         },
         "name": "Mi Muovo in Bici",
         "source": "http://www.mimuovoinbici.it/frmLeStazioni.aspx?ID=149"
        },
        {
         "company": [
          "BCycle, LLC"
         ],
         "gbfs_href": "https://gbfs.bcycle.com/bcycle_broward/gbfs.json",
         "href": "/v2/networks/broward",
         "id": "broward",
         "location": {
          "city": "Fort Lauderdale, FL",
          "country": "US",
          "latitude": 26.12026,
          "longitude": -80.14819
         },
         "name": "Broward B-cycle"
        },
        {
         "company": [
          "BCycle, LLC"
         ],
         "gbfs_href": "https://gbfs.bcycle.com/bcycle_bublr/gbfs.json",
         "href": "/v2/networks/bublr-bikes",
         "id": "bublr-bikes",
         "location": {
          "city": "Milwaukee, WI",
          "country": "US",
          "latitude": 43.0369,
          "longitude": -87.89667
         },
         "name": "Bublr Bikes"
        },
        {
         "company": [
          "Shared Mobility Inc.",
          "Social Bicycles Inc."
         ],
         "gbfs_href": "https://reddybikeshare.socialbicycles.com/opendata/gbfs.json",
         "href": "/v2/networks/reddy-bike-share",
         "id": "reddy-bike-share",
         "location": {
          "city": "Buffalo, NY",
          "country": "US",
          "latitude": 42.89373841865211,
          "longitude": -78.8718044757843
         },
         "name": "Reddy Bike Share"
        },
        {
         "company": [
          "Motivate International, Inc.",
          "PBSC Urban Solutions"
         ],
         "ebikes": true,
         "gbfs_href": "https://gbfs.capitalbikeshare.com/gbfs/gbfs.json",
         "href": "/v2/networks/capital-bikeshare",
         "id": "capital-bikeshare",
         "location": {
          "city": "Washington, DC",
          "country": "US",
          "latitude": 38.8967584,
          "longitude": -77.03701629999999
         },
         "name": "Capital BikeShare"
        },
        {
         "company": [
          "BCycle, LLC"
         ],
         "gbfs_href": "https://gbfs.bcycle.com/bcycle_charlotte/gbfs.json",
         "href": "/v2/networks/charlotte",
         "id": "charlotte",
         "location": {
          "city": "Charlotte, NC",
          "country": "US",
          "latitude": 35.22716,
          "longitude": -80.83855
         },
         "name": "Charlotte B-cycle"
        },
        {
         "company": [
          "Comunicare S.r.l."
         ],
         "href": "/v2/networks/saluzzo",
         "id": "saluzzo",
         "location": {
          "city": "Saluzzo",
          "country": "IT",
          "latitude": 44.6445404,
          "longitude": 7.492735499999999
         },
         "name": "Saluzzo",
         "source": "https://www.bicincitta.com/frmLeStazioni.aspx?ID=51"
        },
        {
         "company": [
          "BCycle, LLC"
         ],
         "gbfs_href": "https://gbfs.bcycle.com/bcycle_cincyredbike/gbfs.json",
         "href": "/v2/networks/cincy-red-bike",
         "id": "cincy-red-bike",
         "location": {
          "city": "Cincinnati, OH",
          "country": "US",
          "latitude": 39.10138,
          "longitude": -84.51217
         },
         "name": "Cincy Red Bike"
        },
        {
         "company": [
          "Comunicare S.r.l."
         ],
         "href": "/v2/networks/savigliano",
         "id": "savigliano",
         "location": {
          "city": "Savigliano",
          "country": "IT",
          "latitude": 44.6470327,
          "longitude": 7.662463499999999
         },
         "name": "Savigliano",
         "source": "https://www.bicincitta.com/frmLeStazioni.aspx?ID=52"
        },
        {
         "company": [
          "NYC Bike Share, LLC",
          "Motivate International, Inc.",
          "PBSC Urban Solutions"
         ],
         "ebikes": true,
         "gbfs_href": "https://gbfs.citibikenyc.com/gbfs/gbfs.json",
         "href": "/v2/networks/citi-bike-nyc",
         "id": "citi-bike-nyc",
         "location": {
          "city": "New York, NY",
          "country": "US",
          "latitude": 40.7143528,
          "longitude": -74.00597309999999
         },
         "name": "Citi Bike"
        },
        {
         "company": [
          "CycleHop, LLC"
         ],
         "gbfs_href": "https://gbfs.hopr.city/api/gbfs/8/",
         "href": "/v2/networks/coast-bike-share",
         "id": "coast-bike-share",
         "location": {
          "city": "Tampa, FL",
          "country": "US",
          "latitude": 27.9627193250593,
          "longitude": -82.438056400783
         },
         "name": "Coast Bike Share"
        },
        {
         "company": [
          "Comunicare S.r.l."
         ],
         "href": "/v2/networks/terni",
         "id": "terni",
         "location": {
          "city": "Terni",
          "country": "IT",
          "latitude": 42.5636168,
          "longitude": 12.6426604
         },
         "name": "Terni",
         "source": "https://www.bicincitta.com/frmLeStazioni.aspx?ID=134"
        },
        {
         "company": [
          "Motivate International, Inc.",
          "PBSC Urban Solutions"
         ],
         "ebikes": true,
         "gbfs_href": "https://gbfs.cogobikeshare.com/gbfs/gbfs.json",
         "href": "/v2/networks/cogo",
         "id": "cogo",
         "location": {
          "city": "Columbus, OH",
          "country": "US",
          "latitude": 39.983333,
          "longitude": -82.983333
         },
         "name": "CoGo"
        },
        {
         "company": [
          "BCycle, LLC"
         ],
         "gbfs_href": "https://gbfs.bcycle.com/bcycle_denver/gbfs.json",
         "href": "/v2/networks/denver",
         "id": "denver",
         "location": {
          "city": "Denver, CO",
          "country": "US",
          "latitude": 39.72055,
          "longitude": -104.95253
         },
         "name": "Denver B-cycle"
        },
        {
         "company": [
          "Motivate International, Inc.",
          "PBSC Urban Solutions"
         ],
         "ebikes": true,
         "gbfs_href": "https://gbfs.divvybikes.com/gbfs/gbfs.json",
         "href": "/v2/networks/divvy",
         "id": "divvy",
         "location": {
          "city": "Chicago, IL",
          "country": "US",
          "latitude": 41.8781136,
          "longitude": -87.6297982
         },
         "name": "Divvy"
        },
        {
         "company": [
          "Comunicare S.r.l."
         ],
         "href": "/v2/networks/tirano-in-bici",
         "id": "tirano-in-bici",
         "location": {
          "city": "Tirano",
          "country": "IT",
          "latitude": 46.216168,
          "longitude": 10.1696056
         },
         "name": "Tirano in Bici",
         "source": "https://www.bicincitta.com/frmLeStazioni.aspx?ID=141"
        },
        {
         "company": [
          "BCycle, LLC"
         ],
         "gbfs_href": "https://gbfs.bcycle.com/bcycle_elpaso/gbfs.json",
         "href": "/v2/networks/elpaso",
         "id": "elpaso",
         "location": {
          "city": "El Paso, TX",
          "country": "US",
          "latitude": 31.76148,
          "longitude": -106.48507
         },
         "name": "El Paso B-cycle"
        },
        {
         "company": [
          "BCycle, LLC"
         ],
         "gbfs_href": "https://gbfs.bcycle.com/bcycle_fortworth/gbfs.json",
         "href": "/v2/networks/fortworth",
         "id": "fortworth",
         "location": {
          "city": "Fort Worth, TX",
          "country": "US",
          "latitude": 32.7516,
          "longitude": -97.32888
         },
         "name": "Fort Worth Bike Sharing"
        },
        {
         "company": [
          "Comunicare S.r.l."
         ],
         "href": "/v2/networks/udine",
         "id": "udine",
         "location": {
          "city": "Udine",
          "country": "IT",
          "latitude": 46.0710668,
          "longitude": 13.2345794
         },
         "name": "Udine",
         "source": "https://www.bicincitta.com/frmLeStazioni.aspx?ID=126"
        },
        {
         "company": [
          "BCycle, LLC"
         ],
         "gbfs_href": "https://gbfs.bcycle.com/bcycle_greatrides/gbfs.json",
         "href": "/v2/networks/greatrides",
         "id": "greatrides",
         "location": {
          "city": "Fargo, ND",
          "country": "US",
          "latitude": 46.89248,
          "longitude": -96.80095
         },
         "name": "Great Rides Bike Share"
        },
        {
         "company": [
          "BCycle, LLC"
         ],
         "gbfs_href": "https://gbfs.bcycle.com/bcycle_greenbikeslc/gbfs.json",
         "href": "/v2/networks/greenbikeslc",
         "id": "greenbikeslc",
         "location": {
          "city": "Salt Lake City",
          "country": "US",
          "latitude": 40.76745,
          "longitude": -111.88736
         },
         "name": "GREENbike"
        },
        {
         "company": [
          "CycleHop, LLC",
          "Social Bicycles Inc."
         ],
         "gbfs_href": "https://grid.socialbicycles.com/opendata/gbfs.json",
         "href": "/v2/networks/grid-bike-share",
         "id": "grid-bike-share",
         "location": {
          "city": "Phoenix, AZ",
          "country": "US",
          "latitude": 33.4591031356657,
          "longitude": -112.074010667085
         },
         "name": "Grid Bike Share"
        },
        {
         "company": [
          "BCycle, LLC"
         ],
         "gbfs_href": "https://gbfs.bcycle.com/bcycle_heartland/gbfs.json",
         "href": "/v2/networks/omaha",
         "id": "omaha",
         "location": {
          "city": "Omaha, NE",
          "country": "US",
          "latitude": 41.25832,
          "longitude": -96.00853
         },
         "name": "Heartland B-cycle"
        },
        {
         "company": [
          "BCycle, LLC"
         ],
         "gbfs_href": "https://gbfs.bcycle.com/bcycle_houston/gbfs.json",
         "href": "/v2/networks/houston",
         "id": "houston",
         "location": {
          "city": "Houston, TX",
          "country": "US",
          "latitude": 29.75983,
          "longitude": -95.36949
         },
         "name": "Houston B-cycle"
        },
        {
         "company": [
          "Motivate International, Inc.",
          "PBSC Urban Solutions"
         ],
         "ebikes": true,
         "gbfs_href": "https://gbfs.bluebikes.com/gbfs/gbfs.json",
         "href": "/v2/networks/blue-bikes",
         "id": "blue-bikes",
         "location": {
          "city": "Boston, MA",
          "country": "US",
          "latitude": 42.3584308,
          "longitude": -71.0597732
         },
         "name": "Blue Bikes"
        },
        {
         "company": [
          "Comunicare S.r.l."
         ],
         "href": "/v2/networks/ustica",
         "id": "ustica",
         "location": {
          "city": "Ustica",
          "country": "IT",
          "latitude": 38.7031179,
          "longitude": 13.1682675
         },
         "name": "Ustica",
         "source": "https://www.bicincitta.com/frmLeStazioni.aspx?ID=138"
        },
        {
         "company": [
          "City of Philadelphia",
          "Bicycle Transit Systems",
          "BCycle, LLC"
         ],
         "gbfs_href": "https://gbfs.bcycle.com/bcycle_indego/gbfs.json",
         "href": "/v2/networks/indego",
         "id": "indego",
         "location": {
          "city": "Philadelphia, PA",
          "country": "US",
          "latitude": 39.95378,
          "longitude": -75.16374
         },
         "name": "Indego"
        },
        {
         "company": [
          "BCycle, LLC"
         ],
         "gbfs_href": "https://gbfs.bcycle.com/bcycle_pacersbikeshare/gbfs.json",
         "href": "/v2/networks/indiana-pacers-bikeshare",
         "id": "indiana-pacers-bikeshare",
         "location": {
          "city": "Indianapolis, IN",
          "country": "US",
          "latitude": 39.76593,
          "longitude": -86.16216
         },
         "name": "Indiana Pacers Bikeshare"
        },
        {
         "company": [
          "CycleHop, LLC",
          "Social Bicycles Inc."
         ],
         "gbfs_href": "https://juicebikeshare.com/opendata/gbfs.json",
         "href": "/v2/networks/juice-bike-share",
         "id": "juice-bike-share",
         "location": {
          "city": "Orlando, FL",
          "country": "US",
          "latitude": 28.536663311743688,
          "longitude": -81.37922197580338
         },
         "name": "Juice"
        },
        {
         "company": [
          "Comunicare S.r.l."
         ],
         "href": "/v2/networks/bici-co",
         "id": "bici-co",
         "location": {
          "city": "Como",
          "country": "IT",
          "latitude": 45.8080597,
          "longitude": 9.0851765
         },
         "name": "BICI&CO",
         "source": "https://www.bicincitta.com/frmLeStazioni.aspx?ID=157"
        },
        {
         "company": [
          "BCycle, LLC"
         ],
         "gbfs_href": "https://gbfs.bcycle.com/bcycle_kc/gbfs.json",
         "href": "/v2/networks/kansascity",
         "id": "kansascity",
         "location": {
          "city": "Kansas City, MO",
          "country": "US",
          "latitude": 39.0999,
          "longitude": -94.5857
         },
         "name": "B-cycle"
        },
        {
         "company": [
          "BCycle, LLC"
         ],
         "gbfs_href": "https://gbfs.bcycle.com/bcycle_linkdayton/gbfs.json",
         "href": "/v2/networks/linkdayton",
         "id": "linkdayton",
         "location": {
          "city": "Dayton, OH",
          "country": "US",
          "latitude": 39.75626,
          "longitude": -84.21119
         },
         "name": "Link"
        },
        {
         "company": [
          "BCycle, LLC"
         ],
         "gbfs_href": "https://gbfs.bcycle.com/bcycle_madison/gbfs.json",
         "href": "/v2/networks/madison",
         "id": "madison",
         "location": {
          "city": "Madison, WI",
          "country": "US",
          "latitude": 43.07571,
          "longitude": -89.38527
         },
         "name": "B-cycle"
        },
        {
         "company": [
          "Los Angeles County Metropolitan Transportation Authority (Metro)",
          "Bicycle Transit Systems",
          "BCycle, LLC"
         ],
         "gbfs_href": "https://gbfs.bcycle.com/bcycle_lametro/gbfs.json",
         "href": "/v2/networks/metro-bike-share",
         "id": "metro-bike-share",
         "location": {
          "city": "Los Angeles, CA",
          "country": "US",
          "latitude": 34.04855,
          "longitude": -118.25905
         },
         "name": "Metro Bike Share"
        },
        {
         "company": [
          "Mountain Rides",
          "Social Bicycles Inc."
         ],
         "gbfs_href": "http://mrbikeshare.org/opendata/gbfs.json",
         "href": "/v2/networks/mountain-rides-bike-share",
         "id": "mountain-rides-bike-share",
         "location": {
          "city": "Ketchum / Sun Valley, ID",
          "country": "US",
          "latitude": 43.5194695168239,
          "longitude": -114.317415758737
         },
         "name": "Mountain Rides Bike Share"
        },
        {
         "company": [
          "Nice Ride Minnesota",
          "Lyft"
         ],
         "gbfs_href": "https://gbfs.niceridemn.com/gbfs/gbfs.json",
         "href": "/v2/networks/nice-ride",
         "id": "nice-ride",
         "location": {
          "city": "Minneapolis, MN",
          "country": "US",
          "latitude": 44.983334,
          "longitude": -93.26666999999999
         },
         "name": "Nice Ride"
        },
        {
         "company": [
          "Comunicare S.r.l."
         ],
         "href": "/v2/networks/speziainbici",
         "id": "speziainbici",
         "location": {
          "city": "La Spezia",
          "country": "IT",
          "latitude": 44.1024504,
          "longitude": 9.824082599999999
         },
         "name": "Speziainbici",
         "source": "https://www.bicincitta.com/frmLeStazioni.aspx?ID=137"
        },
        {
         "company": [
          "BCycle, LLC"
         ],
         "gbfs_href": "https://gbfs.bcycle.com/bcycle_sanantonio/gbfs.json",
         "href": "/v2/networks/sanantonio",
         "id": "sanantonio",
         "location": {
          "city": "San Antonio, TX",
          "country": "US",
          "latitude": 29.43701,
          "longitude": -98.48236
         },
         "name": "SWell Cycle"
        },
        {
         "company": [
          "Social Bicycles Inc."
         ],
         "gbfs_href": "https://usf.socialbicycles.com/opendata/gbfs.json",
         "href": "/v2/networks/share-a-bull-bikes",
         "id": "share-a-bull-bikes",
         "location": {
          "city": "University of South Florida, FL",
          "country": "US",
          "latitude": 28.060548696070995,
          "longitude": -82.4076198041439
         },
         "name": "Share-a-Bull Bikes"
        },
        {
         "company": [
          "Comunicare S.r.l."
         ],
         "href": "/v2/networks/venezia",
         "id": "venezia",
         "location": {
          "city": "Venezia",
          "country": "IT",
          "latitude": 45.4408474,
          "longitude": 12.3155151
         },
         "name": "Venezia",
         "source": "https://www.bicincitta.com/frmLeStazioni.aspx?ID=93"
        },
        {
         "company": [
          "Social Bicycles Inc."
         ],
         "gbfs_href": "http://sobilongbeach.com/opendata/gbfs.json",
         "href": "/v2/networks/sobi-long-beach",
         "id": "sobi-long-beach",
         "location": {
          "city": "Long Beach, NY",
          "country": "US",
          "latitude": 40.5833058203002,
          "longitude": -73.6482682794673
         },
         "name": "SoBi"
        },
        {
         "company": [
          "BCycle, LLC"
         ],
         "gbfs_href": "https://gbfs.bcycle.com/bcycle_spartanburg/gbfs.json",
         "href": "/v2/networks/spartanburg",
         "id": "spartanburg",
         "location": {
          "city": "Spartanburg, SC",
          "country": "US",
          "latitude": 34.94867,
          "longitude": -81.93345
         },
         "name": "Spartanburg BCycle"
        },
        {
         "company": [
          "Topeka Metropolitan Transit Authority",
          "Social Bicycles Inc."
         ],
         "gbfs_href": "http://topekametrobikes.org/opendata/gbfs.json",
         "href": "/v2/networks/topeka-metro-bikes",
         "id": "topeka-metro-bikes",
         "location": {
          "city": "Topeka, KS",
          "country": "US",
          "latitude": 39.0337646098385,
          "longitude": -95.7027213202284
         },
         "name": "Topeka Metro Bikes"
        },
        {
         "company": [
          "Comunicare S.r.l."
         ],
         "href": "/v2/networks/to-bike",
         "id": "to-bike",
         "location": {
          "city": "Torino",
          "country": "IT",
          "latitude": 45.07098200000001,
          "longitude": 7.685676
         },
         "name": "[TO]BIKE",
         "source": "http://www.tobike.it/frmLeStazioni.aspx?ID=22"
        },
        {
         "company": [
          "Social Bicycles Inc."
         ],
         "gbfs_href": "http://ubike.virginia.edu/opendata/gbfs.json",
         "href": "/v2/networks/ubike",
         "id": "ubike",
         "location": {
          "city": "University of Virginia, VA",
          "country": "US",
          "latitude": 38.0357625021372,
          "longitude": -78.5072994363201
         },
         "name": "UBike"
        },
        {
         "company": [
          "CycleHop, LLC",
          "Social Bicycles Inc"
         ],
         "gbfs_href": "https://relaybikeshare.socialbicycles.com/opendata/gbfs.json",
         "href": "/v2/networks/relay-atlanta",
         "id": "relay-atlanta",
         "location": {
          "city": "Atlanta, GA",
          "country": "US",
          "latitude": 33.7627941119619,
          "longitude": -84.38727110624313
         },
         "name": "Relay Bike Share"
        },
        {
         "company": [
          "Tembici",
          "PBSC Urban Solutions"
         ],
         "gbfs_href": "https://rec.publicbikesystem.net/ube/gbfs/v1/",
         "href": "/v2/networks/bikerecife",
         "id": "bikerecife",
         "location": {
          "city": "Recife",
          "country": "BR",
          "latitude": -8.047129,
          "longitude": -34.873437
         },
         "name": "BikeRecife"
        },
        {
         "company": [
          "Tembici",
          "PBSC Urban Solutions"
         ],
         "gbfs_href": "https://saopaulo.publicbikesystem.net/ube/gbfs/v1/",
         "href": "/v2/networks/bikesampa",
         "id": "bikesampa",
         "location": {
          "city": "São Paulo",
          "country": "BR",
          "latitude": -23.55,
          "longitude": -46.6333
         },
         "name": "BikeSampa"
        },
        {
         "company": [
          "Tembici",
          "PBSC Urban Solutions"
         ],
         "gbfs_href": "https://riodejaneiro.publicbikesystem.net/ube/gbfs/v1/",
         "href": "/v2/networks/bikerio",
         "id": "bikerio",
         "location": {
          "city": "Rio de Janeiro",
          "country": "BR",
          "latitude": -22.904315,
          "longitude": -43.184776
         },
         "name": "BikeRio"
        },
        {
         "company": [
          "Tembici",
          "PBSC Urban Solutions"
         ],
         "gbfs_href": "https://salvador.publicbikesystem.net/ube/gbfs/v1/",
         "href": "/v2/networks/bikesalvador",
         "id": "bikesalvador",
         "location": {
          "city": "Salvador",
          "country": "BR",
          "latitude": -12.973959,
          "longitude": -38.508171
         },
         "name": "BikeSalvador"
        },
        {
         "company": [
          "Tembici",
          "PBSC Urban Solutions"
         ],
         "gbfs_href": "https://poa.publicbikesystem.net/ube/gbfs/v1/",
         "href": "/v2/networks/bikepoa",
         "id": "bikepoa",
         "location": {
          "city": "Porto Alegre",
          "country": "BR",
          "latitude": -30.033079,
          "longitude": -51.23654
         },
         "name": "BikePOA"
        },
        {
         "company": [
          "BKT bici publica S.A. de C.V.",
          "PBSC Urban Solutions"
         ],
         "gbfs_href": "https://guad.publicbikesystem.net/ube/gbfs/v1/",
         "href": "/v2/networks/mibici-guadalajara",
         "id": "mibici-guadalajara",
         "location": {
          "city": "Guadalajara",
          "country": "MX",
          "latitude": 20.6737883,
          "longitude": -103.3704325
         },
         "name": "MIBICI"
        },
        {
         "company": [
          "Your Bike",
          "Urban Sharing"
         ],
         "gbfs_href": "https://gbfs.urbansharing.com/edinburghcyclehire.com/gbfs.json",
         "href": "/v2/networks/edinburgh-cycle-hire",
         "id": "edinburgh-cycle-hire",
         "license": {
          "name": "OGL v3 license",
          "url": "http://www.nationalarchives.gov.uk/doc/open-government-licence/version/3/"
         },
         "location": {
          "city": "Edinburgh",
          "country": "UK",
          "latitude": 55.9411885,
          "longitude": -3.2753783
         },
         "name": "Just Eat Cycles"
        },
        {
         "company": [
          "PBSC",
          "Alta Bicycle Share, Inc"
         ],
         "gbfs_href": "https://gbfs.melbourne.8d.com/gbfs/gbfs.json",
         "href": "/v2/networks/melbourne-bike-share",
         "id": "melbourne-bike-share",
         "location": {
          "city": "Melbourne",
          "country": "AU",
          "latitude": -37.814107,
          "longitude": 144.96328
         },
         "name": "Melbourne Bike Share"
        },
        {
         "company": [
          "PBSC Urban Solutions"
         ],
         "gbfs_href": "https://valencefr.publicbikesystem.net/ube/gbfs/v1/",
         "href": "/v2/networks/libelo",
         "id": "libelo",
         "location": {
          "city": "Valence",
          "country": "FR",
          "latitude": 44.922726,
          "longitude": 4.905634
         },
         "name": "Libélo"
        },
        {
         "company": [
          "Tembici",
          "PBSC Urban Solutions"
         ],
         "gbfs_href": "https://santiago.publicbikesystem.net/ube/gbfs/v1/",
         "href": "/v2/networks/bikesantiago",
         "id": "bikesantiago",
         "location": {
          "city": "Santiago",
          "country": "CL",
          "latitude": -33.45,
          "longitude": -70.67
         },
         "name": "BikeSantiago"
        },
        {
         "company": null,
         "gbfs_href": "https://gbfs.urbansharing.com/oslobysykkel.no/gbfs.json",
         "href": "/v2/networks/oslo-bysykkel",
         "id": "oslo-bysykkel",
         "location": {
          "city": "Oslo",
          "country": "NO",
          "latitude": 59.913869,
          "longitude": 10.752245
         },
         "name": "Bysykkel"
        },
        {
         "company": null,
         "gbfs_href": "https://gbfs.urbansharing.com/bergenbysykkel.no/gbfs.json",
         "href": "/v2/networks/bergen-bysykkel",
         "id": "bergen-bysykkel",
         "location": {
          "city": "Bergen",
          "country": "NO",
          "latitude": 60.391263,
          "longitude": 5.322054
         },
         "name": "Bysykkel"
        },
        {
         "company": null,
         "gbfs_href": "https://gbfs.urbansharing.com/trondheimbysykkel.no/gbfs.json",
         "href": "/v2/networks/trondheim-bysykkel",
         "id": "trondheim-bysykkel",
         "location": {
          "city": "Trondheim",
          "country": "NO",
          "latitude": 63.4307238,
          "longitude": 10.3936781
         },
         "name": "Bysykkel"
        },
        {
         "company": [
          "Keolis",
          "Rennes Metropole"
         ],
         "href": "/v2/networks/le-velo-star",
         "id": "le-velo-star",
         "location": {
          "city": "Rennes",
          "country": "FR",
          "latitude": 48.114167,
          "longitude": -1.680833
         },
         "name": "LE vélo Star",
         "source": "https://data.explore.star.fr/explore/dataset/vls-stations-etat-tr/"
        },
        {
         "company": [
          "Keolis Bordeaux Métropole"
         ],
         "ebikes": true,
         "href": "/v2/networks/v3-bordeaux",
         "id": "v3-bordeaux",
         "location": {
          "city": "Bordeaux",
          "country": "FR",
          "latitude": 44.837789,
          "longitude": -0.57918
         },
         "name": "V³"
        },
        {
         "company": [
          "Keolis"
         ],
         "href": "/v2/networks/vlille",
         "id": "vlille",
         "location": {
          "city": "Lille",
          "country": "FR",
          "latitude": 50.62925,
          "longitude": 3.057256
         },
         "name": "V'Lille",
         "source": "https://opendata.lillemetropole.fr/explore/dataset/vlille-realtime/"
        },
        {
         "company": [
          "Keolis",
          "STAP"
         ],
         "href": "/v2/networks/idecycle",
         "id": "idecycle",
         "location": {
          "city": "Pau",
          "country": "FR",
          "latitude": 43.2951,
          "longitude": -0.370797
         },
         "name": "IDECycle"
        },
        {
         "company": [
          "Labici Bicicletas Públicas SL"
         ],
         "href": "/v2/networks/bicialtea",
         "id": "bicialtea",
         "location": {
          "city": "Altea",
          "country": "ES",
          "latitude": 38.6029075,
          "longitude": -0.0450666
         },
         "name": "Bicialtea"
        },
        {
         "company": [
          "Labici Bicicletas Públicas SL"
         ],
         "href": "/v2/networks/bicidorm",
         "id": "bicidorm",
         "location": {
          "city": "Benidorm",
          "country": "ES",
          "latitude": 38.5410566,
          "longitude": -0.1224937
         },
         "name": "Bicidorm"
        },
        {
         "company": [
          "Labici Bicicletas Públicas SL"
         ],
         "href": "/v2/networks/saforbici",
         "id": "saforbici",
         "location": {
          "city": "Gandía",
          "country": "ES",
          "latitude": 38.968032,
          "longitude": -0.1844671
         },
         "name": "SaforBici"
        },
        {
         "company": [
          "Comunicare S.r.l."
         ],
         "href": "/v2/networks/ciclopi",
         "id": "ciclopi",
         "location": {
          "city": "Pisa",
          "country": "IT",
          "latitude": 43.7228386,
          "longitude": 10.4016888
         },
         "name": "Ciclopi",
         "source": "https://www.bicincitta.com/frmLeStazioni.aspx?ID=144"
        },
        {
         "company": [
          "Labici Bicicletas Públicas SL"
         ],
         "href": "/v2/networks/gbici",
         "id": "gbici",
         "location": {
          "city": "Getafe",
          "country": "ES",
          "latitude": 40.3082504,
          "longitude": -3.7323934
         },
         "name": "Gbici"
        },
        {
         "company": [
          "Labici Bicicletas Públicas SL"
         ],
         "href": "/v2/networks/muybici",
         "id": "muybici",
         "location": {
          "city": "Murcia",
          "country": "ES",
          "latitude": 37.9922399,
          "longitude": -1.1306544
         },
         "name": "MuyBici"
        },
        {
         "company": [
          "Labici Bicicletas Públicas SL"
         ],
         "href": "/v2/networks/ponfemobi",
         "id": "ponfemobi",
         "location": {
          "city": "Ponferrada",
          "country": "ES",
          "latitude": 42.5499958,
          "longitude": -6.598259000000001
         },
         "name": "PonfeMobi"
        },
        {
         "company": [
          "Labici Bicicletas Públicas SL"
         ],
         "href": "/v2/networks/vaibike",
         "id": "vaibike",
         "location": {
          "city": "Vilagarcía de Arousa",
          "country": "ES",
          "latitude": 42.5999265,
          "longitude": -8.7885744
         },
         "name": "VaiBike"
        },
        {
         "company": [
          "Comunicare S.r.l."
         ],
         "href": "/v2/networks/cagliari",
         "id": "cagliari",
         "location": {
          "city": "Cagliari",
          "country": "IT",
          "latitude": 39.220817,
          "longitude": 9.121399
         },
         "name": "Cagliari",
         "source": "https://www.bicincitta.com/frmLeStazioni.aspx?ID=177"
        },
        {
         "company": [
          "Buenos Aires Ciudad"
         ],
         "gbfs_href": "https://apitransporte.buenosaires.gob.ar/ecobici/gbfs/",
         "href": "/v2/networks/ecobici-buenos-aires",
         "id": "ecobici-buenos-aires",
         "license": {
          "name": "Open Data Commons Open Database License 1.0 (ODbL)",
          "url": "https://opendatacommons.org/licenses/odbl/"
         },
         "location": {
          "city": "Buenos Aires",
          "country": "AR",
          "latitude": -34.630665,
          "longitude": -58.41156
         },
         "name": "Ecobici",
         "source": "https://www.buenosaires.gob.ar/desarrollourbano/transporte/apitransporte"
        },
        {
         "company": [
          "EMEL"
         ],
         "href": "/v2/networks/gira",
         "id": "gira",
         "location": {
          "city": "Lisbon",
          "country": "PT",
          "latitude": 38.724954,
          "longitude": -9.149334
         },
         "name": "Gira"
        },
        {
         "company": [
          "Comunicare S.r.l."
         ],
         "href": "/v2/networks/gimme-bike",
         "id": "gimme-bike",
         "location": {
          "city": "Varese",
          "country": "IT",
          "latitude": 45.8183902,
          "longitude": 8.823913
         },
         "name": "Gimme Bike",
         "source": "https://www.bicincitta.com/frmLeStazioni.aspx?ID=50"
        },
        {
         "company": [
          "JCDecaux"
         ],
         "href": "/v2/networks/cyclic",
         "id": "cyclic",
         "license": {
          "name": "Open Licence",
          "url": "https://developer.jcdecaux.com/#/opendata/licence"
         },
         "location": {
          "city": "Rouen",
          "country": "FR",
          "latitude": 49.44323199999999,
          "longitude": 1.099971
         },
         "name": "cy'clic",
         "source": "https://developer.jcdecaux.com"
        },
        {
         "company": [
          "JCDecaux"
         ],
         "href": "/v2/networks/velo",
         "id": "velo",
         "license": {
          "name": "Open Licence",
          "url": "https://developer.jcdecaux.com/#/opendata/licence"
         },
         "location": {
          "city": "Toulouse",
          "country": "FR",
          "latitude": 43.604652,
          "longitude": 1.444209
         },
         "name": "Vélô",
         "source": "https://developer.jcdecaux.com"
        },
        {
         "company": [
          "JCDecaux"
         ],
         "href": "/v2/networks/veloh",
         "id": "veloh",
         "license": {
          "name": "Open Licence",
          "url": "https://developer.jcdecaux.com/#/opendata/licence"
         },
         "location": {
          "city": "Luxembourg",
          "country": "LU",
          "latitude": 49.6301025,
          "longitude": 6.1520185
         },
         "name": "Veloh",
         "source": "https://developer.jcdecaux.com"
        },
        {
         "company": [
          "JCDecaux"
         ],
         "href": "/v2/networks/valenbisi",
         "id": "valenbisi",
         "license": {
          "name": "Open Licence",
          "url": "https://developer.jcdecaux.com/#/opendata/licence"
         },
         "location": {
          "city": "Valencia",
          "country": "ES",
          "latitude": 39.4699075,
          "longitude": -0.3762881
         },
         "name": "Valenbisi",
         "source": "https://developer.jcdecaux.com"
        },
        {
         "company": [
          "Comunicare S.r.l."
         ],
         "href": "/v2/networks/sellero",
         "id": "sellero",
         "location": {
          "city": "Sellero",
          "country": "IT",
          "latitude": 46.06304765446406,
          "longitude": 10.353434085845947
         },
         "name": "Sellero",
         "source": "https://www.bicincitta.com/frmLeStazioni.aspx?ID=85"
        },
        {
         "company": [
          "JCDecaux"
         ],
         "href": "/v2/networks/lundahoj",
         "id": "lundahoj",
         "license": {
          "name": "Open Licence",
          "url": "https://developer.jcdecaux.com/#/opendata/licence"
         },
         "location": {
          "city": "Lund",
          "country": "SE",
          "latitude": 55.7046601,
          "longitude": 13.1910073
         },
         "name": "Lundahoj",
         "source": "https://developer.jcdecaux.com"
        },
        {
         "company": [
          "Comunicare S.r.l."
         ],
         "href": "/v2/networks/ugento",
         "id": "ugento",
         "location": {
          "city": "Ugento",
          "country": "IT",
          "latitude": 39.9273518,
          "longitude": 18.1582962
         },
         "name": "Ugento",
         "source": "https://www.bicincitta.com/frmLeStazioni.aspx?ID=103"
        },
        {
         "company": [
          "JCDecaux"
         ],
         "href": "/v2/networks/tusbic",
         "id": "tusbic",
         "license": {
          "name": "Open Licence",
          "url": "https://developer.jcdecaux.com/#/opendata/licence"
         },
         "location": {
          "city": "Santander",
          "country": "ES",
          "latitude": 43.46230569999999,
          "longitude": -3.8099803
         },
         "name": "Tusbic",
         "source": "https://developer.jcdecaux.com"
        },
        {
         "company": [
          "JCDecaux"
         ],
         "href": "/v2/networks/velam",
         "id": "velam",
         "license": {
          "name": "Open Licence",
          "url": "https://developer.jcdecaux.com/#/opendata/licence"
         },
         "location": {
          "city": "Amiens",
          "country": "FR",
          "latitude": 49.894067,
          "longitude": 2.295753
         },
         "name": "Vélam",
         "source": "https://developer.jcdecaux.com"
        },
        {
         "company": [
          "JCDecaux"
         ],
         "href": "/v2/networks/bysykkel-lillestrom",
         "id": "bysykkel-lillestrom",
         "license": {
          "name": "Open Licence",
          "url": "https://developer.jcdecaux.com/#/opendata/licence"
         },
         "location": {
          "city": "Lillestrøm",
          "country": "NO",
          "latitude": 59.9559696,
          "longitude": 11.0503785
         },
         "name": "Bysykkel",
         "source": "https://developer.jcdecaux.com"
        },
        {
         "company": [
          "JCDecaux"
         ],
         "href": "/v2/networks/velocite-mulhouse",
         "id": "velocite-mulhouse",
         "license": {
          "name": "Open Licence",
          "url": "https://developer.jcdecaux.com/#/opendata/licence"
         },
         "location": {
          "city": "Mulhouse",
          "country": "FR",
          "latitude": 47.750839,
          "longitude": 7.335888
         },
         "name": "VéloCité",
         "source": "https://developer.jcdecaux.com"
        },
        {
         "company": [
          "Comunicare S.r.l."
         ],
         "href": "/v2/networks/prata-camportaccio",
         "id": "prata-camportaccio",
         "location": {
          "city": "Prata Camportaccio",
          "country": "IT",
          "latitude": 46.3042146,
          "longitude": 9.3964914
         },
         "name": "Prata Camportaccio",
         "source": "https://www.bicincitta.com/frmLeStazioni.aspx?ID=108"
        },
        {
         "company": [
          "JCDecaux"
         ],
         "href": "/v2/networks/velov",
         "id": "velov",
         "license": {
          "name": "Open Licence",
          "url": "https://developer.jcdecaux.com/#/opendata/licence"
         },
         "location": {
          "city": "Lyon",
          "country": "FR",
          "latitude": 45.764043,
          "longitude": 4.835659
         },
         "name": "Vélo'V",
         "source": "https://developer.jcdecaux.com"
        },
        {
         "company": [
          "JCDecaux"
         ],
         "href": "/v2/networks/bicikelj",
         "id": "bicikelj",
         "license": {
          "name": "Open Licence",
          "url": "https://developer.jcdecaux.com/#/opendata/licence"
         },
         "location": {
          "city": "Ljubljana",
          "country": "SI",
          "latitude": 46.05645089999999,
          "longitude": 14.5080702
         },
         "name": "Bicikelj",
         "source": "https://developer.jcdecaux.com"
        },
        {
         "company": [
          "Comunicare S.r.l."
         ],
         "href": "/v2/networks/civitavecchia",
         "id": "civitavecchia",
         "location": {
          "city": "Civitavecchia",
          "country": "IT",
          "latitude": 42.0937524,
          "longitude": 11.7922462
         },
         "name": "Civitavecchia",
         "source": "https://www.bicincitta.com/frmLeStazioni.aspx?ID=127"
        },
        {
         "company": [
          "JCDecaux"
         ],
         "href": "/v2/networks/sevici",
         "id": "sevici",
         "license": {
          "name": "Open Licence",
          "url": "https://developer.jcdecaux.com/#/opendata/licence"
         },
         "location": {
          "city": "Sevilla",
          "country": "ES",
          "latitude": 37.3880961,
          "longitude": -5.9823299
         },
         "name": "Sevici",
         "source": "https://developer.jcdecaux.com"
        },
        {
         "company": [
          "Comunicare S.r.l."
         ],
         "href": "/v2/networks/longanoinbici",
         "id": "longanoinbici",
         "location": {
          "city": "Barcellona Pozzo di Gotto",
          "country": "IT",
          "latitude": 38.149812517944284,
          "longitude": 15.212116241455078
         },
         "name": "LonganoinBici",
         "source": "https://www.bicincitta.com/frmLeStazioni.aspx?ID=140"
        },
        {
         "company": [
          "JCDecaux"
         ],
         "href": "/v2/networks/li-bia-velo",
         "id": "li-bia-velo",
         "license": {
          "name": "Open Licence",
          "url": "https://developer.jcdecaux.com/#/opendata/licence"
         },
         "location": {
          "city": "Namur",
          "country": "BE",
          "latitude": 50.465328,
          "longitude": 4.867665
         },
         "name": "Li bia velo",
         "source": "https://developer.jcdecaux.com"
        },
        {
         "company": [
          "JCDecaux"
         ],
         "href": "/v2/networks/velostanlib",
         "id": "velostanlib",
         "license": {
          "name": "Open Licence",
          "url": "https://developer.jcdecaux.com/#/opendata/licence"
         },
         "location": {
          "city": "Nancy",
          "country": "FR",
          "latitude": 48.692054,
          "longitude": 6.184417
         },
         "name": "vélOstan'lib",
         "source": "https://developer.jcdecaux.com"
        },
        {
         "company": [
          "JCDecaux"
         ],
         "href": "/v2/networks/cristolib",
         "id": "cristolib",
         "license": {
          "name": "Open Licence",
          "url": "https://developer.jcdecaux.com/#/opendata/licence"
         },
         "location": {
          "city": "Créteil",
          "country": "FR",
          "latitude": 48.790367,
          "longitude": 2.455572
         },
         "name": "Cristolib",
         "source": "https://developer.jcdecaux.com"
        },
        {
         "company": [
          "JCDecaux"
         ],
         "href": "/v2/networks/villo",
         "id": "villo",
         "license": {
          "name": "Open Licence",
          "url": "https://developer.jcdecaux.com/#/opendata/licence"
         },
         "location": {
          "city": "Bruxelles",
          "country": "BE",
          "latitude": 50.8503396,
          "longitude": 4.3517103
         },
         "name": "villo",
         "source": "https://developer.jcdecaux.com"
        },
        {
         "company": [
          "Comunicare S.r.l."
         ],
         "href": "/v2/networks/cassano-d-adda",
         "id": "cassano-d-adda",
         "location": {
          "city": "Cassano d'Adda",
          "country": "IT",
          "latitude": 45.5309616,
          "longitude": 9.5155813
         },
         "name": "Cassano d'Adda",
         "source": "https://www.bicincitta.com/frmLeStazioni.aspx?ID=143"
        },
        {
         "company": [
          "JCDecaux"
         ],
         "href": "/v2/networks/velo2",
         "id": "velo2",
         "license": {
          "name": "Open Licence",
          "url": "https://developer.jcdecaux.com/#/opendata/licence"
         },
         "location": {
          "city": "Cergy",
          "country": "FR",
          "latitude": 49.03561699999999,
          "longitude": 2.060325
         },
         "name": "Velo2",
         "source": "https://developer.jcdecaux.com"
        },
        {
         "company": [
          "JCDecaux"
         ],
         "href": "/v2/networks/vilnius-cyclocity",
         "id": "vilnius-cyclocity",
         "license": {
          "name": "Open Licence",
          "url": "https://developer.jcdecaux.com/#/opendata/licence"
         },
         "location": {
          "city": "Vilnius",
          "country": "LT",
          "latitude": 54.6871555,
          "longitude": 25.2796514
         },
         "name": "Cyclocity",
         "source": "https://developer.jcdecaux.com"
        },
        {
         "company": [
          "JCDecaux"
         ],
         "href": "/v2/networks/toyama-cyclocity",
         "id": "toyama-cyclocity",
         "license": {
          "name": "Open Licence",
          "url": "https://developer.jcdecaux.com/#/opendata/licence"
         },
         "location": {
          "city": "富山市",
          "country": "JP",
          "latitude": 36.6959518,
          "longitude": 137.2136768
         },
         "name": "cyclocity",
         "source": "https://developer.jcdecaux.com"
        },
        {
         "company": [
          "Comunicare S.r.l."
         ],
         "href": "/v2/networks/bianzone-in-bici",
         "id": "bianzone-in-bici",
         "location": {
          "city": "Bianzone",
          "country": "IT",
          "latitude": 46.188197,
          "longitude": 10.109354
         },
         "name": "Bianzone in Bici",
         "source": "https://www.bicincitta.com/frmLeStazioni.aspx?ID=147"
        },
        {
         "company": [
          "LeVélo AMP Métropole",
          "Ville de Marseille",
          "Fifteen SAS"
         ],
         "href": "/v2/networks/le-velo",
         "id": "le-velo",
         "location": {
          "city": "Marseille",
          "country": "FR",
          "latitude": 43.296482,
          "longitude": 5.36978
         },
         "name": "LeVélo"
        },
        {
         "company": [
          "JCDecaux"
         ],
         "href": "/v2/networks/bicloo",
         "id": "bicloo",
         "license": {
          "name": "Open Licence",
          "url": "https://developer.jcdecaux.com/#/opendata/licence"
         },
         "location": {
          "city": "Nantes",
          "country": "FR",
          "latitude": 47.218371,
          "longitude": -1.553621
         },
         "name": "Bicloo",
         "source": "https://developer.jcdecaux.com"
        },
        {
         "company": [
          "JCDecaux"
         ],
         "href": "/v2/networks/velocite-besancon",
         "id": "velocite-besancon",
         "license": {
          "name": "Open Licence",
          "url": "https://developer.jcdecaux.com/#/opendata/licence"
         },
         "location": {
          "city": "Besançon",
          "country": "FR",
          "latitude": 47.237829,
          "longitude": 6.024053899999999
         },
         "name": "VéloCité",
         "source": "https://developer.jcdecaux.com"
        },
        {
         "company": [
          "Comunicare S.r.l."
         ],
         "href": "/v2/networks/rietinbici",
         "id": "rietinbici",
         "location": {
          "city": "Rieti",
          "country": "IT",
          "latitude": 42.40262397383167,
          "longitude": 12.86099910736084
         },
         "name": "Rietinbici",
         "source": "https://www.bicincitta.com/frmLeStazioni.aspx?ID=158"
        },
        {
         "company": [
          "JCDecaux"
         ],
         "href": "/v2/networks/dublinbikes",
         "id": "dublinbikes",
         "license": {
          "name": "Open Licence",
          "url": "https://developer.jcdecaux.com/#/opendata/licence"
         },
         "location": {
          "city": "Dublin",
          "country": "IE",
          "latitude": 53.3498053,
          "longitude": -6.2603097
         },
         "name": "dublinbikes",
         "source": "https://developer.jcdecaux.com"
        },
        {
         "company": null,
         "href": "/v2/networks/bicipalma",
         "id": "bicipalma",
         "location": {
          "city": "Palma",
          "country": "ES",
          "latitude": 39.57119,
          "longitude": 2.646634
         },
         "name": "Bicipalma"
        },
        {
         "company": [
          "Cyacle Bicycle Rental LLC"
         ],
         "href": "/v2/networks/adcb-bikeshare",
         "id": "adcb-bikeshare",
         "location": {
          "city": "Abu Dhabi",
          "country": "AE",
          "latitude": 24.450278,
          "longitude": 54.39
         },
         "name": "ADCB Bikeshare"
        },
        {
         "company": [
          "Comunicare S.r.l."
         ],
         "href": "/v2/networks/castellucchio",
         "id": "castellucchio",
         "location": {
          "city": "Castellucchio",
          "country": "IT",
          "latitude": 45.15047821582959,
          "longitude": 10.651202201843262
         },
         "name": "Castellucchio",
         "source": "https://www.bicincitta.com/frmLeStazioni.aspx?ID=161"
        },
        {
         "company": [
          "Veolia"
         ],
         "href": "/v2/networks/velobleu",
         "id": "velobleu",
         "location": {
          "city": "Nice",
          "country": "FR",
          "latitude": 43.695949,
          "longitude": 7.271413
         },
         "name": "Vélo Bleu"
        },
        {
         "company": [
          "Comunicare S.r.l."
         ],
         "href": "/v2/networks/notoinbici",
         "id": "notoinbici",
         "location": {
          "city": "Noto",
          "country": "IT",
          "latitude": 36.889437754839854,
          "longitude": 15.074658393859863
         },
         "name": "NotoinBici",
         "source": "https://www.bicincitta.com/frmLeStazioni.aspx?ID=162"
        },
        {
         "company": [
          "Comunicare S.r.l."
         ],
         "href": "/v2/networks/enna",
         "id": "enna",
         "location": {
          "city": "Enna",
          "country": "IT",
          "latitude": 37.56342572664775,
          "longitude": 14.27973747253418
         },
         "name": "Enna",
         "source": "https://www.bicincitta.com/frmLeStazioni.aspx?ID=163"
        },
        {
         "company": [
          "Comunicare S.r.l."
         ],
         "href": "/v2/networks/pordenone",
         "id": "pordenone",
         "location": {
          "city": "Pordenone",
          "country": "IT",
          "latitude": 45.94790101663391,
          "longitude": 12.674491020251475
         },
         "name": "Pordenone",
         "source": "https://www.bicincitta.com/frmLeStazioni.aspx?ID=164"
        },
        {
         "company": [
          "Veolia"
         ],
         "href": "/v2/networks/vel-in",
         "id": "vel-in",
         "location": {
          "city": "Calais",
          "country": "FR",
          "latitude": 50.95,
          "longitude": 1.85
         },
         "name": "Vél'in"
        },
        {
         "company": [
          "Comunicare S.r.l."
         ],
         "href": "/v2/networks/carbonia",
         "id": "carbonia",
         "location": {
          "city": "Carbonia",
          "country": "IT",
          "latitude": 39.167222,
          "longitude": 8.522222
         },
         "name": "Carbonia",
         "source": "https://www.bicincitta.com/frmLeStazioni.aspx?ID=173"
        },
        {
         "company": [
          "Municipiul Cluj-Napoca"
         ],
         "href": "/v2/networks/clujbike",
         "id": "clujbike",
         "location": {
          "city": "Cluj-Napoca",
          "country": "RO",
          "latitude": 46.775,
          "longitude": 23.5975
         },
         "name": "Cluj Bike"
        },
        {
         "company": [
          "Comunicare S.r.l."
         ],
         "href": "/v2/networks/mobike",
         "id": "mobike",
         "location": {
          "city": "Genova",
          "country": "IT",
          "latitude": 44.40430089372731,
          "longitude": 8.92908986230462
         },
         "name": "MoBike",
         "source": "https://www.bicincitta.com/frmLeStazioni.aspx?ID=175"
        },
        {
         "company": [
          "Prefeiture de Sorocaba",
          "Urbes"
         ],
         "href": "/v2/networks/integrabike",
         "id": "integrabike",
         "location": {
          "city": "Sorocaba",
          "country": "BR",
          "latitude": -23.5015,
          "longitude": -47.4526
         },
         "name": "Integrabike"
        },
        {
         "company": [
          "Comunicare S.r.l."
         ],
         "href": "/v2/networks/scegli-in-bici",
         "id": "scegli-in-bici",
         "location": {
          "city": "Cremona",
          "country": "IT",
          "latitude": 45.134914104864116,
          "longitude": 10.0222648619018
         },
         "name": "Scegli in Bici",
         "source": "https://www.bicincitta.com/frmLeStazioni.aspx?ID=178"
        },
        {
         "company": [
          "Associação dos Amigos da Riviera de São Lourenço",
          "Sobloco"
         ],
         "href": "/v2/networks/rivibike",
         "id": "rivibike",
         "location": {
          "city": "São Lourenço",
          "country": "BR",
          "latitude": -22.1124,
          "longitude": -45.028
         },
         "name": "RiviBike"
        },
        {
         "company": [
          "Comunicare S.r.l."
         ],
         "href": "/v2/networks/e-motion-trento",
         "id": "e-motion-trento",
         "location": {
          "city": "Trento",
          "country": "IT",
          "latitude": 46.06643205823519,
          "longitude": 11.122145390351879
         },
         "name": "e.motion",
         "source": "https://www.bicincitta.com/frmLeStazioni.aspx?ID=187"
        },
        {
         "company": [
          "Duke Energy Brasil",
          "Governo de Ipaussu"
         ],
         "href": "/v2/networks/dukebike",
         "id": "dukebike",
         "location": {
          "city": "Ipaússu",
          "country": "BR",
          "latitude": -23.0553,
          "longitude": -49.6237
         },
         "name": "DukeBike"
        },
        {
         "company": [
          "Barcelona de Serveis Municipals, S.A. (BSM)",
          "CESPA",
          "PBSC"
         ],
         "gbfs_href": "https://api.bsmsa.eu/ext/api/bsm/gbfs/v2/",
         "href": "/v2/networks/bicing",
         "id": "bicing",
         "location": {
          "city": "Barcelona",
          "country": "ES",
          "latitude": 41.3850639,
          "longitude": 2.1734035
         },
         "name": "Bicing"
        },
        {
         "company": [
          "Baksi Bike Sharing System"
         ],
         "href": "/v2/networks/baksi-antalya",
         "id": "baksi-antalya",
         "location": {
          "city": "Antalya",
          "country": "TR",
          "latitude": 36.862048,
          "longitude": 30.638866
         },
         "name": "Baksi"
        },
        {
         "company": [
          "Baksi Bike Sharing System"
         ],
         "href": "/v2/networks/baksi-bisim",
         "id": "baksi-bisim",
         "location": {
          "city": "Izmir",
          "country": "TR",
          "latitude": 38.4134047464,
          "longitude": 27.0325753524
         },
         "name": "Baksi"
        },
        {
         "company": [
          "Comunicare S.r.l."
         ],
         "href": "/v2/networks/e-motion-rovereto",
         "id": "e-motion-rovereto",
         "location": {
          "city": "Rovereto",
          "country": "IT",
          "latitude": 45.88710661061543,
          "longitude": 11.042242751867644
         },
         "name": "e.motion",
         "source": "https://www.bicincitta.com/frmLeStazioni.aspx?ID=189"
        },
        {
         "company": [
          "Baksi Bike Sharing System"
         ],
         "href": "/v2/networks/baksi-istanbul",
         "id": "baksi-istanbul",
         "location": {
          "city": "Istanbul",
          "country": "TR",
          "latitude": 40.9696887925,
          "longitude": 29.0475373717
         },
         "name": "Isbike"
        },
        {
         "company": [
          "Baksi Bike Sharing System"
         ],
         "href": "/v2/networks/baksi-kobis",
         "id": "baksi-kobis",
         "location": {
          "city": "Kocaeli",
          "country": "TR",
          "latitude": 40.7674733342,
          "longitude": 29.9755885985
         },
         "name": "Baksi"
        },
        {
         "company": [
          "Helsinki City Transport",
          "Helsinki Regional Transport",
          "CityBikeFinland",
          "Smoove SAS",
          "Moventia",
          "Alepa"
         ],
         "href": "/v2/networks/citybikes-helsinki",
         "id": "citybikes-helsinki",
         "location": {
          "city": "Helsinki",
          "country": "FI",
          "latitude": 60.16985569999999,
          "longitude": 24.938379
         },
         "name": "City bikes"
        },
        {
         "company": [
          "Comunicare S.r.l."
         ],
         "href": "/v2/networks/monopoli-bike",
         "id": "monopoli-bike",
         "location": {
          "city": "Monopoli",
          "country": "IT",
          "latitude": 40.94519109440738,
          "longitude": 17.311687995336918
         },
         "name": "Monopoli BIKE",
         "source": "https://www.bicincitta.com/frmLeStazioni.aspx?ID=191"
        },
        {
         "company": [
          "Turku Region Traffic Föli",
          "Nextbike Polska"
         ],
         "href": "/v2/networks/foli",
         "id": "foli",
         "location": {
          "city": "Turku",
          "country": "FI",
          "latitude": 60.4506,
          "longitude": 22.2666
         },
         "name": "Föli-fillari"
        },
        {
         "company": [
          "Comunicare S.r.l."
         ],
         "href": "/v2/networks/bicimia",
         "id": "bicimia",
         "location": {
          "city": "Brescia",
          "country": "IT",
          "latitude": 45.5378,
          "longitude": 10.2173
         },
         "name": "bicimia",
         "source": "https://bicimia.bresciamobilita.it/frmLeStazioni.aspx?ID=40"
        },
        {
         "company": [
          "FSM Ground Services Ltd."
         ],
         "href": "/v2/networks/telofun",
         "id": "telofun",
         "location": {
          "city": "Tel Aviv-Yaffo, Giv'atayim, Ramat-Gan",
          "country": "IL",
          "latitude": 32.087053,
          "longitude": 34.789776
         },
         "name": "Tel-O-Fun"
        },
        {
         "company": [
          "Comunicare S.r.l."
         ],
         "href": "/v2/networks/andria",
         "id": "andria",
         "location": {
          "city": "Andria",
          "country": "IT",
          "latitude": 41.224346932834,
          "longitude": 16.296983922753956
         },
         "name": "Andria in Bici",
         "source": "https://www.bicincitta.com/frmLeStazioni.aspx?ID=192"
        },
        {
         "company": [
          "Open Source Bike Share"
         ],
         "href": "/v2/networks/whitebikes",
         "id": "whitebikes",
         "location": {
          "city": "Bratislava",
          "country": "SK",
          "latitude": 48.149424,
          "longitude": 17.113922
         },
         "name": "WhiteBikes"
        },
        {
         "company": [
          "Dopravný podnik Bratislava",
          "Bratislavská integrovaná doprava, a.s.",
          "Hlavné mesto SR Bratislava"
         ],
         "href": "/v2/networks/slovnaft-bajk",
         "id": "slovnaft-bajk",
         "location": {
          "city": "Bratislava",
          "country": "SK",
          "latitude": 48.1356952,
          "longitude": 16.9758332
         },
         "name": "Slovnaft BAjk"
        },
        {
         "company": [
          "Open Source Bike Share"
         ],
         "href": "/v2/networks/cykl",
         "id": "cykl",
         "location": {
          "city": "Wageningen",
          "country": "NL",
          "latitude": 51.974,
          "longitude": 5.6671
         },
         "name": "Cykl"
        },
        {
         "company": [
          "Open Source Bike Share"
         ],
         "href": "/v2/networks/bicyklezadobreskutky",
         "id": "bicyklezadobreskutky",
         "location": {
          "city": "Prešov",
          "country": "SK",
          "latitude": 48.996275,
          "longitude": 21.234341
         },
         "name": "Bicykle za dobré skutky"
        },
        {
         "company": [
          "Social Bicycles Inc."
         ],
         "href": "/v2/networks/socialbicycles-wavelo",
         "id": "socialbicycles-wavelo",
         "location": {
          "city": "Kraków",
          "country": "PL",
          "latitude": 50.06143,
          "longitude": 19.93658
         },
         "name": "Wavelo"
        },
        {
         "company": [
          "Comunicare S.r.l."
         ],
         "href": "/v2/networks/bicinquartucciu",
         "id": "bicinquartucciu",
         "location": {
          "city": "Quartucciu",
          "country": "IT",
          "latitude": 39.25043149806156,
          "longitude": 9.179296426489255
         },
         "name": "BicinQuartucciu",
         "source": "https://www.bicincitta.com/frmLeStazioni.aspx?ID=193"
        },
        {
         "company": [
          "Mainzer Verkehrsgesellschaft mbH (MVG)"
         ],
         "href": "/v2/networks/mvgmeinrad",
         "id": "mvgmeinrad",
         "location": {
          "city": "Mainz",
          "country": "DE",
          "latitude": 49.992862,
          "longitude": 8.247253
         },
         "name": "MVGmeinrad"
        },
        {
         "company": [
          "Sistema de Bicicletas Públicas del Valle de Aburrá"
         ],
         "href": "/v2/networks/encicla",
         "id": "encicla",
         "location": {
          "city": "Medellin",
          "country": "CO",
          "latitude": 6.254942,
          "longitude": -75.567982
         },
         "name": "EnCicla"
        },
        {
         "company": [
          "Comunicare S.r.l."
         ],
         "href": "/v2/networks/olbia-bike",
         "id": "olbia-bike",
         "location": {
          "city": "Olbia",
          "country": "IT",
          "latitude": 40.9240543,
          "longitude": 9.4994397
         },
         "name": "Olbia Bike",
         "source": "https://www.bicincitta.com/frmLeStazioni.aspx?ID=194"
        },
        {
         "company": [
          "Vanncouver Bike Share Inc.",
          "CycleHop LLC",
          "City of Vancouver",
          "Shaw Communications Inc.",
          "Fifteen"
         ],
         "gbfs_href": "https://vancouver-gbfs.smoove.pro/gbfs/2/gbfs.json",
         "href": "/v2/networks/mobibikes",
         "id": "mobibikes",
         "location": {
          "city": "Vancouver",
          "country": "CA",
          "latitude": 49.2827,
          "longitude": -123.1207
         },
         "name": "Mobi"
        },
        {
         "company": [
          "Comunicare S.r.l."
         ],
         "href": "/v2/networks/savona",
         "id": "savona",
         "location": {
          "city": "Savona",
          "country": "IT",
          "latitude": 44.29516444397244,
          "longitude": 8.463126708984431
         },
         "name": "Savona",
         "source": "https://www.bicincitta.com/frmLeStazioni.aspx?ID=195"
        },
        {
         "company": [
          "CityBike France",
          "PBSC Urban Solutions"
         ],
         "gbfs_href": "https://clermontferrand.publicbikesystem.net/customer/ube/gbfs/v1/",
         "href": "/v2/networks/c-velo",
         "id": "c-velo",
         "location": {
          "city": "Clermont-Ferrand",
          "country": "FR",
          "latitude": 45.7831,
          "longitude": 3.0824
         },
         "name": "C.vélo"
        },
        {
         "company": [
          "Smoove"
         ],
         "gbfs_href": "https://saint-etienne-fr-smoove.klervi.net/gbfs/gbfs.json",
         "href": "/v2/networks/velivert",
         "id": "velivert",
         "location": {
          "city": "Saint-Étienne",
          "country": "FR",
          "latitude": 45.396667,
          "longitude": 4.290833
         },
         "name": "VéliVert"
        },
        {
         "company": [
          "Comunicare S.r.l."
         ],
         "href": "/v2/networks/brindisi",
         "id": "brindisi",
         "location": {
          "city": "Brindisi",
          "country": "IT",
          "latitude": 40.637580319936106,
          "longitude": 17.940774547082572
         },
         "name": "BrindisiByBike",
         "source": "https://www.bicincitta.com/frmLeStazioni.aspx?ID=197"
        },
        {
         "company": [
          "TCRA Public Transport Region Avignon",
          "Fifteen"
         ],
         "gbfs_href": "",
         "href": "/v2/networks/velopop",
         "id": "velopop",
         "location": {
          "city": "Avignon",
          "country": "FR",
          "latitude": 43.943689,
          "longitude": 4.805833
         },
         "name": "Vélopop"
        },
        {
         "company": [
          "Smoove"
         ],
         "href": "/v2/networks/batumvelo",
         "id": "batumvelo",
         "location": {
          "city": "Batumi",
          "country": "GE",
          "latitude": 41.660906,
          "longitude": 41.678835
         },
         "name": "Batumvelo"
        },
        {
         "company": [
          "Comunicare S.r.l."
         ],
         "href": "/v2/networks/tradate",
         "id": "tradate",
         "location": {
          "city": "Tradate",
          "country": "IT",
          "latitude": 45.70938576720161,
          "longitude": 8.915993391601548
         },
         "name": "Tradate",
         "source": "https://www.bicincitta.com/frmLeStazioni.aspx?ID=198"
        },
        {
         "company": [
          "Mobilicidade Tecnologia LTD",
          "Grupo Serttel LTDA"
         ],
         "href": "/v2/networks/bikebh",
         "id": "bikebh",
         "location": {
          "city": "Belo Horizonte",
          "country": "BR",
          "latitude": -19.920793,
          "longitude": -43.922165
         },
         "name": "BikeBH"
        },
        {
         "company": [
          "Mobilicidade Tecnologia LTD",
          "Grupo Serttel LTDA"
         ],
         "href": "/v2/networks/bikepetrolina",
         "id": "bikepetrolina",
         "location": {
          "city": "Petrolina",
          "country": "BR",
          "latitude": -9.389049,
          "longitude": -40.502751
         },
         "name": "BikePetrolina"
        },
        {
         "company": [
          "Comunicare S.r.l."
         ],
         "href": "/v2/networks/jesinbici",
         "id": "jesinbici",
         "location": {
          "city": "Jesi",
          "country": "IT",
          "latitude": 43.522601,
          "longitude": 13.244448
         },
         "name": "JesinBici",
         "source": "https://www.bicincitta.com/frmLeStazioni.aspx?ID=236"
        },
        {
         "company": [
          "Comunicare S.r.l."
         ],
         "href": "/v2/networks/nbici",
         "id": "nbici",
         "location": {
          "city": "Pamplona",
          "country": "ES",
          "latitude": 42.8116631,
          "longitude": -1.6482653
         },
         "name": "nbici",
         "source": "https://www.bicincitta.com/frmLeStazioni.aspx?ID=230"
        },
        {
         "company": [
          "Tembici"
         ],
         "gbfs_href": "https://brasilia.publicbikesystem.net/customer/ube/gbfs/v1/",
         "href": "/v2/networks/bikebrasilia",
         "id": "bikebrasilia",
         "location": {
          "city": "Brasília",
          "country": "BR",
          "latitude": -15.795115,
          "longitude": -47.887424
         },
         "name": "BikeBrasilia"
        },
        {
         "company": [
          "Mobilicidade Tecnologia LTD",
          "Grupo Serttel LTDA"
         ],
         "href": "/v2/networks/debikegoiania",
         "id": "debikegoiania",
         "location": {
          "city": "Goiânia",
          "country": "BR",
          "latitude": -16.670492,
          "longitude": -49.259535
         },
         "name": "GynDebike"
        },
        {
         "company": [
          "Comunicare S.r.l."
         ],
         "href": "/v2/networks/treviso",
         "id": "treviso",
         "location": {
          "city": "Treviso",
          "country": "IT",
          "latitude": 45.6669011,
          "longitude": 12.243039
         },
         "name": "Treviso",
         "source": "https://www.bicincitta.com/frmLeStazioni.aspx?ID=179"
        },
        {
         "company": [
          "Mobilicidade Tecnologia LTD",
          "Grupo Serttel LTDA"
         ],
         "href": "/v2/networks/bicicletar",
         "id": "bicicletar",
         "location": {
          "city": "Fortaleza",
          "country": "BR",
          "latitude": -3.7321944,
          "longitude": -38.510347
         },
         "name": "Bicicletar"
        },
        {
         "company": [
          "Mobilicidade Tecnologia LTD",
          "Grupo Serttel LTDA"
         ],
         "href": "/v2/networks/cajubike",
         "id": "cajubike",
         "location": {
          "city": "Aracajú",
          "country": "BR",
          "latitude": -10.987263,
          "longitude": -37.051898
         },
         "name": "CajuBike"
        },
        {
         "company": [
          "Mobilicidade Tecnologia LTD",
          "Grupo Serttel LTDA"
         ],
         "href": "/v2/networks/bikebelem",
         "id": "bikebelem",
         "location": {
          "city": "Belém",
          "country": "BR",
          "latitude": -1.4600794,
          "longitude": -48.490865
         },
         "name": "Bike Belém"
        },
        {
         "company": [
          "Comunicare S.r.l."
         ],
         "href": "/v2/networks/sondrio",
         "id": "sondrio",
         "location": {
          "city": "Sondrio",
          "country": "IT",
          "latitude": 46.1698583,
          "longitude": 9.8787674
         },
         "name": "Sondrio",
         "source": "https://www.bicincitta.com/frmLeStazioni.aspx?ID=213"
        },
        {
         "company": [
          "Mobilicidade Tecnologia LTD",
          "Grupo Serttel LTDA"
         ],
         "href": "/v2/networks/bikesantos",
         "id": "bikesantos",
         "location": {
          "city": "Santos",
          "country": "BR",
          "latitude": -23.954052,
          "longitude": -46.333345
         },
         "name": "BikeSantos"
        },
        {
         "company": [
          "Comunicare S.r.l."
         ],
         "href": "/v2/networks/vercelli",
         "id": "vercelli",
         "location": {
          "city": "Vercelli",
          "country": "IT",
          "latitude": 45.32022720000001,
          "longitude": 8.418573499999999
         },
         "name": "Vercelli",
         "source": "https://www.bicincitta.com/frmLeStazioni.aspx?ID=235"
        },
        {
         "company": [
          "Comunicare S.r.l."
         ],
         "href": "/v2/networks/portofino-park-and-bike",
         "id": "portofino-park-and-bike",
         "location": {
          "city": "Santa Margherita Ligure - Portofino - Camogli",
          "country": "IT",
          "latitude": 44.335084,
          "longitude": 9.211264
         },
         "name": "Portofino Park and Bike",
         "source": "https://www.bicincitta.com/frmLeStazioni.aspx?ID=128"
        },
        {
         "company": [
          "Mobilicidade Tecnologia LTD",
          "Municipalidad de Rosario"
         ],
         "gbfs_href": "https://www.mibicitubici.gob.ar/opendata/gbfs.json",
         "href": "/v2/networks/mibicitubici",
         "id": "mibicitubici",
         "location": {
          "city": "Rosario",
          "country": "AR",
          "latitude": -32.95,
          "longitude": -60.65
         },
         "name": "Mi bici tu bici"
        },
        {
         "company": [
          "DecoBike LLC"
         ],
         "href": "/v2/networks/decobike-miami-beach",
         "id": "decobike-miami-beach",
         "location": {
          "city": "Miami Beach, FL",
          "country": "US",
          "latitude": 25.790654,
          "longitude": -80.1300455
         },
         "name": "Citi Bike Miami"
        },
        {
         "company": [
          "DecoBike LLC"
         ],
         "href": "/v2/networks/decobike-san-diego",
         "id": "decobike-san-diego",
         "location": {
          "city": "San Diego, CA",
          "country": "US",
          "latitude": 32.715738,
          "longitude": -117.1610838
         },
         "name": "Decobike San Diego"
        },
        {
         "company": [
          "Comunicare S.r.l."
         ],
         "href": "/v2/networks/meglio-in-bici",
         "id": "meglio-in-bici",
         "location": {
          "city": "Cernusco sul Naviglio - Pioltello - Carugate",
          "country": "IT",
          "latitude": 45.520541,
          "longitude": 9.341984
         },
         "name": "Meglio in Bici",
         "source": "https://www.bicincitta.com/frmLeStazioni.aspx?ID=121"
        },
        {
         "company": [
          "BCycle, LLC"
         ],
         "gbfs_href": "https://gbfs.bcycle.com/bcycle_desmoines/gbfs.json",
         "href": "/v2/networks/desmoines",
         "id": "desmoines",
         "location": {
          "city": "Des Moines, IA",
          "country": "US",
          "latitude": 41.6005448,
          "longitude": -93.6091064
         },
         "name": "Des Moines B-cycle"
        },
        {
         "company": [
          "Comunicare S.r.l."
         ],
         "href": "/v2/networks/ossola",
         "id": "ossola",
         "location": {
          "city": "Santa Maria Maggiore - Malesco - Villette",
          "country": "IT",
          "latitude": 46.127196,
          "longitude": 8.499169
         },
         "name": "Comunità Montana Valli dell'Ossola",
         "source": "https://www.bicincitta.com/frmLeStazioni.aspx?ID=152"
        },
        {
         "company": [
          "BCycle, LLC"
         ],
         "gbfs_href": "https://gbfs.bcycle.com/bcycle_greenville/gbfs.json",
         "href": "/v2/networks/greenville",
         "id": "greenville",
         "location": {
          "city": "Greenville, SC",
          "country": "US",
          "latitude": 34.85261759999999,
          "longitude": -82.3940104
         },
         "name": "Greenville B-cycle"
        },
        {
         "company": [
          "Comunicare S.r.l."
         ],
         "href": "/v2/networks/bicincitta-mezzolombardo",
         "id": "bicincitta-mezzolombardo",
         "location": {
          "city": "Mezzolombardo",
          "country": "IT",
          "latitude": 46.21400260000001,
          "longitude": 11.0967867
         },
         "name": "Bicincittà",
         "source": "https://www.bicincitta.com/frmLeStazioni.aspx?ID=228"
        },
        {
         "company": [
          "Comunicare S.r.l."
         ],
         "href": "/v2/networks/bicincitta-lausanne-campus-morges",
         "id": "bicincitta-lausanne-campus-morges",
         "location": {
          "city": "Lausanne - Morges - Campus",
          "country": "CH",
          "latitude": 46.5196535,
          "longitude": 6.6322734
         },
         "name": "Bicincittà",
         "source": "https://www.bicincitta.com/frmLeStazioni.aspx?ID=123"
        },
        {
         "company": [
          "Comunicare S.r.l."
         ],
         "href": "/v2/networks/bicincitta-scafati",
         "id": "bicincitta-scafati",
         "location": {
          "city": "Scafati",
          "country": "IT",
          "latitude": 40.7620174,
          "longitude": 14.5363969
         },
         "name": "Bicincittà",
         "source": "https://www.bicincitta.com/frmLeStazioni.aspx?ID=106"
        },
        {
         "company": [
          "Comunicare S.r.l."
         ],
         "href": "/v2/networks/bicincitta-livorno",
         "id": "bicincitta-livorno",
         "location": {
          "city": "Livorno",
          "country": "IT",
          "latitude": 43.548473,
          "longitude": 10.3105674
         },
         "name": "Bicincittà",
         "source": "https://www.bicincitta.com/frmLeStazioni.aspx?ID=226"
        },
        {
         "company": [
          "Comunicare S.r.l."
         ],
         "href": "/v2/networks/bicincitta-valais-central",
         "id": "bicincitta-valais-central",
         "location": {
          "city": "Sion",
          "country": "CH",
          "latitude": 46.2331221,
          "longitude": 7.360625999999999
         },
         "name": "Bicincittà",
         "source": "https://www.bicincitta.com/frmLeStazioni.aspx?ID=89"
        },
        {
         "company": [
          "Comunicare S.r.l."
         ],
         "href": "/v2/networks/bicincitta-forli",
         "id": "bicincitta-forli",
         "location": {
          "city": "Forlì",
          "country": "IT",
          "latitude": 44.2227398,
          "longitude": 12.0407312
         },
         "name": "Mi Muovo in Bici",
         "source": "http://www.mimuovoinbici.it/frmLeStazioni.aspx?ID=119"
        },
        {
         "company": [
          "Comunicare S.r.l."
         ],
         "href": "/v2/networks/bicincitta-rivarolo-canavese",
         "id": "bicincitta-rivarolo-canavese",
         "location": {
          "city": "Rivarolo Canavese",
          "country": "IT",
          "latitude": 45.306633,
          "longitude": 7.723242
         },
         "name": "Bicincittà",
         "source": "https://www.bicincitta.com/frmLeStazioni.aspx?ID=227"
        },
        {
         "company": [
          "Comunicare S.r.l."
         ],
         "href": "/v2/networks/bicincitta-monserrato",
         "id": "bicincitta-monserrato",
         "location": {
          "city": "Monserrato",
          "country": "IT",
          "latitude": 39.2560191,
          "longitude": 9.1453579
         },
         "name": "Bicincittà",
         "source": "https://www.bicincitta.com/frmLeStazioni.aspx?ID=220"
        },
        {
         "company": [
          "Comunicare S.r.l."
         ],
         "href": "/v2/networks/bicincitta-mezzocorona",
         "id": "bicincitta-mezzocorona",
         "location": {
          "city": "Mezzocorona",
          "country": "IT",
          "latitude": 46.2339047,
          "longitude": 11.1277461
         },
         "name": "Bicincittà",
         "source": "https://www.bicincitta.com/frmLeStazioni.aspx?ID=229"
        },
        {
         "company": [
          "Comunicare S.r.l."
         ],
         "href": "/v2/networks/bicincitta-san-lazzaro-di-savena",
         "id": "bicincitta-san-lazzaro-di-savena",
         "location": {
          "city": "San Lazzaro di Savena",
          "country": "IT",
          "latitude": 44.4702725,
          "longitude": 11.409399
         },
         "name": "Mi Muovo in Bici",
         "source": "http://www.mimuovoinbici.it/frmLeStazioni.aspx?ID=100"
        },
        {
         "company": [
          "Comunicare S.r.l."
         ],
         "href": "/v2/networks/bicincitta-san-teodoro",
         "id": "bicincitta-san-teodoro",
         "location": {
          "city": "San Teodoro",
          "country": "IT",
          "latitude": 40.7722837,
          "longitude": 9.6695458
         },
         "name": "Bicincittà",
         "source": "https://www.bicincitta.com/frmLeStazioni.aspx?ID=225"
        },
        {
         "company": [
          "Comunicare S.r.l."
         ],
         "href": "/v2/networks/bicincitta-parco-molentargius-saline",
         "id": "bicincitta-parco-molentargius-saline",
         "location": {
          "city": "Parco Naturale Molentargius - Saline",
          "country": "IT",
          "latitude": 39.2052545,
          "longitude": 9.146761099999999
         },
         "name": "Bicincittà",
         "source": "https://www.bicincitta.com/frmLeStazioni.aspx?ID=151"
        },
        {
         "company": [
          "Comunicare S.r.l."
         ],
         "href": "/v2/networks/parkinbici",
         "id": "parkinbici",
         "location": {
          "city": "Parco Nazionale del Gargano",
          "country": "IT",
          "latitude": 41.7817081,
          "longitude": 15.8516421
         },
         "name": "Parkinbici",
         "source": "https://www.bicincitta.com/frmLeStazioni.aspx?ID=105"
        },
        {
         "company": [
          "Comunicare S.r.l."
         ],
         "href": "/v2/networks/bicincitta-gallipoli",
         "id": "bicincitta-gallipoli",
         "location": {
          "city": "Gallipoli",
          "country": "IT",
          "latitude": 40.0558554,
          "longitude": 17.9925085
         },
         "name": "Bicincittà",
         "source": "https://www.bicincitta.com/frmLeStazioni.aspx?ID=109"
        },
        {
         "company": [
          "Comunicare S.r.l."
         ],
         "href": "/v2/networks/bicincitta-castel-guelfo-the-style-outlets",
         "id": "bicincitta-castel-guelfo-the-style-outlets",
         "location": {
          "city": "Castel Guelfo di Bologna",
          "country": "IT",
          "latitude": 44.4328527,
          "longitude": 11.6750857
         },
         "name": "Bicincittà",
         "source": "https://www.bicincitta.com/frmLeStazioni.aspx?ID=233"
        },
        {
         "company": [
          "Comunicare S.r.l."
         ],
         "href": "/v2/networks/bicincitta-san-michele-alladige",
         "id": "bicincitta-san-michele-alladige",
         "location": {
          "city": "San Michele All'adige",
          "country": "IT",
          "latitude": 46.1878653,
          "longitude": 11.1330423
         },
         "name": "Bicincittà",
         "source": "https://www.bicincitta.com/frmLeStazioni.aspx?ID=231"
        },
        {
         "company": [
          "Comunicare S.r.l."
         ],
         "href": "/v2/networks/bicincitta-agglo-fribourg",
         "id": "bicincitta-agglo-fribourg",
         "location": {
          "city": "Fribourg",
          "country": "CH",
          "latitude": 46.8064773,
          "longitude": 7.161971899999999
         },
         "name": "Bicincittà",
         "source": "https://www.bicincitta.com/frmLeStazioni.aspx?ID=33"
        },
        {
         "company": [
          "Comunicare S.r.l."
         ],
         "href": "/v2/networks/bicincitta-modena",
         "id": "bicincitta-modena",
         "location": {
          "city": "Modena",
          "country": "IT",
          "latitude": 44.647128,
          "longitude": 10.9252269
         },
         "name": "Mi Muovo in bici",
         "source": "http://www.mimuovoinbici.it/frmLeStazioni.aspx?ID=180"
        },
        {
         "company": [
          "Comunicare S.r.l."
         ],
         "href": "/v2/networks/bicincitta-brancaleone",
         "id": "bicincitta-brancaleone",
         "location": {
          "city": "Brancaleone",
          "country": "IT",
          "latitude": 37.9679084,
          "longitude": 16.0757749
         },
         "name": "Bicincittà",
         "source": "https://www.bicincitta.com/frmLeStazioni.aspx?ID=104"
        },
        {
         "company": [
          "Comunicare S.r.l."
         ],
         "href": "/v2/networks/bicincitta-bulle",
         "id": "bicincitta-bulle",
         "location": {
          "city": "Bulle",
          "country": "CH",
          "latitude": 46.6154512,
          "longitude": 7.057726799999999
         },
         "name": "Bicincittà",
         "source": "https://www.bicincitta.com/frmLeStazioni.aspx?ID=34"
        },
        {
         "company": [
          "Comunicare S.r.l."
         ],
         "href": "/v2/networks/bicincitta-riviera",
         "id": "bicincitta-riviera",
         "location": {
          "city": "Distretto della Riviera-Pays-d'Enhaut",
          "country": "CH",
          "latitude": 46.4628333,
          "longitude": 6.8419192
         },
         "name": "Bicincittà",
         "source": "https://www.bicincitta.com/frmLeStazioni.aspx?ID=129"
        },
        {
         "company": [
          "Comunicare S.r.l."
         ],
         "href": "/v2/networks/bicincitta-scandiano",
         "id": "bicincitta-scandiano",
         "location": {
          "city": "Scandiano",
          "country": "IT",
          "latitude": 44.5982342,
          "longitude": 10.6909273
         },
         "name": "Mi Muovo in Bici",
         "source": "http://www.mimuovoinbici.it/frmLeStazioni.aspx?ID=94"
        },
        {
         "company": [
          "Comunicare S.r.l."
         ],
         "href": "/v2/networks/bicincitta-elmas",
         "id": "bicincitta-elmas",
         "location": {
          "city": "Elmas",
          "country": "IT",
          "latitude": 39.2634329,
          "longitude": 9.0515805
         },
         "name": "Bicincittà",
         "source": "https://www.bicincitta.com/frmLeStazioni.aspx?ID=218"
        },
        {
         "company": [
          "Comunicare S.r.l."
         ],
         "href": "/v2/networks/bicincitta-tivat",
         "id": "bicincitta-tivat",
         "location": {
          "city": "TV",
          "country": "ME",
          "latitude": 42.4349809,
          "longitude": 18.7066398
         },
         "name": "Bicincittà",
         "source": "https://www.bicincitta.com/frmLeStazioni.aspx?ID=87"
        },
        {
         "company": [
          "Comunicare S.r.l."
         ],
         "href": "/v2/networks/bicincitta-acquaviva-delle-fonti",
         "id": "bicincitta-acquaviva-delle-fonti",
         "location": {
          "city": "Acquaviva delle fonti",
          "country": "IT",
          "latitude": 40.9303721,
          "longitude": 16.8414374
         },
         "name": "Bicincittà",
         "source": "https://www.bicincitta.com/frmLeStazioni.aspx?ID=160"
        },
        {
         "company": [
          "Comunicare S.r.l."
         ],
         "href": "/v2/networks/we-love-bike",
         "id": "we-love-bike",
         "location": {
          "city": "Lodi",
          "country": "IT",
          "latitude": 45.3097228,
          "longitude": 9.503715999999999
         },
         "name": "We Love bike",
         "source": "https://www.bicincitta.com/frmLeStazioni.aspx?ID=190"
        },
        {
         "company": [
          "Comunicare S.r.l."
         ],
         "href": "/v2/networks/bicincitta-acquarica-del-capo",
         "id": "bicincitta-acquarica-del-capo",
         "location": {
          "city": "Acquarica del Capo",
          "country": "IT",
          "latitude": 39.9144573,
          "longitude": 18.2450324
         },
         "name": "Bicincittà",
         "source": "https://www.bicincitta.com/frmLeStazioni.aspx?ID=146"
        },
        {
         "company": [
          "Comunicare S.r.l."
         ],
         "href": "/v2/networks/bicincitta-vicolungo-the-style-outlets",
         "id": "bicincitta-vicolungo-the-style-outlets",
         "location": {
          "city": "Vicolungo",
          "country": "IT",
          "latitude": 45.47167229999999,
          "longitude": 8.4633922
         },
         "name": "Bicincittà",
         "source": "https://www.bicincitta.com/frmLeStazioni.aspx?ID=232"
        },
        {
         "company": [
          "Comunicare S.r.l."
         ],
         "href": "/v2/networks/bicincitta-porto-torres",
         "id": "bicincitta-porto-torres",
         "location": {
          "city": "Porto Torres",
          "country": "IT",
          "latitude": 40.8333682,
          "longitude": 8.402292899999999
         },
         "name": "Bicincittà",
         "source": "https://www.bicincitta.com/frmLeStazioni.aspx?ID=221"
        },
        {
         "company": [
          "Comunicare S.r.l."
         ],
         "href": "/v2/networks/bicincitta-cisterna-di-latina",
         "id": "bicincitta-cisterna-di-latina",
         "location": {
          "city": "Cisterna di Latina",
          "country": "IT",
          "latitude": 41.5754029,
          "longitude": 12.8284772
         },
         "name": "Bicincittà",
         "source": "https://www.bicincitta.com/frmLeStazioni.aspx?ID=217"
        },
        {
         "company": [
          "Comunicare S.r.l."
         ],
         "href": "/v2/networks/bicincitta-casaletto-spartano",
         "id": "bicincitta-casaletto-spartano",
         "location": {
          "city": "Casaletto Spartano",
          "country": "IT",
          "latitude": 40.1532801,
          "longitude": 15.6211479
         },
         "name": "Bicincittà",
         "source": "https://www.bicincitta.com/frmLeStazioni.aspx?ID=199"
        },
        {
         "company": [
          "Comunicare S.r.l."
         ],
         "href": "/v2/networks/bicincitta-selargius",
         "id": "bicincitta-selargius",
         "location": {
          "city": "Selargius",
          "country": "IT",
          "latitude": 39.2596768,
          "longitude": 9.1629372
         },
         "name": "Bicincittà",
         "source": "https://www.bicincitta.com/frmLeStazioni.aspx?ID=219"
        },
        {
         "company": [
          "Comunicare S.r.l."
         ],
         "href": "/v2/networks/bicincitta-yverdon-les-bains",
         "id": "bicincitta-yverdon-les-bains",
         "location": {
          "city": "Yverdon-les-Bains",
          "country": "CH",
          "latitude": 46.7784736,
          "longitude": 6.641183
         },
         "name": "Bicincittà",
         "source": "https://www.bicincitta.com/frmLeStazioni.aspx?ID=116"
        },
        {
         "company": [
          "Comunicare S.r.l."
         ],
         "href": "/v2/networks/bicincitta-monza",
         "id": "bicincitta-monza",
         "location": {
          "city": "Monza",
          "country": "IT",
          "latitude": 45.5845001,
          "longitude": 9.2744485
         },
         "name": "Bicincittà",
         "source": "https://www.bicincitta.com/frmLeStazioni.aspx?ID=224"
        },
        {
         "company": [
          "Comunicare S.r.l."
         ],
         "href": "/v2/networks/bicincitta-la-cote",
         "id": "bicincitta-la-cote",
         "location": {
          "city": "Nyon",
          "country": "CH",
          "latitude": 46.3832683,
          "longitude": 6.2347852
         },
         "name": "Bicincittà",
         "source": "https://www.bicincitta.com/frmLeStazioni.aspx?ID=32"
        },
        {
         "company": [
          "Comunicare S.r.l."
         ],
         "href": "/v2/networks/bicincitta-morigerati",
         "id": "bicincitta-morigerati",
         "location": {
          "city": "Morigerati",
          "country": "IT",
          "latitude": 40.1422031,
          "longitude": 15.5298525
         },
         "name": "Bicincittà",
         "source": "https://www.bicincitta.com/frmLeStazioni.aspx?ID=200"
        },
        {
         "company": [
          "Comunicare S.r.l."
         ],
         "href": "/v2/networks/bicincitta-san-donato-milanese",
         "id": "bicincitta-san-donato-milanese",
         "location": {
          "city": "San Donato Milanese",
          "country": "IT",
          "latitude": 45.4092402,
          "longitude": 9.2684867
         },
         "name": "Bicincittà",
         "source": "https://www.bicincitta.com/frmLeStazioni.aspx?ID=234"
        },
        {
         "company": [
          "Comunicare S.r.l."
         ],
         "href": "/v2/networks/bicincitta-chablais",
         "id": "bicincitta-chablais",
         "location": {
          "city": "Monthey - Aigle",
          "country": "CH",
          "latitude": 46.2521873,
          "longitude": 6.9469598
         },
         "name": "Bicincittà",
         "source": "https://www.bicincitta.com/frmLeStazioni.aspx?ID=60"
        },
        {
         "company": [
          "Comunicare S.r.l."
         ],
         "href": "/v2/networks/bicincitta-ente-parco-del-circeo",
         "id": "bicincitta-ente-parco-del-circeo",
         "location": {
          "city": "Parco Nazionale del Circeo",
          "country": "IT",
          "latitude": 41.3151015,
          "longitude": 13.0330782
         },
         "name": "Bicincittà",
         "source": "https://www.bicincitta.com/frmLeStazioni.aspx?ID=135"
        },
        {
         "company": [
          "Comunicare S.r.l."
         ],
         "href": "/v2/networks/bicincitta-cesena",
         "id": "bicincitta-cesena",
         "location": {
          "city": "Cesena",
          "country": "IT",
          "latitude": 44.1396438,
          "longitude": 12.2464292
         },
         "name": "Mi Muovo in bici",
         "source": "http://www.mimuovoinbici.it/frmLeStazioni.aspx?ID=120"
        },
        {
         "company": [
          "Comunicare S.r.l."
         ],
         "href": "/v2/networks/bicincitta-lugano-paradiso",
         "id": "bicincitta-lugano-paradiso",
         "location": {
          "city": "Paradiso",
          "country": "CH",
          "latitude": 45.9907174,
          "longitude": 8.945261799999999
         },
         "name": "Bicincittà",
         "source": "https://www.bicincitta.com/frmLeStazioni.aspx?ID=130"
        },
        {
         "company": [
          "Comunicare S.r.l."
         ],
         "href": "/v2/networks/lecco",
         "id": "lecco",
         "location": {
          "city": "Lecco",
          "country": "IT",
          "latitude": 45.8565698,
          "longitude": 9.397670399999999
         },
         "name": "Bicincittà",
         "source": "https://www.bicincitta.com/frmLeStazioni.aspx?ID=49"
        },
        {
         "company": [
          "Comunicare S.r.l."
         ],
         "href": "/v2/networks/bicincitta-alghero",
         "id": "bicincitta-alghero",
         "location": {
          "city": "Alghero",
          "country": "IT",
          "latitude": 40.5579517,
          "longitude": 8.319294900000001
         },
         "name": "Bicincittà",
         "source": "https://www.bicincitta.com/frmLeStazioni.aspx?ID=237"
        },
        {
         "company": [
          "Comunicare S.r.l."
         ],
         "href": "/v2/networks/bicincitta-san-giovanni-in-persiceto",
         "id": "bicincitta-san-giovanni-in-persiceto",
         "location": {
          "city": "San Giovanni in Persiceto",
          "country": "IT",
          "latitude": 44.6405433,
          "longitude": 11.1893053
         },
         "name": "Mi Muovo in Bici",
         "source": "http://www.mimuovoinbici.it/frmLeStazioni.aspx?ID=101"
        },
        {
         "company": [
          "Comunicare S.r.l."
         ],
         "href": "/v2/networks/bicincitta-ente-parco-san-rossore",
         "id": "bicincitta-ente-parco-san-rossore",
         "location": {
          "city": "Parco naturale Migliarino San Rossore Massaciuccoli",
          "country": "IT",
          "latitude": 43.723826,
          "longitude": 10.339509
         },
         "name": "Bicincittà",
         "source": "https://www.bicincitta.com/frmLeStazioni.aspx?ID=145"
        },
        {
         "company": [
          "Comunicare S.r.l."
         ],
         "href": "/v2/networks/bicincitta-treviglio",
         "id": "bicincitta-treviglio",
         "location": {
          "city": "Treviglio",
          "country": "IT",
          "latitude": 45.5293372,
          "longitude": 9.591435899999999
         },
         "name": "Bicincittà",
         "source": "https://www.bicincitta.com/frmLeStazioni.aspx?ID=174"
        },
        {
         "company": [
          "Comunicare S.r.l."
         ],
         "href": "/v2/networks/bicincitta-lavis",
         "id": "bicincitta-lavis",
         "location": {
          "city": "Lavis",
          "country": "IT",
          "latitude": 46.1408423,
          "longitude": 11.1124935
         },
         "name": "Bicincittà",
         "source": "https://www.bicincitta.com/frmLeStazioni.aspx?ID=238"
        },
        {
         "company": [
          "Comunicare S.r.l."
         ],
         "href": "/v2/networks/bicincitta-les-lacs-romont",
         "id": "bicincitta-les-lacs-romont",
         "location": {
          "city": "Murten",
          "country": "CH",
          "latitude": 46.92922110000001,
          "longitude": 7.120184
         },
         "name": "Bicincittà",
         "source": "https://www.bicincitta.com/frmLeStazioni.aspx?ID=35"
        },
        {
         "company": [
          "Comunicare S.r.l."
         ],
         "href": "/v2/networks/bicincitta-ente-parco-di-montemarcello-magra",
         "id": "bicincitta-ente-parco-di-montemarcello-magra",
         "location": {
          "city": "Ente Parco Montemarcello Magra",
          "country": "IT",
          "latitude": 44.1143897,
          "longitude": 9.9635986
         },
         "name": "Bicincittà",
         "source": "https://www.bicincitta.com/frmLeStazioni.aspx?ID=132"
        },
        {
         "company": [
          "Comunicare S.r.l."
         ],
         "href": "/v2/networks/bicischio",
         "id": "bicischio",
         "location": {
          "city": "Schio",
          "country": "IT",
          "latitude": 45.7170517,
          "longitude": 11.3597702
         },
         "name": "BiciSchio",
         "source": "https://www.bicincitta.com/frmLeStazioni.aspx?ID=91"
        },
        {
         "company": [
          "Comunicare S.r.l."
         ],
         "href": "/v2/networks/bicincitta-imola",
         "id": "bicincitta-imola",
         "location": {
          "city": "Imola",
          "country": "IT",
          "latitude": 44.3559128,
          "longitude": 11.7161197
         },
         "name": "Mi Muovo in bici",
         "source": "http://www.mimuovoinbici.it/frmLeStazioni.aspx?ID=196"
        },
        {
         "company": [
          "Nextbike GmbH"
         ],
         "href": "/v2/networks/nextbike-leipzig",
         "id": "nextbike-leipzig",
         "location": {
          "city": "Leipzig",
          "country": "DE",
          "latitude": 51.3415,
          "longitude": 12.3625
         },
         "name": "Nextbike"
        },
        {
         "company": [
          "Nextbike GmbH"
         ],
         "href": "/v2/networks/nextbike-wiesbaden",
         "id": "nextbike-wiesbaden",
         "location": {
          "city": "Wiesbaden",
          "country": "DE",
          "latitude": 50.0709,
          "longitude": 8.24322
         },
         "name": "Nextbike"
        },
        {
         "company": [
          "Nextbike GmbH"
         ],
         "href": "/v2/networks/visa-frankfurt",
         "id": "visa-frankfurt",
         "location": {
          "city": "Frankfurt",
          "country": "DE",
          "latitude": 50.1072,
          "longitude": 8.66375
         },
         "name": "VISA"
        },
        {
         "company": [
          "Nextbike GmbH"
         ],
         "href": "/v2/networks/kvb-rad-koln",
         "id": "kvb-rad-koln",
         "location": {
          "city": "Köln",
          "country": "DE",
          "latitude": 50.9429,
          "longitude": 6.95649
         },
         "name": "KVB Rad"
        },
        {
         "company": [
          "Nextbike GmbH"
         ],
         "href": "/v2/networks/facherrad-karlsruhe",
         "id": "facherrad-karlsruhe",
         "location": {
          "city": "Karlsruhe",
          "country": "DE",
          "latitude": 49.0102,
          "longitude": 8.41827
         },
         "name": "Fächerrad"
        },
        {
         "company": [
          "Nextbike GmbH"
         ],
         "href": "/v2/networks/burgenland-neusiedler-see",
         "id": "burgenland-neusiedler-see",
         "location": {
          "city": "Neusiedler See",
          "country": "AT",
          "latitude": 47.839,
          "longitude": 16.761
         },
         "name": "Burgenland"
        },
        {
         "company": [
          "Nextbike GmbH"
         ],
         "href": "/v2/networks/nextbike-dusseldorf",
         "id": "nextbike-dusseldorf",
         "location": {
          "city": "Düsseldorf",
          "country": "DE",
          "latitude": 51.2243,
          "longitude": 6.77204
         },
         "name": "Nextbike"
        },
        {
         "company": [
          "Nextbike GmbH"
         ],
         "href": "/v2/networks/nextbike-stpolten",
         "id": "nextbike-stpolten",
         "location": {
          "city": "St.Pölten",
          "country": "AT",
          "latitude": 48.2058,
          "longitude": 15.6232
         },
         "name": "Nextbike"
        },
        {
         "company": [
          "Nextbike GmbH"
         ],
         "href": "/v2/networks/nextbike-modling",
         "id": "nextbike-modling",
         "location": {
          "city": "Mödling",
          "country": "AT",
          "latitude": 48.1047,
          "longitude": 16.3202
         },
         "name": "Nextbike"
        },
        {
         "company": [
          "Nextbike GmbH"
         ],
         "href": "/v2/networks/nextbike-sursee",
         "id": "nextbike-sursee",
         "location": {
          "city": "Sursee",
          "country": "CH",
          "latitude": 47.1713,
          "longitude": 8.10877
         },
         "name": "Nextbike"
        },
        {
         "company": [
          "Nextbike GmbH"
         ],
         "href": "/v2/networks/nextbike-luzern",
         "id": "nextbike-luzern",
         "location": {
          "city": "Luzern",
          "country": "CH",
          "latitude": 47.0472,
          "longitude": 8.30446
         },
         "name": "Nextbike"
        },
        {
         "company": [
          "Nextbike GmbH"
         ],
         "href": "/v2/networks/sixt-riga",
         "id": "sixt-riga",
         "location": {
          "city": "Rīga",
          "country": "LV",
          "latitude": 56.9453,
          "longitude": 24.1033
         },
         "name": "SiXT"
        },
        {
         "company": [
          "Nextbike GmbH"
         ],
         "href": "/v2/networks/metropolradruhr-dortmund",
         "id": "metropolradruhr-dortmund",
         "location": {
          "city": "Dortmund",
          "country": "DE",
          "latitude": 51.5141,
          "longitude": 7.46255
         },
         "name": "metropolradruhr"
        },
        {
         "company": [
          "Nextbike GmbH"
         ],
         "href": "/v2/networks/metropolradruhr-bochum",
         "id": "metropolradruhr-bochum",
         "location": {
          "city": "Bochum",
          "country": "DE",
          "latitude": 51.4813,
          "longitude": 7.2133
         },
         "name": "metropolradruhr"
        },
        {
         "company": [
          "Nextbike GmbH"
         ],
         "href": "/v2/networks/metropolradruhr-bottrop",
         "id": "metropolradruhr-bottrop",
         "location": {
          "city": "Bottrop",
          "country": "DE",
          "latitude": 51.5263,
          "longitude": 6.94611
         },
         "name": "metropolradruhr"
        },
        {
         "company": [
          "Nextbike GmbH"
         ],
         "href": "/v2/networks/metropolradruhr-duisburg",
         "id": "metropolradruhr-duisburg",
         "location": {
          "city": "Duisburg",
          "country": "DE",
          "latitude": 51.4487,
          "longitude": 6.77513
         },
         "name": "metropolradruhr"
        },
        {
         "company": [
          "Nextbike GmbH"
         ],
         "href": "/v2/networks/metropolradruhr-essen",
         "id": "metropolradruhr-essen",
         "location": {
          "city": "Essen",
          "country": "DE",
          "latitude": 51.4425,
          "longitude": 7.02301
         },
         "name": "metropolradruhr"
        },
        {
         "company": [
          "Nextbike GmbH"
         ],
         "href": "/v2/networks/metropolradruhr-gelsenkirchen",
         "id": "metropolradruhr-gelsenkirchen",
         "location": {
          "city": "Gelsenkirchen",
          "country": "DE",
          "latitude": 51.5404,
          "longitude": 7.07039
         },
         "name": "metropolradruhr"
        },
        {
         "company": [
          "Nextbike GmbH"
         ],
         "href": "/v2/networks/metropolradruhr-hamm",
         "id": "metropolradruhr-hamm",
         "location": {
          "city": "Hamm",
          "country": "DE",
          "latitude": 51.6775,
          "longitude": 7.84836
         },
         "name": "metropolradruhr"
        },
        {
         "company": [
          "Nextbike GmbH"
         ],
         "href": "/v2/networks/metropolradruhr-herne",
         "id": "metropolradruhr-herne",
         "location": {
          "city": "Herne",
          "country": "DE",
          "latitude": 51.5363,
          "longitude": 7.21493
         },
         "name": "metropolradruhr"
        },
        {
         "company": [
          "Nextbike GmbH"
         ],
         "href": "/v2/networks/metropolradruhr-mulheim-adr",
         "id": "metropolradruhr-mulheim-adr",
         "location": {
          "city": "Mülheim a.d.R.",
          "country": "DE",
          "latitude": 51.4308,
          "longitude": 6.87401
         },
         "name": "metropolradruhr"
        },
        {
         "company": [
          "Nextbike GmbH"
         ],
         "href": "/v2/networks/metropolradruhr-oberhausen",
         "id": "metropolradruhr-oberhausen",
         "location": {
          "city": "Oberhausen",
          "country": "DE",
          "latitude": 51.4936,
          "longitude": 6.85169
         },
         "name": "metropolradruhr"
        },
        {
         "company": [
          "Nextbike GmbH"
         ],
         "href": "/v2/networks/nextbike-wachau",
         "id": "nextbike-wachau",
         "location": {
          "city": "Wachau",
          "country": "AT",
          "latitude": 48.3188,
          "longitude": 15.4166
         },
         "name": "Nextbike"
        },
        {
         "company": [
          "Nextbike GmbH"
         ],
         "href": "/v2/networks/nextbike-tulln",
         "id": "nextbike-tulln",
         "location": {
          "city": "Tulln",
          "country": "AT",
          "latitude": 48.3269,
          "longitude": 16.0569
         },
         "name": "Nextbike"
        },
        {
         "company": [
          "Nextbike GmbH"
         ],
         "href": "/v2/networks/nextbike-thermenregion",
         "id": "nextbike-thermenregion",
         "location": {
          "city": "Thermenregion",
          "country": "AT",
          "latitude": 47.9892,
          "longitude": 16.2646
         },
         "name": "Nextbike"
        },
        {
         "company": [
          "Nextbike GmbH"
         ],
         "href": "/v2/networks/wrm-wroclaw",
         "id": "wrm-wroclaw",
         "location": {
          "city": "Wrocław",
          "country": "PL",
          "latitude": 51.1097,
          "longitude": 17.0485
         },
         "name": "WRM"
        },
        {
         "company": [
          "Nextbike GmbH"
         ],
         "href": "/v2/networks/nextbike-offenburg",
         "id": "nextbike-offenburg",
         "location": {
          "city": "Offenburg",
          "country": "DE",
          "latitude": 48.4721,
          "longitude": 7.94243
         },
         "name": "Nextbike"
        },
        {
         "company": [
          "Nextbike GmbH"
         ],
         "href": "/v2/networks/nextbike-wrneustadt",
         "id": "nextbike-wrneustadt",
         "location": {
          "city": "Wr.Neustadt",
          "country": "AT",
          "latitude": 47.8167,
          "longitude": 16.2426
         },
         "name": "Nextbike"
        },
        {
         "company": [
          "Nextbike GmbH"
         ],
         "href": "/v2/networks/nextbike-potsdam",
         "id": "nextbike-potsdam",
         "location": {
          "city": "Potsdam",
          "country": "DE",
          "latitude": 52.3997,
          "longitude": 13.0676
         },
         "name": "Nextbike"
        },
        {
         "company": [
          "Nextbike GmbH"
         ],
         "href": "/v2/networks/nextbike-gutersloh",
         "id": "nextbike-gutersloh",
         "location": {
          "city": "Gütersloh",
          "country": "DE",
          "latitude": 51.9049,
          "longitude": 8.39275
         },
         "name": "Nextbike"
        },
        {
         "company": [
          "Nextbike GmbH"
         ],
         "href": "/v2/networks/nextbike-10vorwien",
         "id": "nextbike-10vorwien",
         "location": {
          "city": "10vorWien",
          "country": "AT",
          "latitude": 48.3403,
          "longitude": 16.279
         },
         "name": "Nextbike"
        },
        {
         "company": [
          "Nextbike GmbH"
         ],
         "href": "/v2/networks/usedomrad-usedom",
         "id": "usedomrad-usedom",
         "location": {
          "city": "Usedom",
          "country": "DE",
          "latitude": 53.9779,
          "longitude": 13.9925
         },
         "name": "UsedomRad"
        },
        {
         "company": [
          "Nextbike GmbH"
         ],
         "href": "/v2/networks/nextbike-norderstedt",
         "id": "nextbike-norderstedt",
         "location": {
          "city": "Norderstedt",
          "country": "DE",
          "latitude": 53.6969,
          "longitude": 10.002
         },
         "name": "Nextbike"
        },
        {
         "company": [
          "Nextbike GmbH"
         ],
         "href": "/v2/networks/swa-rad-augsburg",
         "id": "swa-rad-augsburg",
         "location": {
          "city": "Augsburg",
          "country": "DE",
          "latitude": 48.3647,
          "longitude": 10.8916
         },
         "name": "SWA Rad"
        },
        {
         "company": [
          "Nextbike GmbH"
         ],
         "href": "/v2/networks/nextbike-limassol",
         "id": "nextbike-limassol",
         "location": {
          "city": "Limassol",
          "country": "CY",
          "latitude": 34.6823,
          "longitude": 33.0464
         },
         "name": "Nextbike"
        },
        {
         "company": [
          "Nextbike GmbH"
         ],
         "href": "/v2/networks/prm-poznan",
         "id": "prm-poznan",
         "location": {
          "city": "Poznań",
          "country": "PL",
          "latitude": 52.4077,
          "longitude": 16.9323
         },
         "name": "PRM"
        },
        {
         "company": [
          "Nextbike GmbH"
         ],
         "href": "/v2/networks/nextbike-christchurch",
         "id": "nextbike-christchurch",
         "location": {
          "city": "Christchurch",
          "country": "NZ",
          "latitude": -43.5341,
          "longitude": 172.621
         },
         "name": "Nextbike"
        },
        {
         "company": [
          "Nextbike GmbH"
         ],
         "href": "/v2/networks/vrn-heidelberg",
         "id": "vrn-heidelberg",
         "location": {
          "city": "Heidelberg",
          "country": "DE",
          "latitude": 49.4023,
          "longitude": 8.67577
         },
         "name": "VRN"
        },
        {
         "company": [
          "Nextbike GmbH"
         ],
         "href": "/v2/networks/vrn-mannheim",
         "id": "vrn-mannheim",
         "location": {
          "city": "Mannheim",
          "country": "DE",
          "latitude": 49.4869,
          "longitude": 8.45638
         },
         "name": "VRN"
        },
        {
         "company": [
          "Nextbike GmbH"
         ],
         "href": "/v2/networks/stadtrad-innsbruck",
         "id": "stadtrad-innsbruck",
         "location": {
          "city": "Innsbruck",
          "country": "AT",
          "latitude": 47.2632,
          "longitude": 11.3961
         },
         "name": "Stadtrad"
        },
        {
         "company": [
          "Nextbike GmbH"
         ],
         "href": "/v2/networks/nextbike-nicosia",
         "id": "nextbike-nicosia",
         "location": {
          "city": "Nicosia",
          "country": "CY",
          "latitude": 35.1728,
          "longitude": 33.3653
         },
         "name": "Nextbike"
        },
        {
         "company": [
          "Nextbike GmbH"
         ],
         "href": "/v2/networks/veturilo-warszawa",
         "id": "veturilo-warszawa",
         "location": {
          "city": "Warszawa",
          "country": "PL",
          "latitude": 52.2265,
          "longitude": 21.0127
         },
         "name": "VETURILO"
        },
        {
         "company": [
          "Nextbike GmbH"
         ],
         "href": "/v2/networks/nextbike-hollabrunn",
         "id": "nextbike-hollabrunn",
         "location": {
          "city": "Hollabrunn",
          "country": "AT",
          "latitude": 48.562,
          "longitude": 16.0785
         },
         "name": "Nextbike"
        },
        {
         "company": [
          "Nextbike GmbH"
         ],
         "href": "/v2/networks/nextbike-wienerwald",
         "id": "nextbike-wienerwald",
         "location": {
          "city": "WienerWald",
          "country": "AT",
          "latitude": 48.1926,
          "longitude": 16.141
         },
         "name": "Nextbike"
        },
        {
         "company": [
          "Nextbike GmbH"
         ],
         "href": "/v2/networks/nextbike-zagreb",
         "id": "nextbike-zagreb",
         "location": {
          "city": "Zagreb",
          "country": "HR",
          "latitude": 45.7984,
          "longitude": 15.9789
         },
         "name": "Nextbike"
        },
        {
         "company": [
          "Nextbike GmbH"
         ],
         "href": "/v2/networks/nextbike-glasgow",
         "id": "nextbike-glasgow",
         "location": {
          "city": "Glasgow",
          "country": "GB",
          "latitude": 55.8589,
          "longitude": -4.25549
         },
         "name": "Nextbike"
        },
        {
         "company": [
          "Nextbike GmbH"
         ],
         "href": "/v2/networks/belfastbikes-belfast",
         "id": "belfastbikes-belfast",
         "location": {
          "city": "Belfast",
          "country": "GB",
          "latitude": 54.5969,
          "longitude": -5.92918
         },
         "name": "BelfastBikes"
        },
        {
         "company": [
          "Nextbike GmbH"
         ],
         "href": "/v2/networks/nextbike-stirling",
         "id": "nextbike-stirling",
         "location": {
          "city": "Stirling",
          "country": "GB",
          "latitude": 56.1165,
          "longitude": -3.9369
         },
         "name": "Nextbike"
        },
        {
         "company": [
          "Nextbike GmbH"
         ],
         "href": "/v2/networks/grad-sibenik-sibenik",
         "id": "grad-sibenik-sibenik",
         "location": {
          "city": "Šibenik",
          "country": "HR",
          "latitude": 43.733,
          "longitude": 15.8982
         },
         "name": "Grad Šibenik"
        },
        {
         "company": [
          "Nextbike GmbH"
         ],
         "href": "/v2/networks/lrm-lublin-lublin",
         "id": "lrm-lublin-lublin",
         "location": {
          "city": "Lublin",
          "country": "PL",
          "latitude": 51.2469,
          "longitude": 22.5697
         },
         "name": "LRM Lublin"
        },
        {
         "company": [
          "Nextbike GmbH"
         ],
         "href": "/v2/networks/healthy-ride-pittsburgh-pittsburgh",
         "id": "healthy-ride-pittsburgh-pittsburgh",
         "location": {
          "city": "Pittsburgh",
          "country": "US",
          "latitude": 40.4459,
          "longitude": -79.9945
         },
         "name": "Healthy Ride"
        },
        {
         "company": [
          "Nextbike GmbH"
         ],
         "href": "/v2/networks/grm-grodzisk-grodzisk-mazowiecki",
         "id": "grm-grodzisk-grodzisk-mazowiecki",
         "location": {
          "city": "Grodzisk Mazowiecki",
          "country": "PL",
          "latitude": 52.113,
          "longitude": 20.6265
         },
         "name": "GRM Grodzisk"
        },
        {
         "company": [
          "Nextbike GmbH"
         ],
         "href": "/v2/networks/nextbike-quickborn",
         "id": "nextbike-quickborn",
         "location": {
          "city": "Quickborn",
          "country": "DE",
          "latitude": 53.7333,
          "longitude": 9.90272
         },
         "name": "Nextbike"
        },
        {
         "company": [
          "Nextbike GmbH"
         ],
         "href": "/v2/networks/vrn-ludwigshafen",
         "id": "vrn-ludwigshafen",
         "location": {
          "city": "Ludwigshafen",
          "country": "DE",
          "latitude": 49.4741,
          "longitude": 8.43287
         },
         "name": "VRN"
        },
        {
         "company": [
          "Nextbike GmbH"
         ],
         "href": "/v2/networks/vrn-speyer",
         "id": "vrn-speyer",
         "location": {
          "city": "Speyer",
          "country": "DE",
          "latitude": 49.3126,
          "longitude": 8.45295
         },
         "name": "VRN"
        },
        {
         "company": [
          "Nextbike GmbH"
         ],
         "href": "/v2/networks/nextbike-lviv",
         "id": "nextbike-lviv",
         "location": {
          "city": "Lviv",
          "country": "UA",
          "latitude": 49.8402,
          "longitude": 24.0182
         },
         "name": "Nextbike"
        },
        {
         "company": [
          "Nextbike GmbH"
         ],
         "href": "/v2/networks/nextbike-wurzburg",
         "id": "nextbike-wurzburg",
         "location": {
          "city": "Würzburg",
          "country": "DE",
          "latitude": 49.8,
          "longitude": 9.93333
         },
         "name": "Nextbike"
        },
        {
         "company": [
          "Nextbike GmbH"
         ],
         "href": "/v2/networks/nextbike-serfaus",
         "id": "nextbike-serfaus",
         "location": {
          "city": "Serfaus",
          "country": "AT",
          "latitude": 47.0387,
          "longitude": 10.6048
         },
         "name": "Nextbike"
        },
        {
         "company": [
          "Nextbike GmbH"
         ],
         "href": "/v2/networks/nextbike-malta",
         "id": "nextbike-malta",
         "location": {
          "city": "Malta",
          "country": "MT",
          "latitude": 35.9192,
          "longitude": 14.4889
         },
         "name": "Nextbike"
        },
        {
         "company": [
          "Nextbike GmbH"
         ],
         "href": "/v2/networks/grad-karlovac-karlovac",
         "id": "grad-karlovac-karlovac",
         "location": {
          "city": "Karlovac",
          "country": "HR",
          "latitude": 45.4905,
          "longitude": 15.5503
         },
         "name": "Grad Karlovac"
        },
        {
         "company": [
          "Nextbike GmbH"
         ],
         "href": "/v2/networks/grad-slavonski-brod-slavonski-brod",
         "id": "grad-slavonski-brod-slavonski-brod",
         "location": {
          "city": "Slavonski Brod",
          "country": "HR",
          "latitude": 45.1656,
          "longitude": 18.0183
         },
         "name": "Grad Slavonski Brod"
        },
        {
         "company": [
          "Nextbike GmbH"
         ],
         "href": "/v2/networks/santander-cycles-mk-milton-keynes",
         "id": "santander-cycles-mk-milton-keynes",
         "location": {
          "city": "Milton Keynes",
          "country": "GB",
          "latitude": 52.0406,
          "longitude": -0.759417
         },
         "name": "Santander Cycles MK"
        },
        {
         "company": [
          "Nextbike GmbH"
         ],
         "href": "/v2/networks/nextbike-hergiswil",
         "id": "nextbike-hergiswil",
         "location": {
          "city": "Hergiswil",
          "country": "CH",
          "latitude": 46.9905,
          "longitude": 8.30829
         },
         "name": "Nextbike"
        },
        {
         "company": [
          "Nextbike GmbH"
         ],
         "href": "/v2/networks/grad-makarska-makarska",
         "id": "grad-makarska-makarska",
         "location": {
          "city": "Makarska",
          "country": "HR",
          "latitude": 43.2992,
          "longitude": 17.0184
         },
         "name": "Grad Makarska"
        },
        {
         "company": [
          "Nextbike GmbH"
         ],
         "href": "/v2/networks/opcina-brinje-brinje",
         "id": "opcina-brinje-brinje",
         "location": {
          "city": "Brinje",
          "country": "HR",
          "latitude": 44.9977,
          "longitude": 15.1258
         },
         "name": "Općina Brinje"
        },
        {
         "company": [
          "Nextbike GmbH"
         ],
         "href": "/v2/networks/grad-zadar-zadar",
         "id": "grad-zadar-zadar",
         "location": {
          "city": "Zadar",
          "country": "HR",
          "latitude": 44.0058,
          "longitude": 15.2183
         },
         "name": "Grad Zadar"
        },
        {
         "company": [
          "Nextbike GmbH"
         ],
         "href": "/v2/networks/vrn-bensheim",
         "id": "vrn-bensheim",
         "location": {
          "city": "Bensheim",
          "country": "DE",
          "latitude": 49.6803,
          "longitude": 8.6189
         },
         "name": "VRN"
        },
        {
         "company": [
          "Nextbike GmbH"
         ],
         "href": "/v2/networks/grad-ivanic-grad-ivanic-grad",
         "id": "grad-ivanic-grad-ivanic-grad",
         "location": {
          "city": "Ivanic Grad",
          "country": "HR",
          "latitude": 45.7062,
          "longitude": 16.3919
         },
         "name": "Grad Ivanić-Grad"
        },
        {
         "company": [
          "Nextbike GmbH"
         ],
         "href": "/v2/networks/bike-s-srm-szczecin",
         "id": "bike-s-srm-szczecin",
         "location": {
          "city": "Szczecin",
          "country": "PL",
          "latitude": 53.4301,
          "longitude": 14.5498
         },
         "name": "Bike_S SRM"
        },
        {
         "company": [
          "Nextbike GmbH"
         ],
         "href": "/v2/networks/nextbike-sarajevo",
         "id": "nextbike-sarajevo",
         "location": {
          "city": "Sarajevo",
          "country": "BA",
          "latitude": 43.85,
          "longitude": 18.39
         },
         "name": "Nextbike"
        },
        {
         "company": [
          "Nextbike GmbH"
         ],
         "href": "/v2/networks/co-bikes-exeter",
         "id": "co-bikes-exeter",
         "location": {
          "city": "Exeter",
          "country": "GB",
          "latitude": 50.7272,
          "longitude": -3.53605
         },
         "name": "Co-bikes"
        },
        {
         "company": [
          "Nextbike GmbH"
         ],
         "href": "/v2/networks/nextbike-auckland-waterfront",
         "id": "nextbike-auckland-waterfront",
         "location": {
          "city": "Auckland Waterfront",
          "country": "NZ",
          "latitude": -36.841,
          "longitude": 174.763
         },
         "name": "Nextbike"
        },
        {
         "company": [
          "Nextbike GmbH"
         ],
         "href": "/v2/networks/nextbike-berlin",
         "id": "nextbike-berlin",
         "location": {
          "city": "Berlin",
          "country": "DE",
          "latitude": 52.5087,
          "longitude": 13.3563
         },
         "name": "Nextbike"
        },
        {
         "company": [
          "Nextbike GmbH"
         ],
         "href": "/v2/networks/veturilo-stacje-sponsorskie-nextbike-veturilo",
         "id": "veturilo-stacje-sponsorskie-nextbike-veturilo",
         "location": {
          "city": "Warszawa",
          "country": "PL",
          "latitude": 52.2265,
          "longitude": 21.0127
         },
         "name": "Stacje Sponsorskie Nextbike Veturilo"
        },
        {
         "company": [
          "Nextbike GmbH"
         ],
         "href": "/v2/networks/bike4all-byblos",
         "id": "bike4all-byblos",
         "location": {
          "city": "Byblos",
          "country": "LB",
          "latitude": 34.1236,
          "longitude": 35.6511
         },
         "name": "bike4all"
        },
        {
         "company": [
          "Nextbike GmbH"
         ],
         "href": "/v2/networks/chartered-bike-bhopal-bhopal",
         "id": "chartered-bike-bhopal-bhopal",
         "location": {
          "city": "Bhopal",
          "country": "IN",
          "latitude": 23.2467,
          "longitude": 77.411
         },
         "name": "Chartered Bike"
        },
        {
         "company": [
          "Nextbike GmbH"
         ],
         "href": "/v2/networks/wk-bike-bremen-bremen",
         "id": "wk-bike-bremen-bremen",
         "location": {
          "city": "Bremen",
          "country": "DE",
          "latitude": 53.0781,
          "longitude": 8.80132
         },
         "name": "WK-Bike"
        },
        {
         "company": [
          "Nextbike GmbH"
         ],
         "href": "/v2/networks/vrn-worms",
         "id": "vrn-worms",
         "location": {
          "city": "Worms",
          "country": "DE",
          "latitude": 49.6394,
          "longitude": 8.34618
         },
         "name": "VRN"
        },
        {
         "company": [
          "Nextbike GmbH"
         ],
         "href": "/v2/networks/nextbike-stans",
         "id": "nextbike-stans",
         "location": {
          "city": "Stans",
          "country": "CH",
          "latitude": 46.9593,
          "longitude": 8.36836
         },
         "name": "Nextbike"
        },
        {
         "company": [
          "Nextbike GmbH"
         ],
         "href": "/v2/networks/nextbike-stansstad",
         "id": "nextbike-stansstad",
         "location": {
          "city": "Stansstad",
          "country": "CH",
          "latitude": 46.9801,
          "longitude": 8.34098
         },
         "name": "Nextbike"
        },
        {
         "company": [
          "Nextbike GmbH"
         ],
         "href": "/v2/networks/nextbike-horw",
         "id": "nextbike-horw",
         "location": {
          "city": "Horw",
          "country": "CH",
          "latitude": 47.0188,
          "longitude": 8.30828
         },
         "name": "Nextbike"
        },
        {
         "company": [
          "Nextbike GmbH"
         ],
         "href": "/v2/networks/vrn-burstadt",
         "id": "vrn-burstadt",
         "location": {
          "city": "Bürstadt",
          "country": "DE",
          "latitude": 49.6461,
          "longitude": 8.44917
         },
         "name": "VRN"
        },
        {
         "company": [
          "Nextbike GmbH"
         ],
         "href": "/v2/networks/prm-stacje-sponsorskie-nextbike-prm",
         "id": "prm-stacje-sponsorskie-nextbike-prm",
         "location": {
          "city": "Poznań",
          "country": "PL",
          "latitude": 52.4077,
          "longitude": 16.9323
         },
         "name": "Stacje Sponsorskie Nextbike PRM"
        },
        {
         "company": [
          "Nextbike GmbH"
         ],
         "href": "/v2/networks/nextbike-gross-enzersdorf",
         "id": "nextbike-gross-enzersdorf",
         "location": {
          "city": "Groß Enzersdorf",
          "country": "AT",
          "latitude": 48.1986,
          "longitude": 16.5496
         },
         "name": "Nextbike"
        },
        {
         "company": [
          "Nextbike GmbH"
         ],
         "href": "/v2/networks/nextbike-klagenfurt",
         "id": "nextbike-klagenfurt",
         "location": {
          "city": "Klagenfurt",
          "country": "AT",
          "latitude": 46.6335,
          "longitude": 14.3085
         },
         "name": "Nextbike"
        },
        {
         "company": [
          "Nextbike GmbH"
         ],
         "href": "/v2/networks/vrn-kaiserslautern",
         "id": "vrn-kaiserslautern",
         "location": {
          "city": "Kaiserslautern",
          "country": "DE",
          "latitude": 49.4413,
          "longitude": 7.75566
         },
         "name": "VRN"
        },
        {
         "company": [
          "Nextbike GmbH"
         ],
         "href": "/v2/networks/sitycleta-las-palmas-las-palmas-de-gran-canaria",
         "id": "sitycleta-las-palmas-las-palmas-de-gran-canaria",
         "location": {
          "city": "Las Palmas de Gran Canaria",
          "country": "ES",
          "latitude": 28.1236,
          "longitude": -15.4366
         },
         "name": "Sitycleta"
        },
        {
         "company": [
          "Nextbike GmbH"
         ],
         "href": "/v2/networks/grad-velika-gorica-velika-gorica",
         "id": "grad-velika-gorica-velika-gorica",
         "location": {
          "city": "Velika Gorica",
          "country": "HR",
          "latitude": 45.7161,
          "longitude": 16.0683
         },
         "name": "Grad Velika Gorica"
        },
        {
         "company": [
          "Nextbike GmbH"
         ],
         "href": "/v2/networks/grad-sisak-sisak",
         "id": "grad-sisak-sisak",
         "location": {
          "city": "Sisak",
          "country": "HR",
          "latitude": 45.4875,
          "longitude": 16.3753
         },
         "name": "Grad Sisak"
        },
        {
         "company": [
          "Nextbike GmbH"
         ],
         "href": "/v2/networks/kolobrzeski-rower-miejski-kolobrzeg",
         "id": "kolobrzeski-rower-miejski-kolobrzeg",
         "location": {
          "city": "Kołobrzeg",
          "country": "PL",
          "latitude": 54.1762,
          "longitude": 15.5761
         },
         "name": "Kołobrzeski Rower Miejski"
        },
        {
         "company": [
          "Nextbike GmbH"
         ],
         "href": "/v2/networks/grad-metkovic-metkovic",
         "id": "grad-metkovic-metkovic",
         "location": {
          "city": "Metković",
          "country": "HR",
          "latitude": 43.0654,
          "longitude": 17.642
         },
         "name": "Grad Metković"
        },
        {
         "company": [
          "Nextbike GmbH"
         ],
         "href": "/v2/networks/jastrebarsko-jastrebarsko",
         "id": "jastrebarsko-jastrebarsko",
         "location": {
          "city": "Jastrebarsko",
          "country": "HR",
          "latitude": 45.6692,
          "longitude": 15.6541
         },
         "name": "Nextbike"
        },
        {
         "company": [
          "Nextbike GmbH"
         ],
         "href": "/v2/networks/grad-drnis-drnis",
         "id": "grad-drnis-drnis",
         "location": {
          "city": "Drniš",
          "country": "HR",
          "latitude": 43.8425,
          "longitude": 16.1197
         },
         "name": "Nextbike"
        },
        {
         "company": [
          "Nextbike GmbH"
         ],
         "href": "/v2/networks/nextbike-tuzla",
         "id": "nextbike-tuzla",
         "location": {
          "city": "Tuzla",
          "country": "BA",
          "latitude": 44.5392,
          "longitude": 18.675
         },
         "name": "Nextbike"
        },
        {
         "company": [
          "Nextbike GmbH"
         ],
         "href": "/v2/networks/arriva-nitra",
         "id": "arriva-nitra",
         "location": {
          "city": "Nitra",
          "country": "SK",
          "latitude": 48.3088,
          "longitude": 18.0783
         },
         "name": "Arriva"
        },
        {
         "company": [
          "Nextbike GmbH"
         ],
         "href": "/v2/networks/nextbike-marburg",
         "id": "nextbike-marburg",
         "location": {
          "city": "Marburg",
          "country": "DE",
          "latitude": 50.8019,
          "longitude": 8.76444
         },
         "name": "Nextbike"
        },
        {
         "company": [
          "Nextbike GmbH"
         ],
         "href": "/v2/networks/bubi",
         "id": "bubi",
         "location": {
          "city": "Budapest",
          "country": "HU",
          "latitude": 47.497912,
          "longitude": 19.040235
         },
         "name": "MOL Bubi"
        },
        {
         "company": [
          "Nextbike GmbH"
         ],
         "href": "/v2/networks/nextbike-russelsheim-am-main",
         "id": "nextbike-russelsheim-am-main",
         "location": {
          "city": "Rüsselsheim am Main",
          "country": "DE",
          "latitude": 49.9881,
          "longitude": 8.42142
         },
         "name": "Nextbike"
        },
        {
         "company": [
          "Nextbike GmbH"
         ],
         "href": "/v2/networks/rower-miejski-szamotuly-rms-szamotuly",
         "id": "rower-miejski-szamotuly-rms-szamotuly",
         "location": {
          "city": "Szamotuły",
          "country": "PL",
          "latitude": 52.6112,
          "longitude": 16.5819
         },
         "name": "Rower Miejski Szamotuły"
        },
        {
         "company": [
          "Nextbike GmbH"
         ],
         "href": "/v2/networks/nextbike-dordrecht",
         "id": "nextbike-dordrecht",
         "location": {
          "city": "Dordrecht",
          "country": "NL",
          "latitude": 51.7833,
          "longitude": 4.69391
         },
         "name": "Nextbike"
        },
        {
         "company": [
          "Nextbike GmbH"
         ],
         "href": "/v2/networks/vrn-heppenheim",
         "id": "vrn-heppenheim",
         "location": {
          "city": "Heppenheim",
          "country": "DE",
          "latitude": 49.6431,
          "longitude": 8.63889
         },
         "name": "VRN"
        },
        {
         "company": [
          "Nextbike GmbH"
         ],
         "href": "/v2/networks/piaseczynski-rower-miejski-piaseczno",
         "id": "piaseczynski-rower-miejski-piaseczno",
         "location": {
          "city": "Piaseczno",
          "country": "PL",
          "latitude": 52.0733,
          "longitude": 21.0269
         },
         "name": "Piaseczyński Rower Miejski"
        },
        {
         "company": [
          "Nextbike GmbH"
         ],
         "href": "/v2/networks/nextbike-kassel",
         "id": "nextbike-kassel",
         "location": {
          "city": "Kassel",
          "country": "DE",
          "latitude": 51.3127,
          "longitude": 9.47975
         },
         "name": "Nextbike"
        },
        {
         "company": [
          "Nextbike GmbH"
         ],
         "href": "/v2/networks/nextbike-sarnen",
         "id": "nextbike-sarnen",
         "location": {
          "city": "Sarnen",
          "country": "CH",
          "latitude": 46.8963,
          "longitude": 8.24614
         },
         "name": "Nextbike"
        },
        {
         "company": [
          "Nextbike GmbH"
         ],
         "href": "/v2/networks/nextbike-wolfenschiessen",
         "id": "nextbike-wolfenschiessen",
         "location": {
          "city": "Wolfenschiessen",
          "country": "CH",
          "latitude": 46.9079,
          "longitude": 8.39767
         },
         "name": "Nextbike"
        },
        {
         "company": [
          "Nextbike GmbH"
         ],
         "href": "/v2/networks/nextbike-oberdorf",
         "id": "nextbike-oberdorf",
         "location": {
          "city": "Oberdorf",
          "country": "CH",
          "latitude": 46.9563,
          "longitude": 8.3884
         },
         "name": "Nextbike"
        },
        {
         "company": [
          "Nextbike GmbH"
         ],
         "href": "/v2/networks/nextbike-giessen",
         "id": "nextbike-giessen",
         "location": {
          "city": "Gießen",
          "country": "DE",
          "latitude": 50.5943,
          "longitude": 8.68097
         },
         "name": "Nextbike"
        },
        {
         "company": [
          "Nextbike GmbH"
         ],
         "href": "/v2/networks/vrn-weinheim",
         "id": "vrn-weinheim",
         "location": {
          "city": "Weinheim",
          "country": "DE",
          "latitude": 49.545,
          "longitude": 8.66027
         },
         "name": "VRN"
        },
        {
         "company": [
          "Nextbike GmbH"
         ],
         "href": "/v2/networks/nextbike-cardiff",
         "id": "nextbike-cardiff",
         "location": {
          "city": "Cardiff",
          "country": "GB",
          "latitude": 51.4848,
          "longitude": -3.19062
         },
         "name": "Nextbike"
        },
        {
         "company": [
          "Nextbike GmbH"
         ],
         "href": "/v2/networks/vrn-hockenheim",
         "id": "vrn-hockenheim",
         "location": {
          "city": "Hockenheim",
          "country": "DE",
          "latitude": 49.3227,
          "longitude": 8.54258
         },
         "name": "VRN"
        },
        {
         "company": [
          "Nextbike GmbH"
         ],
         "href": "/v2/networks/vrn-schwetzingen",
         "id": "vrn-schwetzingen",
         "location": {
          "city": "Schwetzingen",
          "country": "DE",
          "latitude": 49.3863,
          "longitude": 8.5756
         },
         "name": "VRN"
        },
        {
         "company": [
          "Nextbike GmbH"
         ],
         "href": "/v2/networks/nextbike-ennetmoos",
         "id": "nextbike-ennetmoos",
         "location": {
          "city": "Ennetmoos",
          "country": "CH",
          "latitude": 46.9573,
          "longitude": 8.3377
         },
         "name": "Nextbike"
        },
        {
         "company": [
          "Nextbike GmbH"
         ],
         "href": "/v2/networks/vrn-eppelheim",
         "id": "vrn-eppelheim",
         "location": {
          "city": "Eppelheim",
          "country": "DE",
          "latitude": 49.4025,
          "longitude": 8.6331
         },
         "name": "VRN"
        },
        {
         "company": [
          "Nextbike GmbH"
         ],
         "href": "/v2/networks/nextbike-university-of-surrey",
         "id": "nextbike-university-of-surrey",
         "location": {
          "city": "Surrey",
          "country": "GB",
          "latitude": 51.2422,
          "longitude": -0.590594
         },
         "name": "Nextbike"
        },
        {
         "company": [
          "Nextbike GmbH"
         ],
         "href": "/v2/networks/santander-cycles-swansea-swansea-university",
         "id": "santander-cycles-swansea-swansea-university",
         "location": {
          "city": "Swansea",
          "country": "GB",
          "latitude": 51.6106,
          "longitude": -3.9764
         },
         "name": "Santander Cycles"
        },
        {
         "company": [
          "Nextbike GmbH"
         ],
         "href": "/v2/networks/nextbike-erfurt",
         "id": "nextbike-erfurt",
         "location": {
          "city": "Erfurt",
          "country": "DE",
          "latitude": 50.9785,
          "longitude": 11.0334
         },
         "name": "Nextbike"
        },
        {
         "company": [
          "Nextbike GmbH"
         ],
         "href": "/v2/networks/bl-bike-banja-luka",
         "id": "bl-bike-banja-luka",
         "location": {
          "city": "Banja Luka",
          "country": "BA",
          "latitude": 44.775,
          "longitude": 17.1994
         },
         "name": "BL bike"
        },
        {
         "company": [
          "Nextbike GmbH"
         ],
         "href": "/v2/networks/lahr-pedelecs-lahr",
         "id": "lahr-pedelecs-lahr",
         "location": {
          "city": "Lahr",
          "country": "DE",
          "latitude": 48.3396,
          "longitude": 7.87376
         },
         "name": "Nextbike"
        },
        {
         "company": [
          "Nextbike GmbH"
         ],
         "href": "/v2/networks/berlin-buch-campus-berlin-buch",
         "id": "berlin-buch-campus-berlin-buch",
         "location": {
          "city": "Berlin",
          "country": "DE",
          "latitude": 52.6364,
          "longitude": 13.5029
         },
         "name": "Berlin-Buch Campus"
        },
        {
         "company": [
          "Nextbike GmbH"
         ],
         "href": "/v2/networks/lviv-odessa",
         "id": "lviv-odessa",
         "location": {
          "city": "Odessa",
          "country": "UA",
          "latitude": 46.463,
          "longitude": 30.7042
         },
         "name": "Nextbike"
        },
        {
         "company": [
          "Nextbike GmbH"
         ],
         "href": "/v2/networks/zielonogorski-rower-miejski-zielona-gora",
         "id": "zielonogorski-rower-miejski-zielona-gora",
         "location": {
          "city": "Zielona Góra",
          "country": "PL",
          "latitude": 51.9381,
          "longitude": 15.5048
         },
         "name": "Zielonogórski Rower Miejski"
        },
        {
         "company": [
          "Nextbike GmbH"
         ],
         "href": "/v2/networks/santander-monchengladbach",
         "id": "santander-monchengladbach",
         "location": {
          "city": "Mönchengladbach",
          "country": "DE",
          "latitude": 51.1817,
          "longitude": 6.43578
         },
         "name": "Santander Mönchengladbach"
        },
        {
         "company": [
          "Nextbike GmbH"
         ],
         "href": "/v2/networks/nomagobikes-celje",
         "id": "nomagobikes-celje",
         "location": {
          "city": "Celje",
          "country": "SI",
          "latitude": 46.2388,
          "longitude": 15.2693
         },
         "name": "NomagoBikes"
        },
        {
         "company": [
          "Nextbike GmbH"
         ],
         "href": "/v2/networks/bilbon-bizi",
         "id": "bilbon-bizi",
         "location": {
          "city": "Bilbao",
          "country": "ES",
          "latitude": 43.2752,
          "longitude": -2.93528
         },
         "name": "BilbonBizi"
        },
        {
         "company": [
          "Nextbike GmbH"
         ],
         "href": "/v2/networks/nomagobikes-lasko",
         "id": "nomagobikes-lasko",
         "location": {
          "city": "Laško",
          "country": "SI",
          "latitude": 46.1458,
          "longitude": 15.2312
         },
         "name": "NomagoBikes"
        },
        {
         "company": [
          "Nextbike GmbH"
         ],
         "href": "/v2/networks/nextbike-lippstadt",
         "id": "nextbike-lippstadt",
         "location": {
          "city": "Lippstadt",
          "country": "DE",
          "latitude": 51.6755,
          "longitude": 8.34394
         },
         "name": "Nextbike"
        },
        {
         "company": [
          "Nextbike GmbH"
         ],
         "href": "/v2/networks/bikekia-zilina",
         "id": "bikekia-zilina",
         "location": {
          "city": "Žilina",
          "country": "SK",
          "latitude": 49.2217,
          "longitude": 18.7572
         },
         "name": "BikeKia"
        },
        {
         "company": [
          "Nextbike GmbH"
         ],
         "href": "/v2/networks/koninski-rower-miejski-konin",
         "id": "koninski-rower-miejski-konin",
         "location": {
          "city": "Konin",
          "country": "PL",
          "latitude": 52.2284,
          "longitude": 18.2553
         },
         "name": "Koniński Rower Miejski"
        },
        {
         "company": [
          "Nextbike GmbH"
         ],
         "href": "/v2/networks/nextbike-vinnytsia",
         "id": "nextbike-vinnytsia",
         "location": {
          "city": "Vinnytsia",
          "country": "UA",
          "latitude": 49.2328,
          "longitude": 28.4625
         },
         "name": "Nextbike"
        },
        {
         "company": [
          "Nextbike GmbH"
         ],
         "href": "/v2/networks/nextbike-bonn",
         "id": "nextbike-bonn",
         "location": {
          "city": "Bonn",
          "country": "DE",
          "latitude": 50.7367,
          "longitude": 7.09541
         },
         "name": "Nextbike"
        },
        {
         "company": [
          "Nextbike GmbH"
         ],
         "href": "/v2/networks/tarnowski-rower-miejski-tarnow",
         "id": "tarnowski-rower-miejski-tarnow",
         "location": {
          "city": "Tarnów",
          "country": "PL",
          "latitude": 50.0113,
          "longitude": 20.9728
         },
         "name": "Tarnowski Rower Miejski"
        },
        {
         "company": [
          "Nextbike GmbH"
         ],
         "href": "/v2/networks/kolo-marek-marki",
         "id": "kolo-marek-marki",
         "location": {
          "city": "Marki",
          "country": "PL",
          "latitude": 52.3256,
          "longitude": 21.1089
         },
         "name": "Koło Marek"
        },
        {
         "company": [
          "Nextbike GmbH"
         ],
         "href": "/v2/networks/rowerowe-lodzkie-rl-koluszki",
         "id": "rowerowe-lodzkie-rl-koluszki",
         "location": {
          "city": "Koluszki",
          "country": "PL",
          "latitude": 51.7401,
          "longitude": 19.835
         },
         "name": "Rowerowe Łódzkie"
        },
        {
         "company": [
          "Nextbike GmbH"
         ],
         "href": "/v2/networks/rowerowe-lodzkie-rl-lask",
         "id": "rowerowe-lodzkie-rl-lask",
         "location": {
          "city": "Łask",
          "country": "PL",
          "latitude": 51.5893,
          "longitude": 19.142
         },
         "name": "Rowerowe Łódzkie"
        },
        {
         "company": [
          "Nextbike GmbH"
         ],
         "href": "/v2/networks/rowerowe-lodzkie-rl-lowicz",
         "id": "rowerowe-lodzkie-rl-lowicz",
         "location": {
          "city": "Łowicz",
          "country": "PL",
          "latitude": 52.1057,
          "longitude": 19.9381
         },
         "name": "Rowerowe Łódzkie"
        },
        {
         "company": [
          "Nextbike GmbH"
         ],
         "href": "/v2/networks/rowerowe-lodzkie-rl-pabianice",
         "id": "rowerowe-lodzkie-rl-pabianice",
         "location": {
          "city": "Pabianice",
          "country": "PL",
          "latitude": 51.6651,
          "longitude": 19.3548
         },
         "name": "Rowerowe Łódzkie"
        },
        {
         "company": [
          "Nextbike GmbH"
         ],
         "href": "/v2/networks/rowerowe-lodzkie-rl-sieradz",
         "id": "rowerowe-lodzkie-rl-sieradz",
         "location": {
          "city": "Sieradz",
          "country": "PL",
          "latitude": 51.5902,
          "longitude": 18.7382
         },
         "name": "Rowerowe Łódzkie"
        },
        {
         "company": [
          "Nextbike GmbH"
         ],
         "href": "/v2/networks/rowerowe-lodzkie-rl-skierniewice",
         "id": "rowerowe-lodzkie-rl-skierniewice",
         "location": {
          "city": "Skierniewice",
          "country": "PL",
          "latitude": 51.9539,
          "longitude": 20.1469
         },
         "name": "Rowerowe Łódzkie"
        },
        {
         "company": [
          "Nextbike GmbH"
         ],
         "href": "/v2/networks/rowerowe-lodzkie-rl-zdunska-wola",
         "id": "rowerowe-lodzkie-rl-zdunska-wola",
         "location": {
          "city": "Zduńska Wola",
          "country": "PL",
          "latitude": 51.6011,
          "longitude": 18.938
         },
         "name": "Rowerowe Łódzkie"
        },
        {
         "company": [
          "Nextbike GmbH"
         ],
         "href": "/v2/networks/rowerowe-lodzkie-rl-zgierz",
         "id": "rowerowe-lodzkie-rl-zgierz",
         "location": {
          "city": "Zgierz",
          "country": "PL",
          "latitude": 51.8551,
          "longitude": 19.4068
         },
         "name": "Rowerowe Łódzkie"
        },
        {
         "company": [
          "Nextbike GmbH"
         ],
         "href": "/v2/networks/rowerowe-lodzkie-rl-kutno",
         "id": "rowerowe-lodzkie-rl-kutno",
         "location": {
          "city": "Kutno",
          "country": "PL",
          "latitude": 52.2317,
          "longitude": 19.3564
         },
         "name": "Rowerowe Łódzkie"
        },
        {
         "company": [
          "Nextbike GmbH"
         ],
         "href": "/v2/networks/rowerowe-lodzkie-rl-lodz-rl",
         "id": "rowerowe-lodzkie-rl-lodz-rl",
         "location": {
          "city": "Łódź",
          "country": "PL",
          "latitude": 51.7674,
          "longitude": 19.4575
         },
         "name": "Rowerowe Łódzkie"
        },
        {
         "company": [
          "Nextbike GmbH"
         ],
         "href": "/v2/networks/frelo-freiburg",
         "id": "frelo-freiburg",
         "location": {
          "city": "Freiburg",
          "country": "DE",
          "latitude": 47.9958,
          "longitude": 7.84453
         },
         "name": "Frelo"
        },
        {
         "company": [
          "Comunicare S.r.l."
         ],
         "href": "/v2/networks/bicincitta-trieste",
         "id": "bicincitta-trieste",
         "location": {
          "city": "Trieste",
          "country": "IT",
          "latitude": 45.6495,
          "longitude": 13.7768
         },
         "name": "BiTS",
         "source": "https://www.bicincitta.com/frmLeStazioni.aspx?ID=266"
        },
        {
         "company": [
          "Nextbike GmbH"
         ],
         "href": "/v2/networks/mobibike-dresden",
         "id": "mobibike-dresden",
         "location": {
          "city": "Dresden",
          "country": "DE",
          "latitude": 51.0535,
          "longitude": 13.7387
         },
         "name": "MOBIbike"
        },
        {
         "company": [
          "ЗАО «СитиБайк»"
         ],
         "href": "/v2/networks/velobike-murmansk",
         "id": "velobike-murmansk",
         "location": {
          "city": "Murmansk",
          "country": "RU",
          "latitude": 68.968,
          "longitude": 33.074
         },
         "name": "Velobike"
        },
        {
         "company": [
          "ЗАО «СитиБайк»"
         ],
         "href": "/v2/networks/velobike-nizhniy-novgorod",
         "id": "velobike-nizhniy-novgorod",
         "location": {
          "city": "Nizhniy Novgorod",
          "country": "RU",
          "latitude": 56.194,
          "longitude": 44.003
         },
         "name": "Velobike"
        },
        {
         "company": [
          "Nextbike GmbH"
         ],
         "href": "/v2/networks/nextbike-ivano-frankivsk",
         "id": "nextbike-ivano-frankivsk",
         "location": {
          "city": "Ivano Frankivsk",
          "country": "UA",
          "latitude": 48.9281,
          "longitude": 24.7103
         },
         "name": "Nextbike"
        },
        {
         "company": [
          "Velobike.kz, LLP",
          "Smoove"
         ],
         "href": "/v2/networks/almatybike",
         "id": "almatybike",
         "location": {
          "city": "Almaty",
          "country": "KZ",
          "latitude": 43.239101,
          "longitude": 76.9268076
         },
         "name": "Almatybike"
        },
        {
         "company": [
          "Velobike.kz, LLP",
          "Smoove"
         ],
         "href": "/v2/networks/shymkentbike",
         "id": "shymkentbike",
         "location": {
          "city": "Shymkent",
          "country": "KZ",
          "latitude": 42.3184,
          "longitude": 69.5978
         },
         "name": "Shymkentbike"
        },
        {
         "company": [
          "Motivate LLC"
         ],
         "gbfs_href": "https://gbfs.baywheels.com/gbfs/gbfs.json",
         "href": "/v2/networks/bay-wheels",
         "id": "bay-wheels",
         "location": {
          "city": "San Francisco Bay Area, CA",
          "country": "US",
          "latitude": 37.7141454,
          "longitude": -122.25
         },
         "name": "Bay Wheels"
        },
        {
         "company": [
          "Smoove"
         ],
         "gbfs_href": "https://vannes-gbfs.klervi.net/gbfs/gbfs.json",
         "href": "/v2/networks/veloceo",
         "id": "veloceo",
         "location": {
          "city": "Vannes",
          "country": "FR",
          "latitude": 47.6559,
          "longitude": -2.7603
         },
         "name": "Vélocéo"
        },
        {
         "company": [
          "PBSC Urban Solutions"
         ],
         "gbfs_href": "https://monaco.publicbikesystem.net/customer/ube/gbfs/v1/",
         "href": "/v2/networks/monabike",
         "id": "monabike",
         "location": {
          "city": "Monaco",
          "country": "MC",
          "latitude": 43.733333,
          "longitude": 7.416667
         },
         "name": "MonaBike"
        },
        {
         "company": [
          "Ecovelo"
         ],
         "ebikes": true,
         "gbfs_href": "https://api.gbfs.v1.ecovelo.mobi/gbfs/tlpmobilites",
         "href": "/v2/networks/tlp-velo",
         "id": "tlp-velo",
         "location": {
          "city": "Tarbes, Lourdes",
          "country": "FR",
          "latitude": 43.23,
          "longitude": 0.07
         },
         "name": "Tarbes et Lourdes vls"
        },
        {
         "company": [
          "Ecovelo"
         ],
         "ebikes": true,
         "gbfs_href": "https://api.gbfs.v1.ecovelo.mobi/gbfs/zebullo",
         "href": "/v2/networks/zebullo",
         "id": "zebullo",
         "location": {
          "city": "Reims",
          "country": "FR",
          "latitude": 49.2628,
          "longitude": 4.0347
         },
         "name": "ZébullO"
        },
        {
         "company": [
          "Ecovelo"
         ],
         "ebikes": true,
         "gbfs_href": "https://api.gbfs.v1.ecovelo.mobi/gbfs/calais",
         "href": "/v2/networks/velectin",
         "id": "velectin",
         "location": {
          "city": "Calais",
          "country": "FR",
          "latitude": 50.948056,
          "longitude": 1.856389
         },
         "name": "Velect’in"
        },
        {
         "company": [
          "Ecovelo"
         ],
         "gbfs_href": "https://api.gbfs.v1.ecovelo.mobi/gbfs/beb",
         "href": "/v2/networks/rubis-velo",
         "id": "rubis-velo",
         "location": {
          "city": "Bourg-en-Bresse",
          "country": "FR",
          "latitude": 46.2056,
          "longitude": 5.2289
         },
         "name": "Rubis'Vélo"
        },
        {
         "company": [
          "Ecovelo"
         ],
         "ebikes": true,
         "gbfs_href": "https://api.gbfs.v1.ecovelo.mobi/gbfs/tanlib",
         "href": "/v2/networks/tanlib",
         "id": "tanlib",
         "location": {
          "city": "Niort",
          "country": "FR",
          "latitude": 46.3258,
          "longitude": -0.4606
         },
         "name": "Vélo tanlib"
        },
        {
         "company": [
          "Ecovelo"
         ],
         "gbfs_href": "https://api.gbfs.v1.ecovelo.mobi/gbfs/marseillan",
         "href": "/v2/networks/marseillan",
         "id": "marseillan",
         "location": {
          "city": "Marseillan",
          "country": "FR",
          "latitude": 43.3572,
          "longitude": 3.5283
         },
         "name": "Marseillan vélo libre-service"
        },
        {
         "company": [
          "Ecovelo"
         ],
         "ebikes": true,
         "gbfs_href": "https://api.gbfs.v1.ecovelo.mobi/gbfs/via",
         "href": "/v2/networks/via-velo",
         "id": "via-velo",
         "location": {
          "city": "Val d'Ille-Aubigné",
          "country": "FR",
          "latitude": 48.2181,
          "longitude": -1.6947
         },
         "name": "VIA Vélo"
        },
        {
         "company": [
          "Ecovelo"
         ],
         "ebikes": true,
         "gbfs_href": "https://api.gbfs.v1.ecovelo.mobi/gbfs/velyceo",
         "href": "/v2/networks/velyceo",
         "id": "velyceo",
         "location": {
          "city": "Saint-Nazaire",
          "country": "FR",
          "latitude": 47.2806,
          "longitude": -2.2086
         },
         "name": "vélYcéo"
        },
        {
         "company": [
          "Ecovelo"
         ],
         "ebikes": true,
         "gbfs_href": "https://api.gbfs.v1.ecovelo.mobi/gbfs/velocite",
         "href": "/v2/networks/velocite-laon",
         "id": "velocite-laon",
         "location": {
          "city": "Laon",
          "country": "FR",
          "latitude": 49.5639,
          "longitude": 3.6244
         },
         "name": "Vélo'Cité"
        },
        {
         "company": [
          "Ecovelo"
         ],
         "ebikes": true,
         "gbfs_href": "https://api.gbfs.v1.ecovelo.mobi/gbfs/labaule",
         "href": "/v2/networks/velo-baulois",
         "id": "velo-baulois",
         "location": {
          "city": "La Baule-Escoublac",
          "country": "FR",
          "latitude": 47.2867,
          "longitude": -2.3908
         },
         "name": "Le Vélo Baulois"
        },
        {
         "company": [
          "Ecovelo"
         ],
         "ebikes": true,
         "gbfs_href": "https://api.gbfs.v1.ecovelo.mobi/gbfs/lemarcel",
         "href": "/v2/networks/le-marcel",
         "id": "le-marcel",
         "location": {
          "city": "Troyes",
          "country": "FR",
          "latitude": 48.2997,
          "longitude": 4.0792
         },
         "name": "Le Marcel"
        },
        {
         "company": [
          "Ecovelo"
         ],
         "ebikes": true,
         "gbfs_href": "https://api.gbfs.v1.ecovelo.mobi/gbfs/tempovelo",
         "href": "/v2/networks/tempo-velo",
         "id": "tempo-velo",
         "location": {
          "city": "Agen",
          "country": "FR",
          "latitude": 44.2049,
          "longitude": 0.6212
         },
         "name": "Tempo Vélo"
        },
        {
         "company": [
          "Ecovelo"
         ],
         "gbfs_href": "https://api.gbfs.v1.ecovelo.mobi/gbfs/semo",
         "href": "/v2/networks/semo",
         "id": "semo",
         "location": {
          "city": "Communauté d'agglomération Seine-Eure",
          "country": "FR",
          "latitude": 49.22,
          "longitude": 1.17
         },
         "name": "semo"
        },
        {
         "company": [
          "Ecovelo"
         ],
         "ebikes": true,
         "gbfs_href": "https://api.gbfs.v1.ecovelo.mobi/gbfs/cyclovis",
         "href": "/v2/networks/cyclovis",
         "id": "cyclovis",
         "location": {
          "city": "Soissons",
          "country": "FR",
          "latitude": 49.3817,
          "longitude": 3.3236
         },
         "name": "Cyclovis"
        },
        {
         "company": [
          "Ecovelo"
         ],
         "ebikes": true,
         "gbfs_href": "https://api.gbfs.v1.ecovelo.mobi/gbfs/chantrerie",
         "href": "/v2/networks/chantrerie-captainbike",
         "id": "chantrerie-captainbike",
         "location": {
          "city": "La Chantrerie, Nantes",
          "country": "FR",
          "latitude": 47.2868203,
          "longitude": -1.5210917
         },
         "name": "Chantrerie VLS (Captain Bike)"
        },
        {
         "company": [
          "Ecovelo"
         ],
         "ebikes": true,
         "gbfs_href": "https://api.gbfs.v1.ecovelo.mobi/gbfs/saclay",
         "href": "/v2/networks/saclay-captainbike",
         "id": "saclay-captainbike",
         "location": {
          "city": "Paris-Saclay",
          "country": "FR",
          "latitude": 48.7098082,
          "longitude": 2.211366
         },
         "name": "Saclay VLS (Captain Bike)"
        },
        {
         "company": [
          "CIGL ESCH"
         ],
         "ebikes": true,
         "href": "/v2/networks/velok",
         "id": "velok",
         "location": {
          "city": "Esch-sur-alzette",
          "country": "LU",
          "latitude": 49.5024,
          "longitude": 5.9722
         },
         "name": "Vël'Ok",
         "source": "https://docs.api.tfl.lu/v1/en/RESTAPIs/BikePoint/"
        },
        {
         "company": [
          "Nextbike GmbH"
         ],
         "href": "/v2/networks/wienmobil-rad",
         "id": "wienmobil-rad",
         "location": {
          "city": "Wien",
          "country": "AT",
          "latitude": 48.2081743,
          "longitude": 16.3738189
         },
         "name": "WienMobil Rad"
        },
        {
         "company": null,
         "gbfs_href": "https://gbfs.urbansharing.com/bikeverona.it/gbfs.json",
         "href": "/v2/networks/bikeverona",
         "id": "bikeverona",
         "location": {
          "city": "Verona",
          "country": "IT",
          "latitude": 45.438611,
          "longitude": 10.992778
         },
         "name": "Verona Bike"
        },
        {
         "company": [
          "Nextbike GmbH"
         ],
         "href": "/v2/networks/sprottenflotte-kiel",
         "id": "sprottenflotte-kiel",
         "location": {
          "city": "Kiel",
          "country": "DE",
          "latitude": 54.2837,
          "longitude": 10.13213
         },
         "name": "Sprottenflotte"
        },
        {
         "company": [
          "TaM",
          "Smoove"
         ],
         "gbfs_href": "https://montpellier-fr-smoove.klervi.net/gbfs/gbfs.json",
         "href": "/v2/networks/velomagg",
         "id": "velomagg",
         "location": {
          "city": "Montpellier",
          "country": "FR",
          "latitude": 43.6119,
          "longitude": 3.8772
         },
         "name": "Vélomagg"
        },
        {
         "company": [
          "Bcycle, LLC",
          "RTC Southern Nevada, Inc"
         ],
         "gbfs_href": "https://gbfs.bcycle.com/bcycle_rtcbikeshare/gbfs.json",
         "href": "/v2/networks/rtc-bike-share",
         "id": "rtc-bike-share",
         "location": {
          "city": "Las Vegas, NV",
          "country": "US",
          "latitude": 36.1438,
          "longitude": -115.15682
         },
         "name": "RTC Bike Share"
        },
        {
         "company": [
          "Bcycle, LLC",
          "Embark, Inc"
         ],
         "gbfs_href": "https://gbfs.bcycle.com/bcycle_spokies/gbfs.json",
         "href": "/v2/networks/spokies",
         "id": "spokies",
         "location": {
          "city": "Oklahoma, OK",
          "country": "US",
          "latitude": 35.46436,
          "longitude": -97.50888
         },
         "name": "Spokies BCycle"
        },
        {
         "company": [
          "Leonbici Nextbike Gmbh Y Autobuses Urbanos De Leon S.a. Ute"
         ],
         "href": "/v2/networks/alsa-nextbike-leon",
         "id": "alsa-nextbike-leon",
         "location": {
          "city": "León",
          "country": "ES",
          "latitude": 42.5987263,
          "longitude": -5.5670959
         },
         "name": "Alsa nextbike León"
        },
        {
         "company": [
          "Strasbourg Mobilités"
         ],
         "gbfs_href": "https://transport.data.gouv.fr/gbfs/strasbourg/gbfs.json",
         "href": "/v2/networks/velhop",
         "id": "velhop",
         "location": {
          "city": "Strasbourg",
          "country": "FR",
          "latitude": 48.583611,
          "longitude": 7.748056
         },
         "name": "Vélhop"
        },
        {
         "company": null,
         "gbfs_href": "https://belfort-gbfs.klervi.net/gbfs/gbfs.json",
         "href": "/v2/networks/optymo",
         "id": "optymo",
         "location": {
          "city": "Belfort",
          "country": "FR",
          "latitude": 47.641111,
          "longitude": 6.849444
         },
         "name": "Optymo"
        },
        {
         "company": [
          "Nextbike GmbH"
         ],
         "href": "/v2/networks/biker-bialystok",
         "id": "biker-bialystok",
         "location": {
          "city": "Białystok",
          "country": "PL",
          "latitude": 53.1262,
          "longitude": 23.1427
         },
         "name": "BIKER Białystok Poland"
        },
        {
         "company": [
          "Nextbike GmbH"
         ],
         "href": "/v2/networks/nextbike-prostejov",
         "id": "nextbike-prostejov",
         "location": {
          "city": "Prostejov",
          "country": "CZ",
          "latitude": 49.4722,
          "longitude": 17.1055
         },
         "name": "nextbike Prostejov"
        },
        {
         "company": [
          "Nextbike GmbH"
         ],
         "href": "/v2/networks/bike-katowice",
         "id": "bike-katowice",
         "location": {
          "city": "Katowice",
          "country": "PL",
          "latitude": 50.2594,
          "longitude": 19.0215
         },
         "name": "Katowice Bike Poland"
        },
        {
         "company": [
          "Nextbike GmbH"
         ],
         "href": "/v2/networks/nextbike-focsani",
         "id": "nextbike-focsani",
         "location": {
          "city": "Focșani",
          "country": "RO",
          "latitude": 45.6947,
          "longitude": 27.1851
         },
         "name": "nextbike Romania"
        },
        {
         "company": [
          "Nextbike GmbH"
         ],
         "href": "/v2/networks/grad-vukovar",
         "id": "grad-vukovar",
         "location": {
          "city": "Vukovar",
          "country": "HR",
          "latitude": 45.3575,
          "longitude": 18.9895
         },
         "name": "Grad Vukovar (Croatia)"
        },
        {
         "company": [
          "Nextbike GmbH"
         ],
         "href": "/v2/networks/system-rowerow-miejskich-w-pszczynie-pszczyna",
         "id": "system-rowerow-miejskich-w-pszczynie-pszczyna",
         "location": {
          "city": "Pszczyna",
          "country": "PL",
          "latitude": 49.9757,
          "longitude": 18.9463
         },
         "name": "System Rowerów Miejskich w Pszczynie Poland"
        },
        {
         "company": [
          "Nextbike GmbH"
         ],
         "href": "/v2/networks/tyski-rower-miejski-tychy",
         "id": "tyski-rower-miejski-tychy",
         "location": {
          "city": "Tychy",
          "country": "PL",
          "latitude": 50.1124,
          "longitude": 18.9972
         },
         "name": "Tyski Rower Miejski Poland"
        },
        {
         "company": [
          "Nextbike GmbH"
         ],
         "href": "/v2/networks/czestochowski-rower-miejski-czestochowa",
         "id": "czestochowski-rower-miejski-czestochowa",
         "location": {
          "city": "Częstochowa",
          "country": "PL",
          "latitude": 50.812,
          "longitude": 19.1375
         },
         "name": "Częstochowski Rower Miejski Poland"
        },
        {
         "company": [
          "Nextbike GmbH"
         ],
         "href": "/v2/networks/pruszkowski-rower-miejski-pruszkow",
         "id": "pruszkowski-rower-miejski-pruszkow",
         "location": {
          "city": "Pruszków",
          "country": "PL",
          "latitude": 52.1622,
          "longitude": 20.8062
         },
         "name": "Pruszkowski Rower Miejski Poland"
        },
        {
         "company": [
          "Nextbike GmbH"
         ],
         "href": "/v2/networks/ok-bike-kedzierzyn-kozle",
         "id": "ok-bike-kedzierzyn-kozle",
         "location": {
          "city": "Kędzierzyn-Koźle",
          "country": "PL",
          "latitude": 50.3392,
          "longitude": 18.2352
         },
         "name": "OK Bike Poland"
        },
        {
         "company": [
          "Nextbike GmbH"
         ],
         "href": "/v2/networks/grad-zapresic",
         "id": "grad-zapresic",
         "location": {
          "city": "Zaprešić",
          "country": "HR",
          "latitude": 45.8622,
          "longitude": 15.8049
         },
         "name": "Grad Zaprešić (Croatia)"
        },
        {
         "company": [
          "Nextbike GmbH"
         ],
         "href": "/v2/networks/porec-bike-share-porec",
         "id": "porec-bike-share-porec",
         "location": {
          "city": "Poreč",
          "country": "HR",
          "latitude": 45.2292,
          "longitude": 13.6035
         },
         "name": "Porec bike share (Croatia)"
        },
        {
         "company": [
          "Nextbike GmbH"
         ],
         "href": "/v2/networks/kaliski-rower-miejski-kalisz",
         "id": "kaliski-rower-miejski-kalisz",
         "location": {
          "city": "Kalisz",
          "country": "PL",
          "latitude": 51.7525,
          "longitude": 18.0341
         },
         "name": "Kaliski Rower Miejski Poland"
        },
        {
         "company": [
          "Nextbike GmbH"
         ],
         "href": "/v2/networks/rower-miejski-w-ostrowie-wielkopolskim-ostrow-wielkopolski",
         "id": "rower-miejski-w-ostrowie-wielkopolskim-ostrow-wielkopolski",
         "location": {
          "city": "Ostrów Wielkopolski",
          "country": "PL",
          "latitude": 51.65,
          "longitude": 17.8253
         },
         "name": "Rower Miejski w Ostrowie Wielkopolskim Poland"
        },
        {
         "company": [
          "Nextbike GmbH"
         ],
         "href": "/v2/networks/santander-brunel",
         "id": "santander-brunel",
         "location": {
          "city": "Brunel University",
          "country": "GB",
          "latitude": 51.5463,
          "longitude": -0.48048
         },
         "name": "Santander Cycles - Brunel"
        },
        {
         "company": [
          "Nextbike GmbH"
         ],
         "href": "/v2/networks/koszalinski-rower-miejski-koszalin",
         "id": "koszalinski-rower-miejski-koszalin",
         "location": {
          "city": "Koszalin",
          "country": "PL",
          "latitude": 54.2026,
          "longitude": 16.1678
         },
         "name": "Koszaliński Rower Miejski Poland"
        },
        {
         "company": [
          "Nextbike GmbH"
         ],
         "href": "/v2/networks/ki-rower-miejski-sosnowiec",
         "id": "ki-rower-miejski-sosnowiec",
         "location": {
          "city": "Sosnowiec",
          "country": "PL",
          "latitude": 50.278,
          "longitude": 19.1345
         },
         "name": "Sosnowiecki Rower Miejski Poland"
        },
        {
         "company": [
          "Nextbike GmbH"
         ],
         "href": "/v2/networks/pobiedziski-rower-gminny-pobiedziska",
         "id": "pobiedziski-rower-gminny-pobiedziska",
         "location": {
          "city": "Pobiedziska",
          "country": "PL",
          "latitude": 52.4765,
          "longitude": 17.2866
         },
         "name": "Pobiedziski Rower Gminny Poland"
        },
        {
         "company": [
          "Nextbike GmbH"
         ],
         "href": "/v2/networks/siemianowicki-rower-miejski-siemianowice-slaskie",
         "id": "siemianowicki-rower-miejski-siemianowice-slaskie",
         "location": {
          "city": "Siemianowice Śląskie",
          "country": "PL",
          "latitude": 50.3031,
          "longitude": 19.0222
         },
         "name": "Siemianowicki Rower Miejski Poland"
        },
        {
         "company": [
          "Nextbike GmbH"
         ],
         "href": "/v2/networks/piotrkowski-rower-miejski-piotrkow-trybunalski",
         "id": "piotrkowski-rower-miejski-piotrkow-trybunalski",
         "location": {
          "city": "Piotrków Trybunalski",
          "country": "PL",
          "latitude": 51.3975,
          "longitude": 19.6779
         },
         "name": "Piotrkowski Rower Miejski Poland"
        },
        {
         "company": [
          "Nextbike GmbH"
         ],
         "href": "/v2/networks/i-rower-miejski-prm-plock",
         "id": "i-rower-miejski-prm-plock",
         "location": {
          "city": "Płock",
          "country": "PL",
          "latitude": 52.5445,
          "longitude": 19.7017
         },
         "name": "Płocki Rower Miejski (PRM) Poland"
        },
        {
         "company": [
          "Nextbike GmbH"
         ],
         "href": "/v2/networks/plocki-rower-miejski-prm-orlen-plock",
         "id": "plocki-rower-miejski-prm-orlen-plock",
         "location": {
          "city": "Orlen Płock",
          "country": "PL",
          "latitude": 52.5466,
          "longitude": 19.7047
         },
         "name": "Płocki Rower Miejski (PRM) Poland"
        },
        {
         "company": [
          "Nextbike GmbH"
         ],
         "href": "/v2/networks/i-rower-miejski-otwock",
         "id": "i-rower-miejski-otwock",
         "location": {
          "city": "Otwock",
          "country": "PL",
          "latitude": 52.1034,
          "longitude": 21.2692
         },
         "name": "Otwocki Rower Miejski Poland"
        },
        {
         "company": [
          "Nextbike GmbH"
         ],
         "href": "/v2/networks/ciechanowski-rower-miejski-ciechanow",
         "id": "ciechanowski-rower-miejski-ciechanow",
         "location": {
          "city": "Ciechanów",
          "country": "PL",
          "latitude": 52.8763,
          "longitude": 20.6102
         },
         "name": "Ciechanowski Rower Miejski Poland"
        },
        {
         "company": [
          "Nextbike GmbH"
         ],
         "href": "/v2/networks/zyrardowski-rower-miejski-zyrardow",
         "id": "zyrardowski-rower-miejski-zyrardow",
         "location": {
          "city": "Żyrardów",
          "country": "PL",
          "latitude": 52.0503,
          "longitude": 20.4464
         },
         "name": "Żyrardowski Rower Miejski Poland"
        },
        {
         "company": [
          "Nextbike GmbH"
         ],
         "href": "/v2/networks/sap-walldorf",
         "id": "sap-walldorf",
         "location": {
          "city": "Walldorf",
          "country": "DE",
          "latitude": 49.2945,
          "longitude": 8.62324
         },
         "name": "SAP Walldorf"
        },
        {
         "company": [
          "Nextbike GmbH"
         ],
         "href": "/v2/networks/opcina-dugopolje",
         "id": "opcina-dugopolje",
         "location": {
          "city": "Dugopolje",
          "country": "HR",
          "latitude": 43.5872,
          "longitude": 16.5879
         },
         "name": "Općina Dugopolje (Croatia)"
        },
        {
         "company": [
          "Nextbike GmbH"
         ],
         "href": "/v2/networks/opcina-pitomaca",
         "id": "opcina-pitomaca",
         "location": {
          "city": "Pitomača",
          "country": "HR",
          "latitude": 45.9077,
          "longitude": 17.2622
         },
         "name": "Općina Pitomača (Croatia)"
        },
        {
         "company": [
          "Nextbike GmbH"
         ],
         "href": "/v2/networks/nomago-ljubljana",
         "id": "nomago-ljubljana",
         "location": {
          "city": "Ljubljana",
          "country": "SI",
          "latitude": 46.0577,
          "longitude": 14.5013
         },
         "name": "Nomago Bikes - LJUBLJANA"
        },
        {
         "company": [
          "Nextbike GmbH"
         ],
         "href": "/v2/networks/system-roweru-gminnego-pielgrzymka",
         "id": "system-roweru-gminnego-pielgrzymka",
         "location": {
          "city": "Pielgrzymka",
          "country": "PL",
          "latitude": 51.1185,
          "longitude": 15.8153
         },
         "name": "System Roweru Gminnego Poland"
        },
        {
         "company": [
          "Nextbike GmbH"
         ],
         "href": "/v2/networks/rvk",
         "id": "rvk",
         "location": {
          "city": "RVK e-Bike",
          "country": "DE",
          "latitude": 50.7069,
          "longitude": 6.87607
         },
         "name": "RVK"
        },
        {
         "company": [
          "Nextbike GmbH"
         ],
         "href": "/v2/networks/partnerzy-nextbike-polska-wolt",
         "id": "partnerzy-nextbike-polska-wolt",
         "location": {
          "city": "Wolt",
          "country": "PL",
          "latitude": 52.2984,
          "longitude": 21.0498
         },
         "name": "Partnerzy Nextbike Polska"
        },
        {
         "company": [
          "Nextbike GmbH"
         ],
         "href": "/v2/networks/wupsi",
         "id": "wupsi",
         "location": {
          "city": "Leverkusen",
          "country": "DE",
          "latitude": 51.0732,
          "longitude": 7.00814
         },
         "name": "wupsiRad Leverkusen"
        },
        {
         "company": [
          "Nextbike GmbH"
         ],
         "href": "/v2/networks/lovesharing-canary-islands-gran-canaria",
         "id": "lovesharing-canary-islands-gran-canaria",
         "location": {
          "city": "Gran Canaria",
          "country": "ES",
          "latitude": 27.8154,
          "longitude": -15.5182
         },
         "name": "Lovesharing (Canary Islands)"
        },
        {
         "company": [
          "Nextbike GmbH"
         ],
         "href": "/v2/networks/lovesharing-canary-islands-lanzarote",
         "id": "lovesharing-canary-islands-lanzarote",
         "location": {
          "city": "Lanzarote",
          "country": "ES",
          "latitude": 29.0491,
          "longitude": -13.5729
         },
         "name": "Lovesharing (Canary Islands)"
        },
        {
         "company": [
          "Nextbike GmbH"
         ],
         "href": "/v2/networks/lovesharing-canary-islands-fuerteventura",
         "id": "lovesharing-canary-islands-fuerteventura",
         "location": {
          "city": "Fuerteventura",
          "country": "ES",
          "latitude": 28.3584,
          "longitude": -14.064
         },
         "name": "Lovesharing (Canary Islands)"
        },
        {
         "company": [
          "VAG Verkehrs-Aktiengesellschaft"
         ],
         "href": "/v2/networks/vagrad",
         "id": "vagrad",
         "location": {
          "city": "Nürnberg",
          "country": "DE",
          "latitude": 49.4487,
          "longitude": 11.0794
         },
         "name": "VAG_Rad"
        },
        {
         "company": [
          "Nextbike GmbH"
         ],
         "href": "/v2/networks/grad-split",
         "id": "grad-split",
         "location": {
          "city": "Split",
          "country": "HR",
          "latitude": 43.5162,
          "longitude": 16.4637
         },
         "name": "Grad Split (Croatia)"
        },
        {
         "company": [
          "Nextbike GmbH"
         ],
         "href": "/v2/networks/grad-split-solin",
         "id": "grad-split-solin",
         "location": {
          "city": "Solin",
          "country": "HR",
          "latitude": 43.5441,
          "longitude": 16.4833
         },
         "name": "Grad Split (Croatia)"
        },
        {
         "company": [
          "Nextbike GmbH"
         ],
         "href": "/v2/networks/grad-split-opcina-klis",
         "id": "grad-split-opcina-klis",
         "location": {
          "city": "Općina Klis",
          "country": "HR",
          "latitude": 43.5605,
          "longitude": 16.5269
         },
         "name": "Grad Split (Croatia)"
        },
        {
         "company": [
          "Nextbike GmbH"
         ],
         "href": "/v2/networks/grad-split-opcina-hrvace",
         "id": "grad-split-opcina-hrvace",
         "location": {
          "city": "Općina Hrvace",
          "country": "HR",
          "latitude": 43.7553,
          "longitude": 16.6197
         },
         "name": "Grad Split (Croatia)"
        },
        {
         "company": [
          "Nextbike GmbH"
         ],
         "href": "/v2/networks/grad-split-opcina-otok-dalmatinski",
         "id": "grad-split-opcina-otok-dalmatinski",
         "location": {
          "city": "Općina Otok Dalmatinski",
          "country": "HR",
          "latitude": 43.6889,
          "longitude": 16.7361
         },
         "name": "Grad Split (Croatia)"
        },
        {
         "company": [
          "Nextbike GmbH"
         ],
         "href": "/v2/networks/grad-split-sinj",
         "id": "grad-split-sinj",
         "location": {
          "city": "Sinj",
          "country": "HR",
          "latitude": 43.7031,
          "longitude": 16.6364
         },
         "name": "Grad Split (Croatia)"
        },
        {
         "company": [
          "Nextbike GmbH"
         ],
         "href": "/v2/networks/grad-split-hvar",
         "id": "grad-split-hvar",
         "location": {
          "city": "Hvar",
          "country": "HR",
          "latitude": 43.1882,
          "longitude": 16.6295
         },
         "name": "Grad Split (Croatia)"
        },
        {
         "company": [
          "Nextbike GmbH"
         ],
         "href": "/v2/networks/grad-split-podstrana",
         "id": "grad-split-podstrana",
         "location": {
          "city": "Podstrana",
          "country": "HR",
          "latitude": 43.4934,
          "longitude": 16.5598
         },
         "name": "Grad Split (Croatia)"
        },
        {
         "company": [
          "Nextbike GmbH"
         ],
         "href": "/v2/networks/grad-split-trogir",
         "id": "grad-split-trogir",
         "location": {
          "city": "Trogir",
          "country": "HR",
          "latitude": 43.5234,
          "longitude": 16.2476
         },
         "name": "Grad Split (Croatia)"
        },
        {
         "company": [
          "Nextbike GmbH"
         ],
         "href": "/v2/networks/nextbike-ostrava",
         "id": "nextbike-ostrava",
         "location": {
          "city": "Ostrava",
          "country": "CZ",
          "latitude": 49.8344,
          "longitude": 18.2823
         },
         "name": "nextbike Ostrava"
        },
        {
         "company": [
          "Nextbike GmbH"
         ],
         "href": "/v2/networks/nextbike-ostrava-hlucin",
         "id": "nextbike-ostrava-hlucin",
         "location": {
          "city": "Hlučín",
          "country": "CZ",
          "latitude": 49.898,
          "longitude": 18.1923
         },
         "name": "nextbike Ostrava"
        },
        {
         "company": [
          "Nextbike GmbH"
         ],
         "href": "/v2/networks/nextbike-ostrava-vresina",
         "id": "nextbike-ostrava-vresina",
         "location": {
          "city": "Vřesina",
          "country": "CZ",
          "latitude": 49.825,
          "longitude": 18.1206
         },
         "name": "nextbike Ostrava"
        },
        {
         "company": [
          "Nextbike GmbH"
         ],
         "href": "/v2/networks/ski-rower-miejski-lubon",
         "id": "ski-rower-miejski-lubon",
         "location": {
          "city": "Luboń",
          "country": "PL",
          "latitude": 52.3461,
          "longitude": 16.8765
         },
         "name": "Luboński Rower Miejski Poland"
        },
        {
         "company": [
          "Nextbike GmbH"
         ],
         "href": "/v2/networks/ibizi-ibiza-city",
         "id": "ibizi-ibiza-city",
         "location": {
          "city": "Ibiza-City",
          "country": "ES",
          "latitude": 38.9066,
          "longitude": 1.42046
         },
         "name": "ibizi"
        },
        {
         "company": [
          "Nextbike GmbH"
         ],
         "href": "/v2/networks/sprintrad",
         "id": "sprintrad",
         "location": {
          "city": "Hannover",
          "country": "DE",
          "latitude": 52.3721,
          "longitude": 9.73569
         },
         "name": "sprintRAD"
        },
        {
         "company": [
          "Nextbike GmbH"
         ],
         "href": "/v2/networks/komornicki-system-rowerowy-komorniki",
         "id": "komornicki-system-rowerowy-komorniki",
         "location": {
          "city": "Komorniki",
          "country": "PL",
          "latitude": 52.3347,
          "longitude": 16.8094
         },
         "name": "Komornicki System Rowerowy Poland"
        },
        {
         "company": [
          "Nextbike GmbH"
         ],
         "href": "/v2/networks/nextbike-havirov",
         "id": "nextbike-havirov",
         "location": {
          "city": "Havířov",
          "country": "CZ",
          "latitude": 49.7799,
          "longitude": 18.4328
         },
         "name": "nextbike Havířov"
        },
        {
         "company": [
          "Nextbike GmbH"
         ],
         "href": "/v2/networks/nextbike-berounsko",
         "id": "nextbike-berounsko",
         "location": {
          "city": "Berounsko",
          "country": "CZ",
          "latitude": 49.9616,
          "longitude": 14.064
         },
         "name": "nextbike Berounsko"
        },
        {
         "company": [
          "Nextbike GmbH"
         ],
         "href": "/v2/networks/ready4green-graben",
         "id": "ready4green-graben",
         "location": {
          "city": "Graben",
          "country": "DE",
          "latitude": 51.1242,
          "longitude": 10.8984
         },
         "name": "Graben - ready4green"
        },
        {
         "company": [
          "Nextbike GmbH"
         ],
         "href": "/v2/networks/oleski-rower-miejski-olesno",
         "id": "oleski-rower-miejski-olesno",
         "location": {
          "city": "Olesno",
          "country": "PL",
          "latitude": 50.8773,
          "longitude": 18.4212
         },
         "name": "Oleski Rower Miejski Poland"
        },
        {
         "company": [
          "Nextbike GmbH"
         ],
         "href": "/v2/networks/styr-staell-goeteborg",
         "id": "styr-staell-goeteborg",
         "location": {
          "city": "Göteborg",
          "country": "SE",
          "latitude": 57.6902,
          "longitude": 11.9881
         },
         "name": "Styr & Ställ (Sweden, Göteborg)"
        },
        {
         "company": [
          "Nextbike GmbH"
         ],
         "href": "/v2/networks/nibelungen-bike-braunschweig",
         "id": "nibelungen-bike-braunschweig",
         "location": {
          "city": "Braunschweig",
          "country": "DE",
          "latitude": 52.2597,
          "longitude": 10.5307
         },
         "name": "Nibelungen-Bike"
        },
        {
         "company": [
          "Nextbike GmbH"
         ],
         "href": "/v2/networks/nextbike-brno",
         "id": "nextbike-brno",
         "location": {
          "city": "Brno",
          "country": "CZ",
          "latitude": 49.1911,
          "longitude": 16.6148
         },
         "name": "nextbike Brno"
        },
        {
         "company": [
          "Nextbike GmbH"
         ],
         "href": "/v2/networks/nextbike-brno-kurim",
         "id": "nextbike-brno-kurim",
         "location": {
          "city": "Kuřim",
          "country": "CZ",
          "latitude": 49.2994,
          "longitude": 16.5368
         },
         "name": "nextbike Brno"
        },
        {
         "company": [
          "Nextbike GmbH"
         ],
         "href": "/v2/networks/nextbike-praha",
         "id": "nextbike-praha",
         "location": {
          "city": "Praha",
          "country": "CZ",
          "latitude": 50.0592,
          "longitude": 14.5761
         },
         "name": "nextbike Praha"
        },
        {
         "company": [
          "Nextbike GmbH"
         ],
         "href": "/v2/networks/nextbike-praha-ricany",
         "id": "nextbike-praha-ricany",
         "location": {
          "city": "Říčany",
          "country": "CZ",
          "latitude": 49.9976,
          "longitude": 14.6685
         },
         "name": "nextbike Praha"
        },
        {
         "company": [
          "Nextbike GmbH"
         ],
         "href": "/v2/networks/nextbike-olomouc",
         "id": "nextbike-olomouc",
         "location": {
          "city": "Olomouc",
          "country": "CZ",
          "latitude": 49.5929,
          "longitude": 17.2459
         },
         "name": "nextbike Olomouc"
        },
        {
         "company": [
          "Nextbike GmbH"
         ],
         "href": "/v2/networks/nextbike-kladno",
         "id": "nextbike-kladno",
         "location": {
          "city": "Kladno",
          "country": "CZ",
          "latitude": 50.1435,
          "longitude": 14.1082
         },
         "name": "nextbike Kladno"
        },
        {
         "company": [
          "Nextbike GmbH"
         ],
         "href": "/v2/networks/nextbike-opava",
         "id": "nextbike-opava",
         "location": {
          "city": "Opava",
          "country": "CZ",
          "latitude": 49.9289,
          "longitude": 18.2634
         },
         "name": "nextbike Opava"
        },
        {
         "company": [
          "Nextbike GmbH"
         ],
         "href": "/v2/networks/nextbike-bielefeld",
         "id": "nextbike-bielefeld",
         "location": {
          "city": "Bielefeld",
          "country": "DE",
          "latitude": 52.0257,
          "longitude": 8.53286
         },
         "name": "meinSiggi"
        },
        {
         "company": [
          "Nextbike GmbH"
         ],
         "href": "/v2/networks/yoy-san-luis-potosi",
         "id": "yoy-san-luis-potosi",
         "location": {
          "city": "San Luis Potosi",
          "country": "MX",
          "latitude": 22.438,
          "longitude": -100.514
         },
         "name": "YOY - San Luis Potosi"
        },
        {
         "company": [
          "Nextbike GmbH"
         ],
         "href": "/v2/networks/yoy-san-luis-potosi-cancun",
         "id": "yoy-san-luis-potosi-cancun",
         "location": {
          "city": "Cancún",
          "country": "MX",
          "latitude": 21.1675,
          "longitude": -86.8498
         },
         "name": "YOY - San Luis Potosi"
        },
        {
         "company": [
          "Nextbike GmbH"
         ],
         "href": "/v2/networks/bergisches-e-bike",
         "id": "bergisches-e-bike",
         "location": {
          "city": "Bergisches e-Bike",
          "country": "DE",
          "latitude": 51.0192,
          "longitude": 7.18025
         },
         "name": "Bergisches e-Bike"
        },
        {
         "company": [
          "Nextbike GmbH"
         ],
         "href": "/v2/networks/nextbike-pardubice",
         "id": "nextbike-pardubice",
         "location": {
          "city": "Pardubice",
          "country": "CZ",
          "latitude": 50.0343,
          "longitude": 15.7812
         },
         "name": "nextbike Pardubice"
        },
        {
         "company": [
          "Nextbike GmbH"
         ],
         "href": "/v2/networks/nextbike-hradec-kralove",
         "id": "nextbike-hradec-kralove",
         "location": {
          "city": "Hradec Králové",
          "country": "CZ",
          "latitude": 50.2079,
          "longitude": 15.8334
         },
         "name": "nextbike Hradec Králové"
        },
        {
         "company": [
          "Nextbike GmbH"
         ],
         "href": "/v2/networks/nextbike-mladoboleslavsko-mlada-boleslav",
         "id": "nextbike-mladoboleslavsko-mlada-boleslav",
         "location": {
          "city": "Mladá Boleslav",
          "country": "CZ",
          "latitude": 50.4278,
          "longitude": 14.8999
         },
         "name": "nextbike Mladoboleslavsko"
        },
        {
         "company": [
          "Nextbike GmbH"
         ],
         "href": "/v2/networks/nextbike-mladoboleslavsko-mnichovo-hradiste",
         "id": "nextbike-mladoboleslavsko-mnichovo-hradiste",
         "location": {
          "city": "Mnichovo Hradiště",
          "country": "CZ",
          "latitude": 50.5218,
          "longitude": 14.9741
         },
         "name": "nextbike Mladoboleslavsko"
        },
        {
         "company": [
          "Nextbike GmbH"
         ],
         "href": "/v2/networks/oeynrad-bad-oeynhausen",
         "id": "oeynrad-bad-oeynhausen",
         "location": {
          "city": "Bad Oeynhausen",
          "country": "DE",
          "latitude": 52.2051,
          "longitude": 8.80074
         },
         "name": "Oeynrad"
        },
        {
         "company": [
          "Nextbike GmbH"
         ],
         "href": "/v2/networks/rsvg-bike",
         "id": "rsvg-bike",
         "location": {
          "city": "RSVG",
          "country": "DE",
          "latitude": 50.7669,
          "longitude": 7.37457
         },
         "name": "RSVG-Bike"
        },
        {
         "company": [
          "Nextbike GmbH"
         ],
         "href": "/v2/networks/citybikelinz",
         "id": "citybikelinz",
         "location": {
          "city": "Linz",
          "country": "AT",
          "latitude": 48.3003,
          "longitude": 14.2843
         },
         "name": "city bike Linz"
        },
        {
         "company": [
          "Nextbike GmbH"
         ],
         "href": "/v2/networks/velopark-drobeta",
         "id": "velopark-drobeta",
         "location": {
          "city": "Drobeta",
          "country": "RO",
          "latitude": 44.6326,
          "longitude": 22.6564
         },
         "name": "Drobeta Velopark"
        },
        {
         "company": [
          "Nextbike GmbH"
         ],
         "href": "/v2/networks/nomago-gorica",
         "id": "nomago-gorica",
         "location": {
          "city": "Nova Gorica",
          "country": "SI",
          "latitude": 45.9576,
          "longitude": 13.6406
         },
         "name": "Nomago Bikes - GO2GO"
        },
        {
         "company": [
          "Nextbike GmbH"
         ],
         "href": "/v2/networks/saturn",
         "id": "saturn",
         "location": {
          "city": "Saturn",
          "country": "RO",
          "latitude": 43.82,
          "longitude": 28.7445
         },
         "name": "Saturn"
        },
        {
         "company": [
          "Nextbike GmbH"
         ],
         "href": "/v2/networks/nextbike-frydek-mistek",
         "id": "nextbike-frydek-mistek",
         "location": {
          "city": "Frýdek-Místek",
          "country": "CZ",
          "latitude": 49.6832,
          "longitude": 18.3457
         },
         "name": "nextbike Frýdek-Místek"
        },
        {
         "company": [
          "Nextbike GmbH"
         ],
         "href": "/v2/networks/nextbike-uherske-hradiste",
         "id": "nextbike-uherske-hradiste",
         "location": {
          "city": "Uherské Hradiště",
          "country": "CZ",
          "latitude": 49.0678,
          "longitude": 17.4665
         },
         "name": "nextbike Uherské Hradiště"
        },
        {
         "company": [
          "Nextbike GmbH"
         ],
         "href": "/v2/networks/nextbike-zlin",
         "id": "nextbike-zlin",
         "location": {
          "city": "Zlín",
          "country": "CZ",
          "latitude": 49.238,
          "longitude": 17.6788
         },
         "name": "nextbike Zlín"
        },
        {
         "company": [
          "Nextbike GmbH"
         ],
         "href": "/v2/networks/nextbike-krnov",
         "id": "nextbike-krnov",
         "location": {
          "city": "Krnov",
          "country": "CZ",
          "latitude": 50.0703,
          "longitude": 17.8837
         },
         "name": "nextbike Krnov"
        },
        {
         "company": [
          "Nextbike GmbH"
         ],
         "href": "/v2/networks/eifel",
         "id": "eifel",
         "location": {
          "city": "Eifel e-Bike",
          "country": "DE",
          "latitude": 50.5771,
          "longitude": 6.64673
         },
         "name": "Eifel e-Bike"
        },
        {
         "company": [
          "Nextbike GmbH"
         ],
         "href": "/v2/networks/nextbike-rychnovsko",
         "id": "nextbike-rychnovsko",
         "location": {
          "city": "Rychnovsko",
          "country": "CZ",
          "latitude": 50.1668,
          "longitude": 16.2828
         },
         "name": "nextbike Rychnovsko"
        },
        {
         "company": [
          "Nextbike GmbH"
         ],
         "href": "/v2/networks/nextbike-pisek",
         "id": "nextbike-pisek",
         "location": {
          "city": "Písek",
          "country": "CZ",
          "latitude": 49.3051,
          "longitude": 14.1463
         },
         "name": "nextbike Písek"
        },
        {
         "company": [
          "Nextbike GmbH"
         ],
         "href": "/v2/networks/nextbike-jihlava",
         "id": "nextbike-jihlava",
         "location": {
          "city": "Jihlava",
          "country": "CZ",
          "latitude": 49.4078,
          "longitude": 15.6061
         },
         "name": "nextbike Jihlava"
        },
        {
         "company": [
          "Nextbike GmbH"
         ],
         "href": "/v2/networks/nomago-zanaprej",
         "id": "nomago-zanaprej",
         "location": {
          "city": "Zagorje ob Savi",
          "country": "SI",
          "latitude": 46.1392,
          "longitude": 14.9785
         },
         "name": "Nomago Bikes - ZANAPREJ"
        },
        {
         "company": [
          "Nextbike GmbH"
         ],
         "href": "/v2/networks/rower-powiatowy-sokolow-podlaski",
         "id": "rower-powiatowy-sokolow-podlaski",
         "location": {
          "city": "Sokołów Podlaski",
          "country": "PL",
          "latitude": 52.4082,
          "longitude": 22.2525
         },
         "name": "Rower Powiatowy Sokołów Podlaski"
        },
        {
         "company": [
          "Nextbike GmbH"
         ],
         "href": "/v2/networks/nextbike-bergamo",
         "id": "nextbike-bergamo",
         "location": {
          "city": "Bergamo",
          "country": "IT",
          "latitude": 45.6986,
          "longitude": 9.67567
         },
         "name": "nextbike Bergamo"
        },
        {
         "company": [
          "Nextbike GmbH"
         ],
         "href": "/v2/networks/emobi-osijek",
         "id": "emobi-osijek",
         "location": {
          "city": "Osijek",
          "country": "HR",
          "latitude": 45.554,
          "longitude": 18.6943
         },
         "name": "eMobi (Croatia)"
        },
        {
         "company": [
          "Nextbike GmbH"
         ],
         "href": "/v2/networks/arval-scandicci",
         "id": "arval-scandicci",
         "location": {
          "city": "Scandicci",
          "country": "IT",
          "latitude": 43.7701,
          "longitude": 11.1592
         },
         "name": "ARVAL"
        },
        {
         "company": [
          "Bremer Tageszeitungen AG"
         ],
         "href": "/v2/networks/nextbike-oldenburg",
         "id": "nextbike-oldenburg",
         "location": {
          "city": "Oldenburg",
          "country": "DE",
          "latitude": 53.1448,
          "longitude": 8.22485
         },
         "name": "OLi-Bike"
        },
        {
         "company": [
          "Nextbike GmbH"
         ],
         "href": "/v2/networks/nextbike-urdaibai",
         "id": "nextbike-urdaibai",
         "location": {
          "city": "Urdaibai",
          "country": "ES",
          "latitude": 43.395,
          "longitude": -2.68815
         },
         "name": "BBK Klimabizi"
        },
        {
         "company": [
          "Nextbike GmbH"
         ],
         "href": "/v2/networks/mvrad-hq",
         "id": "mvrad-hq",
         "location": {
          "city": "MV-Rad",
          "country": "DE",
          "latitude": 53.6707,
          "longitude": 12.4255
         },
         "name": "MV-Rad"
        },
        {
         "company": [
          "Nextbike GmbH"
         ],
         "href": "/v2/networks/mvrad-anklam",
         "id": "mvrad-anklam",
         "location": {
          "city": "Anklam",
          "country": "DE",
          "latitude": 53.8614,
          "longitude": 13.6907
         },
         "name": "MV-Rad"
        },
        {
         "company": [
          "Nextbike GmbH"
         ],
         "href": "/v2/networks/greifswald",
         "id": "greifswald",
         "location": {
          "city": "Greifswald (StadtRad)",
          "country": "DE",
          "latitude": 54.0961,
          "longitude": 13.3787
         },
         "name": "StadtRad Greifswald"
        },
        {
         "company": [
          "Nextbike GmbH"
         ],
         "href": "/v2/networks/nextbike-dvur-kralove",
         "id": "nextbike-dvur-kralove",
         "location": {
          "city": "Dvůr Králové",
          "country": "CZ",
          "latitude": 50.4278,
          "longitude": 15.8162
         },
         "name": "nextbike Dvůr Králové"
        },
        {
         "company": [
          "Nextbike GmbH"
         ],
         "href": "/v2/networks/vvtregiorad-kufstein",
         "id": "vvtregiorad-kufstein",
         "location": {
          "city": "Kufstein",
          "country": "AT",
          "latitude": 47.583,
          "longitude": 12.1692
         },
         "name": "VVT REGIORAD Tirol"
        },
        {
         "company": [
          "Nextbike GmbH"
         ],
         "href": "/v2/networks/vvtregiorad-ellmau",
         "id": "vvtregiorad-ellmau",
         "location": {
          "city": "Ellmau",
          "country": "AT",
          "latitude": 47.5134,
          "longitude": 12.3025
         },
         "name": "VVT REGIORAD Tirol"
        },
        {
         "company": [
          "Nextbike GmbH"
         ],
         "href": "/v2/networks/ski-rower-chelm",
         "id": "ski-rower-chelm",
         "location": {
          "city": "Chełm",
          "country": "PL",
          "latitude": 51.1318,
          "longitude": 23.4755
         },
         "name": "Chełmski Rower"
        },
        {
         "company": [
          "Nextbike GmbH"
         ],
         "href": "/v2/networks/nextbike-vrchlabi",
         "id": "nextbike-vrchlabi",
         "location": {
          "city": "Vrchlabí",
          "country": "CZ",
          "latitude": 50.6222,
          "longitude": 15.6126
         },
         "name": "nextbike Vrchlabí"
        },
        {
         "company": [
          "Nextbike GmbH"
         ],
         "href": "/v2/networks/winsenrad",
         "id": "winsenrad",
         "location": {
          "city": "Winsen (Luhe)",
          "country": "DE",
          "latitude": 53.3547,
          "longitude": 10.2067
         },
         "name": "WinsenRad"
        },
        {
         "company": [
          "Nextbike GmbH"
         ],
         "href": "/v2/networks/loker-lomza",
         "id": "loker-lomza",
         "location": {
          "city": "Łomża",
          "country": "PL",
          "latitude": 53.1649,
          "longitude": 22.0729
         },
         "name": "ŁoKeR - Łomża"
        },
        {
         "company": [
          "Nextbike GmbH"
         ],
         "href": "/v2/networks/nomago-kranjska-gora",
         "id": "nomago-kranjska-gora",
         "location": {
          "city": "Kranjska Gora",
          "country": "SI",
          "latitude": 46.4846,
          "longitude": 13.7836
         },
         "name": "Nomago Bikes - KRANJSKA GORA"
        },
        {
         "company": [
          "Nextbike GmbH"
         ],
         "href": "/v2/networks/nomago-portoroz",
         "id": "nomago-portoroz",
         "location": {
          "city": "Portorož",
          "country": "SI",
          "latitude": 45.5054,
          "longitude": 13.5979
         },
         "name": "Nomago Bikes - PORTOROZ"
        },
        {
         "company": [
          "Nextbike GmbH"
         ],
         "href": "/v2/networks/vrn-landau",
         "id": "vrn-landau",
         "location": {
          "city": "Landau in der Pfalz",
          "country": "DE",
          "latitude": 49.1975,
          "longitude": 8.11693
         },
         "name": "VRN"
        },
        {
         "company": null,
         "gbfs_href": "https://nitro.openvelo.org/aachen/velocity/v2/gbfs.json",
         "href": "/v2/networks/velocity-aachen",
         "id": "velocity-aachen",
         "location": {
          "city": "Aachen",
          "country": "DE",
          "latitude": 50.776667,
          "longitude": 6.083611
         },
         "name": "Velocity"
        },
        {
         "company": null,
         "gbfs_href": "https://quebec.publicbikesystem.net/customer/gbfs/v2/gbfs.json",
         "href": "/v2/networks/avelo-quebec",
         "id": "avelo-quebec",
         "location": {
          "city": "Québec",
          "country": "CA",
          "latitude": 46.81305,
          "longitude": -71.2168
         },
         "name": "àVélo"
        },
        {
         "company": null,
         "gbfs_href": "https://saguenay.publicbikesystem.net/customer/gbfs/v2/gbfs.json",
         "href": "/v2/networks/acces-velo-saguenay",
         "id": "acces-velo-saguenay",
         "location": {
          "city": "Saguenay",
          "country": "CA",
          "latitude": 48.433333,
          "longitude": -71.083333
         },
         "name": "Accès Vélo"
        },
        {
         "company": [
          "Vilvolt CA Épinal",
          "Communauté d'agglomération Épinal",
          "Fifteen SAS"
         ],
         "href": "/v2/networks/vilvolt",
         "id": "vilvolt",
         "location": {
          "city": "Epinal",
          "country": "FR",
          "latitude": 48.1833,
          "longitude": 6.4508
         },
         "name": "Vilvolt"
        },
        {
         "company": [
          "VeloBaie",
          "Fifteen SAS"
         ],
         "gbfs_href": "",
         "href": "/v2/networks/velobaie",
         "id": "velobaie",
         "location": {
          "city": "Saint-Brieuc",
          "country": "FR",
          "latitude": 48.514,
          "longitude": -2.765
         },
         "name": "VeloBaie"
        },
        {
         "company": [
          "Donkey Republic"
         ],
         "gbfs_href": "https://stables.donkey.bike/api/public/gbfs/donkey_gh/gbfs",
         "href": "/v2/networks/donkey-gh",
         "id": "donkey-gh",
         "location": {
          "city": "Gent",
          "country": "BE",
          "latitude": 51.05,
          "longitude": 3.7303
         },
         "name": "Donkey Republic - Gent"
        },
        {
         "company": [
          "JCDecaux"
         ],
         "href": "/v2/networks/mbajk",
         "id": "mbajk",
         "license": {
          "name": "Open Licence",
          "url": "https://developer.jcdecaux.com/#/opendata/licence"
         },
         "location": {
          "city": "Maribor",
          "country": "SI",
          "latitude": 46.5547,
          "longitude": 15.6459
         },
         "name": "MBajk",
         "source": "https://developer.jcdecaux.com"
        }
       ]
      },
      "text/plain": [
       "<IPython.core.display.JSON object>"
      ]
     },
     "execution_count": 2,
     "metadata": {
      "application/json": {
       "expanded": false,
       "root": "root"
      }
     },
     "output_type": "execute_result"
    }
   ],
   "source": [
    "# get network data\n",
    "city_bike_networks = requests.get(\"http://api.citybik.es/v2/networks\").json()\n",
    "\n",
    "# view json in nice format\n",
    "JSON(city_bike_networks)"
   ]
  },
  {
   "cell_type": "code",
   "execution_count": 3,
   "id": "6bb8c69d-f37a-4ebe-8608-43fef58abd0e",
   "metadata": {
    "tags": []
   },
   "outputs": [
    {
     "data": {
      "text/plain": [
       "{'company': ['ЗАО «СитиБайк»'],\n",
       " 'href': '/v2/networks/velobike-moscow',\n",
       " 'id': 'velobike-moscow',\n",
       " 'location': {'city': 'Moscow',\n",
       "  'country': 'RU',\n",
       "  'latitude': 55.75,\n",
       "  'longitude': 37.616667},\n",
       " 'name': 'Velobike'}"
      ]
     },
     "execution_count": 3,
     "metadata": {},
     "output_type": "execute_result"
    }
   ],
   "source": [
    "# city_bike_networks['networks']\n",
    "city_bike_networks['networks'][0]\n",
    "# city_bike_networks['networks'][0]['id']\n",
    "# city_bike_networks['networks'][0]['location']['city']"
   ]
  },
  {
   "cell_type": "markdown",
   "id": "d04ab83c-7439-4a50-bd0d-c4bff0c35c52",
   "metadata": {},
   "source": [
    "You may want to search the output for a certain city and get the network id(s). You can then access more info (e.g. stations) about a certain network id using the other endpoint."
   ]
  },
  {
   "cell_type": "code",
   "execution_count": 4,
   "id": "c781f928-8d3a-498f-8ec4-916a6b552c12",
   "metadata": {},
   "outputs": [
    {
     "data": {
      "application/json": {
       "network": {
        "company": [
         "ЗАО «СитиБайк»"
        ],
        "href": "/v2/networks/velobike-moscow",
        "id": "velobike-moscow",
        "location": {
         "city": "Moscow",
         "country": "RU",
         "latitude": 55.75,
         "longitude": 37.616667
        },
        "name": "Velobike",
        "stations": [
         {
          "empty_slots": 12,
          "extra": {
           "address": "ст. м. Кропоткинская (выход к Гоголевскому бульвару)",
           "ebikes": 0,
           "electric_free": 0,
           "electric_slots": 0,
           "normal_bikes": 0,
           "normal_free": 12,
           "normal_slots": 12,
           "slots": 12,
           "uid": "0001"
          },
          "free_bikes": 0,
          "id": "c8a5761ea95e927808b2f37fd65a00f6",
          "latitude": 55.7449006,
          "longitude": 37.6020183,
          "name": "ст. м. Кропоткинская (выход к Гоголевскому бульвару)",
          "timestamp": "2023-02-20T14:49:21.917000Z"
         },
         {
          "empty_slots": 12,
          "extra": {
           "address": "ул. Профсоюзная, д.109, Вс.1 (ст. м. Коньково, выход №10)",
           "ebikes": 0,
           "electric_free": 0,
           "electric_slots": 0,
           "normal_bikes": 0,
           "normal_free": 12,
           "normal_slots": 12,
           "slots": 12,
           "uid": "0387"
          },
          "free_bikes": 0,
          "id": "ac022f0470de9722cc62e06ade73b0a6",
          "latitude": 55.6337498,
          "longitude": 37.5205529,
          "name": "ул. Профсоюзная, д.109, Вс.1 (ст. м. Коньково, выход №10)",
          "timestamp": "2023-02-20T14:49:21.933000Z"
         },
         {
          "empty_slots": 12,
          "extra": {
           "address": "ул. Новолесная, д.1/49",
           "ebikes": 0,
           "electric_free": 0,
           "electric_slots": 0,
           "normal_bikes": 0,
           "normal_free": 12,
           "normal_slots": 12,
           "slots": 12,
           "uid": "0405"
          },
          "free_bikes": 0,
          "id": "17ffd07cf6b96ecd32b4980353290399",
          "latitude": 55.7812396,
          "longitude": 37.59239,
          "name": "ул. Новолесная, д.1/49",
          "timestamp": "2023-02-20T14:49:21.933000Z"
         },
         {
          "empty_slots": 18,
          "extra": {
           "address": "ул. Селезнёвская, д.29, стр.1 (ст. м. Достоевская)",
           "ebikes": 0,
           "electric_free": 0,
           "electric_slots": 0,
           "normal_bikes": 0,
           "normal_free": 18,
           "normal_slots": 18,
           "slots": 18,
           "uid": "0411"
          },
          "free_bikes": 0,
          "id": "2a711f9eb3228be91abce39eca68e118",
          "latitude": 55.7817849,
          "longitude": 37.6144726,
          "name": "ул. Селезнёвская, д.29, стр.1 (ст. м. Достоевская)",
          "timestamp": "2023-02-20T14:49:21.934000Z"
         },
         {
          "empty_slots": 12,
          "extra": {
           "address": "ул. Новосущёвская, д.22, стр.8",
           "ebikes": 0,
           "electric_free": 0,
           "electric_slots": 0,
           "normal_bikes": 0,
           "normal_free": 12,
           "normal_slots": 12,
           "slots": 12,
           "uid": "0413"
          },
          "free_bikes": 0,
          "id": "70df0b4cae5a2057e8e78cccb4189832",
          "latitude": 55.7896632,
          "longitude": 37.6044645,
          "name": "ул. Новосущёвская, д.22, стр.8",
          "timestamp": "2023-02-20T14:49:21.935000Z"
         },
         {
          "empty_slots": 12,
          "extra": {
           "address": "ул. Образцова, д.19А",
           "ebikes": 0,
           "electric_free": 0,
           "electric_slots": 0,
           "normal_bikes": 0,
           "normal_free": 12,
           "normal_slots": 12,
           "slots": 12,
           "uid": "0414"
          },
          "free_bikes": 0,
          "id": "95a4f57535b7b37812ed7a87792eb310",
          "latitude": 55.78921,
          "longitude": 37.609836,
          "name": "ул. Образцова, д.19А",
          "timestamp": "2023-02-20T14:49:21.937000Z"
         },
         {
          "empty_slots": 12,
          "extra": {
           "address": "Гоголевский б-р (напротив д.33)",
           "ebikes": 0,
           "electric_free": 0,
           "electric_slots": 0,
           "normal_bikes": 0,
           "normal_free": 12,
           "normal_slots": 12,
           "slots": 12,
           "uid": "0003"
          },
          "free_bikes": 0,
          "id": "9e25bb92e399fe2965c34299f2e02e8f",
          "latitude": 55.7509180556,
          "longitude": 37.6005927778,
          "name": "Гоголевский б-р (напротив д.33)",
          "timestamp": "2023-02-20T14:49:21.938000Z"
         },
         {
          "empty_slots": 30,
          "extra": {
           "address": "Газетный пер., д.6",
           "ebikes": 0,
           "electric_free": 0,
           "electric_slots": 0,
           "normal_bikes": 0,
           "normal_free": 30,
           "normal_slots": 30,
           "slots": 30,
           "uid": "0007"
          },
          "free_bikes": 0,
          "id": "7fb1cd43ed27868c696774290d275634",
          "latitude": 55.7574181,
          "longitude": 37.6086772,
          "name": "Газетный пер., д.6",
          "timestamp": "2023-02-20T14:49:21.944000Z"
         },
         {
          "empty_slots": 14,
          "extra": {
           "address": "Тверской б-р (напротив д.17, стр.1)",
           "ebikes": 0,
           "electric_free": 0,
           "electric_slots": 0,
           "normal_bikes": 0,
           "normal_free": 14,
           "normal_slots": 14,
           "slots": 14,
           "uid": "0008"
          },
          "free_bikes": 0,
          "id": "7009f6abe6bd1fe3590573db782deb55",
          "latitude": 55.761072,
          "longitude": 37.601473,
          "name": "Тверской б-р (напротив д.17, стр.1)",
          "timestamp": "2023-02-20T14:49:21.945000Z"
         },
         {
          "empty_slots": 20,
          "extra": {
           "address": "Тверской б-р (напротив д.28)",
           "ebikes": 0,
           "electric_free": 0,
           "electric_slots": 0,
           "normal_bikes": 0,
           "normal_free": 20,
           "normal_slots": 20,
           "slots": 20,
           "uid": "0009"
          },
          "free_bikes": 0,
          "id": "73e51bd2c1897b882cb24e5fb4929658",
          "latitude": 55.7646115,
          "longitude": 37.6052356,
          "name": "Тверской б-р (напротив д.28)",
          "timestamp": "2023-02-20T14:49:21.946000Z"
         },
         {
          "empty_slots": 29,
          "extra": {
           "address": "Страстной б-р (напротив д.8А)",
           "ebikes": 0,
           "electric_free": 0,
           "electric_slots": 0,
           "normal_bikes": 0,
           "normal_free": 29,
           "normal_slots": 29,
           "slots": 29,
           "uid": "0010"
          },
          "free_bikes": 0,
          "id": "948f764260191356e566db7ae1cf8367",
          "latitude": 55.7667105556,
          "longitude": 37.6094894444,
          "name": "Страстной б-р (напротив д.8А)",
          "timestamp": "2023-02-20T14:49:21.947000Z"
         },
         {
          "empty_slots": 10,
          "extra": {
           "address": "ул. Мясницкая, д.10",
           "ebikes": 0,
           "electric_free": 0,
           "electric_slots": 0,
           "normal_bikes": 0,
           "normal_free": 10,
           "normal_slots": 10,
           "slots": 10,
           "uid": "0016"
          },
          "free_bikes": 0,
          "id": "c0aaa042aea9d5b4b9676c0370c7b63a",
          "latitude": 55.7599141,
          "longitude": 37.6316201,
          "name": "ул. Мясницкая, д.10",
          "timestamp": "2023-02-20T14:49:21.948000Z"
         },
         {
          "empty_slots": 14,
          "extra": {
           "address": "Чистопрудный б-р (напротив д.12, стр.1)",
           "ebikes": 0,
           "electric_free": 0,
           "electric_slots": 0,
           "normal_bikes": 0,
           "normal_free": 14,
           "normal_slots": 14,
           "slots": 14,
           "uid": "0018"
          },
          "free_bikes": 0,
          "id": "d6bdd8ecf20dea87139e14fb5b217216",
          "latitude": 55.760381,
          "longitude": 37.645665,
          "name": "Чистопрудный б-р (напротив д.12, стр.1)",
          "timestamp": "2023-02-20T14:49:21.948000Z"
         },
         {
          "empty_slots": 8,
          "extra": {
           "address": "Покровский б-р (напротив д.18, стр.18)",
           "ebikes": 0,
           "electric_free": 0,
           "electric_slots": 0,
           "normal_bikes": 0,
           "normal_free": 8,
           "normal_slots": 8,
           "slots": 8,
           "uid": "0021"
          },
          "free_bikes": 0,
          "id": "3de3b1602789dfdb97a6ec77def0d6d1",
          "latitude": 55.7533283333,
          "longitude": 37.6473502778,
          "name": "Покровский б-р (напротив д.18, стр.18)",
          "timestamp": "2023-02-20T14:49:21.949000Z"
         },
         {
          "empty_slots": 14,
          "extra": {
           "address": "Театральный пр., д.5, стр.1 (ст. м. Лубянка)",
           "ebikes": 0,
           "electric_free": 0,
           "electric_slots": 0,
           "normal_bikes": 0,
           "normal_free": 14,
           "normal_slots": 14,
           "slots": 14,
           "uid": "0013"
          },
          "free_bikes": 0,
          "id": "dfff0ae310a99910ab3b6d1cce74e8df",
          "latitude": 55.7598405,
          "longitude": 37.6257601,
          "name": "Театральный пр., д.5, стр.1 (ст. м. Лубянка)",
          "timestamp": "2023-02-20T14:49:21.950000Z"
         },
         {
          "empty_slots": 16,
          "extra": {
           "address": "Фрунзенская наб. (напротив д.4)",
           "ebikes": 0,
           "electric_free": 0,
           "electric_slots": 0,
           "normal_bikes": 0,
           "normal_free": 16,
           "normal_slots": 16,
           "slots": 16,
           "uid": "0200"
          },
          "free_bikes": 0,
          "id": "743a7e1868de7d73f8da49652e7626a6",
          "latitude": 55.7335583333,
          "longitude": 37.596925,
          "name": "Фрунзенская наб. (напротив д.4)",
          "timestamp": "2023-02-20T14:49:21.951000Z"
         },
         {
          "empty_slots": 32,
          "extra": {
           "address": "Фрунзенская наб. (пересеч. с 1-ой Фрунзенской ул.)",
           "ebikes": 0,
           "electric_free": 0,
           "electric_slots": 0,
           "normal_bikes": 0,
           "normal_free": 32,
           "normal_slots": 32,
           "slots": 32,
           "uid": "0201"
          },
          "free_bikes": 0,
          "id": "2847d4610895d7ec81d91130d06afb4a",
          "latitude": 55.7257472222,
          "longitude": 37.5898638889,
          "name": "Фрунзенская наб. (пересеч. с 1-ой Фрунзенской ул.)",
          "timestamp": "2023-02-20T14:49:21.952000Z"
         },
         {
          "empty_slots": 12,
          "extra": {
           "address": "Фрунзенская наб. (пересеч. со 2-й Фрунзенской ул.)",
           "ebikes": 0,
           "electric_free": 0,
           "electric_slots": 0,
           "normal_bikes": 0,
           "normal_free": 12,
           "normal_slots": 12,
           "slots": 12,
           "uid": "0204"
          },
          "free_bikes": 0,
          "id": "e91168ee1e3709e789e2e66d0cd5c350",
          "latitude": 55.72175,
          "longitude": 37.5864,
          "name": "Фрунзенская наб. (пересеч. со 2-й Фрунзенской ул.)",
          "timestamp": "2023-02-20T14:49:21.960000Z"
         },
         {
          "empty_slots": 14,
          "extra": {
           "address": "Фрунзенская наб. (пересеч. с 3-ей Фрунзенской ул.)",
           "ebikes": 0,
           "electric_free": 0,
           "electric_slots": 0,
           "normal_bikes": 0,
           "normal_free": 14,
           "normal_slots": 14,
           "slots": 14,
           "uid": "0206"
          },
          "free_bikes": 0,
          "id": "03d344f8980c91aaaf53adf589d06bd8",
          "latitude": 55.7191972222,
          "longitude": 37.5834861111,
          "name": "Фрунзенская наб. (пересеч. с 3-ей Фрунзенской ул.)",
          "timestamp": "2023-02-20T14:49:21.965000Z"
         },
         {
          "empty_slots": 32,
          "extra": {
           "address": "Фрунзенская наб., д.54 (пересеч. с ул. Хамовнический Вал)",
           "ebikes": 0,
           "electric_free": 0,
           "electric_slots": 0,
           "normal_bikes": 0,
           "normal_free": 32,
           "normal_slots": 32,
           "slots": 32,
           "uid": "0207"
          },
          "free_bikes": 0,
          "id": "4c04301419b1bf625b879bb5dbbdde73",
          "latitude": 55.7155083333,
          "longitude": 37.5779888889,
          "name": "Фрунзенская наб., д.54 (пересеч. с ул. Хамовнический Вал)",
          "timestamp": "2023-02-20T14:49:21.966000Z"
         },
         {
          "empty_slots": 45,
          "extra": {
           "address": "Лужнецкая наб. (пересеч. с Новолужнецким пр.)",
           "ebikes": 0,
           "electric_free": 0,
           "electric_slots": 0,
           "normal_bikes": 0,
           "normal_free": 45,
           "normal_slots": 45,
           "slots": 45,
           "uid": "0210"
          },
          "free_bikes": 0,
          "id": "dbb0d09b3b123d61b9f5a2dce33b628c",
          "latitude": 55.7125583333,
          "longitude": 37.5695222222,
          "name": "Лужнецкая наб. (пересеч. с Новолужнецким пр.)",
          "timestamp": "2023-02-20T14:49:21.967000Z"
         },
         {
          "empty_slots": 51,
          "extra": {
           "address": "Зубовский б-р, д.5, стр.1 (ст. м. Парк Культуры)",
           "ebikes": 0,
           "electric_free": 24,
           "electric_slots": 24,
           "has_ebikes": true,
           "normal_bikes": 0,
           "normal_free": 27,
           "normal_slots": 27,
           "slots": 51,
           "uid": "0100"
          },
          "free_bikes": 0,
          "id": "890272c43754ed884d6863aa002d98d0",
          "latitude": 55.7351049,
          "longitude": 37.5937289,
          "name": "Зубовский б-р, д.5, стр.1 (ст. м. Парк Культуры)",
          "timestamp": "2023-02-20T14:49:21.968000Z"
         },
         {
          "empty_slots": 12,
          "extra": {
           "address": "Комсомольский пр-т (пересеч. с 1-ой Фрунзенской ул.)",
           "ebikes": 0,
           "electric_free": 0,
           "electric_slots": 0,
           "normal_bikes": 0,
           "normal_free": 12,
           "normal_slots": 12,
           "slots": 12,
           "uid": "0202"
          },
          "free_bikes": 0,
          "id": "8e64a2289bf01f652692c3a670bfaa5f",
          "latitude": 55.727509,
          "longitude": 37.583821,
          "name": "Комсомольский пр-т (пересеч. с 1-ой Фрунзенской ул.)",
          "timestamp": "2023-02-20T14:49:21.968000Z"
         },
         {
          "empty_slots": 9,
          "extra": {
           "address": "Комсомольский пр-т (пересеч. со 2-ой Фрунзенской ул.)",
           "ebikes": 0,
           "electric_free": 0,
           "electric_slots": 0,
           "normal_bikes": 0,
           "normal_free": 9,
           "normal_slots": 9,
           "slots": 9,
           "uid": "0203"
          },
          "free_bikes": 0,
          "id": "085068ce82842e0b168435e186a23e59",
          "latitude": 55.724242,
          "longitude": 37.579058,
          "name": "Комсомольский пр-т (пересеч. со 2-ой Фрунзенской ул.)",
          "timestamp": "2023-02-20T14:49:21.972000Z"
         },
         {
          "empty_slots": 12,
          "extra": {
           "address": "Комсомольский пр-т (пересеч. с 3-ей Фрунзенской ул.)",
           "ebikes": 0,
           "electric_free": 0,
           "electric_slots": 0,
           "normal_bikes": 0,
           "normal_free": 12,
           "normal_slots": 12,
           "slots": 12,
           "uid": "0205"
          },
          "free_bikes": 0,
          "id": "4dcdf969c239805c45c9321b5668ae89",
          "latitude": 55.721972,
          "longitude": 37.575858,
          "name": "Комсомольский пр-т (пересеч. с 3-ей Фрунзенской ул.)",
          "timestamp": "2023-02-20T14:49:21.975000Z"
         },
         {
          "empty_slots": 54,
          "extra": {
           "address": "ст. м. Спортивная (выход №1)",
           "ebikes": 0,
           "electric_free": 24,
           "electric_slots": 24,
           "has_ebikes": true,
           "normal_bikes": 0,
           "normal_free": 30,
           "normal_slots": 30,
           "slots": 54,
           "uid": "0209"
          },
          "free_bikes": 0,
          "id": "0656ac2e4d510ad0a421a436aa56cbf5",
          "latitude": 55.721468,
          "longitude": 37.561961,
          "name": "ст. м. Спортивная (выход №1)",
          "timestamp": "2023-02-20T14:49:21.976000Z"
         },
         {
          "empty_slots": 12,
          "extra": {
           "address": "ул. Большая Пироговская (напротив д.6/25)",
           "ebikes": 0,
           "electric_free": 0,
           "electric_slots": 0,
           "normal_bikes": 0,
           "normal_free": 12,
           "normal_slots": 12,
           "slots": 12,
           "uid": "0216"
          },
          "free_bikes": 0,
          "id": "d63eea07ad8a08c2ca219fa4b2ac2f8e",
          "latitude": 55.736464,
          "longitude": 37.581356,
          "name": "ул. Большая Пироговская (напротив д.6/25)",
          "timestamp": "2023-02-20T14:49:21.981000Z"
         },
         {
          "empty_slots": 24,
          "extra": {
           "address": "Комсомольский пр-т, д.28 (ст. м. Фрунзенская)",
           "ebikes": 0,
           "electric_free": 0,
           "electric_slots": 0,
           "normal_bikes": 0,
           "normal_free": 24,
           "normal_slots": 24,
           "slots": 24,
           "uid": "0218"
          },
          "free_bikes": 0,
          "id": "587ac1deb5ab88186ddca914872f783c",
          "latitude": 55.726481,
          "longitude": 37.580778,
          "name": "Комсомольский пр-т, д.28 (ст. м. Фрунзенская)",
          "timestamp": "2023-02-20T14:49:21.982000Z"
         },
         {
          "empty_slots": 12,
          "extra": {
           "address": "ул. Большая Пироговская, д.2, стр.4",
           "ebikes": 0,
           "electric_free": 0,
           "electric_slots": 0,
           "normal_bikes": 0,
           "normal_free": 12,
           "normal_slots": 12,
           "slots": 12,
           "uid": "0214"
          },
          "free_bikes": 0,
          "id": "2ecf6584949aea2aa44a3ed5c805820d",
          "latitude": 55.731139,
          "longitude": 37.569297,
          "name": "ул. Большая Пироговская, д.2, стр.4",
          "timestamp": "2023-02-20T14:49:21.982000Z"
         },
         {
          "empty_slots": 18,
          "extra": {
           "address": "ул. Большая Пироговская (на площади Новодевичьего Монастыря)",
           "ebikes": 0,
           "electric_free": 0,
           "electric_slots": 0,
           "normal_bikes": 0,
           "normal_free": 18,
           "normal_slots": 18,
           "slots": 18,
           "uid": "0213"
          },
          "free_bikes": 0,
          "id": "2eaa5bfa858c3c45066f7d58691fa93e",
          "latitude": 55.726908,
          "longitude": 37.559608,
          "name": "ул. Большая Пироговская (на площади Новодевичьего Монастыря)",
          "timestamp": "2023-02-20T14:49:21.988000Z"
         },
         {
          "empty_slots": 12,
          "extra": {
           "address": "Комсомольский пр-т, д.48/22 (дублёр, пересеч. с ул. Хамовнический Вал)",
           "ebikes": 0,
           "electric_free": 0,
           "electric_slots": 0,
           "normal_bikes": 0,
           "normal_free": 12,
           "normal_slots": 12,
           "slots": 12,
           "uid": "0219"
          },
          "free_bikes": 0,
          "id": "75598a11b3ecb5756d53e384b00ae6ea",
          "latitude": 55.719322,
          "longitude": 37.570481,
          "name": "Комсомольский пр-т, д.48/22 (дублёр, пересеч. с ул. Хамовнический Вал)",
          "timestamp": "2023-02-20T14:49:21.989000Z"
         },
         {
          "empty_slots": 12,
          "extra": {
           "address": "ул. Садовая-Самотечная, д.8",
           "ebikes": 0,
           "electric_free": 0,
           "electric_slots": 0,
           "normal_bikes": 0,
           "normal_free": 12,
           "normal_slots": 12,
           "slots": 12,
           "uid": "0120"
          },
          "free_bikes": 0,
          "id": "3deacfbea30367b071c7b8cc1d117440",
          "latitude": 55.773194,
          "longitude": 37.614186,
          "name": "ул. Садовая-Самотечная, д.8",
          "timestamp": "2023-02-20T14:49:21.989000Z"
         },
         {
          "empty_slots": 24,
          "extra": {
           "address": "Большая Сухаревская пл., д.2 (ст. м. Сухаревская)",
           "ebikes": 0,
           "electric_free": 0,
           "electric_slots": 0,
           "normal_bikes": 0,
           "normal_free": 24,
           "normal_slots": 24,
           "slots": 24,
           "uid": "0125"
          },
          "free_bikes": 0,
          "id": "64fc0a997a922c958e2d5c7c2df1dc90",
          "latitude": 55.772192,
          "longitude": 37.632814,
          "name": "Большая Сухаревская пл., д.2 (ст. м. Сухаревская)",
          "timestamp": "2023-02-20T14:49:21.990000Z"
         },
         {
          "empty_slots": 21,
          "extra": {
           "address": "ул. Сущёвский Вал, д.2",
           "ebikes": 0,
           "electric_free": 0,
           "electric_slots": 0,
           "normal_bikes": 0,
           "normal_free": 21,
           "normal_slots": 21,
           "slots": 21,
           "uid": "0415"
          },
          "free_bikes": 0,
          "id": "8d6054bacb3442e1d982d9353b62bc25",
          "latitude": 55.7914268,
          "longitude": 37.5905396,
          "name": "ул. Сущёвский Вал, д.2",
          "timestamp": "2023-02-20T14:49:21.991000Z"
         },
         {
          "empty_slots": 12,
          "extra": {
           "address": "Олимпийский пр-т, д.22",
           "ebikes": 0,
           "electric_free": 0,
           "electric_slots": 0,
           "normal_bikes": 0,
           "normal_free": 12,
           "normal_slots": 12,
           "slots": 12,
           "uid": "0431"
          },
          "free_bikes": 0,
          "id": "106b7d716e11492c687b693359fe024e",
          "latitude": 55.7861479,
          "longitude": 37.6225279,
          "name": "Олимпийский пр-т, д.22",
          "timestamp": "2023-02-20T14:49:21.995000Z"
         },
         {
          "empty_slots": 12,
          "extra": {
           "address": "ул. Щепкина, д.61/2, стр.22",
           "ebikes": 0,
           "electric_free": 0,
           "electric_slots": 0,
           "normal_bikes": 0,
           "normal_free": 12,
           "normal_slots": 12,
           "slots": 12,
           "uid": "0432"
          },
          "free_bikes": 0,
          "id": "3950fa260a55b54d5629ccb5ad67ec55",
          "latitude": 55.7886534,
          "longitude": 37.6290169,
          "name": "ул. Щепкина, д.61/2, стр.22",
          "timestamp": "2023-02-20T14:49:21.996000Z"
         },
         {
          "empty_slots": 24,
          "extra": {
           "address": "пр-т Мира, д.40 (рядом со ст. м. Проспект Мира (кольцевая))",
           "ebikes": 0,
           "electric_free": 0,
           "electric_slots": 0,
           "normal_bikes": 0,
           "normal_free": 24,
           "normal_slots": 24,
           "slots": 24,
           "uid": "0440"
          },
          "free_bikes": 0,
          "id": "d05942be6bdb55dc219766d84599bc8e",
          "latitude": 55.7804054,
          "longitude": 37.6334722,
          "name": "пр-т Мира, д.40 (рядом со ст. м. Проспект Мира (кольцевая))",
          "timestamp": "2023-02-20T14:49:21.997000Z"
         },
         {
          "empty_slots": 12,
          "extra": {
           "address": "пр-т Мира, д.69, стр.1",
           "ebikes": 0,
           "electric_free": 0,
           "electric_slots": 0,
           "normal_bikes": 0,
           "normal_free": 12,
           "normal_slots": 12,
           "slots": 12,
           "uid": "0442"
          },
          "free_bikes": 0,
          "id": "5d135d6c5ef96e37ce720264ff344277",
          "latitude": 55.7865412,
          "longitude": 37.6347031,
          "name": "пр-т Мира, д.69, стр.1",
          "timestamp": "2023-02-20T14:49:22.005000Z"
         },
         {
          "empty_slots": 12,
          "extra": {
           "address": "ул. Сельскохозяйственная, д.17, к.1",
           "ebikes": 0,
           "electric_free": 0,
           "electric_slots": 0,
           "normal_bikes": 0,
           "normal_free": 12,
           "normal_slots": 12,
           "slots": 12,
           "uid": "0451"
          },
          "free_bikes": 0,
          "id": "6c54e611f9dc5d467ab86c61825c66c7",
          "latitude": 55.837238,
          "longitude": 37.6365455,
          "name": "ул. Сельскохозяйственная, д.17, к.1",
          "timestamp": "2023-02-20T14:49:22.006000Z"
         },
         {
          "empty_slots": 12,
          "extra": {
           "address": "ул. Правды, д.4/19",
           "ebikes": 0,
           "electric_free": 0,
           "electric_slots": 0,
           "normal_bikes": 0,
           "normal_free": 12,
           "normal_slots": 12,
           "slots": 12,
           "uid": "0460"
          },
          "free_bikes": 0,
          "id": "c50eae0d7d8c65db6d7eb62b8b4299cb",
          "latitude": 55.7835199,
          "longitude": 37.5765806,
          "name": "ул. Правды, д.4/19",
          "timestamp": "2023-02-20T14:49:22.010000Z"
         },
         {
          "empty_slots": 12,
          "extra": {
           "address": "Орликов пер., д.3, стр.7 (со стороны пр-та Академика Сахарова)",
           "ebikes": 0,
           "electric_free": 0,
           "electric_slots": 0,
           "normal_bikes": 0,
           "normal_free": 12,
           "normal_slots": 12,
           "slots": 12,
           "uid": "0461"
          },
          "free_bikes": 0,
          "id": "708a180670f7ae1966a850f82b884ca3",
          "latitude": 55.7720802,
          "longitude": 37.6465038,
          "name": "Орликов пер., д.3, стр.7 (со стороны пр-та Академика Сахарова)",
          "timestamp": "2023-02-20T14:49:22.012000Z"
         },
         {
          "empty_slots": 32,
          "extra": {
           "address": "Комсомольская пл., д.5",
           "ebikes": 0,
           "electric_free": 0,
           "electric_slots": 0,
           "normal_bikes": 0,
           "normal_free": 32,
           "normal_slots": 32,
           "slots": 32,
           "uid": "0483"
          },
          "free_bikes": 0,
          "id": "125c0a0d4e07150a86f466eb3e67704d",
          "latitude": 55.7766712,
          "longitude": 37.6591375,
          "name": "Комсомольская пл., д.5",
          "timestamp": "2023-02-20T14:49:22.013000Z"
         },
         {
          "empty_slots": 21,
          "extra": {
           "address": "Олимпийский пр-т, д.14",
           "ebikes": 0,
           "electric_free": 0,
           "electric_slots": 0,
           "normal_bikes": 0,
           "normal_free": 21,
           "normal_slots": 21,
           "slots": 21,
           "uid": "0430"
          },
          "free_bikes": 0,
          "id": "8b253d3148fab6fb5f3b91e37894e87a",
          "latitude": 55.7791071,
          "longitude": 37.6225146,
          "name": "Олимпийский пр-т, д.14",
          "timestamp": "2023-02-20T14:49:22.014000Z"
         },
         {
          "empty_slots": 39,
          "extra": {
           "address": "ул. Дмитрия Ульянова, д.22, к.1 (ст. м. Академическая)",
           "ebikes": 0,
           "electric_free": 21,
           "electric_slots": 21,
           "has_ebikes": true,
           "normal_bikes": 0,
           "normal_free": 18,
           "normal_slots": 18,
           "slots": 39,
           "uid": "0351"
          },
          "free_bikes": 0,
          "id": "23b96bd83db0eed8344fbaabbad8be28",
          "latitude": 55.6880358,
          "longitude": 37.572725,
          "name": "ул. Дмитрия Ульянова, д.22, к.1 (ст. м. Академическая)",
          "timestamp": "2023-02-20T14:49:22.015000Z"
         },
         {
          "empty_slots": 12,
          "extra": {
           "address": "пр-т Мира, д.11",
           "ebikes": 0,
           "electric_free": 0,
           "electric_slots": 0,
           "normal_bikes": 0,
           "normal_free": 12,
           "normal_slots": 12,
           "slots": 12,
           "uid": "0439"
          },
          "free_bikes": 0,
          "id": "1e3d300d8664eafc756d9f04aca953be",
          "latitude": 55.7761657,
          "longitude": 37.6320952,
          "name": "пр-т Мира, д.11",
          "timestamp": "2023-02-20T14:49:22.016000Z"
         },
         {
          "empty_slots": 35,
          "extra": {
           "address": "Пресненская наб., д.6, стр.2 (Москва-Сити, башня Империя)",
           "ebikes": 0,
           "electric_free": 21,
           "electric_slots": 21,
           "has_ebikes": true,
           "normal_bikes": 0,
           "normal_free": 14,
           "normal_slots": 14,
           "slots": 35,
           "uid": "0250"
          },
          "free_bikes": 0,
          "id": "d2bdf894e935e218e45f777ce02c07f8",
          "latitude": 55.7481479,
          "longitude": 37.5393069,
          "name": "Пресненская наб., д.6, стр.2 (Москва-Сити, башня Империя)",
          "timestamp": "2023-02-20T14:49:22.017000Z"
         },
         {
          "empty_slots": 13,
          "extra": {
           "address": "Нахимовский пр-т, д.11 (ст. м. Нахимовский пр-т, выход №4)",
           "ebikes": 0,
           "electric_free": 0,
           "electric_slots": 0,
           "normal_bikes": 0,
           "normal_free": 13,
           "normal_slots": 13,
           "slots": 13,
           "uid": "0391"
          },
          "free_bikes": 0,
          "id": "258f03293d871b1412a25fafc6232fa5",
          "latitude": 55.6636625,
          "longitude": 37.6066403,
          "name": "Нахимовский пр-т, д.11 (ст. м. Нахимовский пр-т, выход №4)",
          "timestamp": "2023-02-20T14:49:22.018000Z"
         },
         {
          "empty_slots": 12,
          "extra": {
           "address": "ул. Дмитрия Ульянова, д.46",
           "ebikes": 0,
           "electric_free": 0,
           "electric_slots": 0,
           "normal_bikes": 0,
           "normal_free": 12,
           "normal_slots": 12,
           "slots": 12,
           "uid": "0396"
          },
          "free_bikes": 0,
          "id": "cdcc9a5a41aa9faf38f158b38c89207c",
          "latitude": 55.6794909,
          "longitude": 37.5953863,
          "name": "ул. Дмитрия Ульянова, д.46",
          "timestamp": "2023-02-20T14:49:22.020000Z"
         },
         {
          "empty_slots": 15,
          "extra": {
           "address": "ул. Новаторов (пересечение с ул. Воронцовские Пруды)",
           "ebikes": 0,
           "electric_free": 0,
           "electric_slots": 0,
           "normal_bikes": 0,
           "normal_free": 15,
           "normal_slots": 15,
           "slots": 15,
           "uid": "0338"
          },
          "free_bikes": 0,
          "id": "b5ac7c9d8a688cb6c4c1917d92728a9f",
          "latitude": 55.6667781,
          "longitude": 37.5268164,
          "name": "ул. Новаторов (пересечение с ул. Воронцовские Пруды)",
          "timestamp": "2023-02-20T14:49:22.021000Z"
         },
         {
          "empty_slots": 12,
          "extra": {
           "address": "ул. Академика Пилюгина, д.18",
           "ebikes": 0,
           "electric_free": 0,
           "electric_slots": 0,
           "normal_bikes": 0,
           "normal_free": 12,
           "normal_slots": 12,
           "slots": 12,
           "uid": "0337"
          },
          "free_bikes": 0,
          "id": "55ba4973f043444f1504443fa36c8988",
          "latitude": 55.668303,
          "longitude": 37.5341468,
          "name": "ул. Академика Пилюгина, д.18",
          "timestamp": "2023-02-20T14:49:22.022000Z"
         },
         {
          "empty_slots": 18,
          "extra": {
           "address": "Балаклавский пр-т, д.16 (ст. м. Чертановская, выход №3)",
           "ebikes": 0,
           "electric_free": 0,
           "electric_slots": 0,
           "normal_bikes": 0,
           "normal_free": 18,
           "normal_slots": 18,
           "slots": 18,
           "uid": "0328"
          },
          "free_bikes": 0,
          "id": "10e0604a4da53a83e8790f77673a0f59",
          "latitude": 55.6416745,
          "longitude": 37.604728,
          "name": "Балаклавский пр-т, д.16 (ст. м. Чертановская, выход №3)",
          "timestamp": "2023-02-20T14:49:22.024000Z"
         },
         {
          "empty_slots": 12,
          "extra": {
           "address": "ул. Вавилова, д.24",
           "ebikes": 0,
           "electric_free": 0,
           "electric_slots": 0,
           "normal_bikes": 0,
           "normal_free": 12,
           "normal_slots": 12,
           "slots": 12,
           "uid": "0307"
          },
          "free_bikes": 0,
          "id": "215f6e5abcaf05be2b47397f2e4f6d95",
          "latitude": 55.7012679,
          "longitude": 37.5775101,
          "name": "ул. Вавилова, д.24",
          "timestamp": "2023-02-20T14:49:22.025000Z"
         },
         {
          "empty_slots": 18,
          "extra": {
           "address": "ул. 10-летия Октября (напротив д.29, к.3, ст. м. Спортивная, выход №2)",
           "ebikes": 0,
           "electric_free": 0,
           "electric_slots": 0,
           "normal_bikes": 0,
           "normal_free": 18,
           "normal_slots": 18,
           "slots": 18,
           "uid": "0208"
          },
          "free_bikes": 0,
          "id": "3aa30024eb5cae4356f038ef5b55ccba",
          "latitude": 55.723833,
          "longitude": 37.565242,
          "name": "ул. 10-летия Октября (напротив д.29, к.3, ст. м. Спортивная, выход №2)",
          "timestamp": "2023-02-20T14:49:22.027000Z"
         },
         {
          "empty_slots": 12,
          "extra": {
           "address": "ул. Пушечная, д.11",
           "ebikes": 0,
           "electric_free": 0,
           "electric_slots": 0,
           "normal_bikes": 0,
           "normal_free": 12,
           "normal_slots": 12,
           "slots": 12,
           "uid": "0028"
          },
          "free_bikes": 0,
          "id": "6ac4ab99a726e28e6029bf295eb33e32",
          "latitude": 55.7606867,
          "longitude": 37.6248436,
          "name": "ул. Пушечная, д.11",
          "timestamp": "2023-02-20T14:49:22.028000Z"
         },
         {
          "empty_slots": 12,
          "extra": {
           "address": "пр-т Вернадского, ост. Университетский пр-т",
           "ebikes": 0,
           "electric_free": 0,
           "electric_slots": 0,
           "normal_bikes": 0,
           "normal_free": 12,
           "normal_slots": 12,
           "slots": 12,
           "uid": "0301"
          },
          "free_bikes": 0,
          "id": "3e7375d65c9a6b9bfc8370e01fb537b6",
          "latitude": 55.700717,
          "longitude": 37.545765,
          "name": "пр-т Вернадского, ост. Университетский пр-т",
          "timestamp": "2023-02-20T14:49:22.038000Z"
         },
         {
          "empty_slots": 12,
          "extra": {
           "address": "ул. Косыгина, д.2, стр.19",
           "ebikes": 0,
           "electric_free": 0,
           "electric_slots": 0,
           "normal_bikes": 0,
           "normal_free": 12,
           "normal_slots": 12,
           "slots": 12,
           "uid": "0345"
          },
          "free_bikes": 0,
          "id": "bacdd8996f6463e7d11f02b2eedb9425",
          "latitude": 55.708218,
          "longitude": 37.576594,
          "name": "ул. Косыгина, д.2, стр.19",
          "timestamp": "2023-02-20T14:49:22.039000Z"
         },
         {
          "empty_slots": 12,
          "extra": {
           "address": "ул. Косыгина, д.8, стр.2",
           "ebikes": 0,
           "electric_free": 0,
           "electric_slots": 0,
           "normal_bikes": 0,
           "normal_free": 12,
           "normal_slots": 12,
           "slots": 12,
           "uid": "0344"
          },
          "free_bikes": 0,
          "id": "497cd1254f4c24d584a766e82a813efc",
          "latitude": 55.706876,
          "longitude": 37.564743,
          "name": "ул. Косыгина, д.8, стр.2",
          "timestamp": "2023-02-20T14:49:22.045000Z"
         },
         {
          "empty_slots": 21,
          "extra": {
           "address": "ул. Вавилова, д.55/7",
           "ebikes": 0,
           "electric_free": 0,
           "electric_slots": 0,
           "normal_bikes": 0,
           "normal_free": 21,
           "normal_slots": 21,
           "slots": 21,
           "uid": "0350"
          },
          "free_bikes": 0,
          "id": "3fe8db5c88c237ea7bea477f53d025ac",
          "latitude": 55.691614,
          "longitude": 37.562443,
          "name": "ул. Вавилова, д.55/7",
          "timestamp": "2023-02-20T14:49:22.046000Z"
         },
         {
          "empty_slots": 21,
          "extra": {
           "address": "Нахимовский пр-т, д.46 (ст. м. Профсоюзная, выход №3)",
           "ebikes": 0,
           "electric_free": 0,
           "electric_slots": 0,
           "normal_bikes": 0,
           "normal_free": 21,
           "normal_slots": 21,
           "slots": 21,
           "uid": "0362"
          },
          "free_bikes": 0,
          "id": "e421c7b9473c35f5e9251dc375bfdd13",
          "latitude": 55.678516,
          "longitude": 37.561994,
          "name": "Нахимовский пр-т, д.46 (ст. м. Профсоюзная, выход №3)",
          "timestamp": "2023-02-20T14:49:22.047000Z"
         },
         {
          "empty_slots": 27,
          "extra": {
           "address": "Москворецкая наб. (Китайгородский пр., д.9, стр.2)",
           "ebikes": 0,
           "electric_free": 0,
           "electric_slots": 0,
           "normal_bikes": 0,
           "normal_free": 27,
           "normal_slots": 27,
           "slots": 27,
           "uid": "0023"
          },
          "free_bikes": 0,
          "id": "d5ad964e6d362a7ffb8b03c60c45d788",
          "latitude": 55.749635,
          "longitude": 37.632794,
          "name": "Москворецкая наб. (Китайгородский пр., д.9, стр.2)",
          "timestamp": "2023-02-20T14:49:22.048000Z"
         },
         {
          "empty_slots": 12,
          "extra": {
           "address": "ул. Маросейка, д.9",
           "ebikes": 0,
           "electric_free": 0,
           "electric_slots": 0,
           "normal_bikes": 0,
           "normal_free": 12,
           "normal_slots": 12,
           "slots": 12,
           "uid": "0038"
          },
          "free_bikes": 0,
          "id": "2d711a7b3018cef0c1d6a8c83d96ffaf",
          "latitude": 55.7576991,
          "longitude": 37.634929,
          "name": "ул. Маросейка, д.9",
          "timestamp": "2023-02-20T14:49:22.049000Z"
         },
         {
          "empty_slots": 10,
          "extra": {
           "address": "ул. Пятницкая, д.37",
           "ebikes": 0,
           "electric_free": 0,
           "electric_slots": 0,
           "normal_bikes": 0,
           "normal_free": 10,
           "normal_slots": 10,
           "slots": 10,
           "uid": "0077"
          },
          "free_bikes": 0,
          "id": "644f76e4700d8f1b98f518cdefa6a5ef",
          "latitude": 55.73876,
          "longitude": 37.62838,
          "name": "ул. Пятницкая, д.37",
          "timestamp": "2023-02-20T14:49:22.050000Z"
         },
         {
          "empty_slots": 12,
          "extra": {
           "address": "ул. Краснопролетарская (напротив д.2/4, стр.3)",
           "ebikes": 0,
           "electric_free": 0,
           "electric_slots": 0,
           "normal_bikes": 0,
           "normal_free": 12,
           "normal_slots": 12,
           "slots": 12,
           "uid": "0119"
          },
          "free_bikes": 0,
          "id": "b87f087356889121de4489f42752ed53",
          "latitude": 55.7735332,
          "longitude": 37.6086074,
          "name": "ул. Краснопролетарская (напротив д.2/4, стр.3)",
          "timestamp": "2023-02-20T14:49:22.050000Z"
         },
         {
          "empty_slots": 18,
          "extra": {
           "address": "ул. Большая Полянка, д.33/41, стр.1",
           "ebikes": 0,
           "electric_free": 0,
           "electric_slots": 0,
           "normal_bikes": 0,
           "normal_free": 18,
           "normal_slots": 18,
           "slots": 18,
           "uid": "0073"
          },
          "free_bikes": 0,
          "id": "b9425fcb0efd0f1fb80f53e7bf66a20f",
          "latitude": 55.7362414,
          "longitude": 37.6195157,
          "name": "ул. Большая Полянка, д.33/41, стр.1",
          "timestamp": "2023-02-20T14:49:22.051000Z"
         },
         {
          "empty_slots": 12,
          "extra": {
           "address": "Кутузовский пр-т, д.7/4, стр.1",
           "ebikes": 0,
           "electric_free": 0,
           "electric_slots": 0,
           "normal_bikes": 0,
           "normal_free": 12,
           "normal_slots": 12,
           "slots": 12,
           "uid": "0246"
          },
          "free_bikes": 0,
          "id": "3c07d391cee5d4f9029388b6b9dd3ae5",
          "latitude": 55.7490298,
          "longitude": 37.5622227,
          "name": "Кутузовский пр-т, д.7/4, стр.1",
          "timestamp": "2023-02-20T14:49:22.052000Z"
         },
         {
          "empty_slots": 12,
          "extra": {
           "address": "Нахимовский пр-т, д.24",
           "ebikes": 0,
           "electric_free": 0,
           "electric_slots": 0,
           "normal_bikes": 0,
           "normal_free": 12,
           "normal_slots": 12,
           "slots": 12,
           "uid": "0363"
          },
          "free_bikes": 0,
          "id": "1825e4e790ca627c2544392f92a88d12",
          "latitude": 55.6712381,
          "longitude": 37.5838691,
          "name": "Нахимовский пр-т, д.24",
          "timestamp": "2023-02-20T14:49:22.055000Z"
         },
         {
          "empty_slots": 12,
          "extra": {
           "address": "ул. Марии Ульяновой, д.16",
           "ebikes": 0,
           "electric_free": 0,
           "electric_slots": 0,
           "normal_bikes": 0,
           "normal_free": 12,
           "normal_slots": 12,
           "slots": 12,
           "uid": "0364"
          },
          "free_bikes": 0,
          "id": "40944fee65180db3903e9ce7f89c4963",
          "latitude": 55.6836121,
          "longitude": 37.5201069,
          "name": "ул. Марии Ульяновой, д.16",
          "timestamp": "2023-02-20T14:49:22.066000Z"
         },
         {
          "empty_slots": 12,
          "extra": {
           "address": "ул. Гарибальди, д.1А",
           "ebikes": 0,
           "electric_free": 0,
           "electric_slots": 0,
           "normal_bikes": 0,
           "normal_free": 12,
           "normal_slots": 12,
           "slots": 12,
           "uid": "0365"
          },
          "free_bikes": 0,
          "id": "247156f36c6ad81008835de83ea54aa9",
          "latitude": 55.6787267,
          "longitude": 37.5326129,
          "name": "ул. Гарибальди, д.1А",
          "timestamp": "2023-02-20T14:49:22.067000Z"
         },
         {
          "empty_slots": 12,
          "extra": {
           "address": "Симферопольский б-р, д.4",
           "ebikes": 0,
           "electric_free": 0,
           "electric_slots": 0,
           "normal_bikes": 0,
           "normal_free": 12,
           "normal_slots": 12,
           "slots": 12,
           "uid": "0368"
          },
          "free_bikes": 0,
          "id": "ee84b4b089eb5d95aa5f66b182292032",
          "latitude": 55.6592363,
          "longitude": 37.6080312,
          "name": "Симферопольский б-р, д.4",
          "timestamp": "2023-02-20T14:49:22.068000Z"
         },
         {
          "empty_slots": 12,
          "extra": {
           "address": "ул. Воронцовские Пруды, д.3",
           "ebikes": 0,
           "electric_free": 0,
           "electric_slots": 0,
           "normal_bikes": 0,
           "normal_free": 12,
           "normal_slots": 12,
           "slots": 12,
           "uid": "0370"
          },
          "free_bikes": 0,
          "id": "aca13d8d78d2dfcd06b12a0e2d5ff0f2",
          "latitude": 55.6649089,
          "longitude": 37.5389143,
          "name": "ул. Воронцовские Пруды, д.3",
          "timestamp": "2023-02-20T14:49:22.069000Z"
         },
         {
          "empty_slots": 12,
          "extra": {
           "address": "ул. Новочерёмушкинская, д.71/32",
           "ebikes": 0,
           "electric_free": 0,
           "electric_slots": 0,
           "normal_bikes": 0,
           "normal_free": 12,
           "normal_slots": 12,
           "slots": 12,
           "uid": "0371"
          },
          "free_bikes": 0,
          "id": "4a79f86574cc8fd758b48eaee84e368e",
          "latitude": 55.6608021,
          "longitude": 37.5595989,
          "name": "ул. Новочерёмушкинская, д.71/32",
          "timestamp": "2023-02-20T14:49:22.070000Z"
         },
         {
          "empty_slots": 20,
          "extra": {
           "address": "ул. Тверская, д.8",
           "ebikes": 0,
           "electric_free": 0,
           "electric_slots": 0,
           "normal_bikes": 0,
           "normal_free": 20,
           "normal_slots": 20,
           "slots": 20,
           "uid": "0029"
          },
          "free_bikes": 0,
          "id": "57f79374fce72d2d86e14589dbc0c692",
          "latitude": 55.762079,
          "longitude": 37.60962,
          "name": "ул. Тверская, д.8",
          "timestamp": "2023-02-20T14:49:22.071000Z"
         },
         {
          "empty_slots": 12,
          "extra": {
           "address": "Ломоносовский пр-т (дублёр), д.27",
           "ebikes": 0,
           "electric_free": 0,
           "electric_slots": 0,
           "normal_bikes": 0,
           "normal_free": 12,
           "normal_slots": 12,
           "slots": 12,
           "uid": "0357"
          },
          "free_bikes": 0,
          "id": "433583913e820cc47fcd0e93a0250c84",
          "latitude": 55.699342,
          "longitude": 37.523769,
          "name": "Ломоносовский пр-т (дублёр), д.27",
          "timestamp": "2023-02-20T14:49:22.073000Z"
         },
         {
          "empty_slots": 12,
          "extra": {
           "address": "Большой Патриарший пер., д.7",
           "ebikes": 0,
           "electric_free": 0,
           "electric_slots": 0,
           "normal_bikes": 0,
           "normal_free": 12,
           "normal_slots": 12,
           "slots": 12,
           "uid": "0043"
          },
          "free_bikes": 0,
          "id": "0e72aab856b6c0eb170fdf25394ae718",
          "latitude": 55.763584,
          "longitude": 37.59311,
          "name": "Большой Патриарший пер., д.7",
          "timestamp": "2023-02-20T14:49:22.074000Z"
         },
         {
          "empty_slots": 12,
          "extra": {
           "address": "ул. Обручева, д.33А",
           "ebikes": 0,
           "electric_free": 0,
           "electric_slots": 0,
           "normal_bikes": 0,
           "normal_free": 12,
           "normal_slots": 12,
           "slots": 12,
           "uid": "0374"
          },
          "free_bikes": 0,
          "id": "fb2924c3c127328b5dc40e9cb1a81e58",
          "latitude": 55.6512748,
          "longitude": 37.5529893,
          "name": "ул. Обручева, д.33А",
          "timestamp": "2023-02-20T14:49:22.075000Z"
         },
         {
          "empty_slots": 12,
          "extra": {
           "address": "ул. Обручева, д.65/54",
           "ebikes": 0,
           "electric_free": 0,
           "electric_slots": 0,
           "normal_bikes": 0,
           "normal_free": 12,
           "normal_slots": 12,
           "slots": 12,
           "uid": "0375"
          },
          "free_bikes": 0,
          "id": "ccbcae8cc2c6501b2ea67da2c195afc1",
          "latitude": 55.6502405,
          "longitude": 37.5639941,
          "name": "ул. Обручева, д.65/54",
          "timestamp": "2023-02-20T14:49:22.076000Z"
         },
         {
          "empty_slots": 12,
          "extra": {
           "address": "Балаклавский пр-т, д.34, к.1",
           "ebikes": 0,
           "electric_free": 0,
           "electric_slots": 0,
           "normal_bikes": 0,
           "normal_free": 12,
           "normal_slots": 12,
           "slots": 12,
           "uid": "0376"
          },
          "free_bikes": 0,
          "id": "fb35f52d324a2e37f0bcbf9bd0bbe8bc",
          "latitude": 55.6450878,
          "longitude": 37.5820766,
          "name": "Балаклавский пр-т, д.34, к.1",
          "timestamp": "2023-02-20T14:49:22.086000Z"
         },
         {
          "empty_slots": 12,
          "extra": {
           "address": "ул. Островитянова, д.7",
           "ebikes": 0,
           "electric_free": 0,
           "electric_slots": 0,
           "normal_bikes": 0,
           "normal_free": 12,
           "normal_slots": 12,
           "slots": 12,
           "uid": "0385"
          },
          "free_bikes": 0,
          "id": "1b254e1db8db1bc11ef0b4d12c4f326d",
          "latitude": 55.6440884,
          "longitude": 37.4953587,
          "name": "ул. Островитянова, д.7",
          "timestamp": "2023-02-20T14:49:22.087000Z"
         },
         {
          "empty_slots": 12,
          "extra": {
           "address": "ул. Советской Армии, д.2, стр.1",
           "ebikes": 0,
           "electric_free": 0,
           "electric_slots": 0,
           "normal_bikes": 0,
           "normal_free": 12,
           "normal_slots": 12,
           "slots": 12,
           "uid": "0420"
          },
          "free_bikes": 0,
          "id": "8bf5620680008b5e7571071a83767488",
          "latitude": 55.785259,
          "longitude": 37.6163822,
          "name": "ул. Советской Армии, д.2, стр.1",
          "timestamp": "2023-02-20T14:49:22.088000Z"
         },
         {
          "empty_slots": 21,
          "extra": {
           "address": "пр-т Мира, д.41, стр.2",
           "ebikes": 0,
           "electric_free": 0,
           "electric_slots": 0,
           "normal_bikes": 0,
           "normal_free": 21,
           "normal_slots": 21,
           "slots": 21,
           "uid": "0441"
          },
          "free_bikes": 0,
          "id": "5d54bc8f6c86c4afa6c8ab377afdce95",
          "latitude": 55.7815506,
          "longitude": 37.6317848,
          "name": "пр-т Мира, д.41, стр.2",
          "timestamp": "2023-02-20T14:49:22.089000Z"
         },
         {
          "empty_slots": 24,
          "extra": {
           "address": "пр-т Мира, д.111 (ст. м. ВДНХ, выход к Звёздному бульвару)",
           "ebikes": 0,
           "electric_free": 0,
           "electric_slots": 0,
           "normal_bikes": 0,
           "normal_free": 24,
           "normal_slots": 24,
           "slots": 24,
           "uid": "0444"
          },
          "free_bikes": 0,
          "id": "5804cdaf3942ebc88247e3ae1fdcb153",
          "latitude": 55.8195275,
          "longitude": 37.6393391,
          "name": "пр-т Мира, д.111 (ст. м. ВДНХ, выход к Звёздному бульвару)",
          "timestamp": "2023-02-20T14:49:22.090000Z"
         },
         {
          "empty_slots": 12,
          "extra": {
           "address": "ул. Сергея Эйзенштейна, д.1",
           "ebikes": 0,
           "electric_free": 0,
           "electric_slots": 0,
           "normal_bikes": 0,
           "normal_free": 12,
           "normal_slots": 12,
           "slots": 12,
           "uid": "0445"
          },
          "free_bikes": 0,
          "id": "86e0418b37ca8361daf4b5178bf2a2ac",
          "latitude": 55.8277664,
          "longitude": 37.647529,
          "name": "ул. Сергея Эйзенштейна, д.1",
          "timestamp": "2023-02-20T14:49:22.090000Z"
         },
         {
          "empty_slots": 12,
          "extra": {
           "address": "пр-т Мира, д.163",
           "ebikes": 0,
           "electric_free": 0,
           "electric_slots": 0,
           "normal_bikes": 0,
           "normal_free": 12,
           "normal_slots": 12,
           "slots": 12,
           "uid": "0446"
          },
          "free_bikes": 0,
          "id": "733742d27ea638dbf60f6260358618ad",
          "latitude": 55.8339685,
          "longitude": 37.6541501,
          "name": "пр-т Мира, д.163",
          "timestamp": "2023-02-20T14:49:22.091000Z"
         },
         {
          "empty_slots": 21,
          "extra": {
           "address": "ул. Академика Королёва, д.8А",
           "ebikes": 0,
           "electric_free": 0,
           "electric_slots": 0,
           "normal_bikes": 0,
           "normal_free": 21,
           "normal_slots": 21,
           "slots": 21,
           "uid": "0470"
          },
          "free_bikes": 0,
          "id": "64144ac499badd337161346f2c851b05",
          "latitude": 55.8217153,
          "longitude": 37.623526,
          "name": "ул. Академика Королёва, д.8А",
          "timestamp": "2023-02-20T14:49:22.098000Z"
         },
         {
          "empty_slots": 12,
          "extra": {
           "address": "ул. Яблочкова, д.25",
           "ebikes": 0,
           "electric_free": 0,
           "electric_slots": 0,
           "normal_bikes": 0,
           "normal_free": 12,
           "normal_slots": 12,
           "slots": 12,
           "uid": "0480"
          },
          "free_bikes": 0,
          "id": "0be869e30bfcf874e6263d487029366d",
          "latitude": 55.82188,
          "longitude": 37.5802,
          "name": "ул. Яблочкова, д.25",
          "timestamp": "2023-02-20T14:49:22.099000Z"
         },
         {
          "empty_slots": 12,
          "extra": {
           "address": "ул. Милашенкова, д.12Д",
           "ebikes": 0,
           "electric_free": 0,
           "electric_slots": 0,
           "normal_bikes": 0,
           "normal_free": 12,
           "normal_slots": 12,
           "slots": 12,
           "uid": "0481"
          },
          "free_bikes": 0,
          "id": "f52e5e1a67201f7940211fa4f827ecea",
          "latitude": 55.8278585,
          "longitude": 37.5805768,
          "name": "ул. Милашенкова, д.12Д",
          "timestamp": "2023-02-20T14:49:22.099000Z"
         },
         {
          "empty_slots": 12,
          "extra": {
           "address": "ул. Руставели, д.12/13",
           "ebikes": 0,
           "electric_free": 0,
           "electric_slots": 0,
           "normal_bikes": 0,
           "normal_free": 12,
           "normal_slots": 12,
           "slots": 12,
           "uid": "0482"
          },
          "free_bikes": 0,
          "id": "20ca0b2f8ef67bc0eefd2b207564e451",
          "latitude": 55.8133394,
          "longitude": 37.5942708,
          "name": "ул. Руставели, д.12/13",
          "timestamp": "2023-02-20T14:49:22.100000Z"
         },
         {
          "empty_slots": 45,
          "extra": {
           "address": "ул. Ботаническая, д.4, стр.6",
           "ebikes": 0,
           "electric_free": 0,
           "electric_slots": 0,
           "normal_bikes": 0,
           "normal_free": 45,
           "normal_slots": 45,
           "slots": 45,
           "uid": "0464"
          },
          "free_bikes": 0,
          "id": "a4b9ae06c73fc93ba0fdecef0393457f",
          "latitude": 55.8302838,
          "longitude": 37.6010653,
          "name": "ул. Ботаническая, д.4, стр.6",
          "timestamp": "2023-02-20T14:49:22.102000Z"
         },
         {
          "empty_slots": 30,
          "extra": {
           "address": "я Останкинская ул., д.1",
           "ebikes": 0,
           "electric_free": 0,
           "electric_slots": 0,
           "normal_bikes": 0,
           "normal_free": 30,
           "normal_slots": 30,
           "slots": 30,
           "uid": "0465"
          },
          "free_bikes": 0,
          "id": "412fd98cd638885e634941427a998d21",
          "latitude": 55.8243764,
          "longitude": 37.617075,
          "name": "1-я Останкинская ул., д.1",
          "timestamp": "2023-02-20T14:49:22.105000Z"
         },
         {
          "empty_slots": 48,
          "extra": {
           "address": "Продольный пр. (у главного входа ВДНХ)",
           "ebikes": 0,
           "electric_free": 0,
           "electric_slots": 0,
           "normal_bikes": 0,
           "normal_free": 48,
           "normal_slots": 48,
           "slots": 48,
           "uid": "0466"
          },
          "free_bikes": 0,
          "id": "c3520a547dbf69000a44c91ac4af7e02",
          "latitude": 55.825363,
          "longitude": 37.6391911,
          "name": "Продольный пр. (у главного входа ВДНХ)",
          "timestamp": "2023-02-20T14:49:22.106000Z"
         },
         {
          "empty_slots": 12,
          "extra": {
           "address": "ул. Академика Королёва, д.15, к.2",
           "ebikes": 0,
           "electric_free": 0,
           "electric_slots": 0,
           "normal_bikes": 0,
           "normal_free": 12,
           "normal_slots": 12,
           "slots": 12,
           "uid": "0469"
          },
          "free_bikes": 0,
          "id": "2f20ba46db27a75b6864365ff1ad29fa",
          "latitude": 55.8189299,
          "longitude": 37.6159792,
          "name": "ул. Академика Королёва, д.15, к.2",
          "timestamp": "2023-02-20T14:49:22.107000Z"
         },
         {
          "empty_slots": 12,
          "extra": {
           "address": "ул. Пятницкая, д.2/38",
           "ebikes": 0,
           "electric_free": 0,
           "electric_slots": 0,
           "normal_bikes": 0,
           "normal_free": 12,
           "normal_slots": 12,
           "slots": 12,
           "uid": "0080"
          },
          "free_bikes": 0,
          "id": "70a301800a3cc1692f20d3867471a322",
          "latitude": 55.7456921,
          "longitude": 37.6265178,
          "name": "ул. Пятницкая, д.2/38",
          "timestamp": "2023-02-20T14:49:22.111000Z"
         },
         {
          "empty_slots": 18,
          "extra": {
           "address": "ул. Большая Татарская, д.19/13",
           "ebikes": 0,
           "electric_free": 0,
           "electric_slots": 0,
           "normal_bikes": 0,
           "normal_free": 18,
           "normal_slots": 18,
           "slots": 18,
           "uid": "0081"
          },
          "free_bikes": 0,
          "id": "deb361accd2e857434858454dd81e18b",
          "latitude": 55.7398418,
          "longitude": 37.6333164,
          "name": "ул. Большая Татарская, д.19/13",
          "timestamp": "2023-02-20T14:49:22.112000Z"
         },
         {
          "empty_slots": 18,
          "extra": {
           "address": "Котельническая наб., д.1",
           "ebikes": 0,
           "electric_free": 0,
           "electric_slots": 0,
           "normal_bikes": 0,
           "normal_free": 18,
           "normal_slots": 18,
           "slots": 18,
           "uid": "0085"
          },
          "free_bikes": 0,
          "id": "728cc735c56ca762c82333add5935f09",
          "latitude": 55.7483533,
          "longitude": 37.645458,
          "name": "Котельническая наб., д.1",
          "timestamp": "2023-02-20T14:49:22.114000Z"
         },
         {
          "empty_slots": 12,
          "extra": {
           "address": "ул. Мясницкая, д.11",
           "ebikes": 0,
           "electric_free": 0,
           "electric_slots": 0,
           "normal_bikes": 0,
           "normal_free": 12,
           "normal_slots": 12,
           "slots": 12,
           "uid": "0060"
          },
          "free_bikes": 0,
          "id": "056ed8bae0089ac93e7fef3ec7c9d88b",
          "latitude": 55.7617374,
          "longitude": 37.6331175,
          "name": "ул. Мясницкая, д.11",
          "timestamp": "2023-02-20T14:49:22.114000Z"
         },
         {
          "empty_slots": 12,
          "extra": {
           "address": "ул. Академика Волгина, д.6",
           "ebikes": 0,
           "electric_free": 0,
           "electric_slots": 0,
           "normal_bikes": 0,
           "normal_free": 12,
           "normal_slots": 12,
           "slots": 12,
           "uid": "0390"
          },
          "free_bikes": 0,
          "id": "f1c97c7d5b755cfdce5184abcf672da0",
          "latitude": 55.6527248,
          "longitude": 37.5192587,
          "name": "ул. Академика Волгина, д.6",
          "timestamp": "2023-02-20T14:49:22.115000Z"
         },
         {
          "empty_slots": 15,
          "extra": {
           "address": "ул. Профсоюзная, д.82, к.1 (ст. м. Калужская)",
           "ebikes": 0,
           "electric_free": 0,
           "electric_slots": 0,
           "normal_bikes": 0,
           "normal_free": 15,
           "normal_slots": 15,
           "slots": 15,
           "uid": "0335"
          },
          "free_bikes": 0,
          "id": "b94546d8c1c074afc5a7ebec79735f7d",
          "latitude": 55.6565141,
          "longitude": 37.539523,
          "name": "ул. Профсоюзная, д.82, к.1 (ст. м. Калужская)",
          "timestamp": "2023-02-20T14:49:22.116000Z"
         },
         {
          "empty_slots": 18,
          "extra": {
           "address": "Нахимовский пр-т, д.51/21 (ст. м. Профсоюзная, выход №7)",
           "ebikes": 0,
           "electric_free": 0,
           "electric_slots": 0,
           "normal_bikes": 0,
           "normal_free": 18,
           "normal_slots": 18,
           "slots": 18,
           "uid": "0394"
          },
          "free_bikes": 0,
          "id": "5a75264e8117f765dc84229724274a01",
          "latitude": 55.6771438,
          "longitude": 37.5629419,
          "name": "Нахимовский пр-т, д.51/21 (ст. м. Профсоюзная, выход №7)",
          "timestamp": "2023-02-20T14:49:22.118000Z"
         },
         {
          "empty_slots": 12,
          "extra": {
           "address": "ул. Болотниковская (парк им. 70-ти летия Победы)",
           "ebikes": 0,
           "electric_free": 0,
           "electric_slots": 0,
           "normal_bikes": 0,
           "normal_free": 12,
           "normal_slots": 12,
           "slots": 12,
           "uid": "0309"
          },
          "free_bikes": 0,
          "id": "b67349178e2c78564df83cf1a54c1c14",
          "latitude": 55.6651369,
          "longitude": 37.5710478,
          "name": "ул. Болотниковская (парк им. 70-ти летия Победы)",
          "timestamp": "2023-02-20T14:49:22.118000Z"
         },
         {
          "empty_slots": 12,
          "extra": {
           "address": "ул. Селезнёвская, д.28",
           "ebikes": 0,
           "electric_free": 0,
           "electric_slots": 0,
           "normal_bikes": 0,
           "normal_free": 12,
           "normal_slots": 12,
           "slots": 12,
           "uid": "0407"
          },
          "free_bikes": 0,
          "id": "d9b1f57b2043057f36aff01301cb6376",
          "latitude": 55.7806984,
          "longitude": 37.6079968,
          "name": "ул. Селезнёвская, д.28",
          "timestamp": "2023-02-20T14:49:22.119000Z"
         },
         {
          "empty_slots": 18,
          "extra": {
           "address": "Площадь Киевского вокзала, д.2",
           "ebikes": 0,
           "electric_free": 0,
           "electric_slots": 0,
           "normal_bikes": 0,
           "normal_free": 18,
           "normal_slots": 18,
           "slots": 18,
           "uid": "0245"
          },
          "free_bikes": 0,
          "id": "08df12c5e0990cdb1d9265d0bfbd0611",
          "latitude": 55.74496,
          "longitude": 37.56871,
          "name": "Площадь Киевского вокзала, д.2",
          "timestamp": "2023-02-20T14:49:22.120000Z"
         },
         {
          "empty_slots": 12,
          "extra": {
           "address": "й Щемиловский пер., д.14",
           "ebikes": 0,
           "electric_free": 0,
           "electric_slots": 0,
           "normal_bikes": 0,
           "normal_free": 12,
           "normal_slots": 12,
           "slots": 12,
           "uid": "0410"
          },
          "free_bikes": 0,
          "id": "610a654a888eec82d4ada23833b0cf54",
          "latitude": 55.778327,
          "longitude": 37.6089126,
          "name": "2-й Щемиловский пер., д.14",
          "timestamp": "2023-02-20T14:49:22.121000Z"
         },
         {
          "empty_slots": 12,
          "extra": {
           "address": "ул. Сущёвский Вал, д.16, стр.1",
           "ebikes": 0,
           "electric_free": 0,
           "electric_slots": 0,
           "normal_bikes": 0,
           "normal_free": 12,
           "normal_slots": 12,
           "slots": 12,
           "uid": "0416"
          },
          "free_bikes": 0,
          "id": "7e9578c3a252c85550b5e6003610db73",
          "latitude": 55.7924677,
          "longitude": 37.6023012,
          "name": "ул. Сущёвский Вал, д.16, стр.1",
          "timestamp": "2023-02-20T14:49:22.122000Z"
         },
         {
          "empty_slots": 36,
          "extra": {
           "address": "ст. м. Владыкино",
           "ebikes": 0,
           "electric_free": 0,
           "electric_slots": 0,
           "normal_bikes": 0,
           "normal_free": 36,
           "normal_slots": 36,
           "slots": 36,
           "uid": "0453"
          },
          "free_bikes": 0,
          "id": "4093c472b8997baefc0e9ed1a9bfe9fb",
          "latitude": 55.8459731,
          "longitude": 37.5897749,
          "name": "ст. м. Владыкино",
          "timestamp": "2023-02-20T14:49:22.123000Z"
         },
         {
          "empty_slots": 18,
          "extra": {
           "address": "Дмитровское ш., д.13А, к.3 (ст. м. Тимирязевская)",
           "ebikes": 0,
           "electric_free": 0,
           "electric_slots": 0,
           "normal_bikes": 0,
           "normal_free": 18,
           "normal_slots": 18,
           "slots": 18,
           "uid": "0485"
          },
          "free_bikes": 0,
          "id": "0b7a44d9274c2f942962207723262ab4",
          "latitude": 55.8191407,
          "longitude": 37.5741987,
          "name": "Дмитровское ш., д.13А, к.3 (ст. м. Тимирязевская)",
          "timestamp": "2023-02-20T14:49:22.124000Z"
         },
         {
          "empty_slots": 44,
          "extra": {
           "address": "ул. Крымский Вал, д.9, стр.1 (напротив входа в Парк Горького)",
           "ebikes": 0,
           "electric_free": 0,
           "electric_slots": 0,
           "normal_bikes": 0,
           "normal_free": 44,
           "normal_slots": 44,
           "slots": 44,
           "uid": "0157"
          },
          "free_bikes": 0,
          "id": "09ee97a49e488e2a76be523c6f44c863",
          "latitude": 55.731981,
          "longitude": 37.6048252,
          "name": "ул. Крымский Вал, д.9, стр.1 (напротив входа в Парк Горького)",
          "timestamp": "2023-02-20T14:49:22.124000Z"
         },
         {
          "empty_slots": 12,
          "extra": {
           "address": "Никитский б-р (напротив д.11/12, стр.3)",
           "ebikes": 0,
           "electric_free": 0,
           "electric_slots": 0,
           "normal_bikes": 0,
           "normal_free": 12,
           "normal_slots": 12,
           "slots": 12,
           "uid": "0005"
          },
          "free_bikes": 0,
          "id": "06001ed3e93d6385423ecd5999a830e8",
          "latitude": 55.7553104,
          "longitude": 37.5999825,
          "name": "Никитский б-р (напротив д.11/12, стр.3)",
          "timestamp": "2023-02-20T14:49:22.125000Z"
         },
         {
          "empty_slots": 8,
          "extra": {
           "address": "Чистопрудный б-р (напротив д.8, стр.1)",
           "ebikes": 0,
           "electric_free": 0,
           "electric_slots": 0,
           "normal_bikes": 0,
           "normal_free": 8,
           "normal_slots": 8,
           "slots": 8,
           "uid": "0017"
          },
          "free_bikes": 0,
          "id": "f1175d74389ddaedb642cb73cf07f3d5",
          "latitude": 55.763247,
          "longitude": 37.641671,
          "name": "Чистопрудный б-р (напротив д.8, стр.1)",
          "timestamp": "2023-02-20T14:49:22.126000Z"
         },
         {
          "empty_slots": 12,
          "extra": {
           "address": "ул. Миклухо-Маклая, д.6",
           "ebikes": 0,
           "electric_free": 0,
           "electric_slots": 0,
           "normal_bikes": 0,
           "normal_free": 12,
           "normal_slots": 12,
           "slots": 12,
           "uid": "0380"
          },
          "free_bikes": 0,
          "id": "f9762e2370ed7070a52e1b5ebe79f120",
          "latitude": 55.6533607,
          "longitude": 37.5006237,
          "name": "ул. Миклухо-Маклая, д.6",
          "timestamp": "2023-02-20T14:49:22.127000Z"
         },
         {
          "empty_slots": 10,
          "extra": {
           "address": "ул. Мясницкая, д.39, стр.1",
           "ebikes": 0,
           "electric_free": 0,
           "electric_slots": 0,
           "normal_bikes": 0,
           "normal_free": 10,
           "normal_slots": 10,
           "slots": 10,
           "uid": "0049"
          },
          "free_bikes": 0,
          "id": "6464a91e701db71174ef9ec8e1e9a27a",
          "latitude": 55.76728,
          "longitude": 37.641517,
          "name": "ул. Мясницкая, д.39, стр.1",
          "timestamp": "2023-02-20T14:49:22.127000Z"
         },
         {
          "empty_slots": 15,
          "extra": {
           "address": "ул. Мастеркова, д.3 (ст. м. Автозаводская)",
           "ebikes": 0,
           "electric_free": 0,
           "electric_slots": 0,
           "normal_bikes": 0,
           "normal_free": 15,
           "normal_slots": 15,
           "slots": 15,
           "uid": "0603"
          },
          "free_bikes": 0,
          "id": "7563646cc123ec67e784b9e9e4785a5d",
          "latitude": 55.7082873,
          "longitude": 37.657647,
          "name": "ул. Мастеркова, д.3 (ст. м. Автозаводская)",
          "timestamp": "2023-02-20T14:49:22.128000Z"
         },
         {
          "empty_slots": 12,
          "extra": {
           "address": "ул. Советской Армии, д.17/52",
           "ebikes": 0,
           "electric_free": 0,
           "electric_slots": 0,
           "normal_bikes": 0,
           "normal_free": 12,
           "normal_slots": 12,
           "slots": 12,
           "uid": "0422"
          },
          "free_bikes": 0,
          "id": "015847c5caee603f7ef506b394327114",
          "latitude": 55.792512,
          "longitude": 37.6158903,
          "name": "ул. Советской Армии, д.17/52",
          "timestamp": "2023-02-20T14:49:22.129000Z"
         },
         {
          "empty_slots": 12,
          "extra": {
           "address": "ул. Чаянова, д.15",
           "ebikes": 0,
           "electric_free": 0,
           "electric_slots": 0,
           "normal_bikes": 0,
           "normal_free": 12,
           "normal_slots": 12,
           "slots": 12,
           "uid": "0404"
          },
          "free_bikes": 0,
          "id": "2e139f5f9fdeb525804a0b524f59dae6",
          "latitude": 55.776466,
          "longitude": 37.5959992,
          "name": "ул. Чаянова, д.15",
          "timestamp": "2023-02-20T14:49:22.130000Z"
         },
         {
          "empty_slots": 12,
          "extra": {
           "address": "ул. Малая Никитская, д.24, стр.2",
           "ebikes": 0,
           "electric_free": 0,
           "electric_slots": 0,
           "normal_bikes": 0,
           "normal_free": 12,
           "normal_slots": 12,
           "slots": 12,
           "uid": "0004"
          },
          "free_bikes": 0,
          "id": "667f306fb11e9695f62cd3ef12af4931",
          "latitude": 55.7591806,
          "longitude": 37.5874544,
          "name": "ул. Малая Никитская, д.24, стр.2",
          "timestamp": "2023-02-20T14:49:22.131000Z"
         },
         {
          "empty_slots": 12,
          "extra": {
           "address": "ул. Самотечная, д.9",
           "ebikes": 0,
           "electric_free": 0,
           "electric_slots": 0,
           "normal_bikes": 0,
           "normal_free": 12,
           "normal_slots": 12,
           "slots": 12,
           "uid": "0412"
          },
          "free_bikes": 0,
          "id": "db82d769dd769868909068fbc45e02b0",
          "latitude": 55.776646,
          "longitude": 37.6182931,
          "name": "ул. Самотечная, д.9",
          "timestamp": "2023-02-20T14:49:22.131000Z"
         },
         {
          "empty_slots": 24,
          "extra": {
           "address": "Продольный пр., д.115А (ст. м. ВДНХ, северный вестибюль)",
           "ebikes": 0,
           "electric_free": 0,
           "electric_slots": 0,
           "normal_bikes": 0,
           "normal_free": 24,
           "normal_slots": 24,
           "slots": 24,
           "uid": "0475"
          },
          "free_bikes": 0,
          "id": "89d5354c2661f14f3e73f292b3efb006",
          "latitude": 55.8224303,
          "longitude": 37.6414493,
          "name": "Продольный пр., д.115А (ст. м. ВДНХ, северный вестибюль)",
          "timestamp": "2023-02-20T14:49:22.132000Z"
         },
         {
          "empty_slots": 12,
          "extra": {
           "address": "ул. Большая Дмитровка, д.2",
           "ebikes": 0,
           "electric_free": 0,
           "electric_slots": 0,
           "normal_bikes": 0,
           "normal_free": 12,
           "normal_slots": 12,
           "slots": 12,
           "uid": "0031"
          },
          "free_bikes": 0,
          "id": "6cc8d8aa15adea14ca839c99fd9c8bc7",
          "latitude": 55.759165,
          "longitude": 37.616547,
          "name": "ул. Большая Дмитровка, д.2",
          "timestamp": "2023-02-20T14:49:22.133000Z"
         },
         {
          "empty_slots": 27,
          "extra": {
           "address": "Кремлёвская наб., д.1",
           "ebikes": 0,
           "electric_free": 0,
           "electric_slots": 0,
           "normal_bikes": 0,
           "normal_free": 27,
           "normal_slots": 27,
           "slots": 27,
           "uid": "0022"
          },
          "free_bikes": 0,
          "id": "374bcbba2f73bc96635fb50751337b6b",
          "latitude": 55.7464818,
          "longitude": 37.6101276,
          "name": "Кремлёвская наб., д.1",
          "timestamp": "2023-02-20T14:49:22.133000Z"
         },
         {
          "empty_slots": 11,
          "extra": {
           "address": "ул. Земляной Вал, д.2",
           "ebikes": 0,
           "electric_free": 0,
           "electric_slots": 0,
           "normal_bikes": 1,
           "normal_free": 11,
           "normal_slots": 12,
           "slots": 12,
           "uid": "0136"
          },
          "free_bikes": 1,
          "id": "fea7d384ea094ab54ddd70ff853d917d",
          "latitude": 55.763292,
          "longitude": 37.656429,
          "name": "ул. Земляной Вал, д.2",
          "timestamp": "2023-02-20T14:49:22.134000Z"
         },
         {
          "empty_slots": 12,
          "extra": {
           "address": "ул. Каланчёвская, д.15А",
           "ebikes": 0,
           "electric_free": 0,
           "electric_slots": 0,
           "normal_bikes": 0,
           "normal_free": 12,
           "normal_slots": 12,
           "slots": 12,
           "uid": "0459"
          },
          "free_bikes": 0,
          "id": "82a761b49abcf6848ed3cf300abaa3bb",
          "latitude": 55.7724956,
          "longitude": 37.6520953,
          "name": "ул. Каланчёвская, д.15А",
          "timestamp": "2023-02-20T14:49:22.135000Z"
         },
         {
          "empty_slots": 14,
          "extra": {
           "address": "Гоголевский б-р (напротив д.17, стр.1)",
           "ebikes": 0,
           "electric_free": 0,
           "electric_slots": 0,
           "normal_bikes": 0,
           "normal_free": 14,
           "normal_slots": 14,
           "slots": 14,
           "uid": "0002"
          },
          "free_bikes": 0,
          "id": "bb312070a1581e8ce2611d54e9d0ec66",
          "latitude": 55.7468663,
          "longitude": 37.5997037,
          "name": "Гоголевский б-р (напротив д.17, стр.1)",
          "timestamp": "2023-02-20T14:49:22.135000Z"
         },
         {
          "empty_slots": 12,
          "extra": {
           "address": "ул. Кржижановского, вл.22, стр.2",
           "ebikes": 0,
           "electric_free": 0,
           "electric_slots": 0,
           "normal_bikes": 0,
           "normal_free": 12,
           "normal_slots": 12,
           "slots": 12,
           "uid": "0305"
          },
          "free_bikes": 0,
          "id": "7b487d48c954cc785f37d71891887f4c",
          "latitude": 55.678373,
          "longitude": 37.5745946,
          "name": "ул. Кржижановского, вл.22, стр.2",
          "timestamp": "2023-02-20T14:49:22.136000Z"
         },
         {
          "empty_slots": 22,
          "extra": {
           "address": "ул. Покровка, д.7/9-11",
           "ebikes": 0,
           "electric_free": 0,
           "electric_slots": 0,
           "normal_bikes": 0,
           "normal_free": 22,
           "normal_slots": 22,
           "slots": 22,
           "uid": "0039"
          },
          "free_bikes": 0,
          "id": "5c762b01d91189a4e67c8dbbaf9ffee0",
          "latitude": 55.759038,
          "longitude": 37.642574,
          "name": "ул. Покровка, д.7/9-11",
          "timestamp": "2023-02-20T14:49:22.137000Z"
         },
         {
          "empty_slots": 24,
          "extra": {
           "address": "Университетская пл. (напротив ГЗ МГУ)",
           "ebikes": 0,
           "electric_free": 0,
           "electric_slots": 0,
           "normal_bikes": 0,
           "normal_free": 24,
           "normal_slots": 24,
           "slots": 24,
           "uid": "0349"
          },
          "free_bikes": 0,
          "id": "f3df034fabe4ae3e679b100a8239df6e",
          "latitude": 55.706203,
          "longitude": 37.535522,
          "name": "Университетская пл. (напротив ГЗ МГУ)",
          "timestamp": "2023-02-20T14:49:22.138000Z"
         },
         {
          "empty_slots": 18,
          "extra": {
           "address": "ул. Профсоюзная, д.91 (ст. м. Беляево, южный вестибюль)",
           "ebikes": 0,
           "electric_free": 0,
           "electric_slots": 0,
           "normal_bikes": 0,
           "normal_free": 18,
           "normal_slots": 18,
           "slots": 18,
           "uid": "0382"
          },
          "free_bikes": 0,
          "id": "cebcc6abdd46b372480aee7f3e209d50",
          "latitude": 55.642252,
          "longitude": 37.526472,
          "name": "ул. Профсоюзная, д.91 (ст. м. Беляево, южный вестибюль)",
          "timestamp": "2023-02-20T14:49:22.139000Z"
         },
         {
          "empty_slots": 12,
          "extra": {
           "address": "ул. Введенского, д.13А",
           "ebikes": 0,
           "electric_free": 0,
           "electric_slots": 0,
           "normal_bikes": 0,
           "normal_free": 12,
           "normal_slots": 12,
           "slots": 12,
           "uid": "0379"
          },
          "free_bikes": 0,
          "id": "85f3ec27ce04299fc9ff1a0492256b2b",
          "latitude": 55.642636,
          "longitude": 37.541377,
          "name": "ул. Введенского, д.13А",
          "timestamp": "2023-02-20T14:49:22.140000Z"
         },
         {
          "empty_slots": 24,
          "extra": {
           "address": "ул. Косыгина, д.18, стр.1",
           "ebikes": 0,
           "electric_free": 0,
           "electric_slots": 0,
           "normal_bikes": 0,
           "normal_free": 24,
           "normal_slots": 24,
           "slots": 24,
           "uid": "0343"
          },
          "free_bikes": 0,
          "id": "656c07164fdc420092fadcc6c63e2d49",
          "latitude": 55.706491,
          "longitude": 37.554776,
          "name": "ул. Косыгина, д.18, стр.1",
          "timestamp": "2023-02-20T14:49:22.140000Z"
         },
         {
          "empty_slots": 12,
          "extra": {
           "address": "Ленинский пр-т, д.79",
           "ebikes": 0,
           "electric_free": 0,
           "electric_slots": 0,
           "normal_bikes": 0,
           "normal_free": 12,
           "normal_slots": 12,
           "slots": 12,
           "uid": "0321"
          },
          "free_bikes": 0,
          "id": "9adfd982c04a8a652a79c95adc62f035",
          "latitude": 55.6841473,
          "longitude": 37.540695,
          "name": "Ленинский пр-т, д.79",
          "timestamp": "2023-02-20T14:49:22.141000Z"
         },
         {
          "empty_slots": 12,
          "extra": {
           "address": "ул. Профсоюзная, д.7/12",
           "ebikes": 0,
           "electric_free": 0,
           "electric_slots": 0,
           "normal_bikes": 0,
           "normal_free": 12,
           "normal_slots": 12,
           "slots": 12,
           "uid": "0330"
          },
          "free_bikes": 0,
          "id": "b293925cde3a9ff52e5f60387b876909",
          "latitude": 55.6843417,
          "longitude": 37.5701523,
          "name": "ул. Профсоюзная, д.7/12",
          "timestamp": "2023-02-20T14:49:22.142000Z"
         },
         {
          "empty_slots": 12,
          "extra": {
           "address": "ул. Профсоюзная, д.46, к.1",
           "ebikes": 0,
           "electric_free": 0,
           "electric_slots": 0,
           "normal_bikes": 0,
           "normal_free": 12,
           "normal_slots": 12,
           "slots": 12,
           "uid": "0331"
          },
          "free_bikes": 0,
          "id": "81699c0426152faa15795faa8ff09fbe",
          "latitude": 55.6736328,
          "longitude": 37.557668,
          "name": "ул. Профсоюзная, д.46, к.1",
          "timestamp": "2023-02-20T14:49:22.142000Z"
         },
         {
          "empty_slots": 24,
          "extra": {
           "address": "ул. Профсоюзная, д.58/32, к.2 (ст. м. Новые Черёмушки, выход №3)",
           "ebikes": 0,
           "electric_free": 0,
           "electric_slots": 0,
           "normal_bikes": 0,
           "normal_free": 24,
           "normal_slots": 24,
           "slots": 24,
           "uid": "0332"
          },
          "free_bikes": 0,
          "id": "9ad7aeae470d3bdd2c71dead401d1d24",
          "latitude": 55.6689814,
          "longitude": 37.5529925,
          "name": "ул. Профсоюзная, д.58/32, к.2 (ст. м. Новые Черёмушки, выход №3)",
          "timestamp": "2023-02-20T14:49:22.143000Z"
         },
         {
          "empty_slots": 18,
          "extra": {
           "address": "ул. Профсоюзная, д.61А (ст. м. Калужская)",
           "ebikes": 0,
           "electric_free": 0,
           "electric_slots": 0,
           "normal_bikes": 0,
           "normal_free": 18,
           "normal_slots": 18,
           "slots": 18,
           "uid": "0333"
          },
          "free_bikes": 0,
          "id": "708f3b951df10027c09d95e1f3e2b48e",
          "latitude": 55.6560575,
          "longitude": 37.5397093,
          "name": "ул. Профсоюзная, д.61А (ст. м. Калужская)",
          "timestamp": "2023-02-20T14:49:22.144000Z"
         },
         {
          "empty_slots": 12,
          "extra": {
           "address": "ул. Академика Королёва, д.12Б",
           "ebikes": 0,
           "electric_free": 0,
           "electric_slots": 0,
           "normal_bikes": 0,
           "normal_free": 12,
           "normal_slots": 12,
           "slots": 12,
           "uid": "0471"
          },
          "free_bikes": 0,
          "id": "97e0d50b7552e98f99c731a7dd812cbd",
          "latitude": 55.8218255,
          "longitude": 37.6095579,
          "name": "ул. Академика Королёва, д.12Б",
          "timestamp": "2023-02-20T14:49:22.145000Z"
         },
         {
          "empty_slots": 12,
          "extra": {
           "address": "Звёздный б-р, д.18/1",
           "ebikes": 0,
           "electric_free": 0,
           "electric_slots": 0,
           "normal_bikes": 0,
           "normal_free": 12,
           "normal_slots": 12,
           "slots": 12,
           "uid": "0472"
          },
          "free_bikes": 0,
          "id": "7a0d61bd7098fff8d6e9462128e7ae91",
          "latitude": 55.8154706,
          "longitude": 37.6299313,
          "name": "Звёздный б-р, д.18/1",
          "timestamp": "2023-02-20T14:49:22.146000Z"
         },
         {
          "empty_slots": 12,
          "extra": {
           "address": "ул. Шереметьевская, д.2 (ст. м. Марьина Роща, выход №5)",
           "ebikes": 0,
           "electric_free": 0,
           "electric_slots": 0,
           "normal_bikes": 0,
           "normal_free": 12,
           "normal_slots": 12,
           "slots": 12,
           "uid": "0417"
          },
          "free_bikes": 0,
          "id": "31d718005a1c5bc4596e70fb4e26b938",
          "latitude": 55.7935234,
          "longitude": 37.6168972,
          "name": "ул. Шереметьевская, д.2 (ст. м. Марьина Роща, выход №5)",
          "timestamp": "2023-02-20T14:49:22.147000Z"
         },
         {
          "empty_slots": 12,
          "extra": {
           "address": "ул. Верхняя Радищевская, д.22 (ст. м. Таганская)",
           "ebikes": 0,
           "electric_free": 0,
           "electric_slots": 0,
           "normal_bikes": 0,
           "normal_free": 12,
           "normal_slots": 12,
           "slots": 12,
           "uid": "0146"
          },
          "free_bikes": 0,
          "id": "5b56ca6b37db6cb871de0ea3c7195105",
          "latitude": 55.74229,
          "longitude": 37.65385,
          "name": "ул. Верхняя Радищевская, д.22 (ст. м. Таганская)",
          "timestamp": "2023-02-20T14:49:22.148000Z"
         },
         {
          "empty_slots": 12,
          "extra": {
           "address": "Нахимовский пр-т, д.45, стр.1",
           "ebikes": 0,
           "electric_free": 0,
           "electric_slots": 0,
           "normal_bikes": 0,
           "normal_free": 12,
           "normal_slots": 12,
           "slots": 12,
           "uid": "0393"
          },
          "free_bikes": 0,
          "id": "7298a6807b71d24d172193ecd3f8969d",
          "latitude": 55.6748694,
          "longitude": 37.5708842,
          "name": "Нахимовский пр-т, д.45, стр.1",
          "timestamp": "2023-02-20T14:49:22.148000Z"
         },
         {
          "empty_slots": 18,
          "extra": {
           "address": "ул. Малая Грузинская, д.19/2",
           "ebikes": 0,
           "electric_free": 0,
           "electric_slots": 0,
           "normal_bikes": 0,
           "normal_free": 18,
           "normal_slots": 18,
           "slots": 18,
           "uid": "0236"
          },
          "free_bikes": 0,
          "id": "0b49286980e24151696700ef1c46e209",
          "latitude": 55.7654099,
          "longitude": 37.5719413,
          "name": "ул. Малая Грузинская, д.19/2",
          "timestamp": "2023-02-20T14:49:22.149000Z"
         },
         {
          "empty_slots": 12,
          "extra": {
           "address": "ул. Обручева, д.16, к.1",
           "ebikes": 0,
           "electric_free": 0,
           "electric_slots": 0,
           "normal_bikes": 0,
           "normal_free": 12,
           "normal_slots": 12,
           "slots": 12,
           "uid": "0339"
          },
          "free_bikes": 0,
          "id": "1e89f515523f5ef753c55abe6a39e6e2",
          "latitude": 55.6589469,
          "longitude": 37.5145855,
          "name": "ул. Обручева, д.16, к.1",
          "timestamp": "2023-02-20T14:49:22.150000Z"
         },
         {
          "empty_slots": 18,
          "extra": {
           "address": "ст. м. Сокольники",
           "ebikes": 0,
           "electric_free": 0,
           "electric_slots": 0,
           "normal_bikes": 0,
           "normal_free": 18,
           "normal_slots": 18,
           "slots": 18,
           "uid": "0489"
          },
          "free_bikes": 0,
          "id": "3674992733196b51766d06f0cb3154d8",
          "latitude": 55.789152,
          "longitude": 37.679857,
          "name": "ст. м. Сокольники",
          "timestamp": "2023-02-20T14:49:22.151000Z"
         },
         {
          "empty_slots": 12,
          "extra": {
           "address": "ул. Руставели (напротив д.6, к.5)",
           "ebikes": 0,
           "electric_free": 0,
           "electric_slots": 0,
           "normal_bikes": 0,
           "normal_free": 12,
           "normal_slots": 12,
           "slots": 12,
           "uid": "0484"
          },
          "free_bikes": 0,
          "id": "f62606a235efd8e713d631faa3b22d17",
          "latitude": 55.8126995,
          "longitude": 37.5880136,
          "name": "ул. Руставели (напротив д.6, к.5)",
          "timestamp": "2023-02-20T14:49:22.152000Z"
         },
         {
          "empty_slots": 12,
          "extra": {
           "address": "ул. Черняховского, д.4А",
           "ebikes": 0,
           "electric_free": 0,
           "electric_slots": 0,
           "normal_bikes": 0,
           "normal_free": 12,
           "normal_slots": 12,
           "slots": 12,
           "uid": "0528"
          },
          "free_bikes": 0,
          "id": "4c228461e862be1d12004c2111c3385e",
          "latitude": 55.80364,
          "longitude": 37.53454,
          "name": "ул. Черняховского, д.4А",
          "timestamp": "2023-02-20T14:49:22.153000Z"
         },
         {
          "empty_slots": 12,
          "extra": {
           "address": "ул. Гарибальди, д.6, к.1",
           "ebikes": 0,
           "electric_free": 0,
           "electric_slots": 0,
           "normal_bikes": 0,
           "normal_free": 12,
           "normal_slots": 12,
           "slots": 12,
           "uid": "0329"
          },
          "free_bikes": 0,
          "id": "2e3753f614660762bdf31faab237470d",
          "latitude": 55.6760559,
          "longitude": 37.5372313,
          "name": "ул. Гарибальди, д.6, к.1",
          "timestamp": "2023-02-20T14:49:22.153000Z"
         },
         {
          "empty_slots": 12,
          "extra": {
           "address": "Симферопольский б-р, д.15, к.5",
           "ebikes": 0,
           "electric_free": 0,
           "electric_slots": 0,
           "normal_bikes": 0,
           "normal_free": 12,
           "normal_slots": 12,
           "slots": 12,
           "uid": "0399"
          },
          "free_bikes": 0,
          "id": "d47f6f1d0b876cb652978fa2db62406b",
          "latitude": 55.653513,
          "longitude": 37.6057778,
          "name": "Симферопольский б-р, д.15, к.5",
          "timestamp": "2023-02-20T14:49:22.154000Z"
         },
         {
          "empty_slots": 12,
          "extra": {
           "address": "ул. Вавилова, д.17",
           "ebikes": 0,
           "electric_free": 0,
           "electric_slots": 0,
           "normal_bikes": 0,
           "normal_free": 12,
           "normal_slots": 12,
           "slots": 12,
           "uid": "0308"
          },
          "free_bikes": 0,
          "id": "973189f1b99bd69666011edc2b1001bb",
          "latitude": 55.7015839,
          "longitude": 37.579688,
          "name": "ул. Вавилова, д.17",
          "timestamp": "2023-02-20T14:49:22.155000Z"
         },
         {
          "empty_slots": 21,
          "extra": {
           "address": "ул. Мосфильмовская, д.1, стр.4",
           "ebikes": 0,
           "electric_free": 0,
           "electric_slots": 0,
           "normal_bikes": 0,
           "normal_free": 21,
           "normal_slots": 21,
           "slots": 21,
           "uid": "0342"
          },
          "free_bikes": 0,
          "id": "ad1d1dffd51d164bb388d0498607aaf8",
          "latitude": 55.7233339,
          "longitude": 37.5300029,
          "name": "ул. Мосфильмовская, д.1, стр.4",
          "timestamp": "2023-02-20T14:49:22.155000Z"
         },
         {
          "empty_slots": 24,
          "extra": {
           "address": "ул. Сокольнический Вал, д.8",
           "ebikes": 0,
           "electric_free": 0,
           "electric_slots": 0,
           "normal_bikes": 0,
           "normal_free": 24,
           "normal_slots": 24,
           "slots": 24,
           "uid": "0478"
          },
          "free_bikes": 0,
          "id": "23a40f8b6cd50660ad88596b7f13cddc",
          "latitude": 55.7925135,
          "longitude": 37.6599869,
          "name": "ул. Сокольнический Вал, д.8",
          "timestamp": "2023-02-20T14:49:22.157000Z"
         },
         {
          "empty_slots": 15,
          "extra": {
           "address": "ул. Стромынка, д.13 (пересеч. с ул. Короленко)",
           "ebikes": 0,
           "electric_free": 0,
           "electric_slots": 0,
           "normal_bikes": 0,
           "normal_free": 15,
           "normal_slots": 15,
           "slots": 15,
           "uid": "0491"
          },
          "free_bikes": 0,
          "id": "3967b06da4ed9e9624c96ab2d2e67127",
          "latitude": 55.7940252,
          "longitude": 37.6944615,
          "name": "ул. Стромынка, д.13 (пересеч. с ул. Короленко)",
          "timestamp": "2023-02-20T14:49:22.158000Z"
         },
         {
          "empty_slots": 15,
          "extra": {
           "address": "ул. Стромынка, д.20 (Технологический университет)",
           "ebikes": 0,
           "electric_free": 0,
           "electric_slots": 0,
           "normal_bikes": 0,
           "normal_free": 15,
           "normal_slots": 15,
           "slots": 15,
           "uid": "0492"
          },
          "free_bikes": 0,
          "id": "6298f2ed874fee8da6afd2a39bf24cfd",
          "latitude": 55.7943402,
          "longitude": 37.6994467,
          "name": "ул. Стромынка, д.20 (Технологический университет)",
          "timestamp": "2023-02-20T14:49:22.158000Z"
         },
         {
          "empty_slots": 18,
          "extra": {
           "address": "пр-т Мира, д.102, к.2",
           "ebikes": 0,
           "electric_free": 0,
           "electric_slots": 0,
           "normal_bikes": 0,
           "normal_free": 18,
           "normal_slots": 18,
           "slots": 18,
           "uid": "0434"
          },
          "free_bikes": 0,
          "id": "0fa61c446116e1b0ea944370e0fcd753",
          "latitude": 55.8016402,
          "longitude": 37.6363469,
          "name": "пр-т Мира, д.102, к.2",
          "timestamp": "2023-02-20T14:49:22.159000Z"
         },
         {
          "empty_slots": 24,
          "extra": {
           "address": "ул. Краснопрудная, д.13А (ст. м. Красносельская)",
           "ebikes": 0,
           "electric_free": 0,
           "electric_slots": 0,
           "normal_bikes": 0,
           "normal_free": 24,
           "normal_slots": 24,
           "slots": 24,
           "uid": "0455"
          },
          "free_bikes": 0,
          "id": "0062d561dc4cccaade9fddd0214e9366",
          "latitude": 55.7798124,
          "longitude": 37.6661093,
          "name": "ул. Краснопрудная, д.13А (ст. м. Красносельская)",
          "timestamp": "2023-02-20T14:49:22.160000Z"
         },
         {
          "empty_slots": 24,
          "extra": {
           "address": "пр-т Мира, д.114Б, стр.2 (ст. м. Алексеевская)",
           "ebikes": 0,
           "electric_free": 0,
           "electric_slots": 0,
           "normal_bikes": 0,
           "normal_free": 24,
           "normal_slots": 24,
           "slots": 24,
           "uid": "0435"
          },
          "free_bikes": 0,
          "id": "0200410800e554745b7166109c078d69",
          "latitude": 55.807908,
          "longitude": 37.6376553,
          "name": "пр-т Мира, д.114Б, стр.2 (ст. м. Алексеевская)",
          "timestamp": "2023-02-20T14:49:22.160000Z"
         },
         {
          "empty_slots": 21,
          "extra": {
           "address": "ул. Бауманская, д.33/2 (ст. м. Бауманская)",
           "ebikes": 0,
           "electric_free": 0,
           "electric_slots": 0,
           "normal_bikes": 0,
           "normal_free": 21,
           "normal_slots": 21,
           "slots": 21,
           "uid": "0457"
          },
          "free_bikes": 0,
          "id": "40e2615289de37474e1ffe4114175406",
          "latitude": 55.772242,
          "longitude": 37.6788565,
          "name": "ул. Бауманская, д.33/2 (ст. м. Бауманская)",
          "timestamp": "2023-02-20T14:49:22.161000Z"
         },
         {
          "empty_slots": 30,
          "extra": {
           "address": "пр-т Мира, д.92, стр.2 (ст. м. Рижская)",
           "ebikes": 0,
           "electric_free": 0,
           "electric_slots": 0,
           "normal_bikes": 0,
           "normal_free": 30,
           "normal_slots": 30,
           "slots": 30,
           "uid": "0433"
          },
          "free_bikes": 0,
          "id": "a1ecc44a4e2cec84595a3d9e75569113",
          "latitude": 55.7922984,
          "longitude": 37.635781,
          "name": "пр-т Мира, д.92, стр.2 (ст. м. Рижская)",
          "timestamp": "2023-02-20T14:49:22.162000Z"
         },
         {
          "empty_slots": 12,
          "extra": {
           "address": "ул. Люсиновская, д.48/50, к.10 (пересеч. с ул. Павла Андреева)",
           "ebikes": 0,
           "electric_free": 0,
           "electric_slots": 0,
           "normal_bikes": 0,
           "normal_free": 12,
           "normal_slots": 12,
           "slots": 12,
           "uid": "0262"
          },
          "free_bikes": 0,
          "id": "77ba296275b01a0b6fc2f12f60000be2",
          "latitude": 55.7209237,
          "longitude": 37.6220242,
          "name": "ул. Люсиновская, д.48/50, к.10 (пересеч. с ул. Павла Андреева)",
          "timestamp": "2023-02-20T14:49:22.163000Z"
         },
         {
          "empty_slots": 27,
          "extra": {
           "address": "Болотная пл. (напротив к/т Ударник)",
           "ebikes": 0,
           "electric_free": 0,
           "electric_slots": 0,
           "normal_bikes": 0,
           "normal_free": 27,
           "normal_slots": 27,
           "slots": 27,
           "uid": "0082"
          },
          "free_bikes": 0,
          "id": "4f99754747ba8baf9dd38f357fc11955",
          "latitude": 55.744008,
          "longitude": 37.615425,
          "name": "Болотная пл. (напротив к/т Ударник)",
          "timestamp": "2023-02-20T14:49:22.163000Z"
         },
         {
          "empty_slots": 12,
          "extra": {
           "address": "й Добрынинский пер., д.2/10",
           "ebikes": 0,
           "electric_free": 0,
           "electric_slots": 0,
           "normal_bikes": 0,
           "normal_free": 12,
           "normal_slots": 12,
           "slots": 12,
           "uid": "0261"
          },
          "free_bikes": 0,
          "id": "4f4e26262c79bad9d2d03c69d271fcea",
          "latitude": 55.7273527,
          "longitude": 37.6197354,
          "name": "4-й Добрынинский пер., д.2/10",
          "timestamp": "2023-02-20T14:49:22.164000Z"
         },
         {
          "empty_slots": 9,
          "extra": {
           "address": "я Рыбинская ул., д.30",
           "ebikes": 0,
           "electric_free": 0,
           "electric_slots": 0,
           "normal_bikes": 0,
           "normal_free": 9,
           "normal_slots": 9,
           "slots": 9,
           "uid": "0477"
          },
          "free_bikes": 0,
          "id": "d81a04ae10ac8f0190af76049b0bffc2",
          "latitude": 55.7888271,
          "longitude": 37.663779,
          "name": "3-я Рыбинская ул., д.30",
          "timestamp": "2023-02-20T14:49:22.165000Z"
         },
         {
          "empty_slots": 15,
          "extra": {
           "address": "ул. Планетная, д.49",
           "ebikes": 0,
           "electric_free": 0,
           "electric_slots": 0,
           "normal_bikes": 0,
           "normal_free": 15,
           "normal_slots": 15,
           "slots": 15,
           "uid": "0527"
          },
          "free_bikes": 0,
          "id": "62be7980179e828d622c7fd421329493",
          "latitude": 55.8063388,
          "longitude": 37.5382933,
          "name": "ул. Планетная, д.49",
          "timestamp": "2023-02-20T14:49:22.165000Z"
         },
         {
          "empty_slots": 21,
          "extra": {
           "address": "Хорошёвское ш., д.82 (ст. м. Полежаевская)",
           "ebikes": 0,
           "electric_free": 0,
           "electric_slots": 0,
           "normal_bikes": 0,
           "normal_free": 21,
           "normal_slots": 21,
           "slots": 21,
           "uid": "0500"
          },
          "free_bikes": 0,
          "id": "25798acf319d5d08d269cbf078bcf86d",
          "latitude": 55.7779297,
          "longitude": 37.5212052,
          "name": "Хорошёвское ш., д.82 (ст. м. Полежаевская)",
          "timestamp": "2023-02-20T14:49:22.166000Z"
         },
         {
          "empty_slots": 8,
          "extra": {
           "address": "Покровский б-р (напротив д.8, стр.1)",
           "ebikes": 0,
           "electric_free": 0,
           "electric_slots": 0,
           "normal_bikes": 0,
           "normal_free": 8,
           "normal_slots": 8,
           "slots": 8,
           "uid": "0019"
          },
          "free_bikes": 0,
          "id": "9fb2b4997f388f0b46448e9660286333",
          "latitude": 55.757313,
          "longitude": 37.647211,
          "name": "Покровский б-р (напротив д.8, стр.1)",
          "timestamp": "2023-02-20T14:49:22.167000Z"
         },
         {
          "empty_slots": 14,
          "extra": {
           "address": "Камергерский пер., д.4",
           "ebikes": 0,
           "electric_free": 0,
           "electric_slots": 0,
           "normal_bikes": 0,
           "normal_free": 14,
           "normal_slots": 14,
           "slots": 14,
           "uid": "0030"
          },
          "free_bikes": 0,
          "id": "78e8d5afc15a3ed01ea73771d61e9319",
          "latitude": 55.759361,
          "longitude": 37.612442,
          "name": "Камергерский пер., д.4",
          "timestamp": "2023-02-20T14:49:22.168000Z"
         },
         {
          "empty_slots": 12,
          "extra": {
           "address": "ул. Островитянова, д.29/120 (ст. м. Коньково, выход №8)",
           "ebikes": 0,
           "electric_free": 0,
           "electric_slots": 0,
           "normal_bikes": 0,
           "normal_free": 12,
           "normal_slots": 12,
           "slots": 12,
           "uid": "0386"
          },
          "free_bikes": 0,
          "id": "3dd69fbc931254ecd2f1334cc6d33d59",
          "latitude": 55.6345077,
          "longitude": 37.520142,
          "name": "ул. Островитянова, д.29/120 (ст. м. Коньково, выход №8)",
          "timestamp": "2023-02-20T14:49:22.169000Z"
         },
         {
          "empty_slots": 12,
          "extra": {
           "address": "ул. Новослободская, д.11, стр.1",
           "ebikes": 0,
           "electric_free": 0,
           "electric_slots": 0,
           "normal_bikes": 0,
           "normal_free": 12,
           "normal_slots": 12,
           "slots": 12,
           "uid": "0406"
          },
          "free_bikes": 0,
          "id": "5faee577179b8d15c50eebb7a83d3693",
          "latitude": 55.7798721,
          "longitude": 37.6002618,
          "name": "ул. Новослободская, д.11, стр.1",
          "timestamp": "2023-02-20T14:49:22.169000Z"
         },
         {
          "empty_slots": 33,
          "extra": {
           "address": "Смоленская наб., д.2",
           "ebikes": 0,
           "electric_free": 0,
           "electric_slots": 0,
           "normal_bikes": 0,
           "normal_free": 33,
           "normal_slots": 33,
           "slots": 33,
           "uid": "0240"
          },
          "free_bikes": 0,
          "id": "289eee0dc1857f3dc305d9ade6d790c3",
          "latitude": 55.7460166,
          "longitude": 37.5757323,
          "name": "Смоленская наб., д.2",
          "timestamp": "2023-02-20T14:49:22.170000Z"
         },
         {
          "empty_slots": 27,
          "extra": {
           "address": "Краснопресненская наб., д.10, стр.5",
           "ebikes": 0,
           "electric_free": 0,
           "electric_slots": 0,
           "normal_bikes": 0,
           "normal_free": 27,
           "normal_slots": 27,
           "slots": 27,
           "uid": "0226"
          },
          "free_bikes": 0,
          "id": "03ec6f6161b2711b2252a69a643fb5d9",
          "latitude": 55.7540692,
          "longitude": 37.5605165,
          "name": "Краснопресненская наб., д.10, стр.5",
          "timestamp": "2023-02-20T14:49:22.171000Z"
         },
         {
          "empty_slots": 18,
          "extra": {
           "address": "ул. Земляной Вал, д.14/16, стр.1",
           "ebikes": 0,
           "electric_free": 0,
           "electric_slots": 0,
           "normal_bikes": 0,
           "normal_free": 18,
           "normal_slots": 18,
           "slots": 18,
           "uid": "0138"
          },
          "free_bikes": 0,
          "id": "b3965c81ce3597f5559dc2a176685da8",
          "latitude": 55.7610338,
          "longitude": 37.6571565,
          "name": "ул. Земляной Вал, д.14/16, стр.1",
          "timestamp": "2023-02-20T14:49:22.172000Z"
         },
         {
          "empty_slots": 36,
          "extra": {
           "address": "Бережковская наб., д.20, стр.19",
           "ebikes": 0,
           "electric_free": 24,
           "electric_slots": 24,
           "has_ebikes": true,
           "normal_bikes": 0,
           "normal_free": 12,
           "normal_slots": 12,
           "slots": 36,
           "uid": "0243"
          },
          "free_bikes": 0,
          "id": "6a685b441d9e1347563cf8eac1fd5841",
          "latitude": 55.7331476,
          "longitude": 37.5517684,
          "name": "Бережковская наб., д.20, стр.19",
          "timestamp": "2023-02-20T14:49:22.172000Z"
         },
         {
          "empty_slots": 27,
          "extra": {
           "address": "Краснопресненская наб., д.14, стр.1",
           "ebikes": 0,
           "electric_free": 0,
           "electric_slots": 0,
           "normal_bikes": 0,
           "normal_free": 27,
           "normal_slots": 27,
           "slots": 27,
           "uid": "0224"
          },
          "free_bikes": 0,
          "id": "daba147fdb383c2f1c188692b13d34d8",
          "latitude": 55.748965,
          "longitude": 37.5465367,
          "name": "Краснопресненская наб., д.14, стр.1",
          "timestamp": "2023-02-20T14:49:22.173000Z"
         },
         {
          "empty_slots": 45,
          "extra": {
           "address": "Зубовская пл., д.3, стр.1",
           "ebikes": 0,
           "electric_free": 21,
           "electric_slots": 21,
           "has_ebikes": true,
           "normal_bikes": 0,
           "normal_free": 24,
           "normal_slots": 24,
           "slots": 45,
           "uid": "0102"
          },
          "free_bikes": 0,
          "id": "eb13a3bfe40cabab184b0d7b598e69e0",
          "latitude": 55.7383154,
          "longitude": 37.5861519,
          "name": "Зубовская пл., д.3, стр.1",
          "timestamp": "2023-02-20T14:49:22.174000Z"
         },
         {
          "empty_slots": 12,
          "extra": {
           "address": "ул. Большая Никитская (напротив д.13)",
           "ebikes": 0,
           "electric_free": 0,
           "electric_slots": 0,
           "normal_bikes": 0,
           "normal_free": 12,
           "normal_slots": 12,
           "slots": 12,
           "uid": "0027"
          },
          "free_bikes": 0,
          "id": "9bee29e68d1243ee2a4810f47668e90c",
          "latitude": 55.7566653,
          "longitude": 37.6046504,
          "name": "ул. Большая Никитская (напротив д.13)",
          "timestamp": "2023-02-20T14:49:22.175000Z"
         },
         {
          "empty_slots": 30,
          "extra": {
           "address": "ул. Большая Якиманка, д.16 (ст. м. Октябрьская (радиальная))",
           "ebikes": 0,
           "electric_free": 0,
           "electric_slots": 0,
           "normal_bikes": 0,
           "normal_free": 30,
           "normal_slots": 30,
           "slots": 30,
           "uid": "0059"
          },
          "free_bikes": 0,
          "id": "aab197684ed18d02b645ea19f2b23140",
          "latitude": 55.730772,
          "longitude": 37.612528,
          "name": "ул. Большая Якиманка, д.16 (ст. м. Октябрьская (радиальная))",
          "timestamp": "2023-02-20T14:49:22.175000Z"
         },
         {
          "empty_slots": 16,
          "extra": {
           "address": "ул. Садовая-Спасская (напротив д.26)",
           "ebikes": 0,
           "electric_free": 0,
           "electric_slots": 0,
           "normal_bikes": 2,
           "normal_free": 16,
           "normal_slots": 18,
           "slots": 18,
           "uid": "0128"
          },
          "free_bikes": 2,
          "id": "16ab548ea232f319d44803457ff9300e",
          "latitude": 55.7703931,
          "longitude": 37.6429131,
          "name": "ул. Садовая-Спасская (напротив д.26)",
          "timestamp": "2023-02-20T14:49:22.176000Z"
         },
         {
          "empty_slots": 12,
          "extra": {
           "address": "ул. Малая Грузинская, д.41",
           "ebikes": 0,
           "electric_free": 0,
           "electric_slots": 0,
           "normal_bikes": 0,
           "normal_free": 12,
           "normal_slots": 12,
           "slots": 12,
           "uid": "0230"
          },
          "free_bikes": 0,
          "id": "ab3d89417eb8c4e8083dc1a3b8d0276c",
          "latitude": 55.7724736,
          "longitude": 37.5730793,
          "name": "ул. Малая Грузинская, д.41",
          "timestamp": "2023-02-20T14:49:22.177000Z"
         },
         {
          "empty_slots": 12,
          "extra": {
           "address": "ул. Старая Басманная, д.21/4, стр.1",
           "ebikes": 0,
           "electric_free": 0,
           "electric_slots": 0,
           "normal_bikes": 0,
           "normal_free": 12,
           "normal_slots": 12,
           "slots": 12,
           "uid": "0458"
          },
          "free_bikes": 0,
          "id": "997e20573f1ddfa7db66694351c95d8b",
          "latitude": 55.7671544,
          "longitude": 37.6641747,
          "name": "ул. Старая Басманная, д.21/4, стр.1",
          "timestamp": "2023-02-20T14:49:22.178000Z"
         },
         {
          "empty_slots": 12,
          "extra": {
           "address": "Краснопресненская наб., д.16, стр.1",
           "ebikes": 0,
           "electric_free": 0,
           "electric_slots": 0,
           "normal_bikes": 0,
           "normal_free": 12,
           "normal_slots": 12,
           "slots": 12,
           "uid": "0750"
          },
          "free_bikes": 0,
          "id": "38a38e553fde3666c003990fba48378e",
          "latitude": 55.747807,
          "longitude": 37.543724,
          "name": "Краснопресненская наб., д.16, стр.1",
          "timestamp": "2023-02-20T14:49:22.178000Z"
         },
         {
          "empty_slots": 10,
          "extra": {
           "address": "Столешников пер. (напротив д.11)",
           "ebikes": 0,
           "electric_free": 0,
           "electric_slots": 0,
           "normal_bikes": 0,
           "normal_free": 10,
           "normal_slots": 10,
           "slots": 10,
           "uid": "0033"
          },
          "free_bikes": 0,
          "id": "b17c8f55d8062c045c342ba8cb2a9fb4",
          "latitude": 55.763407,
          "longitude": 37.61731,
          "name": "Столешников пер. (напротив д.11)",
          "timestamp": "2023-02-20T14:49:22.179000Z"
         },
         {
          "empty_slots": 12,
          "extra": {
           "address": "ул. Мантулинская, д.2",
           "ebikes": 0,
           "electric_free": 0,
           "electric_slots": 0,
           "normal_bikes": 0,
           "normal_free": 12,
           "normal_slots": 12,
           "slots": 12,
           "uid": "0222"
          },
          "free_bikes": 0,
          "id": "4e29261d21fe00195129005bc42950ff",
          "latitude": 55.75685,
          "longitude": 37.558939,
          "name": "ул. Мантулинская, д.2",
          "timestamp": "2023-02-20T14:49:22.181000Z"
         },
         {
          "empty_slots": 12,
          "extra": {
           "address": "Варшавское ш., д.100",
           "ebikes": 0,
           "electric_free": 0,
           "electric_slots": 0,
           "normal_bikes": 0,
           "normal_free": 12,
           "normal_slots": 12,
           "slots": 12,
           "uid": "0388"
          },
          "free_bikes": 0,
          "id": "e9a2479f63025f838500f0426a037f98",
          "latitude": 55.6452564,
          "longitude": 37.6192664,
          "name": "Варшавское ш., д.100",
          "timestamp": "2023-02-20T14:49:22.181000Z"
         },
         {
          "empty_slots": 12,
          "extra": {
           "address": "ул. Гашека, д.2, стр.1",
           "ebikes": 0,
           "electric_free": 0,
           "electric_slots": 0,
           "normal_bikes": 0,
           "normal_free": 12,
           "normal_slots": 12,
           "slots": 12,
           "uid": "0233"
          },
          "free_bikes": 0,
          "id": "39cb09032f33eda18a0a0a1e6946baae",
          "latitude": 55.767711,
          "longitude": 37.587921,
          "name": "ул. Гашека, д.2, стр.1",
          "timestamp": "2023-02-20T14:49:22.182000Z"
         },
         {
          "empty_slots": 11,
          "extra": {
           "address": "ул. Дмитрия Ульянова, д.32А",
           "ebikes": 0,
           "electric_free": 0,
           "electric_slots": 0,
           "normal_bikes": 1,
           "normal_free": 11,
           "normal_slots": 12,
           "slots": 12,
           "uid": "0395"
          },
          "free_bikes": 1,
          "id": "7e4822f2fe6f30c69548c1a0693db1fa",
          "latitude": 55.6845728,
          "longitude": 37.5828562,
          "name": "ул. Дмитрия Ульянова, д.32А",
          "timestamp": "2023-02-20T14:49:22.183000Z"
         },
         {
          "empty_slots": 12,
          "extra": {
           "address": "ул. Болотниковская, д.34",
           "ebikes": 0,
           "electric_free": 0,
           "electric_slots": 0,
           "normal_bikes": 0,
           "normal_free": 12,
           "normal_slots": 12,
           "slots": 12,
           "uid": "0325"
          },
          "free_bikes": 0,
          "id": "e5c579dbfb3d31134560d57d9b9c12a8",
          "latitude": 55.659118,
          "longitude": 37.5942492,
          "name": "ул. Болотниковская, д.34",
          "timestamp": "2023-02-20T14:49:22.183000Z"
         },
         {
          "empty_slots": 15,
          "extra": {
           "address": "Ленинский пр-т, д.69",
           "ebikes": 0,
           "electric_free": 0,
           "electric_slots": 0,
           "normal_bikes": 0,
           "normal_free": 15,
           "normal_slots": 15,
           "slots": 15,
           "uid": "0319"
          },
          "free_bikes": 0,
          "id": "22a61dfc33d7b6b4a878562fa48e19ec",
          "latitude": 55.69062,
          "longitude": 37.550726,
          "name": "Ленинский пр-т, д.69",
          "timestamp": "2023-02-20T14:49:22.184000Z"
         },
         {
          "empty_slots": 12,
          "extra": {
           "address": "ул. Большая Тульская, д.13",
           "ebikes": 0,
           "electric_free": 0,
           "electric_slots": 0,
           "normal_bikes": 0,
           "normal_free": 12,
           "normal_slots": 12,
           "slots": 12,
           "uid": "0272"
          },
          "free_bikes": 0,
          "id": "ed16add4d2d611a8f23b523639a77134",
          "latitude": 55.710801,
          "longitude": 37.622305,
          "name": "ул. Большая Тульская, д.13",
          "timestamp": "2023-02-20T14:49:22.185000Z"
         },
         {
          "empty_slots": 12,
          "extra": {
           "address": "ул. Плющиха, д.39",
           "ebikes": 0,
           "electric_free": 0,
           "electric_slots": 0,
           "normal_bikes": 0,
           "normal_free": 12,
           "normal_slots": 12,
           "slots": 12,
           "uid": "0244"
          },
          "free_bikes": 0,
          "id": "7b6092fcd12ffd7f38227fa258fa329a",
          "latitude": 55.740264,
          "longitude": 37.576753,
          "name": "ул. Плющиха, д.39",
          "timestamp": "2023-02-20T14:49:22.187000Z"
         },
         {
          "empty_slots": 12,
          "extra": {
           "address": "Ломоносовский пр-т (дублёр), пересечение с ул. Лебедева",
           "ebikes": 0,
           "electric_free": 0,
           "electric_slots": 0,
           "normal_bikes": 0,
           "normal_free": 12,
           "normal_slots": 12,
           "slots": 12,
           "uid": "0358"
          },
          "free_bikes": 0,
          "id": "bcae70c8494b4bac92ee98a4a7351842",
          "latitude": 55.698436,
          "longitude": 37.528489,
          "name": "Ломоносовский пр-т (дублёр), пересечение с ул. Лебедева",
          "timestamp": "2023-02-20T14:49:22.188000Z"
         },
         {
          "empty_slots": 12,
          "extra": {
           "address": "Ломоносовский пр-т (дублёр), пересечение с ул. Менделеева",
           "ebikes": 0,
           "electric_free": 0,
           "electric_slots": 0,
           "normal_bikes": 0,
           "normal_free": 12,
           "normal_slots": 12,
           "slots": 12,
           "uid": "0356"
          },
          "free_bikes": 0,
          "id": "f777197b7bd3686c68bcbd117aebe9e3",
          "latitude": 55.701742,
          "longitude": 37.522672,
          "name": "Ломоносовский пр-т (дублёр), пересечение с ул. Менделеева",
          "timestamp": "2023-02-20T14:49:22.189000Z"
         },
         {
          "empty_slots": 12,
          "extra": {
           "address": "ул. Криворожская, д.33Г",
           "ebikes": 0,
           "electric_free": 0,
           "electric_slots": 0,
           "normal_bikes": 0,
           "normal_free": 12,
           "normal_slots": 12,
           "slots": 12,
           "uid": "0353"
          },
          "free_bikes": 0,
          "id": "2a86a63652d2d3a6808ac442e5533cad",
          "latitude": 55.6716545,
          "longitude": 37.6090521,
          "name": "ул. Криворожская, д.33Г",
          "timestamp": "2023-02-20T14:49:22.189000Z"
         },
         {
          "empty_slots": 6,
          "extra": {
           "address": "ул. Льва Толстого, д.14А",
           "ebikes": 0,
           "electric_free": 0,
           "electric_slots": 0,
           "normal_bikes": 0,
           "normal_free": 6,
           "normal_slots": 6,
           "slots": 6,
           "uid": "0252"
          },
          "free_bikes": 0,
          "id": "a5d01c268a9e05795b251a8fdbf93c75",
          "latitude": 55.73311,
          "longitude": 37.58823,
          "name": "ул. Льва Толстого, д.14А",
          "timestamp": "2023-02-20T14:49:22.190000Z"
         },
         {
          "empty_slots": 12,
          "extra": {
           "address": "мкрн. Чертаново Северное, д.4, к.401",
           "ebikes": 0,
           "electric_free": 0,
           "electric_slots": 0,
           "normal_bikes": 0,
           "normal_free": 12,
           "normal_slots": 12,
           "slots": 12,
           "uid": "0378"
          },
          "free_bikes": 0,
          "id": "6ed9a57da5cc488f95b9946c42347aaf",
          "latitude": 55.636752,
          "longitude": 37.594296,
          "name": "мкрн. Чертаново Северное, д.4, к.401",
          "timestamp": "2023-02-20T14:49:22.191000Z"
         },
         {
          "empty_slots": 18,
          "extra": {
           "address": "ул. Миклухо-Маклая, д.44 (вход в Битцевский парк)",
           "ebikes": 0,
           "electric_free": 0,
           "electric_slots": 0,
           "normal_bikes": 0,
           "normal_free": 18,
           "normal_slots": 18,
           "slots": 18,
           "uid": "0383"
          },
          "free_bikes": 0,
          "id": "161bcf9728915d40058ba21a3a4e4268",
          "latitude": 55.637955,
          "longitude": 37.543148,
          "name": "ул. Миклухо-Маклая, д.44 (вход в Битцевский парк)",
          "timestamp": "2023-02-20T14:49:22.192000Z"
         },
         {
          "empty_slots": 12,
          "extra": {
           "address": "ул. Солянка (напротив д.8)",
           "ebikes": 0,
           "electric_free": 0,
           "electric_slots": 0,
           "normal_bikes": 0,
           "normal_free": 12,
           "normal_slots": 12,
           "slots": 12,
           "uid": "0040"
          },
          "free_bikes": 0,
          "id": "1a2495b658684341bab1fafd60fee09e",
          "latitude": 55.753189,
          "longitude": 37.638913,
          "name": "ул. Солянка (напротив д.8)",
          "timestamp": "2023-02-20T14:49:22.194000Z"
         },
         {
          "empty_slots": 12,
          "extra": {
           "address": "Ломоносовский пр-т, д.29, к.3 (ст. м. Ломоносовский пр-т, выход №2)",
           "ebikes": 0,
           "electric_free": 0,
           "electric_slots": 0,
           "normal_bikes": 0,
           "normal_free": 12,
           "normal_slots": 12,
           "slots": 12,
           "uid": "0355"
          },
          "free_bikes": 0,
          "id": "e6d0cfdcec6622b2cc0b4622006b175e",
          "latitude": 55.705293,
          "longitude": 37.514291,
          "name": "Ломоносовский пр-т, д.29, к.3 (ст. м. Ломоносовский пр-т, выход №2)",
          "timestamp": "2023-02-20T14:49:22.194000Z"
         },
         {
          "empty_slots": 36,
          "extra": {
           "address": "ул. Академика Хохлова (у входа в ГЗ МГУ)",
           "ebikes": 0,
           "electric_free": 0,
           "electric_slots": 0,
           "normal_bikes": 0,
           "normal_free": 36,
           "normal_slots": 36,
           "slots": 36,
           "uid": "0352"
          },
          "free_bikes": 0,
          "id": "576045ed87e60cf4646d0b8c86ce54b5",
          "latitude": 55.701597,
          "longitude": 37.530847,
          "name": "ул. Академика Хохлова (у входа в ГЗ МГУ)",
          "timestamp": "2023-02-20T14:49:22.195000Z"
         },
         {
          "empty_slots": 12,
          "extra": {
           "address": "Шмитовский пр., д.16, стр.2",
           "ebikes": 0,
           "electric_free": 0,
           "electric_slots": 0,
           "normal_bikes": 0,
           "normal_free": 12,
           "normal_slots": 12,
           "slots": 12,
           "uid": "0228"
          },
          "free_bikes": 0,
          "id": "bd433dd58ecb3d89a6a2f403545a6ac5",
          "latitude": 55.7575043,
          "longitude": 37.5457088,
          "name": "Шмитовский пр., д.16, стр.2",
          "timestamp": "2023-02-20T14:49:22.196000Z"
         },
         {
          "empty_slots": 15,
          "extra": {
           "address": "ул. Верхняя Масловка, д.10, стр.4",
           "ebikes": 0,
           "electric_free": 0,
           "electric_slots": 0,
           "normal_bikes": 0,
           "normal_free": 15,
           "normal_slots": 15,
           "slots": 15,
           "uid": "0532"
          },
          "free_bikes": 0,
          "id": "c8e9c23557f7175d561353720e53727c",
          "latitude": 55.79306,
          "longitude": 37.56551,
          "name": "ул. Верхняя Масловка, д.10, стр.4",
          "timestamp": "2023-02-20T14:49:22.196000Z"
         },
         {
          "empty_slots": 33,
          "extra": {
           "address": "пл. Тверская Застава, д.7",
           "ebikes": 0,
           "electric_free": 0,
           "electric_slots": 0,
           "normal_bikes": 0,
           "normal_free": 33,
           "normal_slots": 33,
           "slots": 33,
           "uid": "0231"
          },
          "free_bikes": 0,
          "id": "d45e27cfe78f54affad21cb309fb8ce4",
          "latitude": 55.7770608,
          "longitude": 37.5830376,
          "name": "пл. Тверская Застава, д.7",
          "timestamp": "2023-02-20T14:49:22.198000Z"
         },
         {
          "empty_slots": 18,
          "extra": {
           "address": "ул. Профсоюзная, д.104 (ст. м. Беляево, южный вестибюль)",
           "ebikes": 0,
           "electric_free": 0,
           "electric_slots": 0,
           "normal_bikes": 0,
           "normal_free": 18,
           "normal_slots": 18,
           "slots": 18,
           "uid": "0334"
          },
          "free_bikes": 0,
          "id": "9f907266ea07f0cf99d39e284171b8e0",
          "latitude": 55.6420084,
          "longitude": 37.5256107,
          "name": "ул. Профсоюзная, д.104 (ст. м. Беляево, южный вестибюль)",
          "timestamp": "2023-02-20T14:49:22.198000Z"
         },
         {
          "empty_slots": 15,
          "extra": {
           "address": "ул. Шарикоподшипниковская, д.24 (ст. м. Дубровка, выход №3)",
           "ebikes": 0,
           "electric_free": 0,
           "electric_slots": 0,
           "normal_bikes": 0,
           "normal_free": 15,
           "normal_slots": 15,
           "slots": 15,
           "uid": "0600"
          },
          "free_bikes": 0,
          "id": "33707a9bee2e24d7f4d06d568e31a673",
          "latitude": 55.717707,
          "longitude": 37.6763299,
          "name": "ул. Шарикоподшипниковская, д.24 (ст. м. Дубровка, выход №3)",
          "timestamp": "2023-02-20T14:49:22.199000Z"
         },
         {
          "empty_slots": 18,
          "extra": {
           "address": "ул. Лесная, д.63/43, стр.2",
           "ebikes": 0,
           "electric_free": 0,
           "electric_slots": 0,
           "normal_bikes": 0,
           "normal_free": 18,
           "normal_slots": 18,
           "slots": 18,
           "uid": "0408"
          },
          "free_bikes": 0,
          "id": "f54cc97b44dcd7c2d0da560b18f20c95",
          "latitude": 55.7838658,
          "longitude": 37.5963795,
          "name": "ул. Лесная, д.63/43, стр.2",
          "timestamp": "2023-02-20T14:49:22.200000Z"
         },
         {
          "empty_slots": 40,
          "extra": {
           "address": "ул. Мытная, д.74",
           "ebikes": 0,
           "electric_free": 0,
           "electric_slots": 0,
           "normal_bikes": 0,
           "normal_free": 40,
           "normal_slots": 40,
           "slots": 40,
           "uid": "0271"
          },
          "free_bikes": 0,
          "id": "eea352bd15260759e8479e31fb1fce22",
          "latitude": 55.7120063,
          "longitude": 37.621316,
          "name": "ул. Мытная, д.74",
          "timestamp": "2023-02-20T14:49:22.201000Z"
         },
         {
          "empty_slots": 21,
          "extra": {
           "address": "ул. Сергея Эйзенштейна, д.8",
           "ebikes": 0,
           "electric_free": 0,
           "electric_slots": 0,
           "normal_bikes": 0,
           "normal_free": 21,
           "normal_slots": 21,
           "slots": 21,
           "uid": "0450"
          },
          "free_bikes": 0,
          "id": "840827416ec7c6b9df841accbeeb41d4",
          "latitude": 55.8334316,
          "longitude": 37.6374584,
          "name": "ул. Сергея Эйзенштейна, д.8",
          "timestamp": "2023-02-20T14:49:22.202000Z"
         },
         {
          "empty_slots": 14,
          "extra": {
           "address": "ул. Мосфильмовская, д.55",
           "ebikes": 0,
           "electric_free": 0,
           "electric_slots": 0,
           "normal_bikes": 1,
           "normal_free": 14,
           "normal_slots": 15,
           "slots": 15,
           "uid": "0276"
          },
          "free_bikes": 1,
          "id": "2e559168218650151a846f65cea69044",
          "latitude": 55.70393,
          "longitude": 37.49521,
          "name": "ул. Мосфильмовская, д.55",
          "timestamp": "2023-02-20T14:49:22.202000Z"
         },
         {
          "empty_slots": 12,
          "extra": {
           "address": "ул. Каланчёвская, д.10, стр.3",
           "ebikes": 0,
           "electric_free": 0,
           "electric_slots": 0,
           "normal_bikes": 0,
           "normal_free": 12,
           "normal_slots": 12,
           "slots": 12,
           "uid": "0463"
          },
          "free_bikes": 0,
          "id": "82eb1f966d1b1101b23c7632e26b61b0",
          "latitude": 55.7763965,
          "longitude": 37.6501702,
          "name": "ул. Каланчёвская, д.10, стр.3",
          "timestamp": "2023-02-20T14:49:22.203000Z"
         },
         {
          "empty_slots": 12,
          "extra": {
           "address": "ул. Академика Королёва, д.12А",
           "ebikes": 0,
           "electric_free": 0,
           "electric_slots": 0,
           "normal_bikes": 0,
           "normal_free": 12,
           "normal_slots": 12,
           "slots": 12,
           "uid": "0473"
          },
          "free_bikes": 0,
          "id": "075c8d22332212d11fc9d2dbcf9132a2",
          "latitude": 55.8218703,
          "longitude": 37.6042362,
          "name": "ул. Академика Королёва, д.12А",
          "timestamp": "2023-02-20T14:49:22.204000Z"
         },
         {
          "empty_slots": 24,
          "extra": {
           "address": "я Останкинская ул., д.55",
           "ebikes": 0,
           "electric_free": 0,
           "electric_slots": 0,
           "normal_bikes": 0,
           "normal_free": 24,
           "normal_slots": 24,
           "slots": 24,
           "uid": "0474"
          },
          "free_bikes": 0,
          "id": "f6137093fa8d52e297ab77c23e462966",
          "latitude": 55.823283,
          "longitude": 37.6341961,
          "name": "1-я Останкинская ул., д.55",
          "timestamp": "2023-02-20T14:49:22.204000Z"
         },
         {
          "empty_slots": 12,
          "extra": {
           "address": "ул. Б. Серпуховская, д. 22/21, стр.3 (ст. м. Серпуховская)",
           "ebikes": 0,
           "electric_free": 0,
           "electric_slots": 0,
           "normal_bikes": 0,
           "normal_free": 12,
           "normal_slots": 12,
           "slots": 12,
           "uid": "0260"
          },
          "free_bikes": 0,
          "id": "d572a47a07ddc5603d306bd7993a92a3",
          "latitude": 55.7266781,
          "longitude": 37.6250142,
          "name": "ул. Б. Серпуховская, д. 22/21, стр.3 (ст. м. Серпуховская)",
          "timestamp": "2023-02-20T14:49:22.206000Z"
         },
         {
          "empty_slots": 18,
          "extra": {
           "address": "ул. Новый Арбат, д.1",
           "ebikes": 0,
           "electric_free": 0,
           "electric_slots": 0,
           "normal_bikes": 0,
           "normal_free": 18,
           "normal_slots": 18,
           "slots": 18,
           "uid": "0050"
          },
          "free_bikes": 0,
          "id": "45007c22b72a0ac5ff3291db4f932f99",
          "latitude": 55.752609,
          "longitude": 37.599867,
          "name": "ул. Новый Арбат, д.1",
          "timestamp": "2023-02-20T14:49:22.207000Z"
         },
         {
          "empty_slots": 21,
          "extra": {
           "address": "пл. Сретенские ворота (напротив д.1)",
           "ebikes": 0,
           "electric_free": 0,
           "electric_slots": 0,
           "normal_bikes": 0,
           "normal_free": 21,
           "normal_slots": 21,
           "slots": 21,
           "uid": "0034"
          },
          "free_bikes": 0,
          "id": "a890c42393b9673db62a7128fbd389a9",
          "latitude": 55.766613,
          "longitude": 37.631618,
          "name": "пл. Сретенские ворота (напротив д.1)",
          "timestamp": "2023-02-20T14:49:22.208000Z"
         },
         {
          "empty_slots": 24,
          "extra": {
           "address": "Чистопрудный б-р (ст. м. Чистые пруды)",
           "ebikes": 0,
           "electric_free": 0,
           "electric_slots": 0,
           "normal_bikes": 0,
           "normal_free": 24,
           "normal_slots": 24,
           "slots": 24,
           "uid": "0037"
          },
          "free_bikes": 0,
          "id": "2c65197ee446ce07d3bd9cdc06a13307",
          "latitude": 55.764719,
          "longitude": 37.639141,
          "name": "Чистопрудный б-р (ст. м. Чистые пруды)",
          "timestamp": "2023-02-20T14:49:22.209000Z"
         },
         {
          "empty_slots": 18,
          "extra": {
           "address": "ул. Новый Арбат, д.21",
           "ebikes": 0,
           "electric_free": 0,
           "electric_slots": 0,
           "normal_bikes": 0,
           "normal_free": 18,
           "normal_slots": 18,
           "slots": 18,
           "uid": "0053"
          },
          "free_bikes": 0,
          "id": "75a6ea36b184bc1a11919d5b73cc81fa",
          "latitude": 55.752153,
          "longitude": 37.584725,
          "name": "ул. Новый Арбат, д.21",
          "timestamp": "2023-02-20T14:49:22.209000Z"
         },
         {
          "empty_slots": 18,
          "extra": {
           "address": "ул. Мытная, д.15",
           "ebikes": 0,
           "electric_free": 0,
           "electric_slots": 0,
           "normal_bikes": 0,
           "normal_free": 18,
           "normal_slots": 18,
           "slots": 18,
           "uid": "0265"
          },
          "free_bikes": 0,
          "id": "5ae58d44fb238951ba27874049433e8c",
          "latitude": 55.7204756,
          "longitude": 37.6178259,
          "name": "ул. Мытная, д.15",
          "timestamp": "2023-02-20T14:49:22.210000Z"
         },
         {
          "empty_slots": 12,
          "extra": {
           "address": "ул. Павловская, д.7",
           "ebikes": 0,
           "electric_free": 0,
           "electric_slots": 0,
           "normal_bikes": 0,
           "normal_free": 12,
           "normal_slots": 12,
           "slots": 12,
           "uid": "0268"
          },
          "free_bikes": 0,
          "id": "da531906ec341e906922c1cd9c9aef29",
          "latitude": 55.72113,
          "longitude": 37.62786,
          "name": "ул. Павловская, д.7",
          "timestamp": "2023-02-20T14:49:22.211000Z"
         },
         {
          "empty_slots": 24,
          "extra": {
           "address": "ул. Милашенкова, д.1 (ст. м. Фонвизинская)",
           "ebikes": 0,
           "electric_free": 0,
           "electric_slots": 0,
           "normal_bikes": 0,
           "normal_free": 24,
           "normal_slots": 24,
           "slots": 24,
           "uid": "0538"
          },
          "free_bikes": 0,
          "id": "1e6450d67bfa11b9a7dfc376f7b37190",
          "latitude": 55.8218449,
          "longitude": 37.589078,
          "name": "ул. Милашенкова, д.1 (ст. м. Фонвизинская)",
          "timestamp": "2023-02-20T14:49:22.212000Z"
         },
         {
          "empty_slots": 18,
          "extra": {
           "address": "ул. Большая Якиманка (напротив д.18)",
           "ebikes": 0,
           "electric_free": 0,
           "electric_slots": 0,
           "normal_bikes": 0,
           "normal_free": 18,
           "normal_slots": 18,
           "slots": 18,
           "uid": "0083"
          },
          "free_bikes": 0,
          "id": "a7cbfd1e3fc5f85de4a8afb7fc7915f7",
          "latitude": 55.7396445,
          "longitude": 37.6167027,
          "name": "ул. Большая Якиманка (напротив д.18)",
          "timestamp": "2023-02-20T14:49:22.213000Z"
         },
         {
          "empty_slots": 8,
          "extra": {
           "address": "Покровский б-р (напротив д.12, стр.1)",
           "ebikes": 0,
           "electric_free": 0,
           "electric_slots": 0,
           "normal_bikes": 0,
           "normal_free": 8,
           "normal_slots": 8,
           "slots": 8,
           "uid": "0020"
          },
          "free_bikes": 0,
          "id": "b75e7e44c9fef08c80afb77ed4610f3d",
          "latitude": 55.755462,
          "longitude": 37.648355,
          "name": "Покровский б-р (напротив д.12, стр.1)",
          "timestamp": "2023-02-20T14:49:22.214000Z"
         },
         {
          "empty_slots": 21,
          "extra": {
           "address": "Тургеневская пл. (ст. м. Тургеневская)",
           "ebikes": 0,
           "electric_free": 0,
           "electric_slots": 0,
           "normal_bikes": 0,
           "normal_free": 21,
           "normal_slots": 21,
           "slots": 21,
           "uid": "0015"
          },
          "free_bikes": 0,
          "id": "b88f003ed47fa671a64f2ec218713485",
          "latitude": 55.765334,
          "longitude": 37.636329,
          "name": "Тургеневская пл. (ст. м. Тургеневская)",
          "timestamp": "2023-02-20T14:49:22.214000Z"
         },
         {
          "empty_slots": 15,
          "extra": {
           "address": "Никитский б-р (напротив д.23/14/9)",
           "ebikes": 0,
           "electric_free": 0,
           "electric_slots": 0,
           "normal_bikes": 0,
           "normal_free": 15,
           "normal_slots": 15,
           "slots": 15,
           "uid": "0006"
          },
          "free_bikes": 0,
          "id": "5892f6247f9145af8ffb9942fda74e07",
          "latitude": 55.757163,
          "longitude": 37.598667,
          "name": "Никитский б-р (напротив д.23/14/9)",
          "timestamp": "2023-02-20T14:49:22.216000Z"
         },
         {
          "empty_slots": 8,
          "extra": {
           "address": "Страстной б-р (напротив д.16)",
           "ebikes": 0,
           "electric_free": 0,
           "electric_slots": 0,
           "normal_bikes": 0,
           "normal_free": 8,
           "normal_slots": 8,
           "slots": 8,
           "uid": "0011"
          },
          "free_bikes": 0,
          "id": "7374de9d718954a0d2b5a298d2c5005d",
          "latitude": 55.768066,
          "longitude": 37.613347,
          "name": "Страстной б-р (напротив д.16)",
          "timestamp": "2023-02-20T14:49:22.216000Z"
         },
         {
          "empty_slots": 12,
          "extra": {
           "address": "ул. Большая Дмитровка, д.5/6, стр.5",
           "ebikes": 0,
           "electric_free": 0,
           "electric_slots": 0,
           "normal_bikes": 0,
           "normal_free": 12,
           "normal_slots": 12,
           "slots": 12,
           "uid": "0032"
          },
          "free_bikes": 0,
          "id": "03e302daebb7cc2ed81d76166606fb1e",
          "latitude": 55.759865,
          "longitude": 37.615807,
          "name": "ул. Большая Дмитровка, д.5/6, стр.5",
          "timestamp": "2023-02-20T14:49:22.218000Z"
         },
         {
          "empty_slots": 16,
          "extra": {
           "address": "Климентовский пер., д.23, стр.1 (ст. м. Третьяковская)",
           "ebikes": 0,
           "electric_free": 0,
           "electric_slots": 0,
           "normal_bikes": 0,
           "normal_free": 16,
           "normal_slots": 16,
           "slots": 16,
           "uid": "0075"
          },
          "free_bikes": 0,
          "id": "6ac154755a8114dd4cb9aee8227901b7",
          "latitude": 55.740815,
          "longitude": 37.625638,
          "name": "Климентовский пер., д.23, стр.1 (ст. м. Третьяковская)",
          "timestamp": "2023-02-20T14:49:22.219000Z"
         },
         {
          "empty_slots": 39,
          "extra": {
           "address": "Смоленский б-р, д.22/14",
           "ebikes": 0,
           "electric_free": 0,
           "electric_slots": 0,
           "normal_bikes": 0,
           "normal_free": 39,
           "normal_slots": 39,
           "slots": 39,
           "uid": "0104"
          },
          "free_bikes": 0,
          "id": "12188283ef7655e622ab6017d58c91de",
          "latitude": 55.7414275,
          "longitude": 37.5852946,
          "name": "Смоленский б-р, д.22/14",
          "timestamp": "2023-02-20T14:49:22.219000Z"
         },
         {
          "empty_slots": 24,
          "extra": {
           "address": "ул. Усачева, д.2, стр.1",
           "ebikes": 0,
           "electric_free": 0,
           "electric_slots": 0,
           "normal_bikes": 0,
           "normal_free": 24,
           "normal_slots": 24,
           "slots": 24,
           "uid": "0217"
          },
          "free_bikes": 0,
          "id": "4f2a54c852f6eafeb384cf7005927c48",
          "latitude": 55.730695,
          "longitude": 37.576903,
          "name": "ул. Усачева, д.2, стр.1",
          "timestamp": "2023-02-20T14:49:22.220000Z"
         },
         {
          "empty_slots": 12,
          "extra": {
           "address": "ул. Большая Полянка, д.50/1, стр.1",
           "ebikes": 0,
           "electric_free": 0,
           "electric_slots": 0,
           "normal_bikes": 0,
           "normal_free": 12,
           "normal_slots": 12,
           "slots": 12,
           "uid": "0074"
          },
          "free_bikes": 0,
          "id": "42725b223624ddefb400db17c7dcd0bd",
          "latitude": 55.73218,
          "longitude": 37.620018,
          "name": "ул. Большая Полянка, д.50/1, стр.1",
          "timestamp": "2023-02-20T14:49:22.221000Z"
         },
         {
          "empty_slots": 12,
          "extra": {
           "address": "ул. Люсиновская, д.12",
           "ebikes": 0,
           "electric_free": 0,
           "electric_slots": 0,
           "normal_bikes": 0,
           "normal_free": 12,
           "normal_slots": 12,
           "slots": 12,
           "uid": "0263"
          },
          "free_bikes": 0,
          "id": "53012e8c71ddee4ef1dd754775b8ddcc",
          "latitude": 55.7241978,
          "longitude": 37.6223722,
          "name": "ул. Люсиновская, д.12",
          "timestamp": "2023-02-20T14:49:22.221000Z"
         },
         {
          "empty_slots": 12,
          "extra": {
           "address": "ул. Фадеева, д.4",
           "ebikes": 0,
           "electric_free": 0,
           "electric_slots": 0,
           "normal_bikes": 0,
           "normal_free": 12,
           "normal_slots": 12,
           "slots": 12,
           "uid": "0403"
          },
          "free_bikes": 0,
          "id": "455df6fefeb8ab6efb81274c5db3d280",
          "latitude": 55.774431,
          "longitude": 37.599413,
          "name": "ул. Фадеева, д.4",
          "timestamp": "2023-02-20T14:49:22.222000Z"
         },
         {
          "empty_slots": 12,
          "extra": {
           "address": "Лаврушинский пер. (напротив д.4, стр.1)",
           "ebikes": 0,
           "electric_free": 0,
           "electric_slots": 0,
           "normal_bikes": 0,
           "normal_free": 12,
           "normal_slots": 12,
           "slots": 12,
           "uid": "0070"
          },
          "free_bikes": 0,
          "id": "e30fc522f0d4227ec985e4f760f2d75c",
          "latitude": 55.743048,
          "longitude": 37.6202,
          "name": "Лаврушинский пер. (напротив д.4, стр.1)",
          "timestamp": "2023-02-20T14:49:22.223000Z"
         },
         {
          "empty_slots": 34,
          "extra": {
           "address": "Хамовнический Вал, д.40, стр.1",
           "ebikes": 0,
           "electric_free": 0,
           "electric_slots": 0,
           "normal_bikes": 0,
           "normal_free": 34,
           "normal_slots": 34,
           "slots": 34,
           "uid": "0212"
          },
          "free_bikes": 0,
          "id": "791d3ebadeea8b3f9eaa2f95a5d8d4d9",
          "latitude": 55.727595,
          "longitude": 37.550435,
          "name": "Хамовнический Вал, д.40, стр.1",
          "timestamp": "2023-02-20T14:49:22.224000Z"
         },
         {
          "empty_slots": 18,
          "extra": {
           "address": "ул. Кузнецкий мост, д.13/9, стр.1",
           "ebikes": 0,
           "electric_free": 0,
           "electric_slots": 0,
           "normal_bikes": 0,
           "normal_free": 18,
           "normal_slots": 18,
           "slots": 18,
           "uid": "0035"
          },
          "free_bikes": 0,
          "id": "467412e67f17f34b23807f08bda84738",
          "latitude": 55.762217,
          "longitude": 37.623177,
          "name": "ул. Кузнецкий мост, д.13/9, стр.1",
          "timestamp": "2023-02-20T14:49:22.225000Z"
         },
         {
          "empty_slots": 21,
          "extra": {
           "address": "Ленинградский пр-т, д.14, к.1",
           "ebikes": 0,
           "electric_free": 0,
           "electric_slots": 0,
           "normal_bikes": 0,
           "normal_free": 21,
           "normal_slots": 21,
           "slots": 21,
           "uid": "0424"
          },
          "free_bikes": 0,
          "id": "9826f9b6f299346da37bb7966265509e",
          "latitude": 55.78045,
          "longitude": 37.57797,
          "name": "Ленинградский пр-т, д.14, к.1",
          "timestamp": "2023-02-20T14:49:22.226000Z"
         },
         {
          "empty_slots": 24,
          "extra": {
           "address": "ул. 1905 года, д.4, стр.2 (ст. м. Улица 1905 года, выход к ул. Пресненский Вал)",
           "ebikes": 0,
           "electric_free": 0,
           "electric_slots": 0,
           "normal_bikes": 0,
           "normal_free": 24,
           "normal_slots": 24,
           "slots": 24,
           "uid": "0751"
          },
          "free_bikes": 0,
          "id": "b7eb3b354bc0906277efcf1032f87a3a",
          "latitude": 55.7637,
          "longitude": 37.56245,
          "name": "ул. 1905 года, д.4, стр.2 (ст. м. Улица 1905 года, выход к ул. Пресненский Вал)",
          "timestamp": "2023-02-20T14:49:22.226000Z"
         },
         {
          "empty_slots": 12,
          "extra": {
           "address": "я Брестская ул., д.31",
           "ebikes": 0,
           "electric_free": 0,
           "electric_slots": 0,
           "normal_bikes": 0,
           "normal_free": 12,
           "normal_slots": 12,
           "slots": 12,
           "uid": "0232"
          },
          "free_bikes": 0,
          "id": "d7728c299521eff240ff21e95c34d5d5",
          "latitude": 55.7733,
          "longitude": 37.586215,
          "name": "2-я Брестская ул., д.31",
          "timestamp": "2023-02-20T14:49:22.227000Z"
         },
         {
          "empty_slots": 12,
          "extra": {
           "address": "пер. Сивцев Вражек, д.26, стр.1",
           "ebikes": 0,
           "electric_free": 0,
           "electric_slots": 0,
           "normal_bikes": 0,
           "normal_free": 12,
           "normal_slots": 12,
           "slots": 12,
           "uid": "0054"
          },
          "free_bikes": 0,
          "id": "66baf82c84e64adf8da5999fcb96643d",
          "latitude": 55.747411,
          "longitude": 37.592209,
          "name": "пер. Сивцев Вражек, д.26, стр.1",
          "timestamp": "2023-02-20T14:49:22.228000Z"
         },
         {
          "empty_slots": 33,
          "extra": {
           "address": "пл. Джавахарлала Неру, д.1 (ст. м. Университет, выход №2)",
           "ebikes": 0,
           "electric_free": 0,
           "electric_slots": 0,
           "normal_bikes": 0,
           "normal_free": 33,
           "normal_slots": 33,
           "slots": 33,
           "uid": "0360"
          },
          "free_bikes": 0,
          "id": "520b424849dfaf11f502882ca7ffaf87",
          "latitude": 55.693257,
          "longitude": 37.535463,
          "name": "пл. Джавахарлала Неру, д.1 (ст. м. Университет, выход №2)",
          "timestamp": "2023-02-20T14:49:22.229000Z"
         },
         {
          "empty_slots": 15,
          "extra": {
           "address": "Ленинский пр-т, д.73/8",
           "ebikes": 0,
           "electric_free": 0,
           "electric_slots": 0,
           "normal_bikes": 0,
           "normal_free": 15,
           "normal_slots": 15,
           "slots": 15,
           "uid": "0320"
          },
          "free_bikes": 0,
          "id": "86c3b19cc09ffab3edbd119aa558ab1e",
          "latitude": 55.688153,
          "longitude": 37.546468,
          "name": "Ленинский пр-т, д.73/8",
          "timestamp": "2023-02-20T14:49:22.230000Z"
         },
         {
          "empty_slots": 17,
          "extra": {
           "address": "Ломоносовский пр-т (дублёр, напротив д.1, стр.64)",
           "ebikes": 0,
           "electric_free": 0,
           "electric_slots": 0,
           "normal_bikes": 1,
           "normal_free": 17,
           "normal_slots": 18,
           "slots": 18,
           "uid": "0359"
          },
          "free_bikes": 1,
          "id": "c1df8bbe23c058633efa207ad5c1cf0d",
          "latitude": 55.695176,
          "longitude": 37.533756,
          "name": "Ломоносовский пр-т (дублёр, напротив д.1, стр.64)",
          "timestamp": "2023-02-20T14:49:22.231000Z"
         },
         {
          "empty_slots": 30,
          "extra": {
           "address": "ст. м. Краснопресненская",
           "ebikes": 0,
           "electric_free": 18,
           "electric_slots": 18,
           "has_ebikes": true,
           "normal_bikes": 0,
           "normal_free": 12,
           "normal_slots": 12,
           "slots": 30,
           "uid": "0241"
          },
          "free_bikes": 0,
          "id": "543c6d6a87d5b3b26d20c3fceff002f2",
          "latitude": 55.7604391,
          "longitude": 37.5776708,
          "name": "ст. м. Краснопресненская",
          "timestamp": "2023-02-20T14:49:22.232000Z"
         },
         {
          "empty_slots": 21,
          "extra": {
           "address": "Москворецкая наб., д.2А",
           "ebikes": 0,
           "electric_free": 0,
           "electric_slots": 0,
           "normal_bikes": 0,
           "normal_free": 21,
           "normal_slots": 21,
           "slots": 21,
           "uid": "0024"
          },
          "free_bikes": 0,
          "id": "f3fdebf0a789a30cae2b054cc198ec87",
          "latitude": 55.7478923,
          "longitude": 37.6386809,
          "name": "Москворецкая наб., д.2А",
          "timestamp": "2023-02-20T14:49:22.232000Z"
         },
         {
          "empty_slots": 11,
          "extra": {
           "address": "ул. Лесная, д.6",
           "ebikes": 0,
           "electric_free": 0,
           "electric_slots": 0,
           "normal_bikes": 1,
           "normal_free": 11,
           "normal_slots": 12,
           "slots": 12,
           "uid": "0402"
          },
          "free_bikes": 1,
          "id": "79c685703df4bbd82bd82c5d7a169066",
          "latitude": 55.7772628,
          "longitude": 37.5870704,
          "name": "ул. Лесная, д.6",
          "timestamp": "2023-02-20T14:49:22.233000Z"
         },
         {
          "empty_slots": 12,
          "extra": {
           "address": "Ленинский пр-т, д.60/2",
           "ebikes": 0,
           "electric_free": 0,
           "electric_slots": 0,
           "normal_bikes": 0,
           "normal_free": 12,
           "normal_slots": 12,
           "slots": 12,
           "uid": "0312"
          },
          "free_bikes": 0,
          "id": "ae63787abdb19d4def7d8927ba9bbd34",
          "latitude": 55.694853,
          "longitude": 37.556333,
          "name": "Ленинский пр-т, д.60/2",
          "timestamp": "2023-02-20T14:49:22.234000Z"
         },
         {
          "empty_slots": 15,
          "extra": {
           "address": "ул. Нижняя Масловка, д.5, к.1",
           "ebikes": 0,
           "electric_free": 0,
           "electric_slots": 0,
           "normal_bikes": 0,
           "normal_free": 15,
           "normal_slots": 15,
           "slots": 15,
           "uid": "0428"
          },
          "free_bikes": 0,
          "id": "b6a6c4ed891bd4d5b8975f8a63e02559",
          "latitude": 55.79185,
          "longitude": 37.5841,
          "name": "ул. Нижняя Масловка, д.5, к.1",
          "timestamp": "2023-02-20T14:49:22.238000Z"
         },
         {
          "empty_slots": 12,
          "extra": {
           "address": "Цветной б-р (напротив д.1, ст. м. Трубная)",
           "ebikes": 0,
           "electric_free": 0,
           "electric_slots": 0,
           "normal_bikes": 0,
           "normal_free": 12,
           "normal_slots": 12,
           "slots": 12,
           "uid": "0012"
          },
          "free_bikes": 0,
          "id": "1b49e90a304c9bfde036b16d4d031675",
          "latitude": 55.768003,
          "longitude": 37.621486,
          "name": "Цветной б-р (напротив д.1, ст. м. Трубная)",
          "timestamp": "2023-02-20T14:49:22.239000Z"
         },
         {
          "empty_slots": 30,
          "extra": {
           "address": "Цветной б-р., д.34, стр.1",
           "ebikes": 0,
           "electric_free": 0,
           "electric_slots": 0,
           "normal_bikes": 0,
           "normal_free": 30,
           "normal_slots": 30,
           "slots": 30,
           "uid": "0122"
          },
          "free_bikes": 0,
          "id": "c48a25b68f5b2881152b316bd1b07eca",
          "latitude": 55.7730885,
          "longitude": 37.6212721,
          "name": "Цветной б-р., д.34, стр.1",
          "timestamp": "2023-02-20T14:49:22.239000Z"
         },
         {
          "empty_slots": 12,
          "extra": {
           "address": "ул. Новокузнецкая, д.43/16, стр.1 (ст. м. Павелецкая (кольцевая))",
           "ebikes": 0,
           "electric_free": 0,
           "electric_slots": 0,
           "normal_bikes": 0,
           "normal_free": 12,
           "normal_slots": 12,
           "slots": 12,
           "uid": "0148"
          },
          "free_bikes": 0,
          "id": "b72110e10729b85ef04fa19c99d2d0de",
          "latitude": 55.7310887,
          "longitude": 37.6358074,
          "name": "ул. Новокузнецкая, д.43/16, стр.1 (ст. м. Павелецкая (кольцевая))",
          "timestamp": "2023-02-20T14:49:22.240000Z"
         },
         {
          "empty_slots": 12,
          "extra": {
           "address": "Ленинградский пр-т, д.44",
           "ebikes": 0,
           "electric_free": 0,
           "electric_slots": 0,
           "normal_bikes": 0,
           "normal_free": 12,
           "normal_slots": 12,
           "slots": 12,
           "uid": "0521"
          },
          "free_bikes": 0,
          "id": "0479ade6f7c64dc1cceca36ea533aebe",
          "latitude": 55.7950047,
          "longitude": 37.5455944,
          "name": "Ленинградский пр-т, д.44",
          "timestamp": "2023-02-20T14:49:22.241000Z"
         },
         {
          "empty_slots": 12,
          "extra": {
           "address": "ул. Каретный Ряд, д.3, стр.11",
           "ebikes": 0,
           "electric_free": 0,
           "electric_slots": 0,
           "normal_bikes": 0,
           "normal_free": 12,
           "normal_slots": 12,
           "slots": 12,
           "uid": "0047"
          },
          "free_bikes": 0,
          "id": "63507946c3f4e0d23c57ef039a846d9b",
          "latitude": 55.7700911,
          "longitude": 37.6116459,
          "name": "ул. Каретный Ряд, д.3, стр.11",
          "timestamp": "2023-02-20T14:49:22.243000Z"
         },
         {
          "empty_slots": 12,
          "extra": {
           "address": "ул. Пречистенка, д.34",
           "ebikes": 0,
           "electric_free": 0,
           "electric_slots": 0,
           "normal_bikes": 0,
           "normal_free": 12,
           "normal_slots": 12,
           "slots": 12,
           "uid": "0055"
          },
          "free_bikes": 0,
          "id": "fe53f8a2b699f48fbe3333bce850676b",
          "latitude": 55.7400913,
          "longitude": 37.5896349,
          "name": "ул. Пречистенка, д.34",
          "timestamp": "2023-02-20T14:49:22.244000Z"
         },
         {
          "empty_slots": 16,
          "extra": {
           "address": "ул. Пятницкая, д.25, стр.1Д (рядом со ст. м. Новокузнецкая)",
           "ebikes": 0,
           "electric_free": 0,
           "electric_slots": 0,
           "normal_bikes": 0,
           "normal_free": 16,
           "normal_slots": 16,
           "slots": 16,
           "uid": "0076"
          },
          "free_bikes": 0,
          "id": "d0c3e8b645d63de32e5a9bbb78b3338a",
          "latitude": 55.7420854,
          "longitude": 37.6286203,
          "name": "ул. Пятницкая, д.25, стр.1Д (рядом со ст. м. Новокузнецкая)",
          "timestamp": "2023-02-20T14:49:22.250000Z"
         },
         {
          "empty_slots": 12,
          "extra": {
           "address": "ул. Пятницкая, д.48, стр.1",
           "ebikes": 0,
           "electric_free": 0,
           "electric_slots": 0,
           "normal_bikes": 0,
           "normal_free": 12,
           "normal_slots": 12,
           "slots": 12,
           "uid": "0078"
          },
          "free_bikes": 0,
          "id": "97562ec2e3d6ad4577609b1c41b9fa7f",
          "latitude": 55.7353228,
          "longitude": 37.6276564,
          "name": "ул. Пятницкая, д.48, стр.1",
          "timestamp": "2023-02-20T14:49:22.251000Z"
         },
         {
          "empty_slots": 12,
          "extra": {
           "address": "Калужская пл., д.1, к.3",
           "ebikes": 0,
           "electric_free": 0,
           "electric_slots": 0,
           "normal_bikes": 0,
           "normal_free": 12,
           "normal_slots": 12,
           "slots": 12,
           "uid": "0304"
          },
          "free_bikes": 0,
          "id": "eaf391d8b5f33818c84849bac234031d",
          "latitude": 55.7277408,
          "longitude": 37.6121883,
          "name": "Калужская пл., д.1, к.3",
          "timestamp": "2023-02-20T14:49:22.251000Z"
         },
         {
          "empty_slots": 15,
          "extra": {
           "address": "Ленинградский пр-т, д.54/1",
           "ebikes": 0,
           "electric_free": 0,
           "electric_slots": 0,
           "normal_bikes": 0,
           "normal_free": 15,
           "normal_slots": 15,
           "slots": 15,
           "uid": "0522"
          },
          "free_bikes": 0,
          "id": "9a51671cedd03f43100062210f069800",
          "latitude": 55.79759,
          "longitude": 37.53978,
          "name": "Ленинградский пр-т, д.54/1",
          "timestamp": "2023-02-20T14:49:22.252000Z"
         },
         {
          "empty_slots": 12,
          "extra": {
           "address": "Чапаевский пер., д.2",
           "ebikes": 0,
           "electric_free": 0,
           "electric_slots": 0,
           "normal_bikes": 0,
           "normal_free": 12,
           "normal_slots": 12,
           "slots": 12,
           "uid": "0510"
          },
          "free_bikes": 0,
          "id": "2e895bd02da3d209f39c648e34a531c3",
          "latitude": 55.80273,
          "longitude": 37.52036,
          "name": "Чапаевский пер., д.2",
          "timestamp": "2023-02-20T14:49:22.253000Z"
         },
         {
          "empty_slots": 9,
          "extra": {
           "address": "Ленинградский пр-т, д.39, стр.17",
           "ebikes": 0,
           "electric_free": 0,
           "electric_slots": 0,
           "normal_bikes": 0,
           "normal_free": 9,
           "normal_slots": 9,
           "slots": 9,
           "uid": "0512"
          },
          "free_bikes": 0,
          "id": "518c583dcf01b0d345ffcafb7957cd1e",
          "latitude": 55.79538,
          "longitude": 37.54216,
          "name": "Ленинградский пр-т, д.39, стр.17",
          "timestamp": "2023-02-20T14:49:22.253000Z"
         },
         {
          "empty_slots": 12,
          "extra": {
           "address": "ул. Пресненский Вал, д.24",
           "ebikes": 0,
           "electric_free": 0,
           "electric_slots": 0,
           "normal_bikes": 0,
           "normal_free": 12,
           "normal_slots": 12,
           "slots": 12,
           "uid": "0237"
          },
          "free_bikes": 0,
          "id": "cbd18212f646618729c273748ef13da1",
          "latitude": 55.7692458,
          "longitude": 37.5655623,
          "name": "ул. Пресненский Вал, д.24",
          "timestamp": "2023-02-20T14:49:22.254000Z"
         },
         {
          "empty_slots": 12,
          "extra": {
           "address": "Мичуринский пр-т, д.12, к.1",
           "ebikes": 0,
           "electric_free": 0,
           "electric_slots": 0,
           "normal_bikes": 0,
           "normal_free": 12,
           "normal_slots": 12,
           "slots": 12,
           "uid": "0300"
          },
          "free_bikes": 0,
          "id": "be39589c35f616f05f699633f613f627",
          "latitude": 55.7032223,
          "longitude": 37.5073382,
          "name": "Мичуринский пр-т, д.12, к.1",
          "timestamp": "2023-02-20T14:49:22.255000Z"
         },
         {
          "empty_slots": 18,
          "extra": {
           "address": "пр-т Вернадского, д.9/10",
           "ebikes": 0,
           "electric_free": 0,
           "electric_slots": 0,
           "normal_bikes": 0,
           "normal_free": 18,
           "normal_slots": 18,
           "slots": 18,
           "uid": "0302"
          },
          "free_bikes": 0,
          "id": "5b18f1cac4eb76bee8da2deb0e8d12e8",
          "latitude": 55.6897298,
          "longitude": 37.530764,
          "name": "пр-т Вернадского, д.9/10",
          "timestamp": "2023-02-20T14:49:22.256000Z"
         },
         {
          "empty_slots": 12,
          "extra": {
           "address": "Ленинский пр-т, д.86",
           "ebikes": 0,
           "electric_free": 0,
           "electric_slots": 0,
           "normal_bikes": 0,
           "normal_free": 12,
           "normal_slots": 12,
           "slots": 12,
           "uid": "0314"
          },
          "free_bikes": 0,
          "id": "875d1bbdf17b0faaa720f567420db3f4",
          "latitude": 55.6780815,
          "longitude": 37.529704,
          "name": "Ленинский пр-т, д.86",
          "timestamp": "2023-02-20T14:49:22.257000Z"
         },
         {
          "empty_slots": 24,
          "extra": {
           "address": "ул. Шаболовка, д.32 (ст. м. Шаболовская)",
           "ebikes": 0,
           "electric_free": 0,
           "electric_slots": 0,
           "normal_bikes": 0,
           "normal_free": 24,
           "normal_slots": 24,
           "slots": 24,
           "uid": "0340"
          },
          "free_bikes": 0,
          "id": "de13ef2ca8cb01d716d9fdd345a0ea47",
          "latitude": 55.718604,
          "longitude": 37.6080592,
          "name": "ул. Шаболовка, д.32 (ст. м. Шаболовская)",
          "timestamp": "2023-02-20T14:49:22.258000Z"
         },
         {
          "empty_slots": 21,
          "extra": {
           "address": "ул. Орджоникидзе, д.11, стр.1/2",
           "ebikes": 0,
           "electric_free": 0,
           "electric_slots": 0,
           "normal_bikes": 0,
           "normal_free": 21,
           "normal_slots": 21,
           "slots": 21,
           "uid": "0341"
          },
          "free_bikes": 0,
          "id": "9d896e53d84b60feb90b4d95a6fb9571",
          "latitude": 55.7098155,
          "longitude": 37.5943736,
          "name": "ул. Орджоникидзе, д.11, стр.1/2",
          "timestamp": "2023-02-20T14:49:22.258000Z"
         },
         {
          "empty_slots": 15,
          "extra": {
           "address": "Ленинградский пр-т, д.33, к.1",
           "ebikes": 0,
           "electric_free": 0,
           "electric_slots": 0,
           "normal_bikes": 0,
           "normal_free": 15,
           "normal_slots": 15,
           "slots": 15,
           "uid": "0513"
          },
          "free_bikes": 0,
          "id": "623c9546122a3fdfba5125f857f76792",
          "latitude": 55.78654,
          "longitude": 37.56091,
          "name": "Ленинградский пр-т, д.33, к.1",
          "timestamp": "2023-02-20T14:49:22.259000Z"
         },
         {
          "empty_slots": 12,
          "extra": {
           "address": "ул. Шверника, д.13, к.1",
           "ebikes": 0,
           "electric_free": 0,
           "electric_slots": 0,
           "normal_bikes": 0,
           "normal_free": 12,
           "normal_slots": 12,
           "slots": 12,
           "uid": "0347"
          },
          "free_bikes": 0,
          "id": "1729c983d28270b50ba2303c7a5c44aa",
          "latitude": 55.6914923,
          "longitude": 37.5890604,
          "name": "ул. Шверника, д.13, к.1",
          "timestamp": "2023-02-20T14:49:22.260000Z"
         },
         {
          "empty_slots": 11,
          "extra": {
           "address": "ул. Мосфильмовская, д.17/25",
           "ebikes": 0,
           "electric_free": 0,
           "electric_slots": 0,
           "normal_bikes": 1,
           "normal_free": 11,
           "normal_slots": 12,
           "slots": 12,
           "uid": "0348"
          },
          "free_bikes": 1,
          "id": "dcd831593b98f07142c6c1746958fad8",
          "latitude": 55.7155927,
          "longitude": 37.5159465,
          "name": "ул. Мосфильмовская, д.17/25",
          "timestamp": "2023-02-20T14:49:22.261000Z"
         },
         {
          "empty_slots": 15,
          "extra": {
           "address": "Дворцовая аллея (Пл. Космонавта Комарова)",
           "ebikes": 0,
           "electric_free": 0,
           "electric_slots": 0,
           "normal_bikes": 0,
           "normal_free": 15,
           "normal_slots": 15,
           "slots": 15,
           "uid": "0531"
          },
          "free_bikes": 0,
          "id": "d6646acb4de14ec6b456c2495a6b80ed",
          "latitude": 55.79435,
          "longitude": 37.55366,
          "name": "Дворцовая аллея (Пл. Космонавта Комарова)",
          "timestamp": "2023-02-20T14:49:22.261000Z"
         },
         {
          "empty_slots": 12,
          "extra": {
           "address": "Ломоносовский пр-т, д.43/40",
           "ebikes": 0,
           "electric_free": 0,
           "electric_slots": 0,
           "normal_bikes": 0,
           "normal_free": 12,
           "normal_slots": 12,
           "slots": 12,
           "uid": "0354"
          },
          "free_bikes": 0,
          "id": "a1e33626a004ccf4dd7e77963cacea85",
          "latitude": 55.7105268,
          "longitude": 37.5072476,
          "name": "Ломоносовский пр-т, д.43/40",
          "timestamp": "2023-02-20T14:49:22.262000Z"
         },
         {
          "empty_slots": 12,
          "extra": {
           "address": "Ломоносовский пр-т, д.2/62, стр.8",
           "ebikes": 0,
           "electric_free": 0,
           "electric_slots": 0,
           "normal_bikes": 0,
           "normal_free": 12,
           "normal_slots": 12,
           "slots": 12,
           "uid": "0361"
          },
          "free_bikes": 0,
          "id": "e362557115996b1bac16a5e3dca5bdd4",
          "latitude": 55.6846569,
          "longitude": 37.5521608,
          "name": "Ломоносовский пр-т, д.2/62, стр.8",
          "timestamp": "2023-02-20T14:49:22.263000Z"
         },
         {
          "empty_slots": 15,
          "extra": {
           "address": "ул. Планетная, д.17",
           "ebikes": 0,
           "electric_free": 0,
           "electric_slots": 0,
           "normal_bikes": 0,
           "normal_free": 15,
           "normal_slots": 15,
           "slots": 15,
           "uid": "0529"
          },
          "free_bikes": 0,
          "id": "4ab446b146af6eb5179d4ccf6b03b12a",
          "latitude": 55.80034,
          "longitude": 37.54917,
          "name": "ул. Планетная, д.17",
          "timestamp": "2023-02-20T14:49:22.263000Z"
         },
         {
          "empty_slots": 24,
          "extra": {
           "address": "Хоромный туп, д.2/6 (ст. м. Красные Ворота)",
           "ebikes": 0,
           "electric_free": 0,
           "electric_slots": 0,
           "normal_bikes": 0,
           "normal_free": 24,
           "normal_slots": 24,
           "slots": 24,
           "uid": "0130"
          },
          "free_bikes": 0,
          "id": "cb562e1febcb420a64c4c05c53f87f75",
          "latitude": 55.768248,
          "longitude": 37.649046,
          "name": "Хоромный туп, д.2/6 (ст. м. Красные Ворота)",
          "timestamp": "2023-02-20T14:49:22.266000Z"
         },
         {
          "empty_slots": 12,
          "extra": {
           "address": "ул. Профсоюзная, д.55",
           "ebikes": 0,
           "electric_free": 0,
           "electric_slots": 0,
           "normal_bikes": 0,
           "normal_free": 12,
           "normal_slots": 12,
           "slots": 12,
           "uid": "0288"
          },
          "free_bikes": 0,
          "id": "22a90b5ece5ce6c035ef6db54047d372",
          "latitude": 55.66466,
          "longitude": 37.5492,
          "name": "ул. Профсоюзная, д.55",
          "timestamp": "2023-02-20T14:49:22.266000Z"
         },
         {
          "empty_slots": 12,
          "extra": {
           "address": "Комсомольский пр-т, д.5/2",
           "ebikes": 0,
           "electric_free": 0,
           "electric_slots": 0,
           "normal_bikes": 0,
           "normal_free": 12,
           "normal_slots": 12,
           "slots": 12,
           "uid": "0253"
          },
          "free_bikes": 0,
          "id": "198e86add2a5ab08d78a55ac7e26d58a",
          "latitude": 55.73208,
          "longitude": 37.59244,
          "name": "Комсомольский пр-т, д.5/2",
          "timestamp": "2023-02-20T14:49:22.267000Z"
         },
         {
          "empty_slots": 24,
          "extra": {
           "address": "ул. Костикова (2-я Звенигородская ул., д.13, стр.42)",
           "ebikes": 0,
           "electric_free": 0,
           "electric_slots": 0,
           "normal_bikes": 0,
           "normal_free": 24,
           "normal_slots": 24,
           "slots": 24,
           "uid": "0255"
          },
          "free_bikes": 0,
          "id": "f43903e3e4f0ddfb254fa322e2f7ebfe",
          "latitude": 55.7612,
          "longitude": 37.55135,
          "name": "ул. Костикова (2-я Звенигородская ул., д.13, стр.42)",
          "timestamp": "2023-02-20T14:49:22.269000Z"
         },
         {
          "empty_slots": 12,
          "extra": {
           "address": "Георгиевский пер., д.2",
           "ebikes": 0,
           "electric_free": 0,
           "electric_slots": 0,
           "normal_bikes": 0,
           "normal_free": 12,
           "normal_slots": 12,
           "slots": 12,
           "uid": "0042"
          },
          "free_bikes": 0,
          "id": "e0ead12739dd8bc2cdb269630e70c216",
          "latitude": 55.7584711,
          "longitude": 37.6142074,
          "name": "Георгиевский пер., д.2",
          "timestamp": "2023-02-20T14:49:22.270000Z"
         },
         {
          "empty_slots": 21,
          "extra": {
           "address": "Пр-т Маршала Жукова, остановка МЦК Хорошёво",
           "ebikes": 0,
           "electric_free": 0,
           "electric_slots": 0,
           "normal_bikes": 0,
           "normal_free": 21,
           "normal_slots": 21,
           "slots": 21,
           "uid": "0515"
          },
          "free_bikes": 0,
          "id": "52fe9eac4ebe58305ce7baaada0a75c1",
          "latitude": 55.776742,
          "longitude": 37.506187,
          "name": "Пр-т Маршала Жукова, остановка МЦК Хорошёво",
          "timestamp": "2023-02-20T14:49:22.271000Z"
         },
         {
          "empty_slots": 33,
          "extra": {
           "address": "Саввинская наб., д.9",
           "ebikes": 0,
           "electric_free": 12,
           "electric_slots": 12,
           "has_ebikes": true,
           "normal_bikes": 0,
           "normal_free": 21,
           "normal_slots": 21,
           "slots": 33,
           "uid": "0259"
          },
          "free_bikes": 0,
          "id": "d3fe307613b9ba7ff0de642ba722d2e0",
          "latitude": 55.7371931,
          "longitude": 37.5683739,
          "name": "Саввинская наб., д.9",
          "timestamp": "2023-02-20T14:49:22.271000Z"
         },
         {
          "empty_slots": 12,
          "extra": {
           "address": "я Бауманская ул., д.3",
           "ebikes": 0,
           "electric_free": 0,
           "electric_slots": 0,
           "normal_bikes": 0,
           "normal_free": 12,
           "normal_slots": 12,
           "slots": 12,
           "uid": "0652"
          },
          "free_bikes": 0,
          "id": "e51f7f3512248dc5e28ee39134a182a8",
          "latitude": 55.768817,
          "longitude": 37.684929,
          "name": "2-я Бауманская ул., д.3",
          "timestamp": "2023-02-20T14:49:22.274000Z"
         },
         {
          "empty_slots": 15,
          "extra": {
           "address": "я Тверская-Ямская ул., д.11",
           "ebikes": 0,
           "electric_free": 0,
           "electric_slots": 0,
           "normal_bikes": 0,
           "normal_free": 15,
           "normal_slots": 15,
           "slots": 15,
           "uid": "0086"
          },
          "free_bikes": 0,
          "id": "1746fca77ab2c760f55ea8f6dc5d7010",
          "latitude": 55.7724933,
          "longitude": 37.5916535,
          "name": "1-я Тверская-Ямская ул., д.11",
          "timestamp": "2023-02-20T14:49:22.275000Z"
         },
         {
          "empty_slots": 15,
          "extra": {
           "address": "я Дубровская ул., д.7/10",
           "ebikes": 0,
           "electric_free": 0,
           "electric_slots": 0,
           "normal_bikes": 0,
           "normal_free": 15,
           "normal_slots": 15,
           "slots": 15,
           "uid": "0606"
          },
          "free_bikes": 0,
          "id": "ae5e6544063dc043119adbec62fc1791",
          "latitude": 55.725931,
          "longitude": 37.670731,
          "name": "1-я Дубровская ул., д.7/10",
          "timestamp": "2023-02-20T14:49:22.276000Z"
         },
         {
          "empty_slots": 10,
          "extra": {
           "address": "Мичуринский пр-т, д.38 (ст. м. Раменки)",
           "ebikes": 0,
           "electric_free": 0,
           "electric_slots": 0,
           "normal_bikes": 0,
           "normal_free": 10,
           "normal_slots": 10,
           "slots": 10,
           "uid": "0296"
          },
          "free_bikes": 0,
          "id": "ca0d65ab2dfeb31bef4441595b0acec3",
          "latitude": 55.6967984,
          "longitude": 37.4960883,
          "name": "Мичуринский пр-т, д.38 (ст. м. Раменки)",
          "timestamp": "2023-02-20T14:49:22.277000Z"
         },
         {
          "empty_slots": 12,
          "extra": {
           "address": "пр-т Вернадского, д.70А",
           "ebikes": 0,
           "electric_free": 0,
           "electric_slots": 0,
           "normal_bikes": 0,
           "normal_free": 12,
           "normal_slots": 12,
           "slots": 12,
           "uid": "0284"
          },
          "free_bikes": 0,
          "id": "17912420f01ac4005b89b864ce8d7f86",
          "latitude": 55.67144,
          "longitude": 37.49611,
          "name": "пр-т Вернадского, д.70А",
          "timestamp": "2023-02-20T14:49:22.279000Z"
         },
         {
          "empty_slots": 14,
          "extra": {
           "address": "Ходынский б-р, д.3",
           "ebikes": 1,
           "electric_free": 0,
           "electric_slots": 0,
           "normal_bikes": 0,
           "normal_free": 14,
           "normal_slots": 15,
           "slots": 15,
           "uid": "0504"
          },
          "free_bikes": 1,
          "id": "f15bedf20e0b0abef8b8990173f6aaec",
          "latitude": 55.78664,
          "longitude": 37.53766,
          "name": "Ходынский б-р, д.3",
          "timestamp": "2023-02-20T14:49:22.280000Z"
         },
         {
          "empty_slots": 15,
          "extra": {
           "address": "ул. Гризодубовой, д.2",
           "ebikes": 0,
           "electric_free": 0,
           "electric_slots": 0,
           "normal_bikes": 0,
           "normal_free": 15,
           "normal_slots": 15,
           "slots": 15,
           "uid": "0505"
          },
          "free_bikes": 0,
          "id": "db955f89da618b5a2e52be3dfda7b3f7",
          "latitude": 55.7822,
          "longitude": 37.53099,
          "name": "ул. Гризодубовой, д.2",
          "timestamp": "2023-02-20T14:49:22.280000Z"
         },
         {
          "empty_slots": 21,
          "extra": {
           "address": "пр-т Мира, д.142, стр.2 (ст. м. ВДНХ, выход к ул. Кибальчича)",
           "ebikes": 0,
           "electric_free": 0,
           "electric_slots": 0,
           "normal_bikes": 0,
           "normal_free": 21,
           "normal_slots": 21,
           "slots": 21,
           "uid": "0476"
          },
          "free_bikes": 0,
          "id": "ca9d24bcf975df88e2ebeab6a39e4b5a",
          "latitude": 55.81938,
          "longitude": 37.64044,
          "name": "пр-т Мира, д.142, стр.2 (ст. м. ВДНХ, выход к ул. Кибальчича)",
          "timestamp": "2023-02-20T14:49:22.283000Z"
         },
         {
          "empty_slots": 15,
          "extra": {
           "address": "я ул. Ямского поля, д.24",
           "ebikes": 0,
           "electric_free": 0,
           "electric_slots": 0,
           "normal_bikes": 0,
           "normal_free": 15,
           "normal_slots": 15,
           "slots": 15,
           "uid": "0426"
          },
          "free_bikes": 0,
          "id": "f93ab32292b66d7cd1775cd9d5c32750",
          "latitude": 55.78834,
          "longitude": 37.57815,
          "name": "5-я ул. Ямского поля, д.24",
          "timestamp": "2023-02-20T14:49:22.285000Z"
         },
         {
          "empty_slots": 20,
          "extra": {
           "address": "Триумфальная пл., д.2 (вход в сад Аквариум)",
           "ebikes": 0,
           "electric_free": 0,
           "electric_slots": 0,
           "normal_bikes": 0,
           "normal_free": 20,
           "normal_slots": 20,
           "slots": 20,
           "uid": "0115"
          },
          "free_bikes": 0,
          "id": "ee0aa956f7638a130c7d0a4b76c66469",
          "latitude": 55.768127,
          "longitude": 37.594487,
          "name": "Триумфальная пл., д.2 (вход в сад Аквариум)",
          "timestamp": "2023-02-20T14:49:22.285000Z"
         },
         {
          "empty_slots": 12,
          "extra": {
           "address": "ул. Садовая-Триумфальная, д.4/10",
           "ebikes": 0,
           "electric_free": 0,
           "electric_slots": 0,
           "normal_bikes": 0,
           "normal_free": 12,
           "normal_slots": 12,
           "slots": 12,
           "uid": "0116"
          },
          "free_bikes": 0,
          "id": "b50155f5d4dd5ce40cc05e8835cf2d3e",
          "latitude": 55.7708538,
          "longitude": 37.5997612,
          "name": "ул. Садовая-Триумфальная, д.4/10",
          "timestamp": "2023-02-20T14:49:22.286000Z"
         },
         {
          "empty_slots": 12,
          "extra": {
           "address": "ул. Улофа Пальме, д.1",
           "ebikes": 0,
           "electric_free": 0,
           "electric_slots": 0,
           "normal_bikes": 0,
           "normal_free": 12,
           "normal_slots": 12,
           "slots": 12,
           "uid": "0392"
          },
          "free_bikes": 0,
          "id": "3cdcdfb6ad288d13dd39c68bdcb0543c",
          "latitude": 55.717902,
          "longitude": 37.513659,
          "name": "ул. Улофа Пальме, д.1",
          "timestamp": "2023-02-20T14:49:22.287000Z"
         },
         {
          "empty_slots": 12,
          "extra": {
           "address": "ул. Люсиновская, д.2 (ст. м. Добрынинская)",
           "ebikes": 0,
           "electric_free": 0,
           "electric_slots": 0,
           "normal_bikes": 0,
           "normal_free": 12,
           "normal_slots": 12,
           "slots": 12,
           "uid": "0264"
          },
          "free_bikes": 0,
          "id": "ece47531a5c00f17403520ce7cd5f46e",
          "latitude": 55.7290315,
          "longitude": 37.6231799,
          "name": "ул. Люсиновская, д.2 (ст. м. Добрынинская)",
          "timestamp": "2023-02-20T14:49:22.288000Z"
         },
         {
          "empty_slots": 24,
          "extra": {
           "address": "ул. Руставели, д.19 (ст. м. Бутырская)",
           "ebikes": 0,
           "electric_free": 0,
           "electric_slots": 0,
           "normal_bikes": 0,
           "normal_free": 24,
           "normal_slots": 24,
           "slots": 24,
           "uid": "0537"
          },
          "free_bikes": 0,
          "id": "c5036ee742ab1c0e8c759dfe75b2b4c5",
          "latitude": 55.8142078,
          "longitude": 37.6011372,
          "name": "ул. Руставели, д.19 (ст. м. Бутырская)",
          "timestamp": "2023-02-20T14:49:22.289000Z"
         },
         {
          "empty_slots": 12,
          "extra": {
           "address": "ул. Тверская, д.18",
           "ebikes": 0,
           "electric_free": 0,
           "electric_slots": 0,
           "normal_bikes": 0,
           "normal_free": 12,
           "normal_slots": 12,
           "slots": 12,
           "uid": "0046"
          },
          "free_bikes": 0,
          "id": "d64a3c3c36e3528421fdb01eab370f2f",
          "latitude": 55.7657169,
          "longitude": 37.6043076,
          "name": "ул. Тверская, д.18",
          "timestamp": "2023-02-20T14:49:22.289000Z"
         },
         {
          "empty_slots": 15,
          "extra": {
           "address": "Токмаков пер., д.12/20",
           "ebikes": 0,
           "electric_free": 0,
           "electric_slots": 0,
           "normal_bikes": 0,
           "normal_free": 15,
           "normal_slots": 15,
           "slots": 15,
           "uid": "0654"
          },
          "free_bikes": 0,
          "id": "e181a08ea9f58400a92c074eb9b67315",
          "latitude": 55.7655969,
          "longitude": 37.6698876,
          "name": "Токмаков пер., д.12/20",
          "timestamp": "2023-02-20T14:49:22.291000Z"
         },
         {
          "empty_slots": 12,
          "extra": {
           "address": "ст. м. Шипиловская (выход №5)",
           "ebikes": 0,
           "electric_free": 0,
           "electric_slots": 0,
           "normal_bikes": 0,
           "normal_free": 12,
           "normal_slots": 12,
           "slots": 12,
           "uid": "0682"
          },
          "free_bikes": 0,
          "id": "c0ce545ee6ed40197d0885ac6f02f549",
          "latitude": 55.6220611,
          "longitude": 37.7434632,
          "name": "ст. м. Шипиловская (выход №5)",
          "timestamp": "2023-02-20T14:49:22.293000Z"
         },
         {
          "empty_slots": 12,
          "extra": {
           "address": "Варшавское ш., д.12",
           "ebikes": 0,
           "electric_free": 0,
           "electric_slots": 0,
           "normal_bikes": 0,
           "normal_free": 12,
           "normal_slots": 12,
           "slots": 12,
           "uid": "0278"
          },
          "free_bikes": 0,
          "id": "2f4d2fda0b0b05c88b3a4ee3b94297bd",
          "latitude": 55.69684,
          "longitude": 37.62041,
          "name": "Варшавское ш., д.12",
          "timestamp": "2023-02-20T14:49:22.293000Z"
         },
         {
          "empty_slots": 12,
          "extra": {
           "address": "Варшавское ш., д.26 (ст. м. Нагатинская)",
           "ebikes": 0,
           "electric_free": 0,
           "electric_slots": 0,
           "normal_bikes": 0,
           "normal_free": 12,
           "normal_slots": 12,
           "slots": 12,
           "uid": "0280"
          },
          "free_bikes": 0,
          "id": "7d939b84b8109c1c7f15b46126a37da3",
          "latitude": 55.68397,
          "longitude": 37.62275,
          "name": "Варшавское ш., д.26 (ст. м. Нагатинская)",
          "timestamp": "2023-02-20T14:49:22.294000Z"
         },
         {
          "empty_slots": 12,
          "extra": {
           "address": "ул. Орджоникидзе (напротив д.5)",
           "ebikes": 0,
           "electric_free": 0,
           "electric_slots": 0,
           "normal_bikes": 0,
           "normal_free": 12,
           "normal_slots": 12,
           "slots": 12,
           "uid": "0273"
          },
          "free_bikes": 0,
          "id": "b16b50f39812d2ebc85b4a835de65ae0",
          "latitude": 55.7107,
          "longitude": 37.60075,
          "name": "ул. Орджоникидзе (напротив д.5)",
          "timestamp": "2023-02-20T14:49:22.295000Z"
         },
         {
          "empty_slots": 12,
          "extra": {
           "address": "ул. Полковая, д.1, стр.2",
           "ebikes": 0,
           "electric_free": 0,
           "electric_slots": 0,
           "normal_bikes": 0,
           "normal_free": 12,
           "normal_slots": 12,
           "slots": 12,
           "uid": "0533"
          },
          "free_bikes": 0,
          "id": "863b700e950e594a9b17990192992221",
          "latitude": 55.798216,
          "longitude": 37.602618,
          "name": "ул. Полковая, д.1, стр.2",
          "timestamp": "2023-02-20T14:49:22.296000Z"
         },
         {
          "empty_slots": 21,
          "extra": {
           "address": "ст. м. Динамо (южный выход)",
           "ebikes": 0,
           "electric_free": 0,
           "electric_slots": 0,
           "normal_bikes": 0,
           "normal_free": 21,
           "normal_slots": 21,
           "slots": 21,
           "uid": "0520"
          },
          "free_bikes": 0,
          "id": "1648224f376e6184bd67817710e06177",
          "latitude": 55.78894,
          "longitude": 37.55936,
          "name": "ст. м. Динамо (южный выход)",
          "timestamp": "2023-02-20T14:49:22.297000Z"
         },
         {
          "empty_slots": 24,
          "extra": {
           "address": "Ленинградский пр-т, д.62А (ст. м. Аэропорт, выход в город к ул. Черняховского)",
           "ebikes": 0,
           "electric_free": 0,
           "electric_slots": 0,
           "normal_bikes": 0,
           "normal_free": 24,
           "normal_slots": 24,
           "slots": 24,
           "uid": "0523"
          },
          "free_bikes": 0,
          "id": "7063fe5ccc3e8477f8c58853aab6b6c3",
          "latitude": 55.80132,
          "longitude": 37.53124,
          "name": "Ленинградский пр-т, д.62А (ст. м. Аэропорт, выход в город к ул. Черняховского)",
          "timestamp": "2023-02-20T14:49:22.297000Z"
         },
         {
          "empty_slots": 15,
          "extra": {
           "address": "Мичуринский пр-т, д.31, к.4",
           "ebikes": 0,
           "electric_free": 0,
           "electric_slots": 0,
           "normal_bikes": 0,
           "normal_free": 15,
           "normal_slots": 15,
           "slots": 15,
           "uid": "0279"
          },
          "free_bikes": 0,
          "id": "0b1a25ac9468b9013185fed1b62c7eec",
          "latitude": 55.6946806,
          "longitude": 37.4960798,
          "name": "Мичуринский пр-т, д.31, к.4",
          "timestamp": "2023-02-20T14:49:22.298000Z"
         },
         {
          "empty_slots": 15,
          "extra": {
           "address": "пр-т Вернадского, д.12",
           "ebikes": 0,
           "electric_free": 0,
           "electric_slots": 0,
           "normal_bikes": 0,
           "normal_free": 15,
           "normal_slots": 15,
           "slots": 15,
           "uid": "0282"
          },
          "free_bikes": 0,
          "id": "5481612080c70a085a02c99d5cdc83fd",
          "latitude": 55.68228,
          "longitude": 37.51531,
          "name": "пр-т Вернадского, д.12",
          "timestamp": "2023-02-20T14:49:22.299000Z"
         },
         {
          "empty_slots": 15,
          "extra": {
           "address": "пр-т Вернадского, д.86Д",
           "ebikes": 0,
           "electric_free": 0,
           "electric_slots": 0,
           "normal_bikes": 0,
           "normal_free": 15,
           "normal_slots": 15,
           "slots": 15,
           "uid": "0287"
          },
          "free_bikes": 0,
          "id": "876188160cf6e8aa8672dca68ff44566",
          "latitude": 55.66072,
          "longitude": 37.48128,
          "name": "пр-т Вернадского, д.86Д",
          "timestamp": "2023-02-20T14:49:22.300000Z"
         },
         {
          "empty_slots": 15,
          "extra": {
           "address": "пр. Берёзовой Рощи, д.2",
           "ebikes": 0,
           "electric_free": 0,
           "electric_slots": 0,
           "normal_bikes": 0,
           "normal_free": 15,
           "normal_slots": 15,
           "slots": 15,
           "uid": "0506"
          },
          "free_bikes": 0,
          "id": "2c393ed69f003f5447d25f1ddc463b9a",
          "latitude": 55.78611,
          "longitude": 37.5198,
          "name": "пр. Берёзовой Рощи, д.2",
          "timestamp": "2023-02-20T14:49:22.300000Z"
         },
         {
          "empty_slots": 15,
          "extra": {
           "address": "пр-т Мира, д.182",
           "ebikes": 0,
           "electric_free": 0,
           "electric_slots": 0,
           "normal_bikes": 0,
           "normal_free": 15,
           "normal_slots": 15,
           "slots": 15,
           "uid": "0536"
          },
          "free_bikes": 0,
          "id": "329f1d7b5aeee04f62fbfdc31dbe3a02",
          "latitude": 55.82637,
          "longitude": 37.64784,
          "name": "пр-т Мира, д.182",
          "timestamp": "2023-02-20T14:49:22.301000Z"
         },
         {
          "empty_slots": 12,
          "extra": {
           "address": "ул. Краснобогатырская, д.89",
           "ebikes": 0,
           "electric_free": 0,
           "electric_slots": 0,
           "normal_bikes": 0,
           "normal_free": 12,
           "normal_slots": 12,
           "slots": 12,
           "uid": "0494"
          },
          "free_bikes": 0,
          "id": "ed8e448f72fb1dde0cef59fb3d9172a9",
          "latitude": 55.80138,
          "longitude": 37.71148,
          "name": "ул. Краснобогатырская, д.89",
          "timestamp": "2023-02-20T14:49:22.302000Z"
         },
         {
          "empty_slots": 12,
          "extra": {
           "address": "пр-т Мира, д.123",
           "ebikes": 0,
           "electric_free": 0,
           "electric_slots": 0,
           "normal_bikes": 0,
           "normal_free": 12,
           "normal_slots": 12,
           "slots": 12,
           "uid": "0535"
          },
          "free_bikes": 0,
          "id": "bae991f497d6779a3aaedeef55b515a5",
          "latitude": 55.82667,
          "longitude": 37.64668,
          "name": "пр-т Мира, д.123",
          "timestamp": "2023-02-20T14:49:22.302000Z"
         },
         {
          "empty_slots": 21,
          "extra": {
           "address": "ул. Профсоюзная, д.43 (ст. м. Новые Черёмушки, выход №2)",
           "ebikes": 0,
           "electric_free": 0,
           "electric_slots": 0,
           "normal_bikes": 0,
           "normal_free": 21,
           "normal_slots": 21,
           "slots": 21,
           "uid": "0292"
          },
          "free_bikes": 0,
          "id": "76b3138bed4b3f35f881267adbf37ced",
          "latitude": 55.66923,
          "longitude": 37.5539,
          "name": "ул. Профсоюзная, д.43 (ст. м. Новые Черёмушки, выход №2)",
          "timestamp": "2023-02-20T14:49:22.303000Z"
         },
         {
          "empty_slots": 18,
          "extra": {
           "address": "ул. Земляной Вал, д.33",
           "ebikes": 0,
           "electric_free": 0,
           "electric_slots": 0,
           "normal_bikes": 0,
           "normal_free": 18,
           "normal_slots": 18,
           "slots": 18,
           "uid": "0141"
          },
          "free_bikes": 0,
          "id": "6aa25f0adbe044ea67fccb395d42e6af",
          "latitude": 55.7569598,
          "longitude": 37.6580268,
          "name": "ул. Земляной Вал, д.33",
          "timestamp": "2023-02-20T14:49:22.304000Z"
         },
         {
          "empty_slots": 14,
          "extra": {
           "address": "ул. Воронцовская, д.50 (ст. м. Крестьянская Застава)",
           "ebikes": 0,
           "electric_free": 0,
           "electric_slots": 0,
           "normal_bikes": 1,
           "normal_free": 14,
           "normal_slots": 15,
           "slots": 15,
           "uid": "0604"
          },
          "free_bikes": 1,
          "id": "10f8f4cd8add8d5eef968d68bf65a77b",
          "latitude": 55.7323179,
          "longitude": 37.665312,
          "name": "ул. Воронцовская, д.50 (ст. м. Крестьянская Застава)",
          "timestamp": "2023-02-20T14:49:22.305000Z"
         },
         {
          "empty_slots": 18,
          "extra": {
           "address": "я Тверская-Ямская ул., д.4 (ст. м. Маяковская, выход на 1-ю Тверскую-Ямскую ул.)",
           "ebikes": 0,
           "electric_free": 0,
           "electric_slots": 0,
           "normal_bikes": 0,
           "normal_free": 18,
           "normal_slots": 18,
           "slots": 18,
           "uid": "0048"
          },
          "free_bikes": 0,
          "id": "4773c4ac79f1ef66bcaf633f5238c8e7",
          "latitude": 55.7712466,
          "longitude": 37.5943833,
          "name": "1-я Тверская-Ямская ул., д.4 (ст. м. Маяковская, выход на 1-ю Тверскую-Ямскую ул.)",
          "timestamp": "2023-02-20T14:49:22.306000Z"
         },
         {
          "empty_slots": 18,
          "extra": {
           "address": "ул. Пречистенка, д.12/2, стр.1",
           "ebikes": 0,
           "electric_free": 0,
           "electric_slots": 0,
           "normal_bikes": 0,
           "normal_free": 18,
           "normal_slots": 18,
           "slots": 18,
           "uid": "0062"
          },
          "free_bikes": 0,
          "id": "a625544722c09270d1a2a9f53d7d2328",
          "latitude": 55.7434021,
          "longitude": 37.5977164,
          "name": "ул. Пречистенка, д.12/2, стр.1",
          "timestamp": "2023-02-20T14:49:22.307000Z"
         },
         {
          "empty_slots": 12,
          "extra": {
           "address": "ул. Таганская, д.31/22",
           "ebikes": 0,
           "electric_free": 0,
           "electric_slots": 0,
           "normal_bikes": 0,
           "normal_free": 12,
           "normal_slots": 12,
           "slots": 12,
           "uid": "0615"
          },
          "free_bikes": 0,
          "id": "7aa885b8033a252f39c82814d2fbb36d",
          "latitude": 55.7394363,
          "longitude": 37.6699924,
          "name": "ул. Таганская, д.31/22",
          "timestamp": "2023-02-20T14:49:22.308000Z"
         },
         {
          "empty_slots": 12,
          "extra": {
           "address": "ст. м. Зябликово (выход №9)",
           "ebikes": 0,
           "electric_free": 0,
           "electric_slots": 0,
           "normal_bikes": 0,
           "normal_free": 12,
           "normal_slots": 12,
           "slots": 12,
           "uid": "0680"
          },
          "free_bikes": 0,
          "id": "4074aa1c54ba95eec20778c5ca51ad7a",
          "latitude": 55.6137016,
          "longitude": 37.7456143,
          "name": "ст. м. Зябликово (выход №9)",
          "timestamp": "2023-02-20T14:49:22.309000Z"
         },
         {
          "empty_slots": 15,
          "extra": {
           "address": "Волгоградский пр-т, д.32, стр.21 (ст. м. Волгоградский пр-т, выход №2)",
           "ebikes": 0,
           "electric_free": 0,
           "electric_slots": 0,
           "normal_bikes": 0,
           "normal_free": 15,
           "normal_slots": 15,
           "slots": 15,
           "uid": "0619"
          },
          "free_bikes": 0,
          "id": "34c156d0c705750fd8e5b949d99595bb",
          "latitude": 55.7246532,
          "longitude": 37.6878922,
          "name": "Волгоградский пр-т, д.32, стр.21 (ст. м. Волгоградский пр-т, выход №2)",
          "timestamp": "2023-02-20T14:49:22.309000Z"
         },
         {
          "empty_slots": 12,
          "extra": {
           "address": "ул. Трифоновская, д.61, к.1",
           "ebikes": 0,
           "electric_free": 0,
           "electric_slots": 0,
           "normal_bikes": 0,
           "normal_free": 12,
           "normal_slots": 12,
           "slots": 12,
           "uid": "0429"
          },
          "free_bikes": 0,
          "id": "1ef91fc87639d015d008b1a6048f35dc",
          "latitude": 55.7904,
          "longitude": 37.63324,
          "name": "ул. Трифоновская, д.61, к.1",
          "timestamp": "2023-02-20T14:49:22.310000Z"
         },
         {
          "empty_slots": 12,
          "extra": {
           "address": "ул. Генерала Ермолова, д.4",
           "ebikes": 0,
           "electric_free": 0,
           "electric_slots": 0,
           "normal_bikes": 0,
           "normal_free": 12,
           "normal_slots": 12,
           "slots": 12,
           "uid": "0257"
          },
          "free_bikes": 0,
          "id": "0d1efc688360bbbf4cfd43a58dd02376",
          "latitude": 55.73511,
          "longitude": 37.51768,
          "name": "ул. Генерала Ермолова, д.4",
          "timestamp": "2023-02-20T14:49:22.312000Z"
         },
         {
          "empty_slots": 21,
          "extra": {
           "address": "Ленинградский пр-т, д.73 (ст. м. Сокол, выход №1)",
           "ebikes": 0,
           "electric_free": 0,
           "electric_slots": 0,
           "normal_bikes": 0,
           "normal_free": 21,
           "normal_slots": 21,
           "slots": 21,
           "uid": "0509"
          },
          "free_bikes": 0,
          "id": "1f615bca9d9c61238074cc2c7c0761ff",
          "latitude": 55.80443,
          "longitude": 37.51517,
          "name": "Ленинградский пр-т, д.73 (ст. м. Сокол, выход №1)",
          "timestamp": "2023-02-20T14:49:22.313000Z"
         },
         {
          "empty_slots": 12,
          "extra": {
           "address": "Ленинградский пр-т, д.68",
           "ebikes": 0,
           "electric_free": 0,
           "electric_slots": 0,
           "normal_bikes": 0,
           "normal_free": 12,
           "normal_slots": 12,
           "slots": 12,
           "uid": "0524"
          },
          "free_bikes": 0,
          "id": "1d796fa241f8329e0946f699f21f54a2",
          "latitude": 55.8037654,
          "longitude": 37.5212331,
          "name": "Ленинградский пр-т, д.68",
          "timestamp": "2023-02-20T14:49:22.314000Z"
         },
         {
          "empty_slots": 15,
          "extra": {
           "address": "ул. Куусинена, д.13",
           "ebikes": 0,
           "electric_free": 0,
           "electric_slots": 0,
           "normal_bikes": 0,
           "normal_free": 15,
           "normal_slots": 15,
           "slots": 15,
           "uid": "0501"
          },
          "free_bikes": 0,
          "id": "9228123e26df8125ca5a849d8bb6b850",
          "latitude": 55.78389,
          "longitude": 37.51401,
          "name": "ул. Куусинена, д.13",
          "timestamp": "2023-02-20T14:49:22.314000Z"
         },
         {
          "empty_slots": 27,
          "extra": {
           "address": "Славянская площадь (напротив д.2)",
           "ebikes": 0,
           "electric_free": 0,
           "electric_slots": 0,
           "normal_bikes": 0,
           "normal_free": 27,
           "normal_slots": 27,
           "slots": 27,
           "uid": "0041"
          },
          "free_bikes": 0,
          "id": "d1a5341976058e6151400740730e3eeb",
          "latitude": 55.754015,
          "longitude": 37.634688,
          "name": "Славянская площадь (напротив д.2)",
          "timestamp": "2023-02-20T14:49:22.315000Z"
         },
         {
          "empty_slots": 12,
          "extra": {
           "address": "Никитский б-р (напротив д.8А/3, стр.1)",
           "ebikes": 0,
           "electric_free": 0,
           "electric_slots": 0,
           "normal_bikes": 0,
           "normal_free": 12,
           "normal_slots": 12,
           "slots": 12,
           "uid": "0052"
          },
          "free_bikes": 0,
          "id": "36395065eac1520f50a049b9149825b6",
          "latitude": 55.7530475,
          "longitude": 37.6014341,
          "name": "Никитский б-р (напротив д.8А/3, стр.1)",
          "timestamp": "2023-02-20T14:49:22.316000Z"
         },
         {
          "empty_slots": 12,
          "extra": {
           "address": "ул. Садовая-Кудринская, д.1-3а",
           "ebikes": 0,
           "electric_free": 0,
           "electric_slots": 0,
           "normal_bikes": 0,
           "normal_free": 12,
           "normal_slots": 12,
           "slots": 12,
           "uid": "0111"
          },
          "free_bikes": 0,
          "id": "c571795fa048b70748239f2b898e11ec",
          "latitude": 55.7597006,
          "longitude": 37.5848176,
          "name": "ул. Садовая-Кудринская, д.1-3а",
          "timestamp": "2023-02-20T14:49:22.317000Z"
         },
         {
          "empty_slots": 12,
          "extra": {
           "address": "ул. Дубнинская, д.12, к.3",
           "ebikes": 0,
           "electric_free": 0,
           "electric_slots": 0,
           "normal_bikes": 0,
           "normal_free": 12,
           "normal_slots": 12,
           "slots": 12,
           "uid": "0687"
          },
          "free_bikes": 0,
          "id": "6c1c462440135272bb00696c74e559cf",
          "latitude": 55.8647675,
          "longitude": 37.5713646,
          "name": "ул. Дубнинская, д.12, к.3",
          "timestamp": "2023-02-20T14:49:22.317000Z"
         },
         {
          "empty_slots": 12,
          "extra": {
           "address": "Варшавское ш., д.58, стр.3",
           "ebikes": 0,
           "electric_free": 0,
           "electric_slots": 0,
           "normal_bikes": 0,
           "normal_free": 12,
           "normal_slots": 12,
           "slots": 12,
           "uid": "0290"
          },
          "free_bikes": 0,
          "id": "5d49e878567057e4320f31005f79ede5",
          "latitude": 55.66388,
          "longitude": 37.61995,
          "name": "Варшавское ш., д.58, стр.3",
          "timestamp": "2023-02-20T14:49:22.318000Z"
         },
         {
          "empty_slots": 15,
          "extra": {
           "address": "ул. Большая Переяславская, д.15",
           "ebikes": 0,
           "electric_free": 0,
           "electric_slots": 0,
           "normal_bikes": 0,
           "normal_free": 15,
           "normal_slots": 15,
           "slots": 15,
           "uid": "0436"
          },
          "free_bikes": 0,
          "id": "610feaeffa48168a54753118a258ae4b",
          "latitude": 55.787,
          "longitude": 37.64036,
          "name": "ул. Большая Переяславская, д.15",
          "timestamp": "2023-02-20T14:49:22.319000Z"
         },
         {
          "empty_slots": 15,
          "extra": {
           "address": "пр-т Мира, д.122",
           "ebikes": 0,
           "electric_free": 0,
           "electric_slots": 0,
           "normal_bikes": 0,
           "normal_free": 15,
           "normal_slots": 15,
           "slots": 15,
           "uid": "0447"
          },
          "free_bikes": 0,
          "id": "22bd43e7be6a5ca17019f7ddf7fb4333",
          "latitude": 55.81359,
          "longitude": 37.63841,
          "name": "пр-т Мира, д.122",
          "timestamp": "2023-02-20T14:49:22.320000Z"
         },
         {
          "empty_slots": 12,
          "extra": {
           "address": "Турчанинов пер., д.3, стр. 1 (ст. м. Парк Культуры)",
           "ebikes": 0,
           "electric_free": 0,
           "electric_slots": 0,
           "normal_bikes": 0,
           "normal_free": 12,
           "normal_slots": 12,
           "slots": 12,
           "uid": "0152"
          },
          "free_bikes": 0,
          "id": "d65c1c15c43d1fac0c739c9036811624",
          "latitude": 55.736359,
          "longitude": 37.595854,
          "name": "Турчанинов пер., д.3, стр. 1 (ст. м. Парк Культуры)",
          "timestamp": "2023-02-20T14:49:22.321000Z"
         },
         {
          "empty_slots": 12,
          "extra": {
           "address": "Смоленская пл., д.6, стр.1 (рядом со ст. м. Смоленская)",
           "ebikes": 0,
           "electric_free": 0,
           "electric_slots": 0,
           "normal_bikes": 0,
           "normal_free": 12,
           "normal_slots": 12,
           "slots": 12,
           "uid": "0106"
          },
          "free_bikes": 0,
          "id": "b6359bad931a31868d1a6070fd6839c5",
          "latitude": 55.748114,
          "longitude": 37.582947,
          "name": "Смоленская пл., д.6, стр.1 (рядом со ст. м. Смоленская)",
          "timestamp": "2023-02-20T14:49:22.322000Z"
         },
         {
          "empty_slots": 30,
          "extra": {
           "address": "ул. Крымский Вал, д.3 (ст. м. Октябрьская)",
           "ebikes": 0,
           "electric_free": 0,
           "electric_slots": 0,
           "normal_bikes": 0,
           "normal_free": 30,
           "normal_slots": 30,
           "slots": 30,
           "uid": "0158"
          },
          "free_bikes": 0,
          "id": "c3a892575999b843ae3f3e91b1a9a569",
          "latitude": 55.7301022,
          "longitude": 37.6102521,
          "name": "ул. Крымский Вал, д.3 (ст. м. Октябрьская)",
          "timestamp": "2023-02-20T14:49:22.322000Z"
         },
         {
          "empty_slots": 18,
          "extra": {
           "address": "й Ростовский пер., д.11",
           "ebikes": 0,
           "electric_free": 0,
           "electric_slots": 0,
           "normal_bikes": 0,
           "normal_free": 18,
           "normal_slots": 18,
           "slots": 18,
           "uid": "0247"
          },
          "free_bikes": 0,
          "id": "c5015c815530c5c03c1a89a1cec84f9c",
          "latitude": 55.7403289,
          "longitude": 37.5728133,
          "name": "7-й Ростовский пер., д.11",
          "timestamp": "2023-02-20T14:49:22.323000Z"
         },
         {
          "empty_slots": 27,
          "extra": {
           "address": "Якиманская наб., д.2",
           "ebikes": 0,
           "electric_free": 0,
           "electric_slots": 0,
           "normal_bikes": 0,
           "normal_free": 27,
           "normal_slots": 27,
           "slots": 27,
           "uid": "0069"
          },
          "free_bikes": 0,
          "id": "4f4ea9774c22fafee4d785832a1a4541",
          "latitude": 55.7390438,
          "longitude": 37.610879,
          "name": "Якиманская наб., д.2",
          "timestamp": "2023-02-20T14:49:22.324000Z"
         },
         {
          "empty_slots": 12,
          "extra": {
           "address": "Бескудниковский б-р, д.29, к.1",
           "ebikes": 0,
           "electric_free": 0,
           "electric_slots": 0,
           "normal_bikes": 0,
           "normal_free": 12,
           "normal_slots": 12,
           "slots": 12,
           "uid": "0686"
          },
          "free_bikes": 0,
          "id": "4b55c40c41c2735269adbbb3ee1f2000",
          "latitude": 55.8712028,
          "longitude": 37.5548583,
          "name": "Бескудниковский б-р, д.29, к.1",
          "timestamp": "2023-02-20T14:49:22.325000Z"
         },
         {
          "empty_slots": 12,
          "extra": {
           "address": "ул. Маршала Захарова, д.8, к.1",
           "ebikes": 0,
           "electric_free": 0,
           "electric_slots": 0,
           "normal_bikes": 0,
           "normal_free": 12,
           "normal_slots": 12,
           "slots": 12,
           "uid": "0684"
          },
          "free_bikes": 0,
          "id": "3df0ff236846a930bc34d773b7122407",
          "latitude": 55.622981,
          "longitude": 37.7022624,
          "name": "ул. Маршала Захарова, д.8, к.1",
          "timestamp": "2023-02-20T14:49:22.326000Z"
         },
         {
          "empty_slots": 12,
          "extra": {
           "address": "ул. Сущёвская, д.21, стр.10",
           "ebikes": 0,
           "electric_free": 0,
           "electric_slots": 0,
           "normal_bikes": 0,
           "normal_free": 12,
           "normal_slots": 12,
           "slots": 12,
           "uid": "0418"
          },
          "free_bikes": 0,
          "id": "0e5795bb2d7d1c22a60588f1504abe8a",
          "latitude": 55.78241,
          "longitude": 37.60152,
          "name": "ул. Сущёвская, д.21, стр.10",
          "timestamp": "2023-02-20T14:49:22.327000Z"
         },
         {
          "empty_slots": 12,
          "extra": {
           "address": "Нахимовский пр-т, д.10",
           "ebikes": 0,
           "electric_free": 0,
           "electric_slots": 0,
           "normal_bikes": 0,
           "normal_free": 12,
           "normal_slots": 12,
           "slots": 12,
           "uid": "0289"
          },
          "free_bikes": 0,
          "id": "35be02d60b5fec2b4f5f7b1cf6ba54a4",
          "latitude": 55.66734,
          "longitude": 37.59469,
          "name": "Нахимовский пр-т, д.10",
          "timestamp": "2023-02-20T14:49:22.327000Z"
         },
         {
          "empty_slots": 12,
          "extra": {
           "address": "ул. Гарибальди, д.20/29, к.2",
           "ebikes": 0,
           "electric_free": 0,
           "electric_slots": 0,
           "normal_bikes": 0,
           "normal_free": 12,
           "normal_slots": 12,
           "slots": 12,
           "uid": "0286"
          },
          "free_bikes": 0,
          "id": "eb50c3cc6be367c09717572d6e2f7491",
          "latitude": 55.6734,
          "longitude": 37.54503,
          "name": "ул. Гарибальди, д.20/29, к.2",
          "timestamp": "2023-02-20T14:49:22.328000Z"
         },
         {
          "empty_slots": 9,
          "extra": {
           "address": "ул. Правды, д.24, стр.4",
           "ebikes": 0,
           "electric_free": 0,
           "electric_slots": 0,
           "normal_bikes": 0,
           "normal_free": 9,
           "normal_slots": 9,
           "slots": 9,
           "uid": "0427"
          },
          "free_bikes": 0,
          "id": "c5e795b1e7aa4f8628d765d34a100ff2",
          "latitude": 55.78876254,
          "longitude": 37.5824392,
          "name": "ул. Правды, д.24, стр.4",
          "timestamp": "2023-02-20T14:49:22.329000Z"
         },
         {
          "empty_slots": 12,
          "extra": {
           "address": "ул. Краснобогатырская, д.62",
           "ebikes": 0,
           "electric_free": 0,
           "electric_slots": 0,
           "normal_bikes": 0,
           "normal_free": 12,
           "normal_slots": 12,
           "slots": 12,
           "uid": "0493"
          },
          "free_bikes": 0,
          "id": "ed8620c00d42aa91246f0924ae1099d4",
          "latitude": 55.80549,
          "longitude": 37.7067,
          "name": "ул. Краснобогатырская, д.62",
          "timestamp": "2023-02-20T14:49:22.331000Z"
         },
         {
          "empty_slots": 21,
          "extra": {
           "address": "ул. Авиаконструктора Микояна, д.10",
           "ebikes": 0,
           "electric_free": 0,
           "electric_slots": 0,
           "normal_bikes": 0,
           "normal_free": 21,
           "normal_slots": 21,
           "slots": 21,
           "uid": "0503"
          },
          "free_bikes": 0,
          "id": "e5919e627ad9f0f7aafcdfefe0381e5b",
          "latitude": 55.7918581,
          "longitude": 37.5272596,
          "name": "ул. Авиаконструктора Микояна, д.10",
          "timestamp": "2023-02-20T14:49:22.332000Z"
         },
         {
          "empty_slots": 24,
          "extra": {
           "address": "ул. Усачева, д.26 (Усачёвский рынок)",
           "ebikes": 0,
           "electric_free": 24,
           "electric_slots": 24,
           "has_ebikes": true,
           "normal_bikes": 0,
           "normal_free": 0,
           "normal_slots": 0,
           "slots": 24,
           "uid": "0220"
          },
          "free_bikes": 0,
          "id": "587c5a0e02f7689fc4269c84a17b6921",
          "latitude": 55.727227,
          "longitude": 37.567605,
          "name": "ул. Усачева, д.26 (Усачёвский рынок)",
          "timestamp": "2023-02-20T14:49:22.332000Z"
         },
         {
          "empty_slots": 12,
          "extra": {
           "address": "Кудринская пл., д.46/54, стр.1",
           "ebikes": 0,
           "electric_free": 0,
           "electric_slots": 0,
           "normal_bikes": 0,
           "normal_free": 12,
           "normal_slots": 12,
           "slots": 12,
           "uid": "0110"
          },
          "free_bikes": 0,
          "id": "162c1d24e50bf340b6010b8e28f8654c",
          "latitude": 55.75849,
          "longitude": 37.584875,
          "name": "Кудринская пл., д.46/54, стр.1",
          "timestamp": "2023-02-20T14:49:22.333000Z"
         },
         {
          "empty_slots": 12,
          "extra": {
           "address": "й Лесной пер., д.11, стр.2",
           "ebikes": 0,
           "electric_free": 0,
           "electric_slots": 0,
           "normal_bikes": 0,
           "normal_free": 12,
           "normal_slots": 12,
           "slots": 12,
           "uid": "0400"
          },
          "free_bikes": 0,
          "id": "8c007baaeb5ba6e51b0a8c140a0a458a",
          "latitude": 55.780759,
          "longitude": 37.5877702,
          "name": "2-й Лесной пер., д.11, стр.2",
          "timestamp": "2023-02-20T14:49:22.334000Z"
         },
         {
          "empty_slots": 15,
          "extra": {
           "address": "Бескудниковский б-р, д.35, стр.1",
           "ebikes": 0,
           "electric_free": 0,
           "electric_slots": 0,
           "normal_bikes": 0,
           "normal_free": 15,
           "normal_slots": 15,
           "slots": 15,
           "uid": "0688"
          },
          "free_bikes": 0,
          "id": "9f9ef00bdebc75571016cedd0fae0f4d",
          "latitude": 55.8736631,
          "longitude": 37.5504943,
          "name": "Бескудниковский б-р, д.35, стр.1",
          "timestamp": "2023-02-20T14:49:22.336000Z"
         },
         {
          "empty_slots": 12,
          "extra": {
           "address": "ул. Шаболовка, д.43, стр.5",
           "ebikes": 0,
           "electric_free": 0,
           "electric_slots": 0,
           "normal_bikes": 0,
           "normal_free": 12,
           "normal_slots": 12,
           "slots": 12,
           "uid": "0270"
          },
          "free_bikes": 0,
          "id": "91bbebb61fd4df06a546c8e2ffae65e9",
          "latitude": 55.71573,
          "longitude": 37.60758,
          "name": "ул. Шаболовка, д.43, стр.5",
          "timestamp": "2023-02-20T14:49:22.336000Z"
         },
         {
          "empty_slots": 9,
          "extra": {
           "address": "Кутузовский пр-т, д.35/30",
           "ebikes": 0,
           "electric_free": 0,
           "electric_slots": 0,
           "normal_bikes": 0,
           "normal_free": 9,
           "normal_slots": 9,
           "slots": 9,
           "uid": "0249"
          },
          "free_bikes": 0,
          "id": "e9c348e06ca69c79a8544d25b17cb822",
          "latitude": 55.7391344,
          "longitude": 37.5370538,
          "name": "Кутузовский пр-т, д.35/30",
          "timestamp": "2023-02-20T14:49:22.337000Z"
         },
         {
          "empty_slots": 15,
          "extra": {
           "address": "ул. Новопесчаная, д.10, стр.1",
           "ebikes": 0,
           "electric_free": 0,
           "electric_slots": 0,
           "normal_bikes": 0,
           "normal_free": 15,
           "normal_slots": 15,
           "slots": 15,
           "uid": "0507"
          },
          "free_bikes": 0,
          "id": "1a5a8a61dd4ff797f3b30aac17480ccb",
          "latitude": 55.7991006,
          "longitude": 37.5145568,
          "name": "ул. Новопесчаная, д.10, стр.1",
          "timestamp": "2023-02-20T14:49:22.338000Z"
         },
         {
          "empty_slots": 12,
          "extra": {
           "address": "ул. Часовая, д.24, стр.3",
           "ebikes": 0,
           "electric_free": 0,
           "electric_slots": 0,
           "normal_bikes": 0,
           "normal_free": 12,
           "normal_slots": 12,
           "slots": 12,
           "uid": "0525"
          },
          "free_bikes": 0,
          "id": "303edc505c64d58ff24252b71f11355e",
          "latitude": 55.8112525,
          "longitude": 37.5252605,
          "name": "ул. Часовая, д.24, стр.3",
          "timestamp": "2023-02-20T14:49:22.339000Z"
         },
         {
          "empty_slots": 12,
          "extra": {
           "address": "ул. Кибальчича, д.9",
           "ebikes": 0,
           "electric_free": 0,
           "electric_slots": 0,
           "normal_bikes": 0,
           "normal_free": 12,
           "normal_slots": 12,
           "slots": 12,
           "uid": "0449"
          },
          "free_bikes": 0,
          "id": "62b63c5009b94845f54d61628bf6446e",
          "latitude": 55.81665,
          "longitude": 37.6468,
          "name": "ул. Кибальчича, д.9",
          "timestamp": "2023-02-20T14:49:22.340000Z"
         },
         {
          "empty_slots": 12,
          "extra": {
           "address": "ул. Садовая-Кудринская, д.32, стр.2",
           "ebikes": 0,
           "electric_free": 0,
           "electric_slots": 0,
           "normal_bikes": 0,
           "normal_free": 12,
           "normal_slots": 12,
           "slots": 12,
           "uid": "0113"
          },
          "free_bikes": 0,
          "id": "03a6cf9a2113dc9d31ceab64f8a45d81",
          "latitude": 55.765695,
          "longitude": 37.5907248,
          "name": "ул. Садовая-Кудринская, д.32, стр.2",
          "timestamp": "2023-02-20T14:49:22.342000Z"
         },
         {
          "empty_slots": 12,
          "extra": {
           "address": "ул. Садовая-Триумфальная, д.22/31",
           "ebikes": 0,
           "electric_free": 12,
           "electric_slots": 12,
           "has_ebikes": true,
           "normal_bikes": 0,
           "normal_free": 0,
           "normal_slots": 0,
           "slots": 12,
           "uid": "0117"
          },
          "free_bikes": 0,
          "id": "22f51dde023043981b26cbe9233d39fc",
          "latitude": 55.77198,
          "longitude": 37.60339,
          "name": "ул. Садовая-Триумфальная, д.22/31",
          "timestamp": "2023-02-20T14:49:22.342000Z"
         },
         {
          "empty_slots": 24,
          "extra": {
           "address": "Кутузовский пр-т, д.37 (ст. м. Кутузовская)",
           "ebikes": 0,
           "electric_free": 0,
           "electric_slots": 0,
           "normal_bikes": 0,
           "normal_free": 24,
           "normal_slots": 24,
           "slots": 24,
           "uid": "0256"
          },
          "free_bikes": 0,
          "id": "432e01ccda4f566f074a0859c30549bd",
          "latitude": 55.7391738,
          "longitude": 37.5325169,
          "name": "Кутузовский пр-т, д.37 (ст. м. Кутузовская)",
          "timestamp": "2023-02-20T14:49:22.343000Z"
         },
         {
          "empty_slots": 21,
          "extra": {
           "address": "Пречистенская наб., д.15, стр.2",
           "ebikes": 0,
           "electric_free": 0,
           "electric_slots": 0,
           "normal_bikes": 0,
           "normal_free": 21,
           "normal_slots": 21,
           "slots": 21,
           "uid": "0063"
          },
          "free_bikes": 0,
          "id": "658c65454952d320d494f4b1bfdc916d",
          "latitude": 55.738605,
          "longitude": 37.605304,
          "name": "Пречистенская наб., д.15, стр.2",
          "timestamp": "2023-02-20T14:49:22.344000Z"
         },
         {
          "empty_slots": 24,
          "extra": {
           "address": "ст. м. Семёновская",
           "ebikes": 0,
           "electric_free": 0,
           "electric_slots": 0,
           "normal_bikes": 0,
           "normal_free": 24,
           "normal_slots": 24,
           "slots": 24,
           "uid": "0540"
          },
          "free_bikes": 0,
          "id": "28b2ccd4f0f6a4b44130755ea98714b7",
          "latitude": 55.7829536,
          "longitude": 37.7188593,
          "name": "ст. м. Семёновская",
          "timestamp": "2023-02-20T14:49:22.345000Z"
         },
         {
          "empty_slots": 18,
          "extra": {
           "address": "ул. Тверская, д.31/4, стр.2 (ст. м. Маяковская, выход на Тверскую ул.)",
           "ebikes": 0,
           "electric_free": 0,
           "electric_slots": 0,
           "normal_bikes": 0,
           "normal_free": 18,
           "normal_slots": 18,
           "slots": 18,
           "uid": "0045"
          },
          "free_bikes": 0,
          "id": "80b83d877e7b48ffa96253498e6b61a5",
          "latitude": 55.769393,
          "longitude": 37.596613,
          "name": "ул. Тверская, д.31/4, стр.2 (ст. м. Маяковская, выход на Тверскую ул.)",
          "timestamp": "2023-02-20T14:49:22.345000Z"
         },
         {
          "empty_slots": 12,
          "extra": {
           "address": "ст. м. Орехово (выход №3)",
           "ebikes": 0,
           "electric_free": 0,
           "electric_slots": 0,
           "normal_bikes": 0,
           "normal_free": 12,
           "normal_slots": 12,
           "slots": 12,
           "uid": "0685"
          },
          "free_bikes": 0,
          "id": "e50f891a17df857b3b5eae2b53906f97",
          "latitude": 55.6141672,
          "longitude": 37.6946714,
          "name": "ст. м. Орехово (выход №3)",
          "timestamp": "2023-02-20T14:49:22.347000Z"
         },
         {
          "empty_slots": 11,
          "extra": {
           "address": "Шмитовский пр., д.9/5",
           "ebikes": 0,
           "electric_free": 0,
           "electric_slots": 0,
           "normal_bikes": 1,
           "normal_free": 11,
           "normal_slots": 12,
           "slots": 12,
           "uid": "0254"
          },
          "free_bikes": 1,
          "id": "b9e3ea4c8cfa074b4ecaa7e15234407b",
          "latitude": 55.75851,
          "longitude": 37.55293,
          "name": "Шмитовский пр., д.9/5",
          "timestamp": "2023-02-20T14:49:22.347000Z"
         },
         {
          "empty_slots": 21,
          "extra": {
           "address": "Ленинградский пр-т, д.49/2 (ст. м. Аэропорт)",
           "ebikes": 0,
           "electric_free": 0,
           "electric_slots": 0,
           "normal_bikes": 0,
           "normal_free": 21,
           "normal_slots": 21,
           "slots": 21,
           "uid": "0511"
          },
          "free_bikes": 0,
          "id": "6f0504ea560d65599c3adf7d18bbe10f",
          "latitude": 55.80055,
          "longitude": 37.53027,
          "name": "Ленинградский пр-т, д.49/2 (ст. м. Аэропорт)",
          "timestamp": "2023-02-20T14:49:22.348000Z"
         },
         {
          "empty_slots": 12,
          "extra": {
           "address": "Нововаганьковский пер., д.9",
           "ebikes": 0,
           "electric_free": 0,
           "electric_slots": 0,
           "normal_bikes": 0,
           "normal_free": 12,
           "normal_slots": 12,
           "slots": 12,
           "uid": "0239"
          },
          "free_bikes": 0,
          "id": "4981690ff21eb6ce7194c73eb31c383d",
          "latitude": 55.7590698,
          "longitude": 37.5659411,
          "name": "Нововаганьковский пер., д.9",
          "timestamp": "2023-02-20T14:49:22.350000Z"
         },
         {
          "empty_slots": 15,
          "extra": {
           "address": "Батайский пр. (напротив д.33)",
           "ebikes": 0,
           "electric_free": 0,
           "electric_slots": 0,
           "normal_bikes": 0,
           "normal_free": 15,
           "normal_slots": 15,
           "slots": 15,
           "uid": "0661"
          },
          "free_bikes": 0,
          "id": "ca6bd9bf69622dfb038a9fae8b88b0fd",
          "latitude": 55.64333,
          "longitude": 37.72517,
          "name": "Батайский пр. (напротив д.33)",
          "timestamp": "2023-02-20T14:49:22.351000Z"
         },
         {
          "empty_slots": 15,
          "extra": {
           "address": "ст. м. Алма-Атинская (выход №2)",
           "ebikes": 0,
           "electric_free": 0,
           "electric_slots": 0,
           "normal_bikes": 0,
           "normal_free": 15,
           "normal_slots": 15,
           "slots": 15,
           "uid": "0679"
          },
          "free_bikes": 0,
          "id": "594e5d9ab12e99caf7c7ac8355167a36",
          "latitude": 55.6319,
          "longitude": 37.76707,
          "name": "ст. м. Алма-Атинская (выход №2)",
          "timestamp": "2023-02-20T14:49:22.352000Z"
         },
         {
          "empty_slots": 9,
          "extra": {
           "address": "й квартал Капотни, д.18",
           "ebikes": 0,
           "electric_free": 0,
           "electric_slots": 0,
           "normal_bikes": 0,
           "normal_free": 9,
           "normal_slots": 9,
           "slots": 9,
           "uid": "0667"
          },
          "free_bikes": 0,
          "id": "e84ae23faf31798feb3555f5261e3681",
          "latitude": 55.63972,
          "longitude": 37.79355,
          "name": "2-й квартал Капотни, д.18",
          "timestamp": "2023-02-20T14:49:22.353000Z"
         },
         {
          "empty_slots": 9,
          "extra": {
           "address": "Дмитровское ш., д.63, к.1",
           "ebikes": 0,
           "electric_free": 0,
           "electric_slots": 0,
           "normal_bikes": 0,
           "normal_free": 9,
           "normal_slots": 9,
           "slots": 9,
           "uid": "0468"
          },
          "free_bikes": 0,
          "id": "ee6a25f97550c066802a387059ce0de4",
          "latitude": 55.84727,
          "longitude": 37.56728,
          "name": "Дмитровское ш., д.63, к.1",
          "timestamp": "2023-02-20T14:49:22.354000Z"
         },
         {
          "empty_slots": 9,
          "extra": {
           "address": "Бескудниковский б-р., д.13",
           "ebikes": 0,
           "electric_free": 0,
           "electric_slots": 0,
           "normal_bikes": 0,
           "normal_free": 9,
           "normal_slots": 9,
           "slots": 9,
           "uid": "0697"
          },
          "free_bikes": 0,
          "id": "fd8c790ab84b6ea214385b4e91bdd48e",
          "latitude": 55.86409,
          "longitude": 37.56033,
          "name": "Бескудниковский б-р., д.13",
          "timestamp": "2023-02-20T14:49:22.354000Z"
         },
         {
          "empty_slots": 9,
          "extra": {
           "address": "Бескудниковский б-р, д.57, к.1",
           "ebikes": 0,
           "electric_free": 0,
           "electric_slots": 0,
           "normal_bikes": 0,
           "normal_free": 9,
           "normal_slots": 9,
           "slots": 9,
           "uid": "0695"
          },
          "free_bikes": 0,
          "id": "ab6d5db371a8f7e9908ef148f90c4307",
          "latitude": 55.87313,
          "longitude": 37.53887,
          "name": "Бескудниковский б-р, д.57, к.1",
          "timestamp": "2023-02-20T14:49:22.355000Z"
         },
         {
          "empty_slots": 9,
          "extra": {
           "address": "Дмитровское ш., д.25",
           "ebikes": 0,
           "electric_free": 0,
           "electric_slots": 0,
           "normal_bikes": 0,
           "normal_free": 9,
           "normal_slots": 9,
           "slots": 9,
           "uid": "0496"
          },
          "free_bikes": 0,
          "id": "4464525fce8c8759d41ad55029e3658a",
          "latitude": 55.82531,
          "longitude": 37.57239,
          "name": "Дмитровское ш., д.25",
          "timestamp": "2023-02-20T14:49:22.356000Z"
         },
         {
          "empty_slots": 9,
          "extra": {
           "address": "ул. Ангарская, д.17",
           "ebikes": 0,
           "electric_free": 0,
           "electric_slots": 0,
           "normal_bikes": 0,
           "normal_free": 9,
           "normal_slots": 9,
           "slots": 9,
           "uid": "0692"
          },
          "free_bikes": 0,
          "id": "83fbc2e1bf0a18a9cd0b468c1c0bd6b6",
          "latitude": 55.87567,
          "longitude": 37.5163,
          "name": "ул. Ангарская, д.17",
          "timestamp": "2023-02-20T14:49:22.357000Z"
         },
         {
          "empty_slots": 18,
          "extra": {
           "address": "ул. Борисовские Пруды (напротив д.19, к.1)",
           "ebikes": 0,
           "electric_free": 0,
           "electric_slots": 0,
           "normal_bikes": 0,
           "normal_free": 18,
           "normal_slots": 18,
           "slots": 18,
           "uid": "0677"
          },
          "free_bikes": 0,
          "id": "3570e29ae327b56951618d699fca94dd",
          "latitude": 55.63532,
          "longitude": 37.72217,
          "name": "ул. Борисовские Пруды (напротив д.19, к.1)",
          "timestamp": "2023-02-20T14:49:22.357000Z"
         },
         {
          "empty_slots": 9,
          "extra": {
           "address": "ул. Перерва, д.40",
           "ebikes": 0,
           "electric_free": 0,
           "electric_slots": 0,
           "normal_bikes": 0,
           "normal_free": 9,
           "normal_slots": 9,
           "slots": 9,
           "uid": "0663"
          },
          "free_bikes": 0,
          "id": "676de72d78e4f002152e2d2c7acb3397",
          "latitude": 55.6538,
          "longitude": 37.73611,
          "name": "ул. Перерва, д.40",
          "timestamp": "2023-02-20T14:49:22.358000Z"
         },
         {
          "empty_slots": 18,
          "extra": {
           "address": "ул. Перерва, д.56, к.2 (ст. м. Братиславская, выход №3)",
           "ebikes": 0,
           "electric_free": 0,
           "electric_slots": 0,
           "normal_bikes": 0,
           "normal_free": 18,
           "normal_slots": 18,
           "slots": 18,
           "uid": "0664"
          },
          "free_bikes": 0,
          "id": "d861c29d7c56f0267f8c529aa39ddece",
          "latitude": 55.65867,
          "longitude": 37.74905,
          "name": "ул. Перерва, д.56, к.2 (ст. м. Братиславская, выход №3)",
          "timestamp": "2023-02-20T14:49:22.359000Z"
         },
         {
          "empty_slots": 9,
          "extra": {
           "address": "ул. Самокатная, д.4, стр.8",
           "ebikes": 0,
           "electric_free": 0,
           "electric_slots": 0,
           "normal_bikes": 0,
           "normal_free": 9,
           "normal_slots": 9,
           "slots": 9,
           "uid": "0614"
          },
          "free_bikes": 0,
          "id": "3d9b9a02fda5d786654732fbc23d90e0",
          "latitude": 55.75699,
          "longitude": 37.67832,
          "name": "ул. Самокатная, д.4, стр.8",
          "timestamp": "2023-02-20T14:49:22.360000Z"
         },
         {
          "empty_slots": 9,
          "extra": {
           "address": "ул. Елецкая, вл.1А (перекрёсток Орехового б-ра и Елецкой ул.)",
           "ebikes": 0,
           "electric_free": 0,
           "electric_slots": 0,
           "normal_bikes": 0,
           "normal_free": 9,
           "normal_slots": 9,
           "slots": 9,
           "uid": "0681"
          },
          "free_bikes": 0,
          "id": "a48a9cb63df729966962cfb2c14562e0",
          "latitude": 55.61283,
          "longitude": 37.73058,
          "name": "ул. Елецкая, вл.1А (перекрёсток Орехового б-ра и Елецкой ул.)",
          "timestamp": "2023-02-20T14:49:22.360000Z"
         },
         {
          "empty_slots": 12,
          "extra": {
           "address": "Котельническая наб., (напротив д.33)",
           "ebikes": 0,
           "electric_free": 0,
           "electric_slots": 0,
           "normal_bikes": 0,
           "normal_free": 12,
           "normal_slots": 12,
           "slots": 12,
           "uid": "0088"
          },
          "free_bikes": 0,
          "id": "ac29a89fb0abe8ddf8f60311311722cc",
          "latitude": 55.7409,
          "longitude": 37.64619,
          "name": "Котельническая наб., (напротив д.33)",
          "timestamp": "2023-02-20T14:49:22.361000Z"
         },
         {
          "empty_slots": 12,
          "extra": {
           "address": "ул. Зорге, д.21, стр.3 (МЦК Зорге)",
           "ebikes": 0,
           "electric_free": 0,
           "electric_slots": 0,
           "normal_bikes": 0,
           "normal_free": 12,
           "normal_slots": 12,
           "slots": 12,
           "uid": "0508"
          },
          "free_bikes": 0,
          "id": "a6d37128e7a19bc0170f4f2efc4f9ecd",
          "latitude": 55.78931,
          "longitude": 37.50749,
          "name": "ул. Зорге, д.21, стр.3 (МЦК Зорге)",
          "timestamp": "2023-02-20T14:49:22.362000Z"
         },
         {
          "empty_slots": 12,
          "extra": {
           "address": "МЦК Дубровка (выход №2)",
           "ebikes": 0,
           "electric_free": 0,
           "electric_slots": 0,
           "normal_bikes": 0,
           "normal_free": 12,
           "normal_slots": 12,
           "slots": 12,
           "uid": "0620"
          },
          "free_bikes": 0,
          "id": "56015586aa890c378f5ab245f3325c35",
          "latitude": 55.71313,
          "longitude": 37.67619,
          "name": "МЦК Дубровка (выход №2)",
          "timestamp": "2023-02-20T14:49:22.362000Z"
         },
         {
          "empty_slots": 12,
          "extra": {
           "address": "ул. Бутырская, д.5 (ст. м. Савёловская, выход №7)",
           "ebikes": 0,
           "electric_free": 0,
           "electric_slots": 0,
           "normal_bikes": 0,
           "normal_free": 12,
           "normal_slots": 12,
           "slots": 12,
           "uid": "0706"
          },
          "free_bikes": 0,
          "id": "ac809a38a6b62e5dc7c31684ff79d6ae",
          "latitude": 55.79342,
          "longitude": 37.58425,
          "name": "ул. Бутырская, д.5 (ст. м. Савёловская, выход №7)",
          "timestamp": "2023-02-20T14:49:22.363000Z"
         },
         {
          "empty_slots": 12,
          "extra": {
           "address": "ул. Тимирязевская, д.10/12",
           "ebikes": 0,
           "electric_free": 0,
           "electric_slots": 0,
           "normal_bikes": 0,
           "normal_free": 12,
           "normal_slots": 12,
           "slots": 12,
           "uid": "0708"
          },
          "free_bikes": 0,
          "id": "cc91120968347a5fbe7ea27a06cc1b63",
          "latitude": 55.81166,
          "longitude": 37.56821,
          "name": "ул. Тимирязевская, д.10/12",
          "timestamp": "2023-02-20T14:49:22.364000Z"
         },
         {
          "empty_slots": 12,
          "extra": {
           "address": "ул. Бутырская, д.97 (ст. м. Дмитровская, выход №2)",
           "ebikes": 0,
           "electric_free": 0,
           "electric_slots": 0,
           "normal_bikes": 0,
           "normal_free": 12,
           "normal_slots": 12,
           "slots": 12,
           "uid": "0734"
          },
          "free_bikes": 0,
          "id": "698a4c57aee71ac3679db1675d766e7d",
          "latitude": 55.807813,
          "longitude": 37.579917,
          "name": "ул. Бутырская, д.97 (ст. м. Дмитровская, выход №2)",
          "timestamp": "2023-02-20T14:49:22.365000Z"
         },
         {
          "empty_slots": 12,
          "extra": {
           "address": "ул. Николоямская, д.33, стр.1",
           "ebikes": 0,
           "electric_free": 0,
           "electric_slots": 0,
           "normal_bikes": 0,
           "normal_free": 12,
           "normal_slots": 12,
           "slots": 12,
           "uid": "0721"
          },
          "free_bikes": 0,
          "id": "a6711962c269f500ebca916172aff814",
          "latitude": 55.74729,
          "longitude": 37.65773,
          "name": "ул. Николоямская, д.33, стр.1",
          "timestamp": "2023-02-20T14:49:22.365000Z"
         },
         {
          "empty_slots": 12,
          "extra": {
           "address": "Батайский пр., д.65",
           "ebikes": 0,
           "electric_free": 0,
           "electric_slots": 0,
           "normal_bikes": 0,
           "normal_free": 12,
           "normal_slots": 12,
           "slots": 12,
           "uid": "0740"
          },
          "free_bikes": 0,
          "id": "f731e5d6eda4be8178a5e331044ffe81",
          "latitude": 55.6434,
          "longitude": 37.74381,
          "name": "Батайский пр., д.65",
          "timestamp": "2023-02-20T14:49:22.366000Z"
         },
         {
          "empty_slots": 12,
          "extra": {
           "address": "ул. Тестовская, д.18 (ст. м. Международная)",
           "ebikes": 0,
           "electric_free": 0,
           "electric_slots": 0,
           "normal_bikes": 0,
           "normal_free": 12,
           "normal_slots": 12,
           "slots": 12,
           "uid": "0771"
          },
          "free_bikes": 0,
          "id": "00933c4029c571132ae6ca9e632c2b6d",
          "latitude": 55.74846,
          "longitude": 37.5334,
          "name": "ул. Тестовская, д.18 (ст. м. Международная)",
          "timestamp": "2023-02-20T14:49:22.367000Z"
         },
         {
          "empty_slots": 12,
          "extra": {
           "address": "ул. Вятская, д.27, стр.15",
           "ebikes": 0,
           "electric_free": 12,
           "electric_slots": 12,
           "has_ebikes": true,
           "normal_bikes": 0,
           "normal_free": 0,
           "normal_slots": 0,
           "slots": 12,
           "uid": "0770"
          },
          "free_bikes": 0,
          "id": "bffcaa81ef76fb336bf010897dbc696f",
          "latitude": 55.79685,
          "longitude": 37.58131,
          "name": "ул. Вятская, д.27, стр.15",
          "timestamp": "2023-02-20T14:49:22.369000Z"
         },
         {
          "empty_slots": 30,
          "extra": {
           "address": "Московский, ул. Радужная, д.1",
           "ebikes": 0,
           "electric_free": 0,
           "electric_slots": 0,
           "normal_bikes": 0,
           "normal_free": 30,
           "normal_slots": 30,
           "slots": 30,
           "uid": "0776"
          },
          "free_bikes": 0,
          "id": "8ef478d1dc0f9b44d8efaa49ac97e99c",
          "latitude": 55.59385,
          "longitude": 37.36941,
          "name": "Московский, ул. Радужная, д.1",
          "timestamp": "2023-02-20T14:49:22.369000Z"
         },
         {
          "empty_slots": 12,
          "extra": {
           "address": "ул. Годовикова, д.9, стр.14",
           "ebikes": 0,
           "electric_free": 0,
           "electric_slots": 0,
           "normal_bikes": 0,
           "normal_free": 12,
           "normal_slots": 12,
           "slots": 12,
           "uid": "0705"
          },
          "free_bikes": 0,
          "id": "c14a18593486ac061cc7d33f7d1ec470",
          "latitude": 55.80808,
          "longitude": 37.63073,
          "name": "ул. Годовикова, д.9, стр.14",
          "timestamp": "2023-02-20T14:49:22.370000Z"
         },
         {
          "empty_slots": 9,
          "extra": {
           "address": "ш. Энтузиастов, д.15/16 (ст. м. Авиамоторная, выход к ул. Красноказарменная)",
           "ebikes": 0,
           "electric_free": 0,
           "electric_slots": 0,
           "normal_bikes": 0,
           "normal_free": 9,
           "normal_slots": 9,
           "slots": 9,
           "uid": "0617"
          },
          "free_bikes": 0,
          "id": "3966a8d0fd5bcd721472c568aad1c616",
          "latitude": 55.75161,
          "longitude": 37.71587,
          "name": "ш. Энтузиастов, д.15/16 (ст. м. Авиамоторная, выход к ул. Красноказарменная)",
          "timestamp": "2023-02-20T14:49:22.371000Z"
         },
         {
          "empty_slots": 18,
          "extra": {
           "address": "ул. Смоленская, д.8",
           "ebikes": 0,
           "electric_free": 18,
           "electric_slots": 18,
           "has_ebikes": true,
           "normal_bikes": 0,
           "normal_free": 0,
           "normal_slots": 0,
           "slots": 18,
           "uid": "0238"
          },
          "free_bikes": 0,
          "id": "df4b9a18ccaf334230bfcf6edcaf9f0a",
          "latitude": 55.74603,
          "longitude": 37.57995,
          "name": "ул. Смоленская, д.8",
          "timestamp": "2023-02-20T14:49:22.373000Z"
         },
         {
          "empty_slots": 18,
          "extra": {
           "address": "Дмитровское ш., д.43, к.1 (ст. м. Петровско-Разумовская, выход №5)",
           "ebikes": 0,
           "electric_free": 0,
           "electric_slots": 0,
           "normal_bikes": 0,
           "normal_free": 18,
           "normal_slots": 18,
           "slots": 18,
           "uid": "0454"
          },
          "free_bikes": 0,
          "id": "bd773094da5318cc35b2fce977285ecb",
          "latitude": 55.83351,
          "longitude": 37.57197,
          "name": "Дмитровское ш., д.43, к.1 (ст. м. Петровско-Разумовская, выход №5)",
          "timestamp": "2023-02-20T14:49:22.373000Z"
         },
         {
          "empty_slots": 12,
          "extra": {
           "address": "ул. Веерная, д.30, к.1",
           "ebikes": 0,
           "electric_free": 0,
           "electric_slots": 0,
           "normal_bikes": 0,
           "normal_free": 12,
           "normal_slots": 12,
           "slots": 12,
           "uid": "0242"
          },
          "free_bikes": 0,
          "id": "57d5baf0689095492c23d367d389b9dc",
          "latitude": 55.70916,
          "longitude": 37.47951,
          "name": "ул. Веерная, д.30, к.1",
          "timestamp": "2023-02-20T14:49:22.374000Z"
         },
         {
          "empty_slots": 20,
          "extra": {
           "address": "ул. Озёрная, д.31, к.3 (ст. м. Озёрная, выход №4)",
           "ebikes": 0,
           "electric_free": 0,
           "electric_slots": 0,
           "normal_bikes": 0,
           "normal_free": 20,
           "normal_slots": 20,
           "slots": 20,
           "uid": "0295"
          },
          "free_bikes": 0,
          "id": "51eba74ee5fa1cfe6139bf61544a9189",
          "latitude": 55.67135,
          "longitude": 37.45159,
          "name": "ул. Озёрная, д.31, к.3 (ст. м. Озёрная, выход №4)",
          "timestamp": "2023-02-20T14:49:22.375000Z"
         },
         {
          "empty_slots": 9,
          "extra": {
           "address": "ул. Народного Ополчения, д.47, к.1, стр.1",
           "ebikes": 0,
           "electric_free": 0,
           "electric_slots": 0,
           "normal_bikes": 0,
           "normal_free": 9,
           "normal_slots": 9,
           "slots": 9,
           "uid": "0546"
          },
          "free_bikes": 0,
          "id": "d3facbd9f8c73d4f3b950672301e2131",
          "latitude": 55.79358,
          "longitude": 37.49285,
          "name": "ул. Народного Ополчения, д.47, к.1, стр.1",
          "timestamp": "2023-02-20T14:49:22.375000Z"
         },
         {
          "empty_slots": 9,
          "extra": {
           "address": "Мичуринский пр-т, Олимпийская Деревня, д.4, к.2",
           "ebikes": 0,
           "electric_free": 0,
           "electric_slots": 0,
           "normal_bikes": 0,
           "normal_free": 9,
           "normal_slots": 9,
           "slots": 9,
           "uid": "0297"
          },
          "free_bikes": 0,
          "id": "f4c0e31b4b24147f46945a0336a846f0",
          "latitude": 55.6744,
          "longitude": 37.46851,
          "name": "Мичуринский пр-т, Олимпийская Деревня, д.4, к.2",
          "timestamp": "2023-02-20T14:49:22.376000Z"
         },
         {
          "empty_slots": 9,
          "extra": {
           "address": "пр-т Вернадского, д.78, стр.4",
           "ebikes": 0,
           "electric_free": 0,
           "electric_slots": 0,
           "normal_bikes": 0,
           "normal_free": 9,
           "normal_slots": 9,
           "slots": 9,
           "uid": "0298"
          },
          "free_bikes": 0,
          "id": "1a170cc801c21e26bdc289ac41fd1c28",
          "latitude": 55.67008,
          "longitude": 37.47848,
          "name": "пр-т Вернадского, д.78, стр.4",
          "timestamp": "2023-02-20T14:49:22.377000Z"
         },
         {
          "empty_slots": 9,
          "extra": {
           "address": "ул. Академика Анохина, д.12, к.2",
           "ebikes": 0,
           "electric_free": 0,
           "electric_slots": 0,
           "normal_bikes": 0,
           "normal_free": 9,
           "normal_slots": 9,
           "slots": 9,
           "uid": "0299"
          },
          "free_bikes": 0,
          "id": "3cfe4512e575eefaf7cb22294f9c6fd7",
          "latitude": 55.66533,
          "longitude": 37.46636,
          "name": "ул. Академика Анохина, д.12, к.2",
          "timestamp": "2023-02-20T14:49:22.378000Z"
         },
         {
          "empty_slots": 9,
          "extra": {
           "address": "пр-т Маршала Жукова, д.28",
           "ebikes": 0,
           "electric_free": 0,
           "electric_slots": 0,
           "normal_bikes": 0,
           "normal_free": 9,
           "normal_slots": 9,
           "slots": 9,
           "uid": "0514"
          },
          "free_bikes": 0,
          "id": "29006f8964074e26e3433b3e3fca5e15",
          "latitude": 55.77585,
          "longitude": 37.47528,
          "name": "пр-т Маршала Жукова, д.28",
          "timestamp": "2023-02-20T14:49:22.379000Z"
         },
         {
          "empty_slots": 9,
          "extra": {
           "address": "пр-т Маршала Жукова, д.70, к.1 (перекрёсток с ул. Живописной)",
           "ebikes": 0,
           "electric_free": 0,
           "electric_slots": 0,
           "normal_bikes": 0,
           "normal_free": 9,
           "normal_slots": 9,
           "slots": 9,
           "uid": "0516"
          },
          "free_bikes": 0,
          "id": "827e6806a9b4693f69c5e7fe117547a1",
          "latitude": 55.77961,
          "longitude": 37.45492,
          "name": "пр-т Маршала Жукова, д.70, к.1 (перекрёсток с ул. Живописной)",
          "timestamp": "2023-02-20T14:49:22.380000Z"
         },
         {
          "empty_slots": 9,
          "extra": {
           "address": "ул. Генерала Глаголева, д.21",
           "ebikes": 0,
           "electric_free": 0,
           "electric_slots": 0,
           "normal_bikes": 0,
           "normal_free": 9,
           "normal_slots": 9,
           "slots": 9,
           "uid": "0519"
          },
          "free_bikes": 0,
          "id": "ac08d651284e59292cbfec59d83e3179",
          "latitude": 55.78494,
          "longitude": 37.46338,
          "name": "ул. Генерала Глаголева, д.21",
          "timestamp": "2023-02-20T14:49:22.380000Z"
         },
         {
          "empty_slots": 9,
          "extra": {
           "address": "Перервинский б-р, д.21, к.1",
           "ebikes": 0,
           "electric_free": 0,
           "electric_slots": 0,
           "normal_bikes": 0,
           "normal_free": 9,
           "normal_slots": 9,
           "slots": 9,
           "uid": "0666"
          },
          "free_bikes": 0,
          "id": "9ac245e484756125cdfbd2edb534ff93",
          "latitude": 55.65671,
          "longitude": 37.77215,
          "name": "Перервинский б-р, д.21, к.1",
          "timestamp": "2023-02-20T14:49:22.381000Z"
         },
         {
          "empty_slots": 9,
          "extra": {
           "address": "ул. Золоторожский Вал, д.11, стр.1",
           "ebikes": 0,
           "electric_free": 0,
           "electric_slots": 0,
           "normal_bikes": 0,
           "normal_free": 9,
           "normal_slots": 9,
           "slots": 9,
           "uid": "0612"
          },
          "free_bikes": 0,
          "id": "611bed7a54c2cf126263e04f9ddaa311",
          "latitude": 55.74883,
          "longitude": 37.6827,
          "name": "ул. Золоторожский Вал, д.11, стр.1",
          "timestamp": "2023-02-20T14:49:22.382000Z"
         },
         {
          "empty_slots": 9,
          "extra": {
           "address": "ул. Сергия Радонежского, д.2",
           "ebikes": 0,
           "electric_free": 0,
           "electric_slots": 0,
           "normal_bikes": 0,
           "normal_free": 9,
           "normal_slots": 9,
           "slots": 9,
           "uid": "0609"
          },
          "free_bikes": 0,
          "id": "0d8dea3361d25750bd312c767b234b02",
          "latitude": 55.7465,
          "longitude": 37.67151,
          "name": "ул. Сергия Радонежского, д.2",
          "timestamp": "2023-02-20T14:49:22.383000Z"
         },
         {
          "empty_slots": 9,
          "extra": {
           "address": "ст. м. Площадь Ильича (выход №3)",
           "ebikes": 0,
           "electric_free": 0,
           "electric_slots": 0,
           "normal_bikes": 0,
           "normal_free": 9,
           "normal_slots": 9,
           "slots": 9,
           "uid": "0611"
          },
          "free_bikes": 0,
          "id": "b08bfad8ad6510e2cfec9cb0b7873271",
          "latitude": 55.74661,
          "longitude": 37.67847,
          "name": "ст. м. Площадь Ильича (выход №3)",
          "timestamp": "2023-02-20T14:49:22.384000Z"
         },
         {
          "empty_slots": 14,
          "extra": {
           "address": "ст. м. Баррикадная",
           "ebikes": 0,
           "electric_free": 0,
           "electric_slots": 0,
           "normal_bikes": 0,
           "normal_free": 14,
           "normal_slots": 14,
           "slots": 14,
           "uid": "0752"
          },
          "free_bikes": 0,
          "id": "3b632f915b5badcb747d13c2a5f61b80",
          "latitude": 55.76022,
          "longitude": 37.5814,
          "name": "ст. м. Баррикадная",
          "timestamp": "2023-02-20T14:49:22.385000Z"
         },
         {
          "empty_slots": 9,
          "extra": {
           "address": "ул. Софьи Ковалевской, д.16",
           "ebikes": 0,
           "electric_free": 0,
           "electric_slots": 0,
           "normal_bikes": 0,
           "normal_free": 9,
           "normal_slots": 9,
           "slots": 9,
           "uid": "0694"
          },
          "free_bikes": 0,
          "id": "a20d0ac9c38e5e2c7e3ed3a060b982d9",
          "latitude": 55.88628,
          "longitude": 37.53481,
          "name": "ул. Софьи Ковалевской, д.16",
          "timestamp": "2023-02-20T14:49:22.386000Z"
         },
         {
          "empty_slots": 12,
          "extra": {
           "address": "ул. Большая Очаковская, д.7",
           "ebikes": 0,
           "electric_free": 0,
           "electric_slots": 0,
           "normal_bikes": 0,
           "normal_free": 12,
           "normal_slots": 12,
           "slots": 12,
           "uid": "0293"
          },
          "free_bikes": 0,
          "id": "73faf0571168aa5b42363184f4cd4382",
          "latitude": 55.68626,
          "longitude": 37.4617,
          "name": "ул. Большая Очаковская, д.7",
          "timestamp": "2023-02-20T14:49:22.387000Z"
         },
         {
          "empty_slots": 18,
          "extra": {
           "address": "ст. м. Селигерская (выход №3)",
           "ebikes": 0,
           "electric_free": 0,
           "electric_slots": 0,
           "normal_bikes": 0,
           "normal_free": 18,
           "normal_slots": 18,
           "slots": 18,
           "uid": "0696"
          },
          "free_bikes": 0,
          "id": "4f80e493b9dd50a9feb84753819eafb5",
          "latitude": 55.8657,
          "longitude": 37.54805,
          "name": "ст. м. Селигерская (выход №3)",
          "timestamp": "2023-02-20T14:49:22.388000Z"
         },
         {
          "empty_slots": 15,
          "extra": {
           "address": "Алтуфьевское ш., д.56",
           "ebikes": 0,
           "electric_free": 0,
           "electric_slots": 0,
           "normal_bikes": 0,
           "normal_free": 15,
           "normal_slots": 15,
           "slots": 15,
           "uid": "0698"
          },
          "free_bikes": 0,
          "id": "5eea0db57813e1649104e713e37506a4",
          "latitude": 55.88003,
          "longitude": 37.58773,
          "name": "Алтуфьевское ш., д.56",
          "timestamp": "2023-02-20T14:49:22.389000Z"
         },
         {
          "empty_slots": 12,
          "extra": {
           "address": "ул. Народного Ополчения, д.28, к.1",
           "ebikes": 0,
           "electric_free": 0,
           "electric_slots": 0,
           "normal_bikes": 0,
           "normal_free": 12,
           "normal_slots": 12,
           "slots": 12,
           "uid": "0541"
          },
          "free_bikes": 0,
          "id": "0966e1e241f0af5364b8d9abf23fada8",
          "latitude": 55.78257,
          "longitude": 37.48143,
          "name": "ул. Народного Ополчения, д.28, к.1",
          "timestamp": "2023-02-20T14:49:22.389000Z"
         },
         {
          "empty_slots": 9,
          "extra": {
           "address": "ул. Нежинская, д.25",
           "ebikes": 0,
           "electric_free": 0,
           "electric_slots": 0,
           "normal_bikes": 0,
           "normal_free": 9,
           "normal_slots": 9,
           "slots": 9,
           "uid": "0266"
          },
          "free_bikes": 0,
          "id": "f90ac12c74d0c4f3cdd7c0fa58437b81",
          "latitude": 55.70891,
          "longitude": 37.46233,
          "name": "ул. Нежинская, д.25",
          "timestamp": "2023-02-20T14:49:22.390000Z"
         },
         {
          "empty_slots": 12,
          "extra": {
           "address": "ул. Живописная, д.12, к.1",
           "ebikes": 0,
           "electric_free": 0,
           "electric_slots": 0,
           "normal_bikes": 0,
           "normal_free": 12,
           "normal_slots": 12,
           "slots": 12,
           "uid": "0518"
          },
          "free_bikes": 0,
          "id": "3adefbcfa00b3c2bc0db4c42bbe19027",
          "latitude": 55.78401,
          "longitude": 37.45657,
          "name": "ул. Живописная, д.12, к.1",
          "timestamp": "2023-02-20T14:49:22.391000Z"
         },
         {
          "empty_slots": 9,
          "extra": {
           "address": "я Хорошевская ул., д.24, стр.1",
           "ebikes": 0,
           "electric_free": 0,
           "electric_slots": 0,
           "normal_bikes": 0,
           "normal_free": 9,
           "normal_slots": 9,
           "slots": 9,
           "uid": "0544"
          },
          "free_bikes": 0,
          "id": "6a2c967a2a9d29d0e3728f7671e5167b",
          "latitude": 55.78874,
          "longitude": 37.50148,
          "name": "3-я Хорошевская ул., д.24, стр.1",
          "timestamp": "2023-02-20T14:49:22.391000Z"
         },
         {
          "empty_slots": 9,
          "extra": {
           "address": "Каширское ш., д.57, к.1",
           "ebikes": 0,
           "electric_free": 0,
           "electric_slots": 0,
           "normal_bikes": 0,
           "normal_free": 9,
           "normal_slots": 9,
           "slots": 9,
           "uid": "0676"
          },
          "free_bikes": 0,
          "id": "e39d1b480a5fd9233ba1aaaf047c7a67",
          "latitude": 55.63717,
          "longitude": 37.69524,
          "name": "Каширское ш., д.57, к.1",
          "timestamp": "2023-02-20T14:49:22.392000Z"
         },
         {
          "empty_slots": 18,
          "extra": {
           "address": "ст. м. Борисово (выход №1)",
           "ebikes": 0,
           "electric_free": 0,
           "electric_slots": 0,
           "normal_bikes": 0,
           "normal_free": 18,
           "normal_slots": 18,
           "slots": 18,
           "uid": "0678"
          },
          "free_bikes": 0,
          "id": "c03fcc8e08d202d02630fe8afeea9b15",
          "latitude": 55.63211,
          "longitude": 37.74343,
          "name": "ст. м. Борисово (выход №1)",
          "timestamp": "2023-02-20T14:49:22.393000Z"
         },
         {
          "empty_slots": 12,
          "extra": {
           "address": "Малая Дмитровка, 15",
           "ebikes": 0,
           "electric_free": 0,
           "electric_slots": 0,
           "normal_bikes": 0,
           "normal_free": 12,
           "normal_slots": 12,
           "slots": 12,
           "uid": "0061"
          },
          "free_bikes": 0,
          "id": "0d6e66bd16bd08500eb7f218f5a18a18",
          "latitude": 55.76949,
          "longitude": 37.60565,
          "name": "Малая Дмитровка, 15",
          "timestamp": "2023-02-20T14:49:22.393000Z"
         },
         {
          "empty_slots": 12,
          "extra": {
           "address": "ул. Автозаводская, д. 17",
           "ebikes": 0,
           "electric_free": 0,
           "electric_slots": 0,
           "normal_bikes": 0,
           "normal_free": 12,
           "normal_slots": 12,
           "slots": 12,
           "uid": "0621"
          },
          "free_bikes": 0,
          "id": "d64e31e358be21b71e9aa1f59ace5b7b",
          "latitude": 55.70512,
          "longitude": 37.65401,
          "name": "ул. Автозаводская, д. 17",
          "timestamp": "2023-02-20T14:49:22.394000Z"
         },
         {
          "empty_slots": 12,
          "extra": {
           "address": "ул. Марксистская, д.22, стр.1",
           "ebikes": 0,
           "electric_free": 0,
           "electric_slots": 0,
           "normal_bikes": 0,
           "normal_free": 12,
           "normal_slots": 12,
           "slots": 12,
           "uid": "0623"
          },
          "free_bikes": 0,
          "id": "448eee0a800b03f172ba934e63432fd2",
          "latitude": 55.73764,
          "longitude": 37.66183,
          "name": "ул. Марксистская, д.22, стр.1",
          "timestamp": "2023-02-20T14:49:22.395000Z"
         },
         {
          "empty_slots": 12,
          "extra": {
           "address": "ул. Новинки, д.31",
           "ebikes": 0,
           "electric_free": 0,
           "electric_slots": 0,
           "normal_bikes": 0,
           "normal_free": 12,
           "normal_slots": 12,
           "slots": 12,
           "uid": "0723"
          },
          "free_bikes": 0,
          "id": "e09a61e04c73aa9d0161ceccb3e1a55f",
          "latitude": 55.67616,
          "longitude": 37.67802,
          "name": "ул. Новинки, д.31",
          "timestamp": "2023-02-20T14:49:22.396000Z"
         },
         {
          "empty_slots": 12,
          "extra": {
           "address": "ул. Тимирязевская, д.38/25",
           "ebikes": 0,
           "electric_free": 0,
           "electric_slots": 0,
           "normal_bikes": 0,
           "normal_free": 12,
           "normal_slots": 12,
           "slots": 12,
           "uid": "0709"
          },
          "free_bikes": 0,
          "id": "23aa9d6dabab5cbed903655d084096dd",
          "latitude": 55.82326,
          "longitude": 37.55876,
          "name": "ул. Тимирязевская, д.38/25",
          "timestamp": "2023-02-20T14:49:22.397000Z"
         },
         {
          "empty_slots": 12,
          "extra": {
           "address": "Новочеркасский б-р, д.7",
           "ebikes": 0,
           "electric_free": 0,
           "electric_slots": 0,
           "normal_bikes": 0,
           "normal_free": 12,
           "normal_slots": 12,
           "slots": 12,
           "uid": "0731"
          },
          "free_bikes": 0,
          "id": "191857e7a202bcf34ec747b8eb3deb05",
          "latitude": 55.6471,
          "longitude": 37.72204,
          "name": "Новочеркасский б-р, д.7",
          "timestamp": "2023-02-20T14:49:22.398000Z"
         },
         {
          "empty_slots": 12,
          "extra": {
           "address": "ул. Маршала Голованова, д.11",
           "ebikes": 0,
           "electric_free": 0,
           "electric_slots": 0,
           "normal_bikes": 0,
           "normal_free": 12,
           "normal_slots": 12,
           "slots": 12,
           "uid": "0732"
          },
          "free_bikes": 0,
          "id": "612bcf1594384f68611d8a9b1ce9bd1d",
          "latitude": 55.64718,
          "longitude": 37.72961,
          "name": "ул. Маршала Голованова, д.11",
          "timestamp": "2023-02-20T14:49:22.398000Z"
         },
         {
          "empty_slots": 12,
          "extra": {
           "address": "наб. Тараса Шевченко, д.2/1",
           "ebikes": 0,
           "electric_free": 0,
           "electric_slots": 0,
           "normal_bikes": 0,
           "normal_free": 12,
           "normal_slots": 12,
           "slots": 12,
           "uid": "0703"
          },
          "free_bikes": 0,
          "id": "4736d37e71536b6e835b51b983f22cf7",
          "latitude": 55.75276,
          "longitude": 37.56601,
          "name": "наб. Тараса Шевченко, д.2/1",
          "timestamp": "2023-02-20T14:49:22.399000Z"
         },
         {
          "empty_slots": 11,
          "extra": {
           "address": "ул. Дмитриевского, д.23 (ст. м. Лухмановская, выход №3)",
           "ebikes": 0,
           "electric_free": 0,
           "electric_slots": 0,
           "normal_bikes": 1,
           "normal_free": 11,
           "normal_slots": 12,
           "slots": 12,
           "uid": "0798"
          },
          "free_bikes": 1,
          "id": "786eb39bc8ad9321c88ae3f1074a2fc0",
          "latitude": 55.70968,
          "longitude": 37.89681,
          "name": "ул. Дмитриевского, д.23 (ст. м. Лухмановская, выход №3)",
          "timestamp": "2023-02-20T14:49:22.400000Z"
         },
         {
          "empty_slots": 12,
          "extra": {
           "address": "ст. м. Некрасовка (выход №6)",
           "ebikes": 0,
           "electric_free": 0,
           "electric_slots": 0,
           "normal_bikes": 0,
           "normal_free": 12,
           "normal_slots": 12,
           "slots": 12,
           "uid": "0799"
          },
          "free_bikes": 0,
          "id": "84014b0f9296a8683d00e3d7bebee6d4",
          "latitude": 55.70344,
          "longitude": 37.92649,
          "name": "ст. м. Некрасовка (выход №6)",
          "timestamp": "2023-02-20T14:49:22.401000Z"
         },
         {
          "empty_slots": 24,
          "extra": {
           "address": "ст. м. Филатов Луг (выход №2)",
           "ebikes": 0,
           "electric_free": 0,
           "electric_slots": 0,
           "normal_bikes": 0,
           "normal_free": 24,
           "normal_slots": 24,
           "slots": 24,
           "uid": "0778"
          },
          "free_bikes": 0,
          "id": "db66b784794ba79fcfc6b49d7e34333c",
          "latitude": 55.59982,
          "longitude": 37.40388,
          "name": "ст. м. Филатов Луг (выход №2)",
          "timestamp": "2023-02-20T14:49:22.402000Z"
         },
         {
          "empty_slots": 15,
          "extra": {
           "address": "ст. м. Верхние Лихоборы (вход №1)",
           "ebikes": 0,
           "electric_free": 0,
           "electric_slots": 0,
           "normal_bikes": 0,
           "normal_free": 15,
           "normal_slots": 15,
           "slots": 15,
           "uid": "0713"
          },
          "free_bikes": 0,
          "id": "56a8d14efc16c7aff377b8cc2f7feb6c",
          "latitude": 55.85763,
          "longitude": 37.55928,
          "name": "ст. м. Верхние Лихоборы (вход №1)",
          "timestamp": "2023-02-20T14:49:22.402000Z"
         },
         {
          "empty_slots": 33,
          "extra": {
           "address": "я Миусская ул., д.20, стр.3",
           "ebikes": 0,
           "electric_free": 15,
           "electric_slots": 15,
           "has_ebikes": true,
           "normal_bikes": 0,
           "normal_free": 18,
           "normal_slots": 18,
           "slots": 33,
           "uid": "0718"
          },
          "free_bikes": 0,
          "id": "fdbbac94f5eaa3ff44c6d6c069d5a5a2",
          "latitude": 55.77937,
          "longitude": 37.59272,
          "name": "2-я Миусская ул., д.20, стр.3",
          "timestamp": "2023-02-20T14:49:22.403000Z"
         },
         {
          "empty_slots": 9,
          "extra": {
           "address": "ул. Народного Ополчения, д.46, к.1",
           "ebikes": 0,
           "electric_free": 0,
           "electric_slots": 0,
           "normal_bikes": 0,
           "normal_free": 9,
           "normal_slots": 9,
           "slots": 9,
           "uid": "0545"
          },
          "free_bikes": 0,
          "id": "cbb08b25c0be0122d27215ff85feb4ac",
          "latitude": 55.79296,
          "longitude": 37.4931,
          "name": "ул. Народного Ополчения, д.46, к.1",
          "timestamp": "2023-02-20T14:49:22.404000Z"
         },
         {
          "empty_slots": 21,
          "extra": {
           "address": "пр-т Андропова, д.27 (ст. м. Коломенская, выход №2)",
           "ebikes": 0,
           "electric_free": 0,
           "electric_slots": 0,
           "normal_bikes": 0,
           "normal_free": 21,
           "normal_slots": 21,
           "slots": 21,
           "uid": "0672"
          },
          "free_bikes": 0,
          "id": "05cd6493525e24814c208ecc045523c1",
          "latitude": 55.6769,
          "longitude": 37.66486,
          "name": "пр-т Андропова, д.27 (ст. м. Коломенская, выход №2)",
          "timestamp": "2023-02-20T14:49:22.405000Z"
         },
         {
          "empty_slots": 9,
          "extra": {
           "address": "Каширское ш., д.33, к.17",
           "ebikes": 0,
           "electric_free": 0,
           "electric_slots": 0,
           "normal_bikes": 0,
           "normal_free": 9,
           "normal_slots": 9,
           "slots": 9,
           "uid": "0675"
          },
          "free_bikes": 0,
          "id": "55a91330120457586c009a8dd1f1e3c5",
          "latitude": 55.64735,
          "longitude": 37.66798,
          "name": "Каширское ш., д.33, к.17",
          "timestamp": "2023-02-20T14:49:22.406000Z"
         },
         {
          "empty_slots": 12,
          "extra": {
           "address": "ул. Костромская, д.17 (ст. м. Бибирево, выход №2)",
           "ebikes": 0,
           "electric_free": 0,
           "electric_slots": 0,
           "normal_bikes": 0,
           "normal_free": 12,
           "normal_slots": 12,
           "slots": 12,
           "uid": "0699"
          },
          "free_bikes": 0,
          "id": "4b02c9f1046deb61e03f328237afcfc6",
          "latitude": 55.8846,
          "longitude": 37.60077,
          "name": "ул. Костромская, д.17 (ст. м. Бибирево, выход №2)",
          "timestamp": "2023-02-20T14:49:22.407000Z"
         },
         {
          "empty_slots": 9,
          "extra": {
           "address": "Гостиничный пр., д.8",
           "ebikes": 0,
           "electric_free": 0,
           "electric_slots": 0,
           "normal_bikes": 0,
           "normal_free": 9,
           "normal_slots": 9,
           "slots": 9,
           "uid": "0467"
          },
          "free_bikes": 0,
          "id": "f7cef3be1e4f77597d3b01605d1f2660",
          "latitude": 55.84592,
          "longitude": 37.57578,
          "name": "Гостиничный пр., д.8",
          "timestamp": "2023-02-20T14:49:22.407000Z"
         },
         {
          "empty_slots": 12,
          "extra": {
           "address": "ул. Нежинская, д.13",
           "ebikes": 0,
           "electric_free": 0,
           "electric_slots": 0,
           "normal_bikes": 0,
           "normal_free": 12,
           "normal_slots": 12,
           "slots": 12,
           "uid": "0258"
          },
          "free_bikes": 0,
          "id": "e1c3f15823e639c837acfee8f944f37f",
          "latitude": 55.70852,
          "longitude": 37.46964,
          "name": "ул. Нежинская, д.13",
          "timestamp": "2023-02-20T14:49:22.408000Z"
         },
         {
          "empty_slots": 9,
          "extra": {
           "address": "ул. Ангарская, д.69",
           "ebikes": 0,
           "electric_free": 0,
           "electric_slots": 0,
           "normal_bikes": 0,
           "normal_free": 9,
           "normal_slots": 9,
           "slots": 9,
           "uid": "0693"
          },
          "free_bikes": 0,
          "id": "effe1b5d67aa5656aba7286997686497",
          "latitude": 55.88651,
          "longitude": 37.52396,
          "name": "ул. Ангарская, д.69",
          "timestamp": "2023-02-20T14:49:22.409000Z"
         },
         {
          "empty_slots": 9,
          "extra": {
           "address": "ул. Нагатинская, д.11, к.1",
           "ebikes": 0,
           "electric_free": 0,
           "electric_slots": 0,
           "normal_bikes": 0,
           "normal_free": 9,
           "normal_slots": 9,
           "slots": 9,
           "uid": "0670"
          },
          "free_bikes": 0,
          "id": "e3256159c2cd8029d664811dc6a1ee56",
          "latitude": 55.67987,
          "longitude": 37.63913,
          "name": "ул. Нагатинская, д.11, к.1",
          "timestamp": "2023-02-20T14:49:22.410000Z"
         },
         {
          "empty_slots": 15,
          "extra": {
           "address": "ул. Люблинская, д.112а, стр.3 (ст. м. Марьино)",
           "ebikes": 0,
           "electric_free": 0,
           "electric_slots": 0,
           "normal_bikes": 0,
           "normal_free": 15,
           "normal_slots": 15,
           "slots": 15,
           "uid": "0662"
          },
          "free_bikes": 0,
          "id": "2dd61f34e895a63aa9d50e1cb8dc39f8",
          "latitude": 55.64928,
          "longitude": 37.74365,
          "name": "ул. Люблинская, д.112а, стр.3 (ст. м. Марьино)",
          "timestamp": "2023-02-20T14:49:22.410000Z"
         },
         {
          "empty_slots": 9,
          "extra": {
           "address": "ул. Судостроительная, д.14/16",
           "ebikes": 0,
           "electric_free": 0,
           "electric_slots": 0,
           "normal_bikes": 0,
           "normal_free": 9,
           "normal_slots": 9,
           "slots": 9,
           "uid": "0671"
          },
          "free_bikes": 0,
          "id": "b5a579d93f2db30ee071978659108aee",
          "latitude": 55.68116,
          "longitude": 37.67557,
          "name": "ул. Судостроительная, д.14/16",
          "timestamp": "2023-02-20T14:49:22.411000Z"
         },
         {
          "empty_slots": 18,
          "extra": {
           "address": "МЦК Верхние Котлы",
           "ebikes": 0,
           "electric_free": 0,
           "electric_slots": 0,
           "normal_bikes": 0,
           "normal_free": 18,
           "normal_slots": 18,
           "slots": 18,
           "uid": "0277"
          },
          "free_bikes": 0,
          "id": "4d8d701cb6185a22346d790096816795",
          "latitude": 55.68961,
          "longitude": 37.61932,
          "name": "МЦК Верхние Котлы",
          "timestamp": "2023-02-20T14:49:22.413000Z"
         },
         {
          "empty_slots": 12,
          "extra": {
           "address": "ул. Таманская, остановка Водная станция Труд",
           "ebikes": 0,
           "electric_free": 0,
           "electric_slots": 0,
           "normal_bikes": 0,
           "normal_free": 12,
           "normal_slots": 12,
           "slots": 12,
           "uid": "0517"
          },
          "free_bikes": 0,
          "id": "c4a4147bb41f3c6dad9e59603e3220d6",
          "latitude": 55.77971,
          "longitude": 37.44567,
          "name": "ул. Таманская, остановка Водная станция Труд",
          "timestamp": "2023-02-20T14:49:22.414000Z"
         },
         {
          "empty_slots": 12,
          "extra": {
           "address": "Котельническая наб., д.1/15, стр.10",
           "ebikes": 0,
           "electric_free": 0,
           "electric_slots": 0,
           "normal_bikes": 0,
           "normal_free": 12,
           "normal_slots": 12,
           "slots": 12,
           "uid": "0087"
          },
          "free_bikes": 0,
          "id": "9790f606c2f5e7e988ff46ecb8e0198d",
          "latitude": 55.74625,
          "longitude": 37.64112,
          "name": "Котельническая наб., д.1/15, стр.10",
          "timestamp": "2023-02-20T14:49:22.414000Z"
         },
         {
          "empty_slots": 12,
          "extra": {
           "address": "Гончарная наб., д.3, стр.3",
           "ebikes": 0,
           "electric_free": 0,
           "electric_slots": 0,
           "normal_bikes": 0,
           "normal_free": 12,
           "normal_slots": 12,
           "slots": 12,
           "uid": "0147"
          },
          "free_bikes": 0,
          "id": "8d13e15de8a4dde9683ec40c6e201fed",
          "latitude": 55.737643,
          "longitude": 37.647831,
          "name": "Гончарная наб., д.3, стр.3",
          "timestamp": "2023-02-20T14:49:22.415000Z"
         },
         {
          "empty_slots": 12,
          "extra": {
           "address": "ул. Мусы Джалиля (напротив д.5, к.4)",
           "ebikes": 0,
           "electric_free": 0,
           "electric_slots": 0,
           "normal_bikes": 0,
           "normal_free": 12,
           "normal_slots": 12,
           "slots": 12,
           "uid": "0724"
          },
          "free_bikes": 0,
          "id": "3b05adfd1cf5b0455ac4c12d75ba45f6",
          "latitude": 55.63053,
          "longitude": 37.74715,
          "name": "ул. Мусы Джалиля (напротив д.5, к.4)",
          "timestamp": "2023-02-20T14:49:22.416000Z"
         },
         {
          "empty_slots": 12,
          "extra": {
           "address": "Коровинское ш., д. 20 к.1",
           "ebikes": 0,
           "electric_free": 0,
           "electric_slots": 0,
           "normal_bikes": 0,
           "normal_free": 12,
           "normal_slots": 12,
           "slots": 12,
           "uid": "0716"
          },
          "free_bikes": 0,
          "id": "13530922c8b56b85b2063b7fa53d0c8f",
          "latitude": 55.87869,
          "longitude": 37.52275,
          "name": "Коровинское ш., д. 20 к.1",
          "timestamp": "2023-02-20T14:49:22.417000Z"
         },
         {
          "empty_slots": 12,
          "extra": {
           "address": "ст. м. Новокосино (выход №3)",
           "ebikes": 0,
           "electric_free": 0,
           "electric_slots": 0,
           "normal_bikes": 0,
           "normal_free": 12,
           "normal_slots": 12,
           "slots": 12,
           "uid": "0794"
          },
          "free_bikes": 0,
          "id": "1df96d4638e419c21d5f3694f2ea9ffe",
          "latitude": 55.74409,
          "longitude": 37.86258,
          "name": "ст. м. Новокосино (выход №3)",
          "timestamp": "2023-02-20T14:49:22.418000Z"
         },
         {
          "empty_slots": 15,
          "extra": {
           "address": "ст. м. Улица Дмитриевского (выход №3)",
           "ebikes": 0,
           "electric_free": 0,
           "electric_slots": 0,
           "normal_bikes": 0,
           "normal_free": 15,
           "normal_slots": 15,
           "slots": 15,
           "uid": "0797"
          },
          "free_bikes": 0,
          "id": "b9b90f04e6f123b90f2aedf6f277c60e",
          "latitude": 55.71085,
          "longitude": 37.87958,
          "name": "ст. м. Улица Дмитриевского (выход №3)",
          "timestamp": "2023-02-20T14:49:22.419000Z"
         },
         {
          "empty_slots": 15,
          "extra": {
           "address": "ул. 8 Марта, д.17 (МЦД Гражданская)",
           "ebikes": 0,
           "electric_free": 0,
           "electric_slots": 0,
           "normal_bikes": 0,
           "normal_free": 15,
           "normal_slots": 15,
           "slots": 15,
           "uid": "0766"
          },
          "free_bikes": 0,
          "id": "0fa68d655f04f83369063c420a18f3ac",
          "latitude": 55.80591,
          "longitude": 37.54917,
          "name": "ул. 8 Марта, д.17 (МЦД Гражданская)",
          "timestamp": "2023-02-20T14:49:22.422000Z"
         },
         {
          "empty_slots": 15,
          "extra": {
           "address": "ул. Зои и Александра Космодемьянских, д.9 (ст. м. Войковская, выход №6)",
           "ebikes": 0,
           "electric_free": 0,
           "electric_slots": 0,
           "normal_bikes": 0,
           "normal_free": 15,
           "normal_slots": 15,
           "slots": 15,
           "uid": "0828"
          },
          "free_bikes": 0,
          "id": "0420a9eed55c9d40b5d38ca9758bae73",
          "latitude": 55.818,
          "longitude": 37.49941,
          "name": "ул. Зои и Александра Космодемьянских, д.9 (ст. м. Войковская, выход №6)",
          "timestamp": "2023-02-20T14:49:22.423000Z"
         },
         {
          "empty_slots": 15,
          "extra": {
           "address": "ул. Большая Академическая, д.71",
           "ebikes": 0,
           "electric_free": 0,
           "electric_slots": 0,
           "normal_bikes": 0,
           "normal_free": 15,
           "normal_slots": 15,
           "slots": 15,
           "uid": "0832"
          },
          "free_bikes": 0,
          "id": "cb65ad9a44df215f297f21ece162f9c5",
          "latitude": 55.84072,
          "longitude": 37.5494,
          "name": "ул. Большая Академическая, д.71",
          "timestamp": "2023-02-20T14:49:22.423000Z"
         },
         {
          "empty_slots": 15,
          "extra": {
           "address": "ул. Онежская, д.9/4, к.А",
           "ebikes": 0,
           "electric_free": 0,
           "electric_slots": 0,
           "normal_bikes": 0,
           "normal_free": 15,
           "normal_slots": 15,
           "slots": 15,
           "uid": "0835"
          },
          "free_bikes": 0,
          "id": "9a1c5ce5d495ef6393f52607a0d6a0cb",
          "latitude": 55.84866,
          "longitude": 37.52054,
          "name": "ул. Онежская, д.9/4, к.А",
          "timestamp": "2023-02-20T14:49:22.424000Z"
         },
         {
          "empty_slots": 15,
          "extra": {
           "address": "ст. м. Беломорская (выход №1)",
           "ebikes": 0,
           "electric_free": 0,
           "electric_slots": 0,
           "normal_bikes": 0,
           "normal_free": 15,
           "normal_slots": 15,
           "slots": 15,
           "uid": "0841"
          },
          "free_bikes": 0,
          "id": "dceb8235325ff39afbbcec17a890d7b8",
          "latitude": 55.86467,
          "longitude": 37.47375,
          "name": "ст. м. Беломорская (выход №1)",
          "timestamp": "2023-02-20T14:49:22.425000Z"
         },
         {
          "empty_slots": 15,
          "extra": {
           "address": "ул. Фестивальная, д.69",
           "ebikes": 0,
           "electric_free": 0,
           "electric_slots": 0,
           "normal_bikes": 0,
           "normal_free": 15,
           "normal_slots": 15,
           "slots": 15,
           "uid": "0842"
          },
          "free_bikes": 0,
          "id": "9f34218f6b3f0152f581f46a3be78c01",
          "latitude": 55.8621,
          "longitude": 37.50401,
          "name": "ул. Фестивальная, д.69",
          "timestamp": "2023-02-20T14:49:22.433000Z"
         },
         {
          "empty_slots": 15,
          "extra": {
           "address": "ст. м. Беговая (выход №2)",
           "ebikes": 0,
           "electric_free": 0,
           "electric_slots": 0,
           "normal_bikes": 0,
           "normal_free": 15,
           "normal_slots": 15,
           "slots": 15,
           "uid": "0809"
          },
          "free_bikes": 0,
          "id": "90b262b4e11123c712fbbed6756b4f90",
          "latitude": 55.774,
          "longitude": 37.54483,
          "name": "ст. м. Беговая (выход №2)",
          "timestamp": "2023-02-20T14:49:22.434000Z"
         },
         {
          "empty_slots": 15,
          "extra": {
           "address": "ул. Щукинская, д.2",
           "ebikes": 0,
           "electric_free": 0,
           "electric_slots": 0,
           "normal_bikes": 0,
           "normal_free": 15,
           "normal_slots": 15,
           "slots": 15,
           "uid": "0552"
          },
          "free_bikes": 0,
          "id": "d4d357a10b854e5d3f38f96f13e2176b",
          "latitude": 55.81051,
          "longitude": 37.48275,
          "name": "ул. Щукинская, д.2",
          "timestamp": "2023-02-20T14:49:22.435000Z"
         },
         {
          "empty_slots": 15,
          "extra": {
           "address": "Петровско-Разумовский пр., д.23, стр.2",
           "ebikes": 0,
           "electric_free": 0,
           "electric_slots": 0,
           "normal_bikes": 0,
           "normal_free": 15,
           "normal_slots": 15,
           "slots": 15,
           "uid": "0767"
          },
          "free_bikes": 0,
          "id": "a9ffe21dc99117cea90337e56a651b87",
          "latitude": 55.80128,
          "longitude": 37.56467,
          "name": "Петровско-Разумовский пр., д.23, стр.2",
          "timestamp": "2023-02-20T14:49:22.436000Z"
         },
         {
          "empty_slots": 15,
          "extra": {
           "address": "ул. Народного Ополчения, д.2, к.8 (МЦК Панфиловская, выход №1)",
           "ebikes": 0,
           "electric_free": 0,
           "electric_slots": 0,
           "normal_bikes": 0,
           "normal_free": 15,
           "normal_slots": 15,
           "slots": 15,
           "uid": "0547"
          },
          "free_bikes": 0,
          "id": "042f983dd5d2af5d7d912afb6942ba31",
          "latitude": 55.79725,
          "longitude": 37.49858,
          "name": "ул. Народного Ополчения, д.2, к.8 (МЦК Панфиловская, выход №1)",
          "timestamp": "2023-02-20T14:49:22.437000Z"
         },
         {
          "empty_slots": 15,
          "extra": {
           "address": "ул. Широкая, д.21",
           "ebikes": 0,
           "electric_free": 0,
           "electric_slots": 0,
           "normal_bikes": 0,
           "normal_free": 15,
           "normal_slots": 15,
           "slots": 15,
           "uid": "0854"
          },
          "free_bikes": 0,
          "id": "4d78af24d710cc4dcf376cb69a9ce590",
          "latitude": 55.88754,
          "longitude": 37.67215,
          "name": "ул. Широкая, д.21",
          "timestamp": "2023-02-20T14:49:22.438000Z"
         },
         {
          "empty_slots": 15,
          "extra": {
           "address": "ст. м. Медведково (выход №1)",
           "ebikes": 0,
           "electric_free": 0,
           "electric_slots": 0,
           "normal_bikes": 0,
           "normal_free": 15,
           "normal_slots": 15,
           "slots": 15,
           "uid": "0853"
          },
          "free_bikes": 0,
          "id": "204794950a1b048624aace2d7c5cc6af",
          "latitude": 55.88779,
          "longitude": 37.66159,
          "name": "ст. м. Медведково (выход №1)",
          "timestamp": "2023-02-20T14:49:22.439000Z"
         },
         {
          "empty_slots": 15,
          "extra": {
           "address": "ул. Большая Новодмитровская, д.36, стр.9",
           "ebikes": 0,
           "electric_free": 0,
           "electric_slots": 0,
           "normal_bikes": 0,
           "normal_free": 15,
           "normal_slots": 15,
           "slots": 15,
           "uid": "0768"
          },
          "free_bikes": 0,
          "id": "3b72c2505d3d58e92e75d9082530e54b",
          "latitude": 55.80532,
          "longitude": 37.58433,
          "name": "ул. Большая Новодмитровская, д.36, стр.9",
          "timestamp": "2023-02-20T14:49:22.482000Z"
         },
         {
          "empty_slots": 15,
          "extra": {
           "address": "ст. м. Савёловская (выход №2)",
           "ebikes": 0,
           "electric_free": 0,
           "electric_slots": 0,
           "normal_bikes": 0,
           "normal_free": 15,
           "normal_slots": 15,
           "slots": 15,
           "uid": "0707"
          },
          "free_bikes": 0,
          "id": "71da2512f9d9686ce429b35a90d68053",
          "latitude": 55.7937,
          "longitude": 37.58911,
          "name": "ст. м. Савёловская (выход №2)",
          "timestamp": "2023-02-20T14:49:22.483000Z"
         },
         {
          "empty_slots": 15,
          "extra": {
           "address": "ул. Башиловская, д.21",
           "ebikes": 0,
           "electric_free": 0,
           "electric_slots": 0,
           "normal_bikes": 0,
           "normal_free": 15,
           "normal_slots": 15,
           "slots": 15,
           "uid": "0769"
          },
          "free_bikes": 0,
          "id": "44b762c91c631268e24e946c01353968",
          "latitude": 55.80087,
          "longitude": 37.57535,
          "name": "ул. Башиловская, д.21",
          "timestamp": "2023-02-20T14:49:22.484000Z"
         },
         {
          "empty_slots": 15,
          "extra": {
           "address": "МЦК Балтийская (выход №2)",
           "ebikes": 0,
           "electric_free": 0,
           "electric_slots": 0,
           "normal_bikes": 0,
           "normal_free": 15,
           "normal_slots": 15,
           "slots": 15,
           "uid": "0830"
          },
          "free_bikes": 0,
          "id": "99efda58d087b937350ae1238c9a995b",
          "latitude": 55.82558,
          "longitude": 37.49378,
          "name": "МЦК Балтийская (выход №2)",
          "timestamp": "2023-02-20T14:49:22.485000Z"
         },
         {
          "empty_slots": 15,
          "extra": {
           "address": "Кронштадский б-р, д.47",
           "ebikes": 0,
           "electric_free": 0,
           "electric_slots": 0,
           "normal_bikes": 0,
           "normal_free": 15,
           "normal_slots": 15,
           "slots": 15,
           "uid": "0836"
          },
          "free_bikes": 0,
          "id": "a32955196599a9568aea4d28036dae06",
          "latitude": 55.85138,
          "longitude": 37.51113,
          "name": "Кронштадский б-р, д.47",
          "timestamp": "2023-02-20T14:49:22.486000Z"
         },
         {
          "empty_slots": 15,
          "extra": {
           "address": "ул. Смольная, д.2",
           "ebikes": 0,
           "electric_free": 0,
           "electric_slots": 0,
           "normal_bikes": 0,
           "normal_free": 15,
           "normal_slots": 15,
           "slots": 15,
           "uid": "0837"
          },
          "free_bikes": 0,
          "id": "f191ece4044e4727290795a54bffca49",
          "latitude": 55.84422,
          "longitude": 37.50115,
          "name": "ул. Смольная, д.2",
          "timestamp": "2023-02-20T14:49:22.488000Z"
         },
         {
          "empty_slots": 15,
          "extra": {
           "address": "ул. Менжинского, д.36 (ст. м. Бабушкинская, выход №2)",
           "ebikes": 0,
           "electric_free": 0,
           "electric_slots": 0,
           "normal_bikes": 0,
           "normal_free": 15,
           "normal_slots": 15,
           "slots": 15,
           "uid": "0868"
          },
          "free_bikes": 0,
          "id": "39e3cd6d12d4a800eda76b7a5795f417",
          "latitude": 55.87007,
          "longitude": 37.66412,
          "name": "ул. Менжинского, д.36 (ст. м. Бабушкинская, выход №2)",
          "timestamp": "2023-02-20T14:49:22.490000Z"
         },
         {
          "empty_slots": 18,
          "extra": {
           "address": "ул. Широкая, д.1, к.1",
           "ebikes": 0,
           "electric_free": 0,
           "electric_slots": 0,
           "normal_bikes": 0,
           "normal_free": 18,
           "normal_slots": 18,
           "slots": 18,
           "uid": "0852"
          },
          "free_bikes": 0,
          "id": "0a90c3ebab8949bc02186d5be0b35a7a",
          "latitude": 55.88808,
          "longitude": 37.64815,
          "name": "ул. Широкая, д.1, к.1",
          "timestamp": "2023-02-20T14:49:22.491000Z"
         },
         {
          "empty_slots": 15,
          "extra": {
           "address": "Нагатинская наб. (напротив д.40)",
           "ebikes": 0,
           "electric_free": 0,
           "electric_slots": 0,
           "normal_bikes": 0,
           "normal_free": 15,
           "normal_slots": 15,
           "slots": 15,
           "uid": "0726"
          },
          "free_bikes": 0,
          "id": "0934cbb336faf652736c3a7e422abc94",
          "latitude": 55.68638,
          "longitude": 37.67252,
          "name": "Нагатинская наб. (напротив д.40)",
          "timestamp": "2023-02-20T14:49:22.440000Z"
         },
         {
          "empty_slots": 15,
          "extra": {
           "address": "Новоданиловская наб., д.10",
           "ebikes": 0,
           "electric_free": 0,
           "electric_slots": 0,
           "normal_bikes": 0,
           "normal_free": 15,
           "normal_slots": 15,
           "slots": 15,
           "uid": "0730"
          },
          "free_bikes": 0,
          "id": "416495c6be3990f8cea133e8b8d82b8d",
          "latitude": 55.69697,
          "longitude": 37.62603,
          "name": "Новоданиловская наб., д.10",
          "timestamp": "2023-02-20T14:49:22.440000Z"
         },
         {
          "empty_slots": 30,
          "extra": {
           "address": "пр-т Андропова, д.1 (ст. м. Технопарк, выход №8)",
           "ebikes": 0,
           "electric_free": 15,
           "electric_slots": 15,
           "has_ebikes": true,
           "normal_bikes": 0,
           "normal_free": 15,
           "normal_slots": 15,
           "slots": 30,
           "uid": "0728"
          },
          "free_bikes": 0,
          "id": "32ed4d56b08959554c84f34f2fd79be4",
          "latitude": 55.69425,
          "longitude": 37.667,
          "name": "пр-т Андропова, д.1 (ст. м. Технопарк, выход №8)",
          "timestamp": "2023-02-20T14:49:22.491000Z"
         },
         {
          "empty_slots": 15,
          "extra": {
           "address": "ст. м. Кожуховская",
           "ebikes": 0,
           "electric_free": 0,
           "electric_slots": 0,
           "normal_bikes": 0,
           "normal_free": 15,
           "normal_slots": 15,
           "slots": 15,
           "uid": "0616"
          },
          "free_bikes": 0,
          "id": "66a72608487716fb1977741f6580fd84",
          "latitude": 55.70632,
          "longitude": 37.68568,
          "name": "ст. м. Кожуховская",
          "timestamp": "2023-02-20T14:49:22.441000Z"
         },
         {
          "empty_slots": 15,
          "extra": {
           "address": "Б-р Дмитрия Донского, д.10",
           "ebikes": 0,
           "electric_free": 0,
           "electric_slots": 0,
           "normal_bikes": 0,
           "normal_free": 15,
           "normal_slots": 15,
           "slots": 15,
           "uid": "0895"
          },
          "free_bikes": 0,
          "id": "e407199fd703f164ff2af217e54c928a",
          "latitude": 55.56656,
          "longitude": 37.57532,
          "name": "Б-р Дмитрия Донского, д.10",
          "timestamp": "2023-02-20T14:49:22.492000Z"
         },
         {
          "empty_slots": 15,
          "extra": {
           "address": "ул. Изюмская, д.47",
           "ebikes": 0,
           "electric_free": 0,
           "electric_slots": 0,
           "normal_bikes": 0,
           "normal_free": 15,
           "normal_slots": 15,
           "slots": 15,
           "uid": "0896"
          },
          "free_bikes": 0,
          "id": "0568cf790d133e59b8661313f7f893e5",
          "latitude": 55.54714,
          "longitude": 37.5657,
          "name": "ул. Изюмская, д.47",
          "timestamp": "2023-02-20T14:49:22.493000Z"
         },
         {
          "empty_slots": 15,
          "extra": {
           "address": "ст. м. Бульвар Адмирала Ушакова",
           "ebikes": 0,
           "electric_free": 0,
           "electric_slots": 0,
           "normal_bikes": 0,
           "normal_free": 15,
           "normal_slots": 15,
           "slots": 15,
           "uid": "0898"
          },
          "free_bikes": 0,
          "id": "f316eea420a8106be615295538d6affb",
          "latitude": 55.54498,
          "longitude": 37.54114,
          "name": "ст. м. Бульвар Адмирала Ушакова",
          "timestamp": "2023-02-20T14:49:22.494000Z"
         },
         {
          "empty_slots": 14,
          "extra": {
           "address": "ул. Южнобутовская, д.50, стр.1",
           "ebikes": 0,
           "electric_free": 0,
           "electric_slots": 0,
           "normal_bikes": 1,
           "normal_free": 14,
           "normal_slots": 15,
           "slots": 15,
           "uid": "0899"
          },
          "free_bikes": 1,
          "id": "efaf0c113411a4af2d6b9fde2b6f0c8f",
          "latitude": 55.53796,
          "longitude": 37.53336,
          "name": "ул. Южнобутовская, д.50, стр.1",
          "timestamp": "2023-02-20T14:49:22.421000Z"
         },
         {
          "empty_slots": 15,
          "extra": {
           "address": "пр-д Дежнёва, д.20",
           "ebikes": 0,
           "electric_free": 0,
           "electric_slots": 0,
           "normal_bikes": 0,
           "normal_free": 15,
           "normal_slots": 15,
           "slots": 15,
           "uid": "0850"
          },
          "free_bikes": 0,
          "id": "2f85a28080ed5d2a88792d939b4ae162",
          "latitude": 55.87102,
          "longitude": 37.63701,
          "name": "пр-д Дежнёва, д.20",
          "timestamp": "2023-02-20T14:49:22.495000Z"
         },
         {
          "empty_slots": 15,
          "extra": {
           "address": "Староватутинский пр-д, д.14",
           "ebikes": 0,
           "electric_free": 0,
           "electric_slots": 0,
           "normal_bikes": 0,
           "normal_free": 15,
           "normal_slots": 15,
           "slots": 15,
           "uid": "0866"
          },
          "free_bikes": 0,
          "id": "b8b861d9148e7b6c144f276d88e5a5a5",
          "latitude": 55.87508,
          "longitude": 37.66673,
          "name": "Староватутинский пр-д, д.14",
          "timestamp": "2023-02-20T14:49:22.496000Z"
         },
         {
          "empty_slots": 24,
          "extra": {
           "address": "ст. м. Ботанический сад (выход №4)",
           "ebikes": 0,
           "electric_free": 0,
           "electric_slots": 0,
           "normal_bikes": 0,
           "normal_free": 24,
           "normal_slots": 24,
           "slots": 24,
           "uid": "0452"
          },
          "free_bikes": 0,
          "id": "0294e4d0389f32c4ccd58712b6a278f7",
          "latitude": 55.843473,
          "longitude": 37.637625,
          "name": "ст. м. Ботанический сад (выход №4)",
          "timestamp": "2023-02-20T14:49:21.994000Z"
         },
         {
          "empty_slots": 15,
          "extra": {
           "address": "ул. Гончарова, 4",
           "ebikes": 0,
           "electric_free": 0,
           "electric_slots": 0,
           "normal_bikes": 0,
           "normal_free": 15,
           "normal_slots": 15,
           "slots": 15,
           "uid": "0765"
          },
          "free_bikes": 0,
          "id": "883a73015959db5f3074e4038811bd73",
          "latitude": 55.81483,
          "longitude": 37.58558,
          "name": "ул. Гончарова, 4",
          "timestamp": "2023-02-20T14:49:22.497000Z"
         },
         {
          "empty_slots": 15,
          "extra": {
           "address": "Ленинградский пр-т, д.36, стр.38",
           "ebikes": 0,
           "electric_free": 0,
           "electric_slots": 0,
           "normal_bikes": 0,
           "normal_free": 15,
           "normal_slots": 15,
           "slots": 15,
           "uid": "0812"
          },
          "free_bikes": 0,
          "id": "8be746efae5063cf0cf83a86ab96d66e",
          "latitude": 55.78929,
          "longitude": 37.56667,
          "name": "Ленинградский пр-т, д.36, стр.38",
          "timestamp": "2023-02-20T14:49:22.442000Z"
         },
         {
          "empty_slots": 15,
          "extra": {
           "address": "Строгинский б-р, д.14, к.3 (ст. м. Строгино, выход №2)",
           "ebikes": 0,
           "electric_free": 0,
           "electric_slots": 0,
           "normal_bikes": 0,
           "normal_free": 15,
           "normal_slots": 15,
           "slots": 15,
           "uid": "0805"
          },
          "free_bikes": 0,
          "id": "d8e477872a6f3de406e80fc1fafac536",
          "latitude": 55.80397,
          "longitude": 37.40005,
          "name": "Строгинский б-р, д.14, к.3 (ст. м. Строгино, выход №2)",
          "timestamp": "2023-02-20T14:49:22.498000Z"
         },
         {
          "empty_slots": 15,
          "extra": {
           "address": "Багратионовский пр-д (ст. м. Фили, выходы 1-2)",
           "ebikes": 0,
           "electric_free": 0,
           "electric_slots": 0,
           "normal_bikes": 0,
           "normal_free": 15,
           "normal_slots": 15,
           "slots": 15,
           "uid": "0562"
          },
          "free_bikes": 0,
          "id": "3ad2267a70b2bbebf1ef698760b030e5",
          "latitude": 55.74664,
          "longitude": 37.51421,
          "name": "Багратионовский пр-д (ст. м. Фили, выходы 1-2)",
          "timestamp": "2023-02-20T14:49:22.448000Z"
         },
         {
          "empty_slots": 15,
          "extra": {
           "address": "ул. Новозаводская, д.6",
           "ebikes": 0,
           "electric_free": 0,
           "electric_slots": 0,
           "normal_bikes": 0,
           "normal_free": 15,
           "normal_slots": 15,
           "slots": 15,
           "uid": "0563"
          },
          "free_bikes": 0,
          "id": "5321335ca07e5be589ffe5dcad53a78f",
          "latitude": 55.75066,
          "longitude": 37.5096,
          "name": "ул. Новозаводская, д.6",
          "timestamp": "2023-02-20T14:49:22.499000Z"
         },
         {
          "empty_slots": 15,
          "extra": {
           "address": "я Филёвская ул., д.14",
           "ebikes": 0,
           "electric_free": 0,
           "electric_slots": 0,
           "normal_bikes": 0,
           "normal_free": 15,
           "normal_slots": 15,
           "slots": 15,
           "uid": "0568"
          },
          "free_bikes": 0,
          "id": "e1d16973c31cc55d7cced179c04e4875",
          "latitude": 55.73931,
          "longitude": 37.4906,
          "name": "2-я Филёвская ул., д.14",
          "timestamp": "2023-02-20T14:49:22.500000Z"
         },
         {
          "empty_slots": 15,
          "extra": {
           "address": "ст. м. Филёвский парк (выход №1, напротив ул. Минская д.14А)",
           "ebikes": 0,
           "electric_free": 0,
           "electric_slots": 0,
           "normal_bikes": 0,
           "normal_free": 15,
           "normal_slots": 15,
           "slots": 15,
           "uid": "0570"
          },
          "free_bikes": 0,
          "id": "1386df0352852ef3f62d1ea747b9e687",
          "latitude": 55.73884,
          "longitude": 37.4834,
          "name": "ст. м. Филёвский парк (выход №1, напротив ул. Минская д.14А)",
          "timestamp": "2023-02-20T14:49:22.449000Z"
         },
         {
          "empty_slots": 15,
          "extra": {
           "address": "ул. Б. Дорогомиловская, д.7/2",
           "ebikes": 0,
           "electric_free": 0,
           "electric_slots": 0,
           "normal_bikes": 0,
           "normal_free": 15,
           "normal_slots": 15,
           "slots": 15,
           "uid": "0248"
          },
          "free_bikes": 0,
          "id": "90984f9d9eab09ec4971e23cd7b6f30c",
          "latitude": 55.74622,
          "longitude": 37.55784,
          "name": "ул. Б. Дорогомиловская, д.7/2",
          "timestamp": "2023-02-20T14:49:22.121000Z"
         },
         {
          "empty_slots": 15,
          "extra": {
           "address": "ул. Барклая, д.10 (ст. м. Багратионовская)",
           "ebikes": 0,
           "electric_free": 0,
           "electric_slots": 0,
           "normal_bikes": 0,
           "normal_free": 15,
           "normal_slots": 15,
           "slots": 15,
           "uid": "0566"
          },
          "free_bikes": 0,
          "id": "dfc53fcc4b7a0160785fb2276cfb336b",
          "latitude": 55.74341,
          "longitude": 37.4984,
          "name": "ул. Барклая, д.10 (ст. м. Багратионовская)",
          "timestamp": "2023-02-20T14:49:22.450000Z"
         },
         {
          "empty_slots": 15,
          "extra": {
           "address": "ул. Малая Филёвская, д.13",
           "ebikes": 0,
           "electric_free": 0,
           "electric_slots": 0,
           "normal_bikes": 0,
           "normal_free": 15,
           "normal_slots": 15,
           "slots": 15,
           "uid": "0574"
          },
          "free_bikes": 0,
          "id": "4cfbdffa4a99e5055d9ad4249b4d6207",
          "latitude": 55.73649,
          "longitude": 37.46714,
          "name": "ул. Малая Филёвская, д.13",
          "timestamp": "2023-02-20T14:49:22.457000Z"
         },
         {
          "empty_slots": 15,
          "extra": {
           "address": "Б. Девятинский пер., д.9 (остановка «Площадь Свободной России\")",
           "ebikes": 0,
           "electric_free": 0,
           "electric_slots": 0,
           "normal_bikes": 0,
           "normal_free": 15,
           "normal_slots": 15,
           "slots": 15,
           "uid": "0753"
          },
          "free_bikes": 0,
          "id": "cf0d4e8a16027dc190d3faccecd4a8bc",
          "latitude": 55.754515,
          "longitude": 37.57638,
          "name": "Б. Девятинский пер., д.9 (остановка «Площадь Свободной России\")",
          "timestamp": "2023-02-20T14:49:22.443000Z"
         },
         {
          "empty_slots": 15,
          "extra": {
           "address": "ул. Раменки, д.16",
           "ebikes": 0,
           "electric_free": 0,
           "electric_slots": 0,
           "normal_bikes": 0,
           "normal_free": 15,
           "normal_slots": 15,
           "slots": 15,
           "uid": "0801"
          },
          "free_bikes": 0,
          "id": "b7e318144d1e3aaeeb10b32ba398314e",
          "latitude": 55.69037,
          "longitude": 37.49043,
          "name": "ул. Раменки, д.16",
          "timestamp": "2023-02-20T14:49:22.481000Z"
         },
         {
          "empty_slots": 14,
          "extra": {
           "address": "ст. м. Мичуринский проспект, выход №2",
           "ebikes": 1,
           "electric_free": 0,
           "electric_slots": 0,
           "normal_bikes": 0,
           "normal_free": 14,
           "normal_slots": 15,
           "slots": 15,
           "uid": "0800"
          },
          "free_bikes": 1,
          "id": "99578caedc977bb53b59d286e52b071a",
          "latitude": 55.68946,
          "longitude": 37.48332,
          "name": "ст. м. Мичуринский проспект, выход №2",
          "timestamp": "2023-02-20T14:49:22.501000Z"
         },
         {
          "empty_slots": 15,
          "extra": {
           "address": "ст. м. Улица Скобелевская (выход №1)",
           "ebikes": 0,
           "electric_free": 0,
           "electric_slots": 0,
           "normal_bikes": 0,
           "normal_free": 15,
           "normal_slots": 15,
           "slots": 15,
           "uid": "0897"
          },
          "free_bikes": 0,
          "id": "b9f2888fe448b9b1374c8d6108f2edfa",
          "latitude": 55.54772,
          "longitude": 37.5537,
          "name": "ст. м. Улица Скобелевская (выход №1)",
          "timestamp": "2023-02-20T14:49:22.503000Z"
         },
         {
          "empty_slots": 15,
          "extra": {
           "address": "ст. м. Улица Старокачаловская (выход №9)",
           "ebikes": 0,
           "electric_free": 0,
           "electric_slots": 0,
           "normal_bikes": 0,
           "normal_free": 15,
           "normal_slots": 15,
           "slots": 15,
           "uid": "0893"
          },
          "free_bikes": 0,
          "id": "c114cd4070f3bf2d9f9217a15647ee8e",
          "latitude": 55.57024,
          "longitude": 37.57792,
          "name": "ст. м. Улица Старокачаловская (выход №9)",
          "timestamp": "2023-02-20T14:49:22.457000Z"
         },
         {
          "empty_slots": 21,
          "extra": {
           "address": "Чонгарский б-р, д.7",
           "ebikes": 0,
           "electric_free": 21,
           "electric_slots": 21,
           "has_ebikes": true,
           "normal_bikes": 0,
           "normal_free": 0,
           "normal_slots": 0,
           "slots": 21,
           "uid": "0886"
          },
          "free_bikes": 0,
          "id": "93bbd2b64625f441941f88755ec6447e",
          "latitude": 55.65143,
          "longitude": 37.61299,
          "name": "Чонгарский б-р, д.7",
          "timestamp": "2023-02-20T14:49:22.504000Z"
         },
         {
          "empty_slots": 15,
          "extra": {
           "address": "МЦД Тестовская (выход №2)",
           "ebikes": 0,
           "electric_free": 0,
           "electric_slots": 0,
           "normal_bikes": 0,
           "normal_free": 15,
           "normal_slots": 15,
           "slots": 15,
           "uid": "0814"
          },
          "free_bikes": 0,
          "id": "3ad5f570ab9b3d39a3f893bb2af1223f",
          "latitude": 55.75252,
          "longitude": 37.53238,
          "name": "МЦД Тестовская (выход №2)",
          "timestamp": "2023-02-20T14:49:22.502000Z"
         },
         {
          "empty_slots": 15,
          "extra": {
           "address": "ст. м. Юго-Западная (выход №4)",
           "ebikes": 0,
           "electric_free": 0,
           "electric_slots": 0,
           "normal_bikes": 0,
           "normal_free": 15,
           "normal_slots": 15,
           "slots": 15,
           "uid": "0885"
          },
          "free_bikes": 0,
          "id": "72d04b198486fb622ede7dbda53e7db5",
          "latitude": 55.66313,
          "longitude": 37.48219,
          "name": "ст. м. Юго-Западная (выход №4)",
          "timestamp": "2023-02-20T14:49:22.420000Z"
         },
         {
          "empty_slots": 21,
          "extra": {
           "address": "ул. Герасима Курина, д.16 (ст. м. Славянский бульвар, выход №2)",
           "ebikes": 0,
           "electric_free": 15,
           "electric_slots": 15,
           "has_ebikes": true,
           "normal_bikes": 0,
           "normal_free": 0,
           "normal_slots": 0,
           "slots": 21,
           "uid": "0575"
          },
          "free_bikes": 0,
          "id": "5977876ff8bd90097621d8a7a2e9afa9",
          "latitude": 55.73088,
          "longitude": 37.4724,
          "name": "ул. Герасима Курина, д.16 (ст. м. Славянский бульвар, выход №2)",
          "timestamp": "2023-02-20T14:49:22.504000Z"
         },
         {
          "empty_slots": 15,
          "extra": {
           "address": "ул. Большая Филевская, д.18",
           "ebikes": 0,
           "electric_free": 0,
           "electric_slots": 0,
           "normal_bikes": 0,
           "normal_free": 15,
           "normal_slots": 15,
           "slots": 15,
           "uid": "0569"
          },
          "free_bikes": 0,
          "id": "954c1300ef6dde7382369d23ed26c644",
          "latitude": 55.74917,
          "longitude": 37.50094,
          "name": "ул. Большая Филевская, д.18",
          "timestamp": "2023-02-20T14:49:22.505000Z"
         },
         {
          "empty_slots": 15,
          "extra": {
           "address": "ул. Киевская (напротив д.2)",
           "ebikes": 0,
           "electric_free": 0,
           "electric_slots": 0,
           "normal_bikes": 0,
           "normal_free": 15,
           "normal_slots": 15,
           "slots": 15,
           "uid": "0555"
          },
          "free_bikes": 0,
          "id": "59723999376329e7ba6a083f6c40d467",
          "latitude": 55.74268,
          "longitude": 37.56251,
          "name": "ул. Киевская (напротив д.2)",
          "timestamp": "2023-02-20T14:49:22.458000Z"
         },
         {
          "empty_slots": 15,
          "extra": {
           "address": "ул. Киевская, д.18, стр.1 (ст. м. Студенческая)",
           "ebikes": 0,
           "electric_free": 0,
           "electric_slots": 0,
           "normal_bikes": 0,
           "normal_free": 15,
           "normal_slots": 15,
           "slots": 15,
           "uid": "0558"
          },
          "free_bikes": 0,
          "id": "4126ae9e4953c7dd447f3391f1085dfa",
          "latitude": 55.73902,
          "longitude": 37.54828,
          "name": "ул. Киевская, д.18, стр.1 (ст. м. Студенческая)",
          "timestamp": "2023-02-20T14:49:22.506000Z"
         },
         {
          "empty_slots": 15,
          "extra": {
           "address": "ст. м. Стахановская (выход №2)",
           "ebikes": 0,
           "electric_free": 0,
           "electric_slots": 0,
           "normal_bikes": 0,
           "normal_free": 15,
           "normal_slots": 15,
           "slots": 15,
           "uid": "0790"
          },
          "free_bikes": 0,
          "id": "3c0dbf9aef51fa1a098b8096b1b9c045",
          "latitude": 55.72745,
          "longitude": 37.75342,
          "name": "ст. м. Стахановская (выход №2)",
          "timestamp": "2023-02-20T14:49:22.460000Z"
         },
         {
          "empty_slots": 15,
          "extra": {
           "address": "Рязанский пр-т, д.2/2, ст. м. Нижегородская (выход №3)",
           "ebikes": 0,
           "electric_free": 0,
           "electric_slots": 0,
           "normal_bikes": 0,
           "normal_free": 15,
           "normal_slots": 15,
           "slots": 15,
           "uid": "0788"
          },
          "free_bikes": 0,
          "id": "fea2097ca51e86075261827643d1ce35",
          "latitude": 55.73075,
          "longitude": 37.73179,
          "name": "Рязанский пр-т, д.2/2, ст. м. Нижегородская (выход №3)",
          "timestamp": "2023-02-20T14:49:22.515000Z"
         },
         {
          "empty_slots": 15,
          "extra": {
           "address": "ул. Михайлова, д.29, к.1",
           "ebikes": 0,
           "electric_free": 0,
           "electric_slots": 0,
           "normal_bikes": 0,
           "normal_free": 15,
           "normal_slots": 15,
           "slots": 15,
           "uid": "0791"
          },
          "free_bikes": 0,
          "id": "b2c1ab0eb79172e9fb18bda9772e6d74",
          "latitude": 55.72623,
          "longitude": 37.77133,
          "name": "ул. Михайлова, д.29, к.1",
          "timestamp": "2023-02-20T14:49:22.461000Z"
         },
         {
          "empty_slots": 15,
          "extra": {
           "address": "ст. м. Окская (выход №3)",
           "ebikes": 0,
           "electric_free": 0,
           "electric_slots": 0,
           "normal_bikes": 0,
           "normal_free": 15,
           "normal_slots": 15,
           "slots": 15,
           "uid": "0795"
          },
          "free_bikes": 0,
          "id": "f6695451b686ad143b69ea28c03870d7",
          "latitude": 55.71925,
          "longitude": 37.78222,
          "name": "ст. м. Окская (выход №3)",
          "timestamp": "2023-02-20T14:49:22.516000Z"
         },
         {
          "empty_slots": 15,
          "extra": {
           "address": "ул. Таллинская, д.34",
           "ebikes": 0,
           "electric_free": 0,
           "electric_slots": 0,
           "normal_bikes": 0,
           "normal_free": 15,
           "normal_slots": 15,
           "slots": 15,
           "uid": "0824"
          },
          "free_bikes": 0,
          "id": "d82662fed98d548cbc8f592672993aba",
          "latitude": 55.80244,
          "longitude": 37.4088,
          "name": "ул. Таллинская, д.34",
          "timestamp": "2023-02-20T14:49:22.461000Z"
         },
         {
          "empty_slots": 15,
          "extra": {
           "address": "ул. Кулакова, д.9",
           "ebikes": 0,
           "electric_free": 0,
           "electric_slots": 0,
           "normal_bikes": 0,
           "normal_free": 15,
           "normal_slots": 15,
           "slots": 15,
           "uid": "0822"
          },
          "free_bikes": 0,
          "id": "d26de08e76cfd4545c359d94d38806c2",
          "latitude": 55.81115,
          "longitude": 37.39836,
          "name": "ул. Кулакова, д.9",
          "timestamp": "2023-02-20T14:49:22.517000Z"
         },
         {
          "empty_slots": 15,
          "extra": {
           "address": "ул. Исаковского, д.27, к.1",
           "ebikes": 0,
           "electric_free": 0,
           "electric_slots": 0,
           "normal_bikes": 0,
           "normal_free": 15,
           "normal_slots": 15,
           "slots": 15,
           "uid": "0818"
          },
          "free_bikes": 0,
          "id": "fb1957421131731173a7a0a361a53a54",
          "latitude": 55.80766,
          "longitude": 37.41832,
          "name": "ул. Исаковского, д.27, к.1",
          "timestamp": "2023-02-20T14:49:22.517000Z"
         },
         {
          "empty_slots": 15,
          "extra": {
           "address": "ул. Профсоюзная, д.88/20",
           "ebikes": 0,
           "electric_free": 0,
           "electric_slots": 0,
           "normal_bikes": 0,
           "normal_free": 15,
           "normal_slots": 15,
           "slots": 15,
           "uid": "0336"
          },
          "free_bikes": 0,
          "id": "d14e04a4c80754424bc18108f490f549",
          "latitude": 55.6505176,
          "longitude": 37.5323146,
          "name": "ул. Профсоюзная, д.88/20",
          "timestamp": "2023-02-20T14:49:22.117000Z"
         },
         {
          "empty_slots": 12,
          "extra": {
           "address": "пр-т Вернадского, д.76А",
           "ebikes": 0,
           "electric_free": 0,
           "electric_slots": 0,
           "normal_bikes": 0,
           "normal_free": 12,
           "normal_slots": 12,
           "slots": 12,
           "uid": "0283"
          },
          "free_bikes": 0,
          "id": "1df4b602af51a03dfb1afbb8508f45b6",
          "latitude": 55.67204,
          "longitude": 37.49052,
          "name": "пр-т Вернадского, д.76А",
          "timestamp": "2023-02-20T14:49:22.341000Z"
         },
         {
          "empty_slots": 15,
          "extra": {
           "address": "Багратионовский пр., д.5",
           "ebikes": 0,
           "electric_free": 0,
           "electric_slots": 0,
           "normal_bikes": 0,
           "normal_free": 15,
           "normal_slots": 15,
           "slots": 15,
           "uid": "0565"
          },
          "free_bikes": 0,
          "id": "57d949522c997f4310ee4eafebc6cfe4",
          "latitude": 55.74482,
          "longitude": 37.50917,
          "name": "Багратионовский пр., д.5",
          "timestamp": "2023-02-20T14:49:22.519000Z"
         },
         {
          "empty_slots": 15,
          "extra": {
           "address": "ул. Менжинского, д.32  (ст. м. Бабушкинская, выход №4)",
           "ebikes": 0,
           "electric_free": 0,
           "electric_slots": 0,
           "normal_bikes": 0,
           "normal_free": 15,
           "normal_slots": 15,
           "slots": 15,
           "uid": "0867"
          },
          "free_bikes": 0,
          "id": "74df4983ccffb9573c07186a761bf0bc",
          "latitude": 55.86991,
          "longitude": 37.66497,
          "name": "ул. Менжинского, д.32  (ст. м. Бабушкинская, выход №4)",
          "timestamp": "2023-02-20T14:49:22.520000Z"
         },
         {
          "empty_slots": 15,
          "extra": {
           "address": "ул. Маломосковская, д.22, стр.1",
           "ebikes": 0,
           "electric_free": 0,
           "electric_slots": 0,
           "normal_bikes": 0,
           "normal_free": 15,
           "normal_slots": 15,
           "slots": 15,
           "uid": "0438"
          },
          "free_bikes": 0,
          "id": "33dc873d9b5fdb3a27cd53cb47851c2c",
          "latitude": 55.81177,
          "longitude": 37.6531,
          "name": "ул. Маломосковская, д.22, стр.1",
          "timestamp": "2023-02-20T14:49:22.167000Z"
         },
         {
          "empty_slots": 15,
          "extra": {
           "address": "ст. м. Крылатское (выход №5)",
           "ebikes": 0,
           "electric_free": 0,
           "electric_slots": 0,
           "normal_bikes": 0,
           "normal_free": 15,
           "normal_slots": 15,
           "slots": 15,
           "uid": "0584"
          },
          "free_bikes": 0,
          "id": "5d5e4c697d922824eedf4ad899f5610a",
          "latitude": 55.75543,
          "longitude": 37.40886,
          "name": "ст. м. Крылатское (выход №5)",
          "timestamp": "2023-02-20T14:49:22.520000Z"
         },
         {
          "empty_slots": 15,
          "extra": {
           "address": "ул. Советской Армии, д.8",
           "ebikes": 0,
           "electric_free": 0,
           "electric_slots": 0,
           "normal_bikes": 0,
           "normal_free": 15,
           "normal_slots": 15,
           "slots": 15,
           "uid": "0421"
          },
          "free_bikes": 0,
          "id": "2c53ed5b9e69fe400adc9ad0d9e56bfd",
          "latitude": 55.787541,
          "longitude": 37.6170397,
          "name": "ул. Советской Армии, д.8",
          "timestamp": "2023-02-20T14:49:21.994000Z"
         },
         {
          "empty_slots": 36,
          "extra": {
           "address": "Берсеневская наб., д.20/2",
           "ebikes": 0,
           "electric_free": 0,
           "electric_slots": 0,
           "normal_bikes": 0,
           "normal_free": 36,
           "normal_slots": 36,
           "slots": 36,
           "uid": "0056"
          },
          "free_bikes": 0,
          "id": "71d5b2fb1de7fbffcd914ad73cb134c9",
          "latitude": 55.74559,
          "longitude": 37.61144,
          "name": "Берсеневская наб., д.20/2",
          "timestamp": "2023-02-20T14:49:22.217000Z"
         },
         {
          "empty_slots": 15,
          "extra": {
           "address": "ул. Новодмитровская, д.2, к.1",
           "ebikes": 0,
           "electric_free": 0,
           "electric_slots": 0,
           "normal_bikes": 0,
           "normal_free": 15,
           "normal_slots": 15,
           "slots": 15,
           "uid": "0764"
          },
          "free_bikes": 0,
          "id": "bfc3eed44b6c495cbafc93d955876dc9",
          "latitude": 55.80478,
          "longitude": 37.58956,
          "name": "ул. Новодмитровская, д.2, к.1",
          "timestamp": "2023-02-20T14:49:22.518000Z"
         },
         {
          "empty_slots": 15,
          "extra": {
           "address": "ул. Большая Грузинская, д.13А, стр.1",
           "ebikes": 0,
           "electric_free": 0,
           "electric_slots": 0,
           "normal_bikes": 0,
           "normal_free": 15,
           "normal_slots": 15,
           "slots": 15,
           "uid": "0235"
          },
          "free_bikes": 0,
          "id": "373f355e79d2089e2128195688f43fab",
          "latitude": 55.76574,
          "longitude": 37.57796,
          "name": "ул. Большая Грузинская, д.13А, стр.1",
          "timestamp": "2023-02-20T14:49:22.521000Z"
         },
         {
          "empty_slots": 21,
          "extra": {
           "address": "ул. Стромынка, д.7, к.4",
           "ebikes": 0,
           "electric_free": 0,
           "electric_slots": 0,
           "normal_bikes": 0,
           "normal_free": 21,
           "normal_slots": 21,
           "slots": 21,
           "uid": "0490"
          },
          "free_bikes": 0,
          "id": "cd3f1ad366fe7a245bfe727eef4220f8",
          "latitude": 55.7919252,
          "longitude": 37.6871517,
          "name": "ул. Стромынка, д.7, к.4",
          "timestamp": "2023-02-20T14:49:22.211000Z"
         },
         {
          "empty_slots": 15,
          "extra": {
           "address": "ул. Преображенский Вал, д.24, к.3",
           "ebikes": 0,
           "electric_free": 0,
           "electric_slots": 0,
           "normal_bikes": 0,
           "normal_free": 15,
           "normal_slots": 15,
           "slots": 15,
           "uid": "0495"
          },
          "free_bikes": 0,
          "id": "5408d8f92725d7e71ecc8c9cd7a40e68",
          "latitude": 55.7907,
          "longitude": 37.71599,
          "name": "ул. Преображенский Вал, д.24, к.3",
          "timestamp": "2023-02-20T14:49:22.349000Z"
         },
         {
          "empty_slots": 15,
          "extra": {
           "address": "ул. Кировоградская, д.8, к.3",
           "ebikes": 0,
           "electric_free": 0,
           "electric_slots": 0,
           "normal_bikes": 0,
           "normal_free": 15,
           "normal_slots": 15,
           "slots": 15,
           "uid": "0887"
          },
          "free_bikes": 0,
          "id": "ee3c39778f798fc5ce0be8c19ca32359",
          "latitude": 55.62784,
          "longitude": 37.61109,
          "name": "ул. Кировоградская, д.8, к.3",
          "timestamp": "2023-02-20T14:49:22.522000Z"
         },
         {
          "empty_slots": 15,
          "extra": {
           "address": "ул. Чертановская, д.22",
           "ebikes": 0,
           "electric_free": 0,
           "electric_slots": 0,
           "normal_bikes": 0,
           "normal_free": 15,
           "normal_slots": 15,
           "slots": 15,
           "uid": "0889"
          },
          "free_bikes": 0,
          "id": "49f968ed8b93aa5eefa718a662a717dc",
          "latitude": 55.62395,
          "longitude": 37.59509,
          "name": "ул. Чертановская, д.22",
          "timestamp": "2023-02-20T14:49:22.523000Z"
         },
         {
          "empty_slots": 15,
          "extra": {
           "address": "ст. м. Южная (выход №5)",
           "ebikes": 0,
           "electric_free": 0,
           "electric_slots": 0,
           "normal_bikes": 0,
           "normal_free": 15,
           "normal_slots": 15,
           "slots": 15,
           "uid": "0888"
          },
          "free_bikes": 0,
          "id": "fb6846858726477e157422eead7fc8c2",
          "latitude": 55.62341,
          "longitude": 37.60857,
          "name": "ст. м. Южная (выход №5)",
          "timestamp": "2023-02-20T14:49:22.523000Z"
         },
         {
          "empty_slots": 15,
          "extra": {
           "address": "ст. м. Пражская (выход №2)",
           "ebikes": 0,
           "electric_free": 0,
           "electric_slots": 0,
           "normal_bikes": 0,
           "normal_free": 15,
           "normal_slots": 15,
           "slots": 15,
           "uid": "0890"
          },
          "free_bikes": 0,
          "id": "8d8c58dde01757f759c0b962d1d2eab5",
          "latitude": 55.61113,
          "longitude": 37.605,
          "name": "ст. м. Пражская (выход №2)",
          "timestamp": "2023-02-20T14:49:22.463000Z"
         },
         {
          "empty_slots": 21,
          "extra": {
           "address": "ул. Новодмитровская, д.2, к.7",
           "ebikes": 0,
           "electric_free": 21,
           "electric_slots": 21,
           "has_ebikes": true,
           "normal_bikes": 0,
           "normal_free": 0,
           "normal_slots": 0,
           "slots": 21,
           "uid": "0763"
          },
          "free_bikes": 0,
          "id": "2862a0afb5401a96169d842d66e5d039",
          "latitude": 55.80305,
          "longitude": 37.59187,
          "name": "ул. Новодмитровская, д.2, к.7",
          "timestamp": "2023-02-20T14:49:22.462000Z"
         },
         {
          "empty_slots": 15,
          "extra": {
           "address": "ст. м. Алтуфьево (выход №1)",
           "ebikes": 0,
           "electric_free": 0,
           "electric_slots": 0,
           "normal_bikes": 0,
           "normal_free": 15,
           "normal_slots": 15,
           "slots": 15,
           "uid": "0856"
          },
          "free_bikes": 0,
          "id": "3d87f4d7af9ce41cff7325cfb93be870",
          "latitude": 55.89899,
          "longitude": 37.58652,
          "name": "ст. м. Алтуфьево (выход №1)",
          "timestamp": "2023-02-20T14:49:22.466000Z"
         },
         {
          "empty_slots": 15,
          "extra": {
           "address": "Лианозовский пр-д, вл.1Г, (ст. МЦД Лианозово)",
           "ebikes": 0,
           "electric_free": 0,
           "electric_slots": 0,
           "normal_bikes": 0,
           "normal_free": 15,
           "normal_slots": 15,
           "slots": 15,
           "uid": "0857"
          },
          "free_bikes": 0,
          "id": "c0da8d92e32fe220b3ab66b629511012",
          "latitude": 55.89751,
          "longitude": 37.55372,
          "name": "Лианозовский пр-д, вл.1Г, (ст. МЦД Лианозово)",
          "timestamp": "2023-02-20T14:49:22.466000Z"
         },
         {
          "empty_slots": 15,
          "extra": {
           "address": "ул. Илимская, д.12",
           "ebikes": 0,
           "electric_free": 0,
           "electric_slots": 0,
           "normal_bikes": 0,
           "normal_free": 15,
           "normal_slots": 15,
           "slots": 15,
           "uid": "0855"
          },
          "free_bikes": 0,
          "id": "d0d1c3011901b0b6c102ef634649b47c",
          "latitude": 55.89,
          "longitude": 37.58545,
          "name": "ул. Илимская, д.12",
          "timestamp": "2023-02-20T14:49:22.467000Z"
         },
         {
          "empty_slots": 15,
          "extra": {
           "address": "ул. Снежная, д.21/1 (ст. м. Свиблово, выход №5)",
           "ebikes": 0,
           "electric_free": 0,
           "electric_slots": 0,
           "normal_bikes": 0,
           "normal_free": 15,
           "normal_slots": 15,
           "slots": 15,
           "uid": "0870"
          },
          "free_bikes": 0,
          "id": "02dcf1ef0dcb6242b1b58238dfec49ba",
          "latitude": 55.85475,
          "longitude": 37.65125,
          "name": "ул. Снежная, д.21/1 (ст. м. Свиблово, выход №5)",
          "timestamp": "2023-02-20T14:49:22.468000Z"
         },
         {
          "empty_slots": 15,
          "extra": {
           "address": "ул. Енисейская, д.11",
           "ebikes": 0,
           "electric_free": 0,
           "electric_slots": 0,
           "normal_bikes": 0,
           "normal_free": 15,
           "normal_slots": 15,
           "slots": 15,
           "uid": "0869"
          },
          "free_bikes": 0,
          "id": "5fe601f34fa66f681a01edfc63afb793",
          "latitude": 55.86494,
          "longitude": 37.66162,
          "name": "ул. Енисейская, д.11",
          "timestamp": "2023-02-20T14:49:22.469000Z"
         },
         {
          "empty_slots": 15,
          "extra": {
           "address": "ул. Большая Академическая, д.35,  стр.1",
           "ebikes": 0,
           "electric_free": 0,
           "electric_slots": 0,
           "normal_bikes": 0,
           "normal_free": 15,
           "normal_slots": 15,
           "slots": 15,
           "uid": "0831"
          },
          "free_bikes": 0,
          "id": "74e446831a3bf3291ec2a9245db3c52f",
          "latitude": 55.83166,
          "longitude": 37.53122,
          "name": "ул. Большая Академическая, д.35,  стр.1",
          "timestamp": "2023-02-20T14:49:22.470000Z"
         },
         {
          "empty_slots": 15,
          "extra": {
           "address": "й Лучевой просек, платформа Маленковская",
           "ebikes": 0,
           "electric_free": 0,
           "electric_slots": 0,
           "normal_bikes": 0,
           "normal_free": 15,
           "normal_slots": 15,
           "slots": 15,
           "uid": "0499"
          },
          "free_bikes": 0,
          "id": "8951c3be971bc4ca858221c6345de496",
          "latitude": 55.81387,
          "longitude": 37.66318,
          "name": "4-й Лучевой просек, платформа Маленковская",
          "timestamp": "2023-02-20T14:49:22.278000Z"
         },
         {
          "empty_slots": 15,
          "extra": {
           "address": "ул. Красноказарменная, д.1, стр.2",
           "ebikes": 0,
           "electric_free": 0,
           "electric_slots": 0,
           "normal_bikes": 0,
           "normal_free": 15,
           "normal_slots": 15,
           "slots": 15,
           "uid": "0653"
          },
          "free_bikes": 0,
          "id": "63b27f7b86a250ecb3d7834032ffdf5d",
          "latitude": 55.7615,
          "longitude": 37.68756,
          "name": "ул. Красноказарменная, д.1, стр.2",
          "timestamp": "2023-02-20T14:49:22.525000Z"
         },
         {
          "empty_slots": 15,
          "extra": {
           "address": "ул. Совхозная, д.39",
           "ebikes": 0,
           "electric_free": 0,
           "electric_slots": 0,
           "normal_bikes": 0,
           "normal_free": 15,
           "normal_slots": 15,
           "slots": 15,
           "uid": "0704"
          },
          "free_bikes": 0,
          "id": "592c492a3065305b9defbc8faf7b8470",
          "latitude": 55.6739,
          "longitude": 37.76008,
          "name": "ул. Совхозная, д.39",
          "timestamp": "2023-02-20T14:49:22.476000Z"
         },
         {
          "empty_slots": 15,
          "extra": {
           "address": "ст. м. Люблино (выход №6)",
           "ebikes": 0,
           "electric_free": 0,
           "electric_slots": 0,
           "normal_bikes": 0,
           "normal_free": 15,
           "normal_slots": 15,
           "slots": 15,
           "uid": "0733"
          },
          "free_bikes": 0,
          "id": "0f0d5661aa315e5448fa52aee5fea739",
          "latitude": 55.67685,
          "longitude": 37.76336,
          "name": "ст. м. Люблино (выход №6)",
          "timestamp": "2023-02-20T14:49:22.525000Z"
         },
         {
          "empty_slots": 15,
          "extra": {
           "address": "ул. Люблинская, д.61",
           "ebikes": 0,
           "electric_free": 0,
           "electric_slots": 0,
           "normal_bikes": 0,
           "normal_free": 15,
           "normal_slots": 15,
           "slots": 15,
           "uid": "0737"
          },
          "free_bikes": 0,
          "id": "b35bb807e9731df22aa293adae2346c1",
          "latitude": 55.68461,
          "longitude": 37.73776,
          "name": "ул. Люблинская, д.61",
          "timestamp": "2023-02-20T14:49:22.524000Z"
         },
         {
          "empty_slots": 21,
          "extra": {
           "address": "ул. Фестивальная, д.2Б (ст. м. Речной вокзал, выход №2)",
           "ebikes": 0,
           "electric_free": 21,
           "electric_slots": 21,
           "has_ebikes": true,
           "normal_bikes": 0,
           "normal_free": 0,
           "normal_slots": 0,
           "slots": 21,
           "uid": "0843"
          },
          "free_bikes": 0,
          "id": "882d019ac00be25080cfd326428ee872",
          "latitude": 55.85486,
          "longitude": 37.4775,
          "name": "ул. Фестивальная, д.2Б (ст. м. Речной вокзал, выход №2)",
          "timestamp": "2023-02-20T14:49:22.529000Z"
         },
         {
          "empty_slots": 30,
          "extra": {
           "address": "ул. Инженерная, д.1",
           "ebikes": 0,
           "electric_free": 30,
           "electric_slots": 30,
           "has_ebikes": true,
           "normal_bikes": 0,
           "normal_free": 0,
           "normal_slots": 0,
           "slots": 30,
           "uid": "0844"
          },
          "free_bikes": 0,
          "id": "bbec700d956cea72e6a197489ece973c",
          "latitude": 55.87918,
          "longitude": 37.5821,
          "name": "ул. Инженерная, д.1",
          "timestamp": "2023-02-20T14:49:22.527000Z"
         },
         {
          "empty_slots": 12,
          "extra": {
           "address": "ул. Земляной Вал, д.52/16, стр.2",
           "ebikes": 0,
           "electric_free": 0,
           "electric_slots": 0,
           "normal_bikes": 0,
           "normal_free": 12,
           "normal_slots": 12,
           "slots": 12,
           "uid": "0144"
          },
          "free_bikes": 0,
          "id": "84b1cec7d12e6038d158c61e073a5ac7",
          "latitude": 55.749,
          "longitude": 37.65552,
          "name": "ул. Земляной Вал, д.52/16, стр.2",
          "timestamp": "2023-02-20T14:49:22.187000Z"
         },
         {
          "empty_slots": 24,
          "extra": {
           "address": "ул. Беломорская, д.16А",
           "ebikes": 0,
           "electric_free": 24,
           "electric_slots": 24,
           "has_ebikes": true,
           "normal_bikes": 0,
           "normal_free": 0,
           "normal_slots": 0,
           "slots": 24,
           "uid": "0840"
          },
          "free_bikes": 0,
          "id": "ba4528b2780830f48c23083ca2bd49fa",
          "latitude": 55.86294,
          "longitude": 37.47143,
          "name": "ул. Беломорская, д.16А",
          "timestamp": "2023-02-20T14:49:22.479000Z"
         },
         {
          "empty_slots": 15,
          "extra": {
           "address": "пл. Победы, д.2, к.2 (ст. м. Парк Победы, выход №1)",
           "ebikes": 0,
           "electric_free": 0,
           "electric_slots": 0,
           "normal_bikes": 0,
           "normal_free": 15,
           "normal_slots": 15,
           "slots": 15,
           "uid": "0560"
          },
          "free_bikes": 0,
          "id": "9235bab6646b72ba34844c96e71e9b46",
          "latitude": 55.73667,
          "longitude": 37.5176,
          "name": "пл. Победы, д.2, к.2 (ст. м. Парк Победы, выход №1)",
          "timestamp": "2023-02-20T14:49:22.420000Z"
         },
         {
          "empty_slots": 15,
          "extra": {
           "address": "Шелепихинская наб., д.34, к.2",
           "ebikes": 0,
           "electric_free": 0,
           "electric_slots": 0,
           "normal_bikes": 0,
           "normal_free": 15,
           "normal_slots": 15,
           "slots": 15,
           "uid": "0808"
          },
          "free_bikes": 0,
          "id": "4f5e694135fbb2afe95bf7c112d96340",
          "latitude": 55.7626,
          "longitude": 37.50913,
          "name": "Шелепихинская наб., д.34, к.2",
          "timestamp": "2023-02-20T14:49:22.477000Z"
         },
         {
          "empty_slots": 15,
          "extra": {
           "address": "Шелепихинское ш., д.13 (ст. м. Шелепиха, выход №4)",
           "ebikes": 0,
           "electric_free": 0,
           "electric_slots": 0,
           "normal_bikes": 0,
           "normal_free": 15,
           "normal_slots": 15,
           "slots": 15,
           "uid": "0815"
          },
          "free_bikes": 0,
          "id": "9b97733a4aecd65a557fc0b95d096061",
          "latitude": 55.75833,
          "longitude": 37.52289,
          "name": "Шелепихинское ш., д.13 (ст. м. Шелепиха, выход №4)",
          "timestamp": "2023-02-20T14:49:22.478000Z"
         },
         {
          "empty_slots": 15,
          "extra": {
           "address": "МЦК Шелепиха",
           "ebikes": 0,
           "electric_free": 0,
           "electric_slots": 0,
           "normal_bikes": 0,
           "normal_free": 15,
           "normal_slots": 15,
           "slots": 15,
           "uid": "0810"
          },
          "free_bikes": 0,
          "id": "6aaece79425c899399292c397aeeb7ed",
          "latitude": 55.75685,
          "longitude": 37.52493,
          "name": "МЦК Шелепиха",
          "timestamp": "2023-02-20T14:49:22.495000Z"
         },
         {
          "empty_slots": 15,
          "extra": {
           "address": "пр-т Мира, д.109",
           "ebikes": 0,
           "electric_free": 0,
           "electric_slots": 0,
           "normal_bikes": 0,
           "normal_free": 15,
           "normal_slots": 15,
           "slots": 15,
           "uid": "0437"
          },
          "free_bikes": 0,
          "id": "55f66badf4658edadd5a5d6661c8450e",
          "latitude": 55.81863,
          "longitude": 37.63723,
          "name": "пр-т Мира, д.109",
          "timestamp": "2023-02-20T14:49:22.480000Z"
         },
         {
          "empty_slots": 15,
          "extra": {
           "address": "Кременчугская ул., д.11, стр. 8",
           "ebikes": 0,
           "electric_free": 0,
           "electric_slots": 0,
           "normal_bikes": 0,
           "normal_free": 15,
           "normal_slots": 15,
           "slots": 15,
           "uid": "0585"
          },
          "free_bikes": 0,
          "id": "f31668af6969c0f5d4b4de0cd85f80dc",
          "latitude": 55.7195,
          "longitude": 37.46362,
          "name": "Кременчугская ул., д.11, стр. 8",
          "timestamp": "2023-02-20T14:49:22.696000Z"
         },
         {
          "empty_slots": 15,
          "extra": {
           "address": "ул. Солдатская, д.15",
           "ebikes": 0,
           "electric_free": 0,
           "electric_slots": 0,
           "normal_bikes": 0,
           "normal_free": 15,
           "normal_slots": 15,
           "slots": 15,
           "uid": "0655"
          },
          "free_bikes": 0,
          "id": "7a68733f882adfbbe59834b7aa321713",
          "latitude": 55.76438,
          "longitude": 37.70556,
          "name": "ул. Солдатская, д.15",
          "timestamp": "2023-02-20T14:49:22.480000Z"
         },
         {
          "empty_slots": 14,
          "extra": {
           "address": "наб. Тараса Шевченко, д.23А",
           "ebikes": 0,
           "electric_free": 0,
           "electric_slots": 0,
           "normal_bikes": 1,
           "normal_free": 14,
           "normal_slots": 15,
           "slots": 15,
           "uid": "0557"
          },
          "free_bikes": 1,
          "id": "567fd24f6f853985d3871a3daf6d3c2a",
          "latitude": 55.74616,
          "longitude": 37.54636,
          "name": "наб. Тараса Шевченко, д.23А",
          "timestamp": "2023-02-20T14:49:22.546000Z"
         },
         {
          "empty_slots": 15,
          "extra": {
           "address": "ул. Введенского, д.32",
           "ebikes": 0,
           "electric_free": 0,
           "electric_slots": 0,
           "normal_bikes": 0,
           "normal_free": 15,
           "normal_slots": 15,
           "slots": 15,
           "uid": "0384"
          },
          "free_bikes": 0,
          "id": "4ba94a90e18361f26b95fdca3b049974",
          "latitude": 55.634235,
          "longitude": 37.5308314,
          "name": "ул. Введенского, д.32",
          "timestamp": "2023-02-20T14:49:22.087000Z"
         },
         {
          "empty_slots": 15,
          "extra": {
           "address": "Кутузовский пр-т, д.29",
           "ebikes": 0,
           "electric_free": 0,
           "electric_slots": 0,
           "normal_bikes": 0,
           "normal_free": 15,
           "normal_slots": 15,
           "slots": 15,
           "uid": "0556"
          },
          "free_bikes": 0,
          "id": "6d6dd725b0f601e98784f6e27f3f062d",
          "latitude": 55.7434,
          "longitude": 37.54435,
          "name": "Кутузовский пр-т, д.29",
          "timestamp": "2023-02-20T14:49:22.547000Z"
         },
         {
          "empty_slots": 15,
          "extra": {
           "address": "Рублёвское ш., д.28, к.1",
           "ebikes": 0,
           "electric_free": 0,
           "electric_slots": 0,
           "normal_bikes": 0,
           "normal_free": 15,
           "normal_slots": 15,
           "slots": 15,
           "uid": "0582"
          },
          "free_bikes": 0,
          "id": "1af2c13c7871f577f4c0b2042405412a",
          "latitude": 55.7462,
          "longitude": 37.42109,
          "name": "Рублёвское ш., д.28, к.1",
          "timestamp": "2023-02-20T14:49:22.607000Z"
         },
         {
          "empty_slots": 15,
          "extra": {
           "address": "Рублёвское ш., д.16",
           "ebikes": 0,
           "electric_free": 0,
           "electric_slots": 0,
           "normal_bikes": 0,
           "normal_free": 15,
           "normal_slots": 15,
           "slots": 15,
           "uid": "0581"
          },
          "free_bikes": 0,
          "id": "fac62b4d577a28dce83b14934e1d5e50",
          "latitude": 55.7401,
          "longitude": 37.43298,
          "name": "Рублёвское ш., д.16",
          "timestamp": "2023-02-20T14:49:22.698000Z"
         },
         {
          "empty_slots": 15,
          "extra": {
           "address": "ул. Ставропольская, д.27, стр.1",
           "ebikes": 0,
           "electric_free": 0,
           "electric_slots": 0,
           "normal_bikes": 0,
           "normal_free": 15,
           "normal_slots": 15,
           "slots": 15,
           "uid": "0741"
          },
          "free_bikes": 0,
          "id": "9c8f7752538d2374b2816f39fce34155",
          "latitude": 55.68195,
          "longitude": 37.76451,
          "name": "ул. Ставропольская, д.27, стр.1",
          "timestamp": "2023-02-20T14:49:22.698000Z"
         },
         {
          "empty_slots": 15,
          "extra": {
           "address": "ул. Снежная, д.18",
           "ebikes": 0,
           "electric_free": 0,
           "electric_slots": 0,
           "normal_bikes": 0,
           "normal_free": 15,
           "normal_slots": 15,
           "slots": 15,
           "uid": "0781"
          },
          "free_bikes": 0,
          "id": "cfbcc3d64daf61eee3937e7020f18fb3",
          "latitude": 55.85221,
          "longitude": 37.64704,
          "name": "ул. Снежная, д.18",
          "timestamp": "2023-02-20T14:49:22.565000Z"
         },
         {
          "empty_slots": 15,
          "extra": {
           "address": "Рублёвское ш., д.42",
           "ebikes": 0,
           "electric_free": 0,
           "electric_slots": 0,
           "normal_bikes": 0,
           "normal_free": 15,
           "normal_slots": 15,
           "slots": 15,
           "uid": "0583"
          },
          "free_bikes": 0,
          "id": "ab275d0cde19cc7980ea09276b2ad998",
          "latitude": 55.75073,
          "longitude": 37.41142,
          "name": "Рублёвское ш., д.42",
          "timestamp": "2023-02-20T14:49:22.590000Z"
         },
         {
          "empty_slots": 15,
          "extra": {
           "address": "Кутузовский пр-т, д.30",
           "ebikes": 0,
           "electric_free": 0,
           "electric_slots": 0,
           "normal_bikes": 0,
           "normal_free": 15,
           "normal_slots": 15,
           "slots": 15,
           "uid": "0559"
          },
          "free_bikes": 0,
          "id": "03c1a0e70d1cfc1a863bb3f690cf5fb0",
          "latitude": 55.74086,
          "longitude": 37.53601,
          "name": "Кутузовский пр-т, д.30",
          "timestamp": "2023-02-20T14:49:22.591000Z"
         },
         {
          "empty_slots": 15,
          "extra": {
           "address": "ул. Алексея Свиридова, д.22, стр.1 (МЦД Кунцево)",
           "ebikes": 0,
           "electric_free": 0,
           "electric_slots": 0,
           "normal_bikes": 0,
           "normal_free": 15,
           "normal_slots": 15,
           "slots": 15,
           "uid": "0578"
          },
          "free_bikes": 0,
          "id": "a7b9a82c6c71283f3eb45cca32488b64",
          "latitude": 55.72619,
          "longitude": 37.44703,
          "name": "ул. Алексея Свиридова, д.22, стр.1 (МЦД Кунцево)",
          "timestamp": "2023-02-20T14:49:22.500000Z"
         },
         {
          "empty_slots": 12,
          "extra": {
           "address": "ул. Энергетическая, д.16, к.1",
           "ebikes": 0,
           "electric_free": 0,
           "electric_slots": 0,
           "normal_bikes": 0,
           "normal_free": 12,
           "normal_slots": 12,
           "slots": 12,
           "uid": "0618"
          },
          "free_bikes": 0,
          "id": "94c069af5e2a8df7d9e76bf676053d5e",
          "latitude": 55.75779,
          "longitude": 37.70932,
          "name": "ул. Энергетическая, д.16, к.1",
          "timestamp": "2023-02-20T14:49:22.412000Z"
         },
         {
          "empty_slots": 12,
          "extra": {
           "address": "Севастопольский пр-т, д.28, к.4",
           "ebikes": 0,
           "electric_free": 0,
           "electric_slots": 0,
           "normal_bikes": 0,
           "normal_free": 12,
           "normal_slots": 12,
           "slots": 12,
           "uid": "0367"
          },
          "free_bikes": 0,
          "id": "9260d92678b80911b703e23ef8f9d5b9",
          "latitude": 55.6620326,
          "longitude": 37.5766175,
          "name": "Севастопольский пр-т, д.28, к.4",
          "timestamp": "2023-02-20T14:49:22.067000Z"
         },
         {
          "empty_slots": 12,
          "extra": {
           "address": "ул. Большая Татарская, д.30",
           "ebikes": 0,
           "electric_free": 12,
           "electric_slots": 12,
           "has_ebikes": true,
           "normal_bikes": 0,
           "normal_free": 0,
           "normal_slots": 0,
           "slots": 12,
           "uid": "0084"
          },
          "free_bikes": 0,
          "id": "1784b661b13be46d1919dfc463e16a79",
          "latitude": 55.73875,
          "longitude": 37.63392,
          "name": "ул. Большая Татарская, д.30",
          "timestamp": "2023-02-20T14:49:22.113000Z"
         },
         {
          "empty_slots": 18,
          "extra": {
           "address": "ул. Дмитрия Ульянова, д.24 (ст. м. Академическая)",
           "ebikes": 0,
           "electric_free": 0,
           "electric_slots": 0,
           "normal_bikes": 0,
           "normal_free": 18,
           "normal_slots": 18,
           "slots": 18,
           "uid": "0397"
          },
          "free_bikes": 0,
          "id": "b2e78248bc7177086ca4361b2d2aa258",
          "latitude": 55.68685,
          "longitude": 37.57295,
          "name": "ул. Дмитрия Ульянова, д.24 (ст. м. Академическая)",
          "timestamp": "2023-02-20T14:49:22.150000Z"
         },
         {
          "empty_slots": 12,
          "extra": {
           "address": "ул. Симоновский Вал, д.2",
           "ebikes": 0,
           "electric_free": 0,
           "electric_slots": 0,
           "normal_bikes": 0,
           "normal_free": 12,
           "normal_slots": 12,
           "slots": 12,
           "uid": "0602"
          },
          "free_bikes": 0,
          "id": "62b680a353548038eaa3a75eaec48095",
          "latitude": 55.7301414,
          "longitude": 37.6606868,
          "name": "ул. Симоновский Вал, д.2",
          "timestamp": "2023-02-20T14:49:22.205000Z"
         },
         {
          "empty_slots": 12,
          "extra": {
           "address": "Павелецкая пл., д.2, стр.2",
           "ebikes": 0,
           "electric_free": 0,
           "electric_slots": 0,
           "normal_bikes": 0,
           "normal_free": 12,
           "normal_slots": 12,
           "slots": 12,
           "uid": "0149"
          },
          "free_bikes": 0,
          "id": "2bbedcb9ea0fcc4740c4302350563b2b",
          "latitude": 55.73079,
          "longitude": 37.63573,
          "name": "Павелецкая пл., д.2, стр.2",
          "timestamp": "2023-02-20T14:49:22.206000Z"
         },
         {
          "empty_slots": 18,
          "extra": {
           "address": "пр-т Вернадского, д.14",
           "ebikes": 0,
           "electric_free": 0,
           "electric_slots": 0,
           "normal_bikes": 0,
           "normal_free": 18,
           "normal_slots": 18,
           "slots": 18,
           "uid": "0303"
          },
          "free_bikes": 0,
          "id": "a603a9a7094ca83e8967f1041255585f",
          "latitude": 55.675752,
          "longitude": 37.504052,
          "name": "пр-т Вернадского, д.14",
          "timestamp": "2023-02-20T14:49:22.256000Z"
         },
         {
          "empty_slots": 10,
          "extra": {
           "address": "ул. Велозаводская, д.2",
           "ebikes": 0,
           "electric_free": 0,
           "electric_slots": 0,
           "normal_bikes": 0,
           "normal_free": 10,
           "normal_slots": 10,
           "slots": 10,
           "uid": "0628"
          },
          "free_bikes": 0,
          "id": "47d1cd9f8edf2ba9f0975c436349e975",
          "latitude": 55.7170746,
          "longitude": 37.6637295,
          "name": "ул. Велозаводская, д.2",
          "timestamp": "2023-02-20T14:49:22.264000Z"
         },
         {
          "empty_slots": 30,
          "extra": {
           "address": "я Песчаная ул., д.2А, стр.2",
           "ebikes": 0,
           "electric_free": 15,
           "electric_slots": 15,
           "has_ebikes": true,
           "normal_bikes": 0,
           "normal_free": 15,
           "normal_slots": 15,
           "slots": 30,
           "uid": "0502"
          },
          "free_bikes": 0,
          "id": "e46da1585475521d6c149b9b1a12e9dd",
          "latitude": 55.792384,
          "longitude": 37.513551,
          "name": "3-я Песчаная ул., д.2А, стр.2",
          "timestamp": "2023-02-20T14:49:22.281000Z"
         },
         {
          "empty_slots": 15,
          "extra": {
           "address": "ул. Б. Каменщики, д.8",
           "ebikes": 0,
           "electric_free": 0,
           "electric_slots": 0,
           "normal_bikes": 0,
           "normal_free": 15,
           "normal_slots": 15,
           "slots": 15,
           "uid": "0631"
          },
          "free_bikes": 0,
          "id": "5696ba336654759b7bb0dc050e2f5edb",
          "latitude": 55.735005,
          "longitude": 37.65628,
          "name": "ул. Б. Каменщики, д.8",
          "timestamp": "2023-02-20T14:49:22.290000Z"
         },
         {
          "empty_slots": 12,
          "extra": {
           "address": "ул. Большая Почтовая, д.7, стр.1",
           "ebikes": 0,
           "electric_free": 0,
           "electric_slots": 0,
           "normal_bikes": 0,
           "normal_free": 12,
           "normal_slots": 12,
           "slots": 12,
           "uid": "0656"
          },
          "free_bikes": 0,
          "id": "ab3edb64ee03e41329f9e60740913a22",
          "latitude": 55.775968,
          "longitude": 37.692317,
          "name": "ул. Большая Почтовая, д.7, стр.1",
          "timestamp": "2023-02-20T14:49:22.292000Z"
         },
         {
          "empty_slots": 24,
          "extra": {
           "address": "ул. Б. Каменщики, д.2 (ст. м. Таганская (радиальная))",
           "ebikes": 0,
           "electric_free": 0,
           "electric_slots": 0,
           "normal_bikes": 0,
           "normal_free": 24,
           "normal_slots": 24,
           "slots": 24,
           "uid": "0601"
          },
          "free_bikes": 0,
          "id": "dca39a99cfab51be83f1f0e690d768fc",
          "latitude": 55.7390591,
          "longitude": 37.6531291,
          "name": "ул. Б. Каменщики, д.2 (ст. м. Таганская (радиальная))",
          "timestamp": "2023-02-20T14:49:22.305000Z"
         },
         {
          "empty_slots": 24,
          "extra": {
           "address": "ул. Долгоруковская, д.40",
           "ebikes": 0,
           "electric_free": 0,
           "electric_slots": 0,
           "normal_bikes": 0,
           "normal_free": 24,
           "normal_slots": 24,
           "slots": 24,
           "uid": "0409"
          },
          "free_bikes": 0,
          "id": "432dd1338c491abeb58cfd015f6d1d48",
          "latitude": 55.77851,
          "longitude": 37.60179,
          "name": "ул. Долгоруковская, д.40",
          "timestamp": "2023-02-20T14:49:22.311000Z"
         },
         {
          "empty_slots": 12,
          "extra": {
           "address": "ул. Новый Арбат, д.20",
           "ebikes": 0,
           "electric_free": 0,
           "electric_slots": 0,
           "normal_bikes": 0,
           "normal_free": 12,
           "normal_slots": 12,
           "slots": 12,
           "uid": "0051"
          },
          "free_bikes": 0,
          "id": "d043a63202744e968e9992a1d0119e3a",
          "latitude": 55.75275,
          "longitude": 37.58965,
          "name": "ул. Новый Арбат, д.20",
          "timestamp": "2023-02-20T14:49:22.312000Z"
         },
         {
          "empty_slots": 12,
          "extra": {
           "address": "ул. Велозаводская, д.11/1",
           "ebikes": 0,
           "electric_free": 0,
           "electric_slots": 0,
           "normal_bikes": 0,
           "normal_free": 12,
           "normal_slots": 12,
           "slots": 12,
           "uid": "0629"
          },
          "free_bikes": 0,
          "id": "83dcfaffb2c543f91c84b417ab3282bc",
          "latitude": 55.7110537,
          "longitude": 37.6663363,
          "name": "ул. Велозаводская, д.11/1",
          "timestamp": "2023-02-20T14:49:22.324000Z"
         },
         {
          "empty_slots": 12,
          "extra": {
           "address": "ул. Дубовая Роща, д.21 (платформа Останкино)",
           "ebikes": 0,
           "electric_free": 0,
           "electric_slots": 0,
           "normal_bikes": 0,
           "normal_free": 12,
           "normal_slots": 12,
           "slots": 12,
           "uid": "0534"
          },
          "free_bikes": 0,
          "id": "84bfccfd040093c5a2cfbf7eff39dd7a",
          "latitude": 55.818213,
          "longitude": 37.603052,
          "name": "ул. Дубовая Роща, д.21 (платформа Останкино)",
          "timestamp": "2023-02-20T14:49:22.330000Z"
         },
         {
          "empty_slots": 24,
          "extra": {
           "address": "ул. Б. Семёновская, д.38, стр.2",
           "ebikes": 0,
           "electric_free": 0,
           "electric_slots": 0,
           "normal_bikes": 0,
           "normal_free": 24,
           "normal_slots": 24,
           "slots": 24,
           "uid": "0543"
          },
          "free_bikes": 0,
          "id": "1cf344ff14eadfaff8f83fc94d2c7499",
          "latitude": 55.78183,
          "longitude": 37.70985,
          "name": "ул. Б. Семёновская, д.38, стр.2",
          "timestamp": "2023-02-20T14:49:22.335000Z"
         },
         {
          "empty_slots": 15,
          "extra": {
           "address": "ул. Бутырский Вал, д.32",
           "ebikes": 0,
           "electric_free": 0,
           "electric_slots": 0,
           "normal_bikes": 0,
           "normal_free": 15,
           "normal_slots": 15,
           "slots": 15,
           "uid": "0719"
          },
          "free_bikes": 0,
          "id": "53e7b09c0b69d6b9a1e376de1e51a45e",
          "latitude": 55.78427,
          "longitude": 37.58714,
          "name": "ул. Бутырский Вал, д.32",
          "timestamp": "2023-02-20T14:49:22.339000Z"
         },
         {
          "empty_slots": 9,
          "extra": {
           "address": "ул. Симоновский Вал, д.13, к.2",
           "ebikes": 0,
           "electric_free": 0,
           "electric_slots": 0,
           "normal_bikes": 0,
           "normal_free": 9,
           "normal_slots": 9,
           "slots": 9,
           "uid": "0630"
          },
          "free_bikes": 0,
          "id": "822b11152e7438f8ea2217262aa9b05d",
          "latitude": 55.7232251,
          "longitude": 37.6639974,
          "name": "ул. Симоновский Вал, д.13, к.2",
          "timestamp": "2023-02-20T14:49:22.346000Z"
         },
         {
          "empty_slots": 48,
          "extra": {
           "address": "пр-т Мира, д.119, стр.23 (у Москвариума)",
           "ebikes": 0,
           "electric_free": 24,
           "electric_slots": 24,
           "has_ebikes": true,
           "normal_bikes": 0,
           "normal_free": 24,
           "normal_slots": 24,
           "slots": 48,
           "uid": "0700"
          },
          "free_bikes": 0,
          "id": "35f4bd2912c21be0825d7e6b23c6cda7",
          "latitude": 55.83341,
          "longitude": 37.61946,
          "name": "пр-т Мира, д.119, стр.23 (у Москвариума)",
          "timestamp": "2023-02-20T14:49:22.368000Z"
         },
         {
          "empty_slots": 36,
          "extra": {
           "address": "ст. м. Отрадное (выход №2)",
           "ebikes": 0,
           "electric_free": 24,
           "electric_slots": 24,
           "has_ebikes": true,
           "normal_bikes": 0,
           "normal_free": 12,
           "normal_slots": 12,
           "slots": 36,
           "uid": "0710"
          },
          "free_bikes": 0,
          "id": "2f256934c742560535f3d56d29e0cbd4",
          "latitude": 55.86477,
          "longitude": 37.60605,
          "name": "ст. м. Отрадное (выход №2)",
          "timestamp": "2023-02-20T14:49:22.417000Z"
         },
         {
          "empty_slots": 15,
          "extra": {
           "address": "ул. Маршала Василевского, д.15 (ст. м. Щукинская, выход №4)",
           "ebikes": 0,
           "electric_free": 0,
           "electric_slots": 0,
           "normal_bikes": 0,
           "normal_free": 15,
           "normal_slots": 15,
           "slots": 15,
           "uid": "0550"
          },
          "free_bikes": 0,
          "id": "a7e8368acf0529e733cea7683034805c",
          "latitude": 55.80805,
          "longitude": 37.46457,
          "name": "ул. Маршала Василевского, д.15 (ст. м. Щукинская, выход №4)",
          "timestamp": "2023-02-20T14:49:22.435000Z"
         },
         {
          "empty_slots": 15,
          "extra": {
           "address": "ул. Маршала Бирюзова, д.32",
           "ebikes": 0,
           "electric_free": 0,
           "electric_slots": 0,
           "normal_bikes": 0,
           "normal_free": 15,
           "normal_slots": 15,
           "slots": 15,
           "uid": "0548"
          },
          "free_bikes": 0,
          "id": "ba1028d5efbb46921de58e22b550dfe0",
          "latitude": 55.79904,
          "longitude": 37.4831,
          "name": "ул. Маршала Бирюзова, д.32",
          "timestamp": "2023-02-20T14:49:22.489000Z"
         },
         {
          "empty_slots": 18,
          "extra": {
           "address": "ул. Зои и Александра Космодемьянских, д.23",
           "ebikes": 0,
           "electric_free": 18,
           "electric_slots": 18,
           "has_ebikes": true,
           "normal_bikes": 0,
           "normal_free": 0,
           "normal_slots": 0,
           "slots": 18,
           "uid": "0829"
          },
          "free_bikes": 0,
          "id": "e7b616c23051885b18b77c74ab903715",
          "latitude": 55.82379,
          "longitude": 37.51813,
          "name": "ул. Зои и Александра Космодемьянских, д.23",
          "timestamp": "2023-02-20T14:49:22.528000Z"
         },
         {
          "empty_slots": 12,
          "extra": {
           "address": "ул. Демьяна Бедного, д.10",
           "ebikes": 0,
           "electric_free": 0,
           "electric_slots": 0,
           "normal_bikes": 0,
           "normal_free": 12,
           "normal_slots": 12,
           "slots": 12,
           "uid": "0542"
          },
          "free_bikes": 0,
          "id": "b9d6a39d9d30d2d46ff33e02af80a2a8",
          "latitude": 55.77347,
          "longitude": 37.48842,
          "name": "ул. Демьяна Бедного, д.10",
          "timestamp": "2023-02-20T14:49:22.529000Z"
         },
         {
          "empty_slots": 12,
          "extra": {
           "address": "пр-т Мира, д.49",
           "ebikes": 0,
           "electric_free": 12,
           "electric_slots": 12,
           "has_ebikes": true,
           "normal_bikes": 0,
           "normal_free": 0,
           "normal_slots": 0,
           "slots": 12,
           "uid": "0425"
          },
          "free_bikes": 0,
          "id": "2265cf16a93207120ee5fee84da388ec",
          "latitude": 55.78342,
          "longitude": 37.63407,
          "name": "пр-т Мира, д.49",
          "timestamp": "2023-02-20T14:49:22.531000Z"
         },
         {
          "empty_slots": 12,
          "extra": {
           "address": "ул. Большая Садовая, д.5, стр.1",
           "ebikes": 0,
           "electric_free": 12,
           "electric_slots": 12,
           "has_ebikes": true,
           "normal_bikes": 0,
           "normal_free": 0,
           "normal_slots": 0,
           "slots": 12,
           "uid": "0089"
          },
          "free_bikes": 0,
          "id": "2901871c6748891f4de62fb29ab71808",
          "latitude": 55.76941,
          "longitude": 37.59097,
          "name": "ул. Большая Садовая, д.5, стр.1",
          "timestamp": "2023-02-20T14:49:22.532000Z"
         },
         {
          "empty_slots": 12,
          "extra": {
           "address": "ул. Михалковская, д.36, стр.1",
           "ebikes": 0,
           "electric_free": 0,
           "electric_slots": 0,
           "normal_bikes": 0,
           "normal_free": 12,
           "normal_slots": 12,
           "slots": 12,
           "uid": "0834"
          },
          "free_bikes": 0,
          "id": "0cfe57776c12fa33da012b08d8c8893e",
          "latitude": 55.84148,
          "longitude": 37.51926,
          "name": "ул. Михалковская, д.36, стр.1",
          "timestamp": "2023-02-20T14:49:22.533000Z"
         },
         {
          "empty_slots": 14,
          "extra": {
           "address": "ул. Лобачевского, д.114",
           "ebikes": 1,
           "electric_free": 8,
           "electric_slots": 9,
           "has_ebikes": true,
           "normal_bikes": 0,
           "normal_free": 6,
           "normal_slots": 6,
           "slots": 15,
           "uid": "0802"
          },
          "free_bikes": 1,
          "id": "4fcc5f63dd33e27d3a99ff397de160e4",
          "latitude": 55.691161,
          "longitude": 37.476626,
          "name": "ул. Лобачевского, д.114",
          "timestamp": "2023-02-20T14:49:22.534000Z"
         },
         {
          "empty_slots": 21,
          "extra": {
           "address": "г. Троицк, Академическая пл., д.3",
           "ebikes": 0,
           "electric_free": 0,
           "electric_slots": 0,
           "normal_bikes": 0,
           "normal_free": 21,
           "normal_slots": 21,
           "slots": 21,
           "uid": "0979"
          },
          "free_bikes": 0,
          "id": "700e97fc565d92eeb2d19826db8e9f9d",
          "latitude": 55.485372,
          "longitude": 37.305493,
          "name": "г. Троицк, Академическая пл., д.3",
          "timestamp": "2023-02-20T14:49:22.535000Z"
         },
         {
          "empty_slots": 24,
          "extra": {
           "address": "ул. Автозаводская, д.18",
           "ebikes": 0,
           "electric_free": 12,
           "electric_slots": 12,
           "has_ebikes": true,
           "normal_bikes": 0,
           "normal_free": 12,
           "normal_slots": 12,
           "slots": 24,
           "uid": "0625"
          },
          "free_bikes": 0,
          "id": "8cfd73f88ec371a118249b8c695ad20e",
          "latitude": 55.70446,
          "longitude": 37.64044,
          "name": "ул. Автозаводская, д.18",
          "timestamp": "2023-02-20T14:49:22.536000Z"
         },
         {
          "empty_slots": 21,
          "extra": {
           "address": "г. Зеленоград, ул. Юности, д.2, стр.1",
           "ebikes": 0,
           "electric_free": 0,
           "electric_slots": 0,
           "normal_bikes": 0,
           "normal_free": 21,
           "normal_slots": 21,
           "slots": 21,
           "uid": "0988"
          },
          "free_bikes": 0,
          "id": "3fbc6364fd834ac587dfa43a0276c41f",
          "latitude": 56.00157,
          "longitude": 37.21069,
          "name": "г. Зеленоград, ул. Юности, д.2, стр.1",
          "timestamp": "2023-02-20T14:49:22.548000Z"
         },
         {
          "empty_slots": 12,
          "extra": {
           "address": "ул. Новодмитровская, д.1, стр.3",
           "ebikes": 0,
           "electric_free": 12,
           "electric_slots": 12,
           "has_ebikes": true,
           "normal_bikes": 0,
           "normal_free": 0,
           "normal_slots": 0,
           "slots": 12,
           "uid": "0905"
          },
          "free_bikes": 0,
          "id": "61c1471a8ae5fb772f9c08638fcb1792",
          "latitude": 55.806099,
          "longitude": 37.5844,
          "name": "ул. Новодмитровская, д.1, стр.3",
          "timestamp": "2023-02-20T14:49:22.550000Z"
         },
         {
          "empty_slots": 15,
          "extra": {
           "address": "я Песчаная ул., д2А, стр.3",
           "ebikes": 0,
           "electric_free": 9,
           "electric_slots": 9,
           "has_ebikes": true,
           "normal_bikes": 0,
           "normal_free": 6,
           "normal_slots": 6,
           "slots": 15,
           "uid": "0530"
          },
          "free_bikes": 0,
          "id": "713167d15b882fcc7cd4309457dc79c6",
          "latitude": 55.79151,
          "longitude": 37.519332,
          "name": "3-я Песчаная ул., д2А, стр.3",
          "timestamp": "2023-02-20T14:49:22.551000Z"
         },
         {
          "empty_slots": 12,
          "extra": {
           "address": "г. Троицк, ул. Солнечная, д.1",
           "ebikes": 0,
           "electric_free": 0,
           "electric_slots": 0,
           "normal_bikes": 0,
           "normal_free": 12,
           "normal_slots": 12,
           "slots": 12,
           "uid": "0977"
          },
          "free_bikes": 0,
          "id": "27a311645e16aced80871e7223521c08",
          "latitude": 55.465606,
          "longitude": 37.292854,
          "name": "г. Троицк, ул. Солнечная, д.1",
          "timestamp": "2023-02-20T14:49:22.552000Z"
         },
         {
          "empty_slots": 12,
          "extra": {
           "address": "Мичуринский пр-т, д.3",
           "ebikes": 0,
           "electric_free": 12,
           "electric_slots": 12,
           "has_ebikes": true,
           "normal_bikes": 0,
           "normal_free": 0,
           "normal_slots": 0,
           "slots": 12,
           "uid": "0902"
          },
          "free_bikes": 0,
          "id": "a41e878d1b2bd8fcfbc28b3816ae964a",
          "latitude": 55.70418,
          "longitude": 37.51181,
          "name": "Мичуринский пр-т, д.3",
          "timestamp": "2023-02-20T14:49:22.566000Z"
         },
         {
          "empty_slots": 12,
          "extra": {
           "address": "Волжский б-р, квартал 114а, к.10",
           "ebikes": 0,
           "electric_free": 0,
           "electric_slots": 0,
           "normal_bikes": 0,
           "normal_free": 12,
           "normal_slots": 12,
           "slots": 12,
           "uid": "0909"
          },
          "free_bikes": 0,
          "id": "f09e3dde7ce5544ae2a8fe405cea777e",
          "latitude": 55.70093,
          "longitude": 37.75102,
          "name": "Волжский б-р, квартал 114а, к.10",
          "timestamp": "2023-02-20T14:49:22.567000Z"
         },
         {
          "empty_slots": 12,
          "extra": {
           "address": "ул. Михалковская, д.4",
           "ebikes": 0,
           "electric_free": 0,
           "electric_slots": 0,
           "normal_bikes": 0,
           "normal_free": 12,
           "normal_slots": 12,
           "slots": 12,
           "uid": "0833"
          },
          "free_bikes": 0,
          "id": "d879087bc9074f4a71cd217da76f64dc",
          "latitude": 55.8368,
          "longitude": 37.53829,
          "name": "ул. Михалковская, д.4",
          "timestamp": "2023-02-20T14:49:22.568000Z"
         },
         {
          "empty_slots": 12,
          "extra": {
           "address": "ул. Авиационная, д.79, стр.1",
           "ebikes": 0,
           "electric_free": 6,
           "electric_slots": 6,
           "has_ebikes": true,
           "normal_bikes": 0,
           "normal_free": 6,
           "normal_slots": 6,
           "slots": 12,
           "uid": "0911"
          },
          "free_bikes": 0,
          "id": "8163c661def98efab84b3ef95052babe",
          "latitude": 55.809353,
          "longitude": 37.449601,
          "name": "ул. Авиационная, д.79, стр.1",
          "timestamp": "2023-02-20T14:49:22.569000Z"
         },
         {
          "empty_slots": 15,
          "extra": {
           "address": "Комсомольский пр-т, д.34",
           "ebikes": 0,
           "electric_free": 15,
           "electric_slots": 15,
           "has_ebikes": true,
           "normal_bikes": 0,
           "normal_free": 0,
           "normal_slots": 0,
           "slots": 15,
           "uid": "0199"
          },
          "free_bikes": 0,
          "id": "99521a4911c35cc63883fcf231b7b961",
          "latitude": 55.72448,
          "longitude": 37.57763,
          "name": "Комсомольский пр-т, д.34",
          "timestamp": "2023-02-20T14:49:22.592000Z"
         },
         {
          "empty_slots": 12,
          "extra": {
           "address": "ул. Нижегородская, д.16",
           "ebikes": 0,
           "electric_free": 12,
           "electric_slots": 12,
           "has_ebikes": true,
           "normal_bikes": 0,
           "normal_free": 0,
           "normal_slots": 0,
           "slots": 12,
           "uid": "0624"
          },
          "free_bikes": 0,
          "id": "eff72ed54552db7ea342ae7bd4a220f3",
          "latitude": 55.73771,
          "longitude": 37.68374,
          "name": "ул. Нижегородская, д.16",
          "timestamp": "2023-02-20T14:49:22.593000Z"
         },
         {
          "empty_slots": 15,
          "extra": {
           "address": "ул. Коштоянца, д.33",
           "ebikes": 0,
           "electric_free": 0,
           "electric_slots": 0,
           "normal_bikes": 0,
           "normal_free": 15,
           "normal_slots": 15,
           "slots": 15,
           "uid": "0903"
          },
          "free_bikes": 0,
          "id": "f5b35f8e983fba96a49decc77a26c009",
          "latitude": 55.676864,
          "longitude": 37.488404,
          "name": "ул. Коштоянца, д.33",
          "timestamp": "2023-02-20T14:49:22.594000Z"
         },
         {
          "empty_slots": 12,
          "extra": {
           "address": "ул. Каховка, д.28, стр.2",
           "ebikes": 0,
           "electric_free": 12,
           "electric_slots": 12,
           "has_ebikes": true,
           "normal_bikes": 0,
           "normal_free": 0,
           "normal_slots": 0,
           "slots": 12,
           "uid": "0904"
          },
          "free_bikes": 0,
          "id": "ba03ee7d1f18e7b7eb672b175034d5f7",
          "latitude": 55.659906,
          "longitude": 37.562847,
          "name": "ул. Каховка, д.28, стр.2",
          "timestamp": "2023-02-20T14:49:22.595000Z"
         },
         {
          "empty_slots": 15,
          "extra": {
           "address": "г. Троицк, Октябрьский пр-т, д.16Б",
           "ebikes": 0,
           "electric_free": 0,
           "electric_slots": 0,
           "normal_bikes": 0,
           "normal_free": 15,
           "normal_slots": 15,
           "slots": 15,
           "uid": "0978"
          },
          "free_bikes": 0,
          "id": "85d98f32547482d8918ef2dc7d022963",
          "latitude": 55.477179,
          "longitude": 37.298584,
          "name": "г. Троицк, Октябрьский пр-т, д.16Б",
          "timestamp": "2023-02-20T14:49:22.595000Z"
         },
         {
          "empty_slots": 18,
          "extra": {
           "address": "Зубовский б-р, д.4, стр.1",
           "ebikes": 0,
           "electric_free": 0,
           "electric_slots": 0,
           "normal_bikes": 0,
           "normal_free": 18,
           "normal_slots": 18,
           "slots": 18,
           "uid": "0103"
          },
          "free_bikes": 0,
          "id": "f41525db94f3ee386993f75bbb8b5da3",
          "latitude": 55.73741,
          "longitude": 37.58997,
          "name": "Зубовский б-р, д.4, стр.1",
          "timestamp": "2023-02-20T14:49:22.608000Z"
         },
         {
          "empty_slots": 15,
          "extra": {
           "address": "й Сыромятнический пер., д.1",
           "ebikes": 0,
           "electric_free": 15,
           "electric_slots": 15,
           "has_ebikes": true,
           "normal_bikes": 0,
           "normal_free": 0,
           "normal_slots": 0,
           "slots": 15,
           "uid": "0197"
          },
          "free_bikes": 0,
          "id": "7ae46d3661d6e0cb446210fcde919736",
          "latitude": 55.7538,
          "longitude": 37.66281,
          "name": "2-й Сыромятнический пер., д.1",
          "timestamp": "2023-02-20T14:49:22.608000Z"
         },
         {
          "empty_slots": 12,
          "extra": {
           "address": "ул. Люсиновская, д.60",
           "ebikes": 0,
           "electric_free": 12,
           "electric_slots": 12,
           "has_ebikes": true,
           "normal_bikes": 0,
           "normal_free": 0,
           "normal_slots": 0,
           "slots": 12,
           "uid": "0900"
          },
          "free_bikes": 0,
          "id": "005451d6a837e34c64fea3854026676c",
          "latitude": 55.71832,
          "longitude": 37.62213,
          "name": "ул. Люсиновская, д.60",
          "timestamp": "2023-02-20T14:49:22.609000Z"
         },
         {
          "empty_slots": 18,
          "extra": {
           "address": "г. Зеленоград, пл. Шокина, д.1",
           "ebikes": 0,
           "electric_free": 0,
           "electric_slots": 0,
           "normal_bikes": 0,
           "normal_free": 18,
           "normal_slots": 18,
           "slots": 18,
           "uid": "0989"
          },
          "free_bikes": 0,
          "id": "592c36c4cc98d1645b5fa133b10dfb31",
          "latitude": 55.98351,
          "longitude": 37.21059,
          "name": "г. Зеленоград, пл. Шокина, д.1",
          "timestamp": "2023-02-20T14:49:22.610000Z"
         },
         {
          "empty_slots": 15,
          "extra": {
           "address": "cт. м. Кузьминки (выход №5)",
           "ebikes": 0,
           "electric_free": 0,
           "electric_slots": 0,
           "normal_bikes": 0,
           "normal_free": 15,
           "normal_slots": 15,
           "slots": 15,
           "uid": "0908"
          },
          "free_bikes": 0,
          "id": "810726cec826e5b2a80582279d16f99d",
          "latitude": 55.70504,
          "longitude": 37.76419,
          "name": "cт. м. Кузьминки (выход №5)",
          "timestamp": "2023-02-20T14:49:22.611000Z"
         },
         {
          "empty_slots": 15,
          "extra": {
           "address": "пр-д Дежнёва, д.2А",
           "ebikes": 0,
           "electric_free": 0,
           "electric_slots": 0,
           "normal_bikes": 0,
           "normal_free": 15,
           "normal_slots": 15,
           "slots": 15,
           "uid": "0865"
          },
          "free_bikes": 0,
          "id": "c1b8990b1d7989ba0d3337e8e1bf5a06",
          "latitude": 55.87186,
          "longitude": 37.65103,
          "name": "пр-д Дежнёва, д.2А",
          "timestamp": "2023-02-20T14:49:22.697000Z"
         },
         {
          "empty_slots": 24,
          "extra": {
           "address": "ул. Лескова, д.14",
           "ebikes": 0,
           "electric_free": 24,
           "electric_slots": 24,
           "has_ebikes": true,
           "normal_bikes": 0,
           "normal_free": 0,
           "normal_slots": 0,
           "slots": 24,
           "uid": "0858"
          },
          "free_bikes": 0,
          "id": "e8719438bedb7dc6141879c44535bc89",
          "latitude": 55.89765,
          "longitude": 37.60484,
          "name": "ул. Лескова, д.14",
          "timestamp": "2023-02-20T14:49:22.709000Z"
         },
         {
          "empty_slots": 21,
          "extra": {
           "address": "Площадь Курского вокзала",
           "ebikes": 0,
           "electric_free": 0,
           "electric_slots": 0,
           "normal_bikes": 0,
           "normal_free": 21,
           "normal_slots": 21,
           "slots": 21,
           "uid": "0198"
          },
          "free_bikes": 0,
          "id": "c221a53bec25e3f86b91c10b2f32e93f",
          "latitude": 55.75626,
          "longitude": 37.66024,
          "name": "Площадь Курского вокзала",
          "timestamp": "2023-02-20T14:49:22.710000Z"
         },
         {
          "empty_slots": 21,
          "extra": {
           "address": "пр. Невельского, д.6, к.2",
           "ebikes": 0,
           "electric_free": 15,
           "electric_slots": 15,
           "has_ebikes": true,
           "normal_bikes": 0,
           "normal_free": 6,
           "normal_slots": 6,
           "slots": 21,
           "uid": "0784"
          },
          "free_bikes": 0,
          "id": "516fe5729926ba2107bbb4805e5dad79",
          "latitude": 55.7524,
          "longitude": 37.69962,
          "name": "пр. Невельского, д.6, к.2",
          "timestamp": "2023-02-20T14:49:22.552000Z"
         },
         {
          "empty_slots": 21,
          "extra": {
           "address": "Шоссе Энтузиастов, д.1, к.2",
           "ebikes": 0,
           "electric_free": 15,
           "electric_slots": 15,
           "has_ebikes": true,
           "normal_bikes": 0,
           "normal_free": 6,
           "normal_slots": 6,
           "slots": 21,
           "uid": "0785"
          },
          "free_bikes": 0,
          "id": "60431dd18acca4d07f5ae84caf321b5f",
          "latitude": 55.74756,
          "longitude": 37.68867,
          "name": "Шоссе Энтузиастов, д.1, к.2",
          "timestamp": "2023-02-20T14:49:22.570000Z"
         },
         {
          "empty_slots": 15,
          "extra": {
           "address": "ул. Азовская, д.24, к.3",
           "ebikes": 0,
           "electric_free": 15,
           "electric_slots": 15,
           "has_ebikes": true,
           "normal_bikes": 0,
           "normal_free": 0,
           "normal_slots": 0,
           "slots": 15,
           "uid": "0324"
          },
          "free_bikes": 0,
          "id": "c85840e4c2174d63ba1c77dbc6c998b3",
          "latitude": 55.64755,
          "longitude": 37.59661,
          "name": "ул. Азовская, д.24, к.3",
          "timestamp": "2023-02-20T14:49:22.537000Z"
         },
         {
          "empty_slots": 15,
          "extra": {
           "address": "ул. Делегатская, д.9, стр.1",
           "ebikes": 0,
           "electric_free": 15,
           "electric_slots": 15,
           "has_ebikes": true,
           "normal_bikes": 0,
           "normal_free": 0,
           "normal_slots": 0,
           "slots": 15,
           "uid": "0118"
          },
          "free_bikes": 0,
          "id": "d54e565706ed8bdab7ec556a8169dd0b",
          "latitude": 55.77574,
          "longitude": 37.6135,
          "name": "ул. Делегатская, д.9, стр.1",
          "timestamp": "2023-02-20T14:49:22.612000Z"
         },
         {
          "empty_slots": 15,
          "extra": {
           "address": "Проточный пер., д.11",
           "ebikes": 0,
           "electric_free": 15,
           "electric_slots": 15,
           "has_ebikes": true,
           "normal_bikes": 0,
           "normal_free": 0,
           "normal_slots": 0,
           "slots": 15,
           "uid": "0105"
          },
          "free_bikes": 0,
          "id": "753cbab010b5f80971023ab2368c7c55",
          "latitude": 55.75016,
          "longitude": 37.57794,
          "name": "Проточный пер., д.11",
          "timestamp": "2023-02-20T14:49:22.612000Z"
         },
         {
          "empty_slots": 15,
          "extra": {
           "address": "ул. Арбат, д.54/2, стр.1",
           "ebikes": 0,
           "electric_free": 15,
           "electric_slots": 15,
           "has_ebikes": true,
           "normal_bikes": 0,
           "normal_free": 0,
           "normal_slots": 0,
           "slots": 15,
           "uid": "0101"
          },
          "free_bikes": 0,
          "id": "fff262b47bd3d0601b7b8fefe7205da8",
          "latitude": 55.7471188,
          "longitude": 37.5832774,
          "name": "ул. Арбат, д.54/2, стр.1",
          "timestamp": "2023-02-20T14:49:22.671000Z"
         },
         {
          "empty_slots": 18,
          "extra": {
           "address": "ул. Косыгина, д.28, стр.2",
           "ebikes": 0,
           "electric_free": 18,
           "electric_slots": 18,
           "has_ebikes": true,
           "normal_bikes": 0,
           "normal_free": 0,
           "normal_slots": 0,
           "slots": 18,
           "uid": "0760"
          },
          "free_bikes": 0,
          "id": "3804d1fe85f84dcad6a011fd88b935ab",
          "latitude": 55.70842,
          "longitude": 37.54367,
          "name": "ул. Косыгина, д.28, стр.2",
          "timestamp": "2023-02-20T14:49:22.566000Z"
         },
         {
          "empty_slots": 9,
          "extra": {
           "address": "я Мытищинская ул.,  д.17",
           "ebikes": 0,
           "electric_free": 9,
           "electric_slots": 9,
           "has_ebikes": true,
           "normal_bikes": 0,
           "normal_free": 0,
           "normal_slots": 0,
           "slots": 9,
           "uid": "0551"
          },
          "free_bikes": 0,
          "id": "253d64f1882b8e708839c51657f39030",
          "latitude": 55.800005,
          "longitude": 37.64500854,
          "name": "1-я Мытищинская ул.,  д.17",
          "timestamp": "2023-02-20T14:49:22.672000Z"
         },
         {
          "empty_slots": 24,
          "extra": {
           "address": "Ленинградский пр-т, д.32/2",
           "ebikes": 0,
           "electric_free": 24,
           "electric_slots": 24,
           "has_ebikes": true,
           "normal_bikes": 0,
           "normal_free": 0,
           "normal_slots": 0,
           "slots": 24,
           "uid": "0553"
          },
          "free_bikes": 0,
          "id": "4d9a8670ee35d92e1f33700c29d1cf64",
          "latitude": 55.7845806,
          "longitude": 37.5688179,
          "name": "Ленинградский пр-т, д.32/2",
          "timestamp": "2023-02-20T14:49:22.613000Z"
         },
         {
          "empty_slots": 15,
          "extra": {
           "address": "Ленинградское ш., д.112, к.1",
           "ebikes": 0,
           "electric_free": 15,
           "electric_slots": 15,
           "has_ebikes": true,
           "normal_bikes": 0,
           "normal_free": 0,
           "normal_slots": 0,
           "slots": 15,
           "uid": "0554"
          },
          "free_bikes": 0,
          "id": "00a8b56b68d90cebd6b8a2e1a7313243",
          "latitude": 55.863683638,
          "longitude": 37.46549655,
          "name": "Ленинградское ш., д.112, к.1",
          "timestamp": "2023-02-20T14:49:22.614000Z"
         },
         {
          "empty_slots": 15,
          "extra": {
           "address": "Рижский пр., д.6, к.1",
           "ebikes": 0,
           "electric_free": 0,
           "electric_slots": 0,
           "normal_bikes": 0,
           "normal_free": 15,
           "normal_slots": 15,
           "slots": 15,
           "uid": "0448"
          },
          "free_bikes": 0,
          "id": "22821501272db07b33cc5dc26ecf02ad",
          "latitude": 55.81389,
          "longitude": 37.661985,
          "name": "Рижский пр., д.6, к.1",
          "timestamp": "2023-02-20T14:49:22.282000Z"
         },
         {
          "empty_slots": 15,
          "extra": {
           "address": "Павелецкая пл., д.1А, стр.1",
           "ebikes": 0,
           "electric_free": 0,
           "electric_slots": 0,
           "normal_bikes": 0,
           "normal_free": 15,
           "normal_slots": 15,
           "slots": 15,
           "uid": "0145"
          },
          "free_bikes": 0,
          "id": "3c4bbc130d064290387c8945522a0f83",
          "latitude": 55.72997,
          "longitude": 37.63684,
          "name": "Павелецкая пл., д.1А, стр.1",
          "timestamp": "2023-02-20T14:49:22.615000Z"
         },
         {
          "empty_slots": 15,
          "extra": {
           "address": "Бумажный пр., д.19, стр.10",
           "ebikes": 0,
           "electric_free": 0,
           "electric_slots": 0,
           "normal_bikes": 0,
           "normal_free": 0,
           "normal_slots": 0,
           "slots": 15,
           "uid": "0561"
          },
          "free_bikes": 0,
          "id": "6ad55186192d0c01b8a471813e25f4d0",
          "latitude": 55.789116,
          "longitude": 37.586121,
          "name": "Бумажный пр., д.19, стр.10",
          "timestamp": "2023-02-20T14:49:22.711000Z"
         },
         {
          "empty_slots": 12,
          "extra": {
           "address": "Духовской пер., д.19",
           "ebikes": 0,
           "electric_free": 12,
           "electric_slots": 12,
           "has_ebikes": true,
           "normal_bikes": 0,
           "normal_free": 0,
           "normal_slots": 0,
           "slots": 12,
           "uid": "0291"
          },
          "free_bikes": 0,
          "id": "f56a194d7ff60731d8ca42ebdfa94653",
          "latitude": 55.70451,
          "longitude": 37.6125,
          "name": "Духовской пер., д.19",
          "timestamp": "2023-02-20T14:49:22.712000Z"
         },
         {
          "empty_slots": 15,
          "extra": {
           "address": "ст. м. Ботанический сад (выход №1)",
           "ebikes": 0,
           "electric_free": 0,
           "electric_slots": 0,
           "normal_bikes": 0,
           "normal_free": 15,
           "normal_slots": 15,
           "slots": 15,
           "uid": "0780"
          },
          "free_bikes": 0,
          "id": "e0a7564b9c60d94b68f1045b877b3d53",
          "latitude": 55.84605,
          "longitude": 37.63945,
          "name": "ст. м. Ботанический сад (выход №1)",
          "timestamp": "2023-02-20T14:49:22.438000Z"
         },
         {
          "empty_slots": 12,
          "extra": {
           "address": "пр-т Мира, д.97",
           "ebikes": 0,
           "electric_free": 0,
           "electric_slots": 0,
           "normal_bikes": 0,
           "normal_free": 12,
           "normal_slots": 12,
           "slots": 12,
           "uid": "0443"
          },
          "free_bikes": 0,
          "id": "8245e1551fc7608c1a8753a3687c2283",
          "latitude": 55.80838,
          "longitude": 37.63662,
          "name": "пр-т Мира, д.97",
          "timestamp": "2023-02-20T14:49:22.145000Z"
         },
         {
          "empty_slots": 15,
          "extra": {
           "address": "пр-т Мира, д.97",
           "ebikes": 0,
           "electric_free": 0,
           "electric_slots": 0,
           "normal_bikes": 0,
           "normal_free": 15,
           "normal_slots": 15,
           "slots": 15,
           "uid": "0487"
          },
          "free_bikes": 0,
          "id": "da15b091060f6dfec9214b22401b350c",
          "latitude": 55.80983,
          "longitude": 37.63676,
          "name": "пр-т Мира, д.97",
          "timestamp": "2023-02-20T14:49:22.570000Z"
         },
         {
          "empty_slots": 10,
          "extra": {
           "address": "ул. Симоновский Вал, д.12, к.2",
           "ebikes": 0,
           "electric_free": 10,
           "electric_slots": 12,
           "has_ebikes": true,
           "normal_bikes": 2,
           "normal_free": 0,
           "normal_slots": 0,
           "slots": 12,
           "uid": "0607"
          },
          "free_bikes": 2,
          "id": "c837b4bca5eb0c3bb979bcc97da80f9d",
          "latitude": 55.725,
          "longitude": 37.66305,
          "name": "ул. Симоновский Вал, д.12, к.2",
          "timestamp": "2023-02-20T14:49:22.673000Z"
         },
         {
          "empty_slots": 12,
          "extra": {
           "address": "Ленинский пр-т, д.64/2",
           "ebikes": 0,
           "electric_free": 12,
           "electric_slots": 12,
           "has_ebikes": true,
           "normal_bikes": 0,
           "normal_free": 0,
           "normal_slots": 0,
           "slots": 12,
           "uid": "0313"
          },
          "free_bikes": 0,
          "id": "3c9e13b08687680ce637de40c9d82f1d",
          "latitude": 55.69251,
          "longitude": 37.55206,
          "name": "Ленинский пр-т, д.64/2",
          "timestamp": "2023-02-20T14:49:22.674000Z"
         },
         {
          "empty_slots": 15,
          "extra": {
           "address": "ул. Генерала Глаголева, д.14",
           "ebikes": 0,
           "electric_free": 15,
           "electric_slots": 15,
           "has_ebikes": true,
           "normal_bikes": 0,
           "normal_free": 0,
           "normal_slots": 0,
           "slots": 15,
           "uid": "0549"
          },
          "free_bikes": 0,
          "id": "7b046bd3623658ab93fffcae28c641f1",
          "latitude": 55.78234,
          "longitude": 37.46238,
          "name": "ул. Генерала Глаголева, д.14",
          "timestamp": "2023-02-20T14:49:22.616000Z"
         },
         {
          "empty_slots": 12,
          "extra": {
           "address": "я Песчаная ул., д.1/18",
           "ebikes": 0,
           "electric_free": 12,
           "electric_slots": 12,
           "has_ebikes": true,
           "normal_bikes": 0,
           "normal_free": 0,
           "normal_slots": 0,
           "slots": 12,
           "uid": "0567"
          },
          "free_bikes": 0,
          "id": "d53614ca8dc3dd620213700f5f3fb955",
          "latitude": 55.79595,
          "longitude": 37.51757,
          "name": "2-я Песчаная ул., д.1/18",
          "timestamp": "2023-02-20T14:49:22.616000Z"
         },
         {
          "empty_slots": 18,
          "extra": {
           "address": "ст. м. Чертановская (выход №5)",
           "ebikes": 0,
           "electric_free": 0,
           "electric_slots": 0,
           "normal_bikes": 0,
           "normal_free": 18,
           "normal_slots": 18,
           "slots": 18,
           "uid": "0377"
          },
          "free_bikes": 0,
          "id": "659fa171961c663d162ca8143356d617",
          "latitude": 55.64052,
          "longitude": 37.6049,
          "name": "ст. м. Чертановская (выход №5)",
          "timestamp": "2023-02-20T14:49:22.192000Z"
         },
         {
          "empty_slots": 15,
          "extra": {
           "address": "Шоссе Энтузиастов, д.7А",
           "ebikes": 0,
           "electric_free": 0,
           "electric_slots": 0,
           "normal_bikes": 0,
           "normal_free": 15,
           "normal_slots": 15,
           "slots": 15,
           "uid": "0786"
          },
          "free_bikes": 0,
          "id": "cd52ec7a504aec354975fa64531d3c8e",
          "latitude": 55.7487,
          "longitude": 37.70119,
          "name": "Шоссе Энтузиастов, д.7А",
          "timestamp": "2023-02-20T14:49:22.459000Z"
         },
         {
          "empty_slots": 15,
          "extra": {
           "address": "ул. 26-ти Бакинских Комиссаров, д.2Б",
           "ebikes": 0,
           "electric_free": 0,
           "electric_slots": 0,
           "normal_bikes": 0,
           "normal_free": 15,
           "normal_slots": 15,
           "slots": 15,
           "uid": "0389"
          },
          "free_bikes": 0,
          "id": "4a460ae22816d4a6e94f67870e82443e",
          "latitude": 55.6558941,
          "longitude": 37.4954392,
          "name": "ул. 26-ти Бакинских Комиссаров, д.2Б",
          "timestamp": "2023-02-20T14:49:22.101000Z"
         },
         {
          "empty_slots": 12,
          "extra": {
           "address": "Измайловское ш., д.69Д, стр.2 (ст. м. Партизанская, выход №1)",
           "ebikes": 0,
           "electric_free": 0,
           "electric_slots": 0,
           "normal_bikes": 0,
           "normal_free": 12,
           "normal_slots": 12,
           "slots": 12,
           "uid": "0573"
          },
          "free_bikes": 0,
          "id": "a0a5c68ec5b2a1a81f508642412ef178",
          "latitude": 55.78861,
          "longitude": 37.74951,
          "name": "Измайловское ш., д.69Д, стр.2 (ст. м. Партизанская, выход №1)",
          "timestamp": "2023-02-20T14:49:22.537000Z"
         },
         {
          "empty_slots": 12,
          "extra": {
           "address": "Измайловский пр-т, вл53Ас1",
           "ebikes": 0,
           "electric_free": 0,
           "electric_slots": 0,
           "normal_bikes": 0,
           "normal_free": 12,
           "normal_slots": 12,
           "slots": 12,
           "uid": "0571"
          },
          "free_bikes": 0,
          "id": "1d540982063ace7c4b87e4c7d5fa7288",
          "latitude": 55.78817,
          "longitude": 37.77908,
          "name": "Измайловский пр-т, вл53Ас1",
          "timestamp": "2023-02-20T14:49:22.617000Z"
         },
         {
          "empty_slots": 15,
          "extra": {
           "address": "ул. Мантулинская, д.5, стр.6",
           "ebikes": 0,
           "electric_free": 0,
           "electric_slots": 0,
           "normal_bikes": 0,
           "normal_free": 15,
           "normal_slots": 15,
           "slots": 15,
           "uid": "0223"
          },
          "free_bikes": 0,
          "id": "c1a389a85505be6ea9f4261bba93d1dc",
          "latitude": 55.7559551,
          "longitude": 37.5513244,
          "name": "ул. Мантулинская, д.5, стр.6",
          "timestamp": "2023-02-20T14:49:22.180000Z"
         },
         {
          "empty_slots": 10,
          "extra": {
           "address": "ул. Ибрагимова, д.32",
           "ebikes": 0,
           "electric_free": 0,
           "electric_slots": 0,
           "normal_bikes": 0,
           "normal_free": 10,
           "normal_slots": 10,
           "slots": 10,
           "uid": "0579"
          },
          "free_bikes": 0,
          "id": "c0b295b0c392fb2d4914b2a1d2179663",
          "latitude": 55.78838,
          "longitude": 37.7303,
          "name": "ул. Ибрагимова, д.32",
          "timestamp": "2023-02-20T14:49:22.712000Z"
         },
         {
          "empty_slots": 15,
          "extra": {
           "address": "Новинский б-р, д.31",
           "ebikes": 0,
           "electric_free": 0,
           "electric_slots": 0,
           "normal_bikes": 0,
           "normal_free": 15,
           "normal_slots": 15,
           "slots": 15,
           "uid": "0108"
          },
          "free_bikes": 0,
          "id": "f3352443e13876deeb430d23c7fa345a",
          "latitude": 55.75809,
          "longitude": 37.58405,
          "name": "Новинский б-р, д.31",
          "timestamp": "2023-02-20T14:49:22.538000Z"
         },
         {
          "empty_slots": 12,
          "extra": {
           "address": "ул. Поречная, д.17/22",
           "ebikes": 0,
           "electric_free": 0,
           "electric_slots": 0,
           "normal_bikes": 0,
           "normal_free": 12,
           "normal_slots": 12,
           "slots": 12,
           "uid": "0701"
          },
          "free_bikes": 0,
          "id": "7d5cca9647c033796a1e36398d69646d",
          "latitude": 55.6475,
          "longitude": 37.761804,
          "name": "ул. Поречная, д.17/22",
          "timestamp": "2023-02-20T14:49:22.385000Z"
         },
         {
          "empty_slots": 15,
          "extra": {
           "address": "ул. Земляной Вал, д.50А, стр.3",
           "ebikes": 0,
           "electric_free": 0,
           "electric_slots": 0,
           "normal_bikes": 0,
           "normal_free": 15,
           "normal_slots": 15,
           "slots": 15,
           "uid": "0137"
          },
          "free_bikes": 0,
          "id": "eba5508a02d7546d6824e186bad284f0",
          "latitude": 55.75102,
          "longitude": 37.65559,
          "name": "ул. Земляной Вал, д.50А, стр.3",
          "timestamp": "2023-02-20T14:49:22.713000Z"
         },
         {
          "empty_slots": 15,
          "extra": {
           "address": "Новодевичий пр-д (напротив д.2)",
           "ebikes": 0,
           "electric_free": 0,
           "electric_slots": 0,
           "normal_bikes": 0,
           "normal_free": 15,
           "normal_slots": 15,
           "slots": 15,
           "uid": "0195"
          },
          "free_bikes": 0,
          "id": "87c0bcda7a0576ed4fbb3c617a8a74e6",
          "latitude": 55.72831,
          "longitude": 37.55903,
          "name": "Новодевичий пр-д (напротив д.2)",
          "timestamp": "2023-02-20T14:49:22.714000Z"
         },
         {
          "empty_slots": 33,
          "extra": {
           "address": "Космодамианская наб., д.46/50",
           "ebikes": 0,
           "electric_free": 27,
           "electric_slots": 27,
           "has_ebikes": true,
           "normal_bikes": 0,
           "normal_free": 0,
           "normal_slots": 0,
           "slots": 33,
           "uid": "0072"
          },
          "free_bikes": 0,
          "id": "c18cc2daed388524f91ced40ee310256",
          "latitude": 55.7364956,
          "longitude": 37.645943,
          "name": "Космодамианская наб., д.46/50",
          "timestamp": "2023-02-20T14:49:22.137000Z"
         },
         {
          "empty_slots": 21,
          "extra": {
           "address": "Раушская наб., д.14",
           "ebikes": 0,
           "electric_free": 0,
           "electric_slots": 0,
           "normal_bikes": 0,
           "normal_free": 21,
           "normal_slots": 21,
           "slots": 21,
           "uid": "0057"
          },
          "free_bikes": 0,
          "id": "e9e826d4babe756a201f891b5c456cb2",
          "latitude": 55.748202,
          "longitude": 37.6328433,
          "name": "Раушская наб., д.14",
          "timestamp": "2023-02-20T14:49:22.215000Z"
         },
         {
          "empty_slots": 21,
          "extra": {
           "address": "Космодамианская наб., д.22, стр.1",
           "ebikes": 0,
           "electric_free": 0,
           "electric_slots": 0,
           "normal_bikes": 0,
           "normal_free": 21,
           "normal_slots": 21,
           "slots": 21,
           "uid": "0071"
          },
          "free_bikes": 0,
          "id": "c403c154c8a8cd76434beb322fe8c894",
          "latitude": 55.7434283,
          "longitude": 37.6417277,
          "name": "Космодамианская наб., д.22, стр.1",
          "timestamp": "2023-02-20T14:49:22.245000Z"
         },
         {
          "empty_slots": 15,
          "extra": {
           "address": "ул. Садовая-Кудринская, д.25",
           "ebikes": 0,
           "electric_free": 0,
           "electric_slots": 0,
           "normal_bikes": 0,
           "normal_free": 15,
           "normal_slots": 15,
           "slots": 15,
           "uid": "0114"
          },
          "free_bikes": 0,
          "id": "692c99077dd831ad56729a9c39d188d2",
          "latitude": 55.7657,
          "longitude": 37.59006,
          "name": "ул. Садовая-Кудринская, д.25",
          "timestamp": "2023-02-20T14:49:22.674000Z"
         },
         {
          "empty_slots": 36,
          "extra": {
           "address": "ст. м. Воробьёвы горы (Лужники)",
           "ebikes": 0,
           "electric_free": 0,
           "electric_slots": 0,
           "normal_bikes": 0,
           "normal_free": 36,
           "normal_slots": 36,
           "slots": 36,
           "uid": "0211"
          },
          "free_bikes": 0,
          "id": "f6cf0dbb877e4a8dcea964a37137c2eb",
          "latitude": 55.71227,
          "longitude": 37.56075,
          "name": "ст. м. Воробьёвы горы (Лужники)",
          "timestamp": "2023-02-20T14:49:21.976000Z"
         },
         {
          "empty_slots": 30,
          "extra": {
           "address": "ул. Русаковская, д.26",
           "ebikes": 0,
           "electric_free": 12,
           "electric_slots": 12,
           "has_ebikes": true,
           "normal_bikes": 0,
           "normal_free": 18,
           "normal_slots": 18,
           "slots": 30,
           "uid": "0488"
          },
          "free_bikes": 0,
          "id": "fecccc4334d600dfc80a02f10a4f811e",
          "latitude": 55.78876,
          "longitude": 37.68087,
          "name": "ул. Русаковская, д.26",
          "timestamp": "2023-02-20T14:49:22.618000Z"
         },
         {
          "empty_slots": 12,
          "extra": {
           "address": "ул. Сокольнический Вал, д.40",
           "ebikes": 0,
           "electric_free": 12,
           "electric_slots": 12,
           "has_ebikes": true,
           "normal_bikes": 0,
           "normal_free": 0,
           "normal_slots": 0,
           "slots": 12,
           "uid": "0479"
          },
          "free_bikes": 0,
          "id": "869f888a41495a05a9fd61f49f71d0f0",
          "latitude": 55.79148,
          "longitude": 37.67148,
          "name": "ул. Сокольнический Вал, д.40",
          "timestamp": "2023-02-20T14:49:22.571000Z"
         },
         {
          "empty_slots": 12,
          "extra": {
           "address": "я улица Соколиной Горы, д.29/1",
           "ebikes": 0,
           "electric_free": 0,
           "electric_slots": 0,
           "normal_bikes": 0,
           "normal_free": 12,
           "normal_slots": 12,
           "slots": 12,
           "uid": "0610"
          },
          "free_bikes": 0,
          "id": "4ce9d9eddee027bb61fd4e48351dca36",
          "latitude": 55.767632,
          "longitude": 37.730724,
          "name": "8-я улица Соколиной Горы, д.29/1",
          "timestamp": "2023-02-20T14:49:22.675000Z"
         },
         {
          "empty_slots": 15,
          "extra": {
           "address": "ул. Электрозаводская, д.1",
           "ebikes": 0,
           "electric_free": 15,
           "electric_slots": 15,
           "has_ebikes": true,
           "normal_bikes": 0,
           "normal_free": 0,
           "normal_slots": 0,
           "slots": 15,
           "uid": "0588"
          },
          "free_bikes": 0,
          "id": "5693fce336d02acc393c074145a7b4b6",
          "latitude": 55.783432,
          "longitude": 37.700134,
          "name": "ул. Электрозаводская, д.1",
          "timestamp": "2023-02-20T14:49:22.676000Z"
         },
         {
          "empty_slots": 12,
          "extra": {
           "address": "ул. Семёновский Вал, д.10, к.2",
           "ebikes": 0,
           "electric_free": 12,
           "electric_slots": 12,
           "has_ebikes": true,
           "normal_bikes": 0,
           "normal_free": 0,
           "normal_slots": 0,
           "slots": 12,
           "uid": "0589"
          },
          "free_bikes": 0,
          "id": "bd0cbbad0c01dac41bbefeeb709c7315",
          "latitude": 55.776606,
          "longitude": 37.715001,
          "name": "ул. Семёновский Вал, д.10, к.2",
          "timestamp": "2023-02-20T14:49:22.715000Z"
         },
         {
          "empty_slots": 24,
          "extra": {
           "address": "Пл. Журавлёва, д.1",
           "ebikes": 0,
           "electric_free": 0,
           "electric_slots": 0,
           "normal_bikes": 0,
           "normal_free": 24,
           "normal_slots": 24,
           "slots": 24,
           "uid": "0608"
          },
          "free_bikes": 0,
          "id": "dbc6f9ae5b8ce32f9341b2d486718fd0",
          "latitude": 55.784543,
          "longitude": 37.703544,
          "name": "Пл. Журавлёва, д.1",
          "timestamp": "2023-02-20T14:49:22.676000Z"
         },
         {
          "empty_slots": 15,
          "extra": {
           "address": "ул. Б. Семёновская, д.42",
           "ebikes": 0,
           "electric_free": 0,
           "electric_slots": 0,
           "normal_bikes": 0,
           "normal_free": 15,
           "normal_slots": 15,
           "slots": 15,
           "uid": "0564"
          },
          "free_bikes": 0,
          "id": "cdbb18c7028a5c470ba675c7e851566f",
          "latitude": 55.780516,
          "longitude": 37.71648,
          "name": "ул. Б. Семёновская, д.42",
          "timestamp": "2023-02-20T14:49:22.677000Z"
         },
         {
          "empty_slots": 24,
          "extra": {
           "address": "Ленинградское ш., д.51 (Северный речной вокзал)",
           "ebikes": 0,
           "electric_free": 0,
           "electric_slots": 0,
           "normal_bikes": 0,
           "normal_free": 24,
           "normal_slots": 24,
           "slots": 24,
           "uid": "0839"
          },
          "free_bikes": 0,
          "id": "0101e6f858f11aa42fb503475d33b38d",
          "latitude": 55.85136,
          "longitude": 37.46727,
          "name": "Ленинградское ш., д.51 (Северный речной вокзал)",
          "timestamp": "2023-02-20T14:49:22.526000Z"
         },
         {
          "empty_slots": 12,
          "extra": {
           "address": "ул. Большая Грузинская, д.39",
           "ebikes": 0,
           "electric_free": 0,
           "electric_slots": 0,
           "normal_bikes": 0,
           "normal_free": 12,
           "normal_slots": 12,
           "slots": 12,
           "uid": "0234"
          },
          "free_bikes": 0,
          "id": "43269abacd75cfb497dc16623ad4df70",
          "latitude": 55.77001,
          "longitude": 37.58203,
          "name": "ул. Большая Грузинская, д.39",
          "timestamp": "2023-02-20T14:49:22.193000Z"
         },
         {
          "empty_slots": 12,
          "extra": {
           "address": "я Тверская-Ямская ул., д.54",
           "ebikes": 0,
           "electric_free": 0,
           "electric_slots": 0,
           "normal_bikes": 0,
           "normal_free": 12,
           "normal_slots": 12,
           "slots": 12,
           "uid": "0401"
          },
          "free_bikes": 0,
          "id": "ea530ca3b6fc70f170a3846fd3b64dec",
          "latitude": 55.77538,
          "longitude": 37.58955,
          "name": "2-я Тверская-Ямская ул., д.54",
          "timestamp": "2023-02-20T14:49:22.229000Z"
         },
         {
          "empty_slots": 24,
          "extra": {
           "address": "Сокольническая пл., д.7",
           "ebikes": 0,
           "electric_free": 0,
           "electric_slots": 0,
           "normal_bikes": 0,
           "normal_free": 24,
           "normal_slots": 24,
           "slots": 24,
           "uid": "0782"
          },
          "free_bikes": 0,
          "id": "3a36b69ac25b3719880a74aaee8e78c6",
          "latitude": 55.7921,
          "longitude": 37.67814,
          "name": "Сокольническая пл., д.7",
          "timestamp": "2023-02-20T14:49:22.156000Z"
         },
         {
          "empty_slots": 12,
          "extra": {
           "address": "Ленинградское ш., д.51",
           "ebikes": 0,
           "electric_free": 12,
           "electric_slots": 12,
           "has_ebikes": true,
           "normal_bikes": 0,
           "normal_free": 0,
           "normal_slots": 0,
           "slots": 12,
           "uid": "0845"
          },
          "free_bikes": 0,
          "id": "5ef93ef8428f76cdd23ebc792cd7529a",
          "latitude": 55.85109,
          "longitude": 37.46861,
          "name": "Ленинградское ш., д.51",
          "timestamp": "2023-02-20T14:49:22.553000Z"
         },
         {
          "empty_slots": 15,
          "extra": {
           "address": "Сколково, ул. Блеза Паскаля, д.2",
           "ebikes": 0,
           "electric_free": 15,
           "electric_slots": 15,
           "has_ebikes": true,
           "normal_bikes": 0,
           "normal_free": 0,
           "normal_slots": 0,
           "slots": 15,
           "uid": "0970"
          },
          "free_bikes": 0,
          "id": "ef72dfb5c82424b9580012fbeb07d745",
          "latitude": 55.6961,
          "longitude": 37.35752,
          "name": "Сколково, ул. Блеза Паскаля, д.2",
          "timestamp": "2023-02-20T14:49:22.539000Z"
         },
         {
          "empty_slots": 15,
          "extra": {
           "address": "Сколково, Большой б-р, д.30, стр.1",
           "ebikes": 0,
           "electric_free": 15,
           "electric_slots": 15,
           "has_ebikes": true,
           "normal_bikes": 0,
           "normal_free": 0,
           "normal_slots": 0,
           "slots": 15,
           "uid": "0967"
          },
          "free_bikes": 0,
          "id": "ef5204d35b8deb9ec4b9fd67ade11a9a",
          "latitude": 55.697622,
          "longitude": 37.359745,
          "name": "Сколково, Большой б-р, д.30, стр.1",
          "timestamp": "2023-02-20T14:49:22.554000Z"
         },
         {
          "empty_slots": 15,
          "extra": {
           "address": "Сколково, ул. Нобеля, д.7",
           "ebikes": 0,
           "electric_free": 15,
           "electric_slots": 15,
           "has_ebikes": true,
           "normal_bikes": 0,
           "normal_free": 0,
           "normal_slots": 0,
           "slots": 15,
           "uid": "0965"
          },
          "free_bikes": 0,
          "id": "4f61c39feaa30cb1a618abdffb53c7b2",
          "latitude": 55.684734,
          "longitude": 37.342536,
          "name": "Сколково, ул. Нобеля, д.7",
          "timestamp": "2023-02-20T14:49:22.555000Z"
         },
         {
          "empty_slots": 15,
          "extra": {
           "address": "Сколково, Большой б-р, д.7",
           "ebikes": 0,
           "electric_free": 15,
           "electric_slots": 15,
           "has_ebikes": true,
           "normal_bikes": 0,
           "normal_free": 0,
           "normal_slots": 0,
           "slots": 15,
           "uid": "0968"
          },
          "free_bikes": 0,
          "id": "3d4ca6fa4fc64b465ecf8fddc171d18a",
          "latitude": 55.706386,
          "longitude": 37.373916,
          "name": "Сколково, Большой б-р, д.7",
          "timestamp": "2023-02-20T14:49:22.618000Z"
         },
         {
          "empty_slots": 15,
          "extra": {
           "address": "Сколково, Большой б-р, д.47, к.1",
           "ebikes": 0,
           "electric_free": 15,
           "electric_slots": 15,
           "has_ebikes": true,
           "normal_bikes": 0,
           "normal_free": 0,
           "normal_slots": 0,
           "slots": 15,
           "uid": "0969"
          },
          "free_bikes": 0,
          "id": "61d1a0fea916a513e008b217146c2acc",
          "latitude": 55.696231,
          "longitude": 37.350457,
          "name": "Сколково, Большой б-р, д.47, к.1",
          "timestamp": "2023-02-20T14:49:22.716000Z"
         },
         {
          "empty_slots": 15,
          "extra": {
           "address": "Сколково, Большой б-р, д.42, стр.1",
           "ebikes": 0,
           "electric_free": 15,
           "electric_slots": 15,
           "has_ebikes": true,
           "normal_bikes": 0,
           "normal_free": 0,
           "normal_slots": 0,
           "slots": 15,
           "uid": "0966"
          },
          "free_bikes": 0,
          "id": "5fb7c82d1d8e2062c75e90d4dcda12d1",
          "latitude": 55.690885,
          "longitude": 37.347834,
          "name": "Сколково, Большой б-р, д.42, стр.1",
          "timestamp": "2023-02-20T14:49:22.716000Z"
         },
         {
          "empty_slots": 12,
          "extra": {
           "address": "ст. м. Молодёжная (выход № 1)",
           "ebikes": 0,
           "electric_free": 0,
           "electric_slots": 0,
           "normal_bikes": 0,
           "normal_free": 12,
           "normal_slots": 12,
           "slots": 12,
           "uid": "0590"
          },
          "free_bikes": 0,
          "id": "7676dab360d1ec7a886f485c2a373348",
          "latitude": 55.741375,
          "longitude": 37.416057,
          "name": "ст. м. Молодёжная (выход № 1)",
          "timestamp": "2023-02-20T14:49:22.619000Z"
         },
         {
          "empty_slots": 12,
          "extra": {
           "address": "Сколково, ул. Сикорского, д.11",
           "ebikes": 0,
           "electric_free": 12,
           "electric_slots": 12,
           "has_ebikes": true,
           "normal_bikes": 0,
           "normal_free": 0,
           "normal_slots": 0,
           "slots": 12,
           "uid": "0963"
          },
          "free_bikes": 0,
          "id": "9629ccdb6c3b9cf4ef9f4e9aaf723e02",
          "latitude": 55.681794,
          "longitude": 37.333513,
          "name": "Сколково, ул. Сикорского, д.11",
          "timestamp": "2023-02-20T14:49:22.620000Z"
         },
         {
          "empty_slots": 18,
          "extra": {
           "address": "Сколково, Большой б-р, д.42, стр.2",
           "ebikes": 0,
           "electric_free": 0,
           "electric_slots": 0,
           "normal_bikes": 0,
           "normal_free": 18,
           "normal_slots": 18,
           "slots": 18,
           "uid": "0962"
          },
          "free_bikes": 0,
          "id": "7a56669f5465982e5a894d9f0a858cba",
          "latitude": 55.683974,
          "longitude": 37.350968,
          "name": "Сколково, Большой б-р, д.42, стр.2",
          "timestamp": "2023-02-20T14:49:22.621000Z"
         },
         {
          "empty_slots": 15,
          "extra": {
           "address": "ст. м. Молодёжная (выход № 2)",
           "ebikes": 0,
           "electric_free": 0,
           "electric_slots": 0,
           "normal_bikes": 0,
           "normal_free": 15,
           "normal_slots": 15,
           "slots": 15,
           "uid": "0591"
          },
          "free_bikes": 0,
          "id": "467a057ef5cc6ab12c26d78c0579066c",
          "latitude": 55.74033,
          "longitude": 37.417873,
          "name": "ст. м. Молодёжная (выход № 2)",
          "timestamp": "2023-02-20T14:49:22.678000Z"
         },
         {
          "empty_slots": 30,
          "extra": {
           "address": "ул. Валовая, д.20",
           "ebikes": 0,
           "electric_free": 30,
           "electric_slots": 30,
           "has_ebikes": true,
           "normal_bikes": 0,
           "normal_free": 0,
           "normal_slots": 0,
           "slots": 30,
           "uid": "0150"
          },
          "free_bikes": 0,
          "id": "29f497eb9d5cedab68a54beef5064e9f",
          "latitude": 55.730666,
          "longitude": 37.63087,
          "name": "ул. Валовая, д.20",
          "timestamp": "2023-02-20T14:49:22.186000Z"
         },
         {
          "empty_slots": 12,
          "extra": {
           "address": "ул. Красная Пресня, д.21",
           "ebikes": 0,
           "electric_free": 0,
           "electric_slots": 0,
           "normal_bikes": 0,
           "normal_free": 12,
           "normal_slots": 12,
           "slots": 12,
           "uid": "0221"
          },
          "free_bikes": 0,
          "id": "02f8e8ba98e0021faca46b8fb4524234",
          "latitude": 55.7615452,
          "longitude": 37.5706888,
          "name": "ул. Красная Пресня, д.21",
          "timestamp": "2023-02-20T14:49:22.223000Z"
         },
         {
          "empty_slots": 15,
          "extra": {
           "address": "ул. Полярная, д.27, к.1",
           "ebikes": 0,
           "electric_free": 0,
           "electric_slots": 0,
           "normal_bikes": 0,
           "normal_free": 15,
           "normal_slots": 15,
           "slots": 15,
           "uid": "0859"
          },
          "free_bikes": 0,
          "id": "dc829d2032b00ff9dd7e0bee6adc6a34",
          "latitude": 55.882105,
          "longitude": 37.639049,
          "name": "ул. Полярная, д.27, к.1",
          "timestamp": "2023-02-20T14:49:22.540000Z"
         },
         {
          "empty_slots": 12,
          "extra": {
           "address": "МЦД Щукинская (выход №1)",
           "ebikes": 0,
           "electric_free": 0,
           "electric_slots": 0,
           "normal_bikes": 0,
           "normal_free": 12,
           "normal_slots": 12,
           "slots": 12,
           "uid": "0318"
          },
          "free_bikes": 0,
          "id": "bc6b90b57d8bc2027846ab745051e657",
          "latitude": 55.810185,
          "longitude": 37.46111,
          "name": "МЦД Щукинская (выход №1)",
          "timestamp": "2023-02-20T14:49:22.541000Z"
         },
         {
          "empty_slots": 14,
          "extra": {
           "address": "ст. м. Волоколамская (выход №1)",
           "ebikes": 0,
           "electric_free": 0,
           "electric_slots": 0,
           "normal_bikes": 0,
           "normal_free": 14,
           "normal_slots": 14,
           "slots": 14,
           "uid": "0154"
          },
          "free_bikes": 0,
          "id": "b8309dd5035cdf96bf99cd6958ecd14f",
          "latitude": 55.836776,
          "longitude": 37.381938,
          "name": "ст. м. Волоколамская (выход №1)",
          "timestamp": "2023-02-20T14:49:22.541000Z"
         },
         {
          "empty_slots": 21,
          "extra": {
           "address": "ст. м. Волоколамская (выход №2)",
           "ebikes": 0,
           "electric_free": 0,
           "electric_slots": 0,
           "normal_bikes": 0,
           "normal_free": 21,
           "normal_slots": 21,
           "slots": 21,
           "uid": "0215"
          },
          "free_bikes": 0,
          "id": "5f43592459449becb5876d4089da2f12",
          "latitude": 55.834502,
          "longitude": 37.38348,
          "name": "ст. м. Волоколамская (выход №2)",
          "timestamp": "2023-02-20T14:49:22.542000Z"
         },
         {
          "empty_slots": 12,
          "extra": {
           "address": "МЦД Рабочий поселок (выход №3)",
           "ebikes": 0,
           "electric_free": 0,
           "electric_slots": 0,
           "normal_bikes": 0,
           "normal_free": 12,
           "normal_slots": 12,
           "slots": 12,
           "uid": "0285"
          },
          "free_bikes": 0,
          "id": "84bb6603716a2ab0432913714d050bb0",
          "latitude": 55.726309,
          "longitude": 37.417034,
          "name": "МЦД Рабочий поселок (выход №3)",
          "timestamp": "2023-02-20T14:49:22.543000Z"
         },
         {
          "empty_slots": 12,
          "extra": {
           "address": "Стартовая ул. (напротив вл.14, стр.27)",
           "ebikes": 0,
           "electric_free": 0,
           "electric_slots": 0,
           "normal_bikes": 0,
           "normal_free": 12,
           "normal_slots": 12,
           "slots": 12,
           "uid": "0722"
          },
          "free_bikes": 0,
          "id": "9da1dd6704a0f7f83aecc46719d37d82",
          "latitude": 55.88751,
          "longitude": 37.69101,
          "name": "Стартовая ул. (напротив вл.14, стр.27)",
          "timestamp": "2023-02-20T14:49:22.544000Z"
         },
         {
          "empty_slots": 18,
          "extra": {
           "address": "ул. 1905 года, д.9, стр.1",
           "ebikes": 0,
           "electric_free": 18,
           "electric_slots": 18,
           "has_ebikes": true,
           "normal_bikes": 0,
           "normal_free": 0,
           "normal_slots": 0,
           "slots": 18,
           "uid": "0196"
          },
          "free_bikes": 0,
          "id": "73754068a7d8211a16deb7a9a9176e8f",
          "latitude": 55.7636882,
          "longitude": 37.5602346,
          "name": "ул. 1905 года, д.9, стр.1",
          "timestamp": "2023-02-20T14:49:22.555000Z"
         },
         {
          "empty_slots": 15,
          "extra": {
           "address": "ул. Красная Пресня, д.22",
           "ebikes": 0,
           "electric_free": 0,
           "electric_slots": 0,
           "normal_bikes": 0,
           "normal_free": 15,
           "normal_slots": 15,
           "slots": 15,
           "uid": "0139"
          },
          "free_bikes": 0,
          "id": "5c6c840aec4e9c67a7aaf2774c1f64a5",
          "latitude": 55.761951,
          "longitude": 37.570347,
          "name": "ул. Красная Пресня, д.22",
          "timestamp": "2023-02-20T14:49:22.556000Z"
         },
         {
          "empty_slots": 12,
          "extra": {
           "address": "ул. Толбухина, д.13, к.3",
           "ebikes": 0,
           "electric_free": 0,
           "electric_slots": 0,
           "normal_bikes": 0,
           "normal_free": 12,
           "normal_slots": 12,
           "slots": 12,
           "uid": "0346"
          },
          "free_bikes": 0,
          "id": "7db9f8a735c16912a3d46aee4ff48afe",
          "latitude": 55.723334,
          "longitude": 37.397377,
          "name": "ул. Толбухина, д.13, к.3",
          "timestamp": "2023-02-20T14:49:22.557000Z"
         },
         {
          "empty_slots": 12,
          "extra": {
           "address": "ул. Перовская, д.35А",
           "ebikes": 0,
           "electric_free": 0,
           "electric_slots": 0,
           "normal_bikes": 0,
           "normal_free": 12,
           "normal_slots": 12,
           "slots": 12,
           "uid": "0267"
          },
          "free_bikes": 0,
          "id": "20a4b1de4a87d1fce67ca0ab1ef907e5",
          "latitude": 55.74641,
          "longitude": 37.77507,
          "name": "ул. Перовская, д.35А",
          "timestamp": "2023-02-20T14:49:22.558000Z"
         },
         {
          "empty_slots": 12,
          "extra": {
           "address": "я Парковая ул., д.68, к.5 (ст. м. Щёлковская)",
           "ebikes": 0,
           "electric_free": 0,
           "electric_slots": 0,
           "normal_bikes": 0,
           "normal_free": 12,
           "normal_slots": 12,
           "slots": 12,
           "uid": "0269"
          },
          "free_bikes": 0,
          "id": "4c5250e2b8493c4f5161a47a451b38ec",
          "latitude": 55.80804,
          "longitude": 37.79889,
          "name": "9-я Парковая ул., д.68, к.5 (ст. м. Щёлковская)",
          "timestamp": "2023-02-20T14:49:22.572000Z"
         },
         {
          "empty_slots": 12,
          "extra": {
           "address": "Ломоносовский пр-т, д.28",
           "ebikes": 0,
           "electric_free": 12,
           "electric_slots": 12,
           "has_ebikes": true,
           "normal_bikes": 0,
           "normal_free": 0,
           "normal_slots": 0,
           "slots": 12,
           "uid": "0294"
          },
          "free_bikes": 0,
          "id": "7411615f2f9ce4183f20354686a8bd5d",
          "latitude": 55.70523,
          "longitude": 37.51656,
          "name": "Ломоносовский пр-т, д.28",
          "timestamp": "2023-02-20T14:49:22.573000Z"
         },
         {
          "empty_slots": 12,
          "extra": {
           "address": "ул. Миклухо-Маклая, д.22А",
           "ebikes": 0,
           "electric_free": 12,
           "electric_slots": 12,
           "has_ebikes": true,
           "normal_bikes": 0,
           "normal_free": 0,
           "normal_slots": 0,
           "slots": 12,
           "uid": "0306"
          },
          "free_bikes": 0,
          "id": "4cc6ae5e422fe29da3cf4cc8e6cc088d",
          "latitude": 55.64293,
          "longitude": 37.52469,
          "name": "ул. Миклухо-Маклая, д.22А",
          "timestamp": "2023-02-20T14:49:22.574000Z"
         },
         {
          "empty_slots": 15,
          "extra": {
           "address": "я Владимирская ул., д. 38/18 (ст. м. Перово, выход №4)",
           "ebikes": 0,
           "electric_free": 0,
           "electric_slots": 0,
           "normal_bikes": 0,
           "normal_free": 15,
           "normal_slots": 15,
           "slots": 15,
           "uid": "0894"
          },
          "free_bikes": 0,
          "id": "9906bf121abad19c418a0dc0b5f48018",
          "latitude": 55.75073,
          "longitude": 37.78434,
          "name": "2-я Владимирская ул., д. 38/18 (ст. м. Перово, выход №4)",
          "timestamp": "2023-02-20T14:49:22.574000Z"
         },
         {
          "empty_slots": 12,
          "extra": {
           "address": "Зелёный пр-т, д.60/35 (ст. м. Новогиреево, выход №4)",
           "ebikes": 0,
           "electric_free": 0,
           "electric_slots": 0,
           "normal_bikes": 0,
           "normal_free": 12,
           "normal_slots": 12,
           "slots": 12,
           "uid": "0796"
          },
          "free_bikes": 0,
          "id": "089d8aa7bc6c4d0b10b315fbd445d579",
          "latitude": 55.7514,
          "longitude": 37.81834,
          "name": "Зелёный пр-т, д.60/35 (ст. м. Новогиреево, выход №4)",
          "timestamp": "2023-02-20T14:49:22.575000Z"
         },
         {
          "empty_slots": 12,
          "extra": {
           "address": "Причал Киевский вокзал",
           "ebikes": 0,
           "electric_free": 0,
           "electric_slots": 0,
           "normal_bikes": 0,
           "normal_free": 12,
           "normal_slots": 12,
           "slots": 12,
           "uid": "0315"
          },
          "free_bikes": 0,
          "id": "c48d776fd001a8481622eddb0ac6727b",
          "latitude": 55.743287,
          "longitude": 37.571367,
          "name": "Причал Киевский вокзал",
          "timestamp": "2023-02-20T14:49:22.596000Z"
         },
         {
          "empty_slots": 12,
          "extra": {
           "address": "ст. м. «Пятницкое шоссе» (выход №2)",
           "ebikes": 0,
           "electric_free": 0,
           "electric_slots": 0,
           "normal_bikes": 0,
           "normal_free": 12,
           "normal_slots": 12,
           "slots": 12,
           "uid": "0311"
          },
          "free_bikes": 0,
          "id": "63f7c301caad82c9691822ab3332d6ac",
          "latitude": 55.855967,
          "longitude": 37.354141,
          "name": "ст. м. «Пятницкое шоссе» (выход №2)",
          "timestamp": "2023-02-20T14:49:22.597000Z"
         },
         {
          "empty_slots": 12,
          "extra": {
           "address": "ул. Космонавтов, д.4",
           "ebikes": 0,
           "electric_free": 0,
           "electric_slots": 0,
           "normal_bikes": 0,
           "normal_free": 12,
           "normal_slots": 12,
           "slots": 12,
           "uid": "0281"
          },
          "free_bikes": 0,
          "id": "09d4b5f2b187fabd52fe6a27722e7948",
          "latitude": 55.820834,
          "longitude": 37.646354,
          "name": "ул. Космонавтов, д.4",
          "timestamp": "2023-02-20T14:49:22.598000Z"
         },
         {
          "empty_slots": 24,
          "extra": {
           "address": "ул. Каховка, д.29А",
           "ebikes": 0,
           "electric_free": 0,
           "electric_slots": 0,
           "normal_bikes": 0,
           "normal_free": 24,
           "normal_slots": 24,
           "slots": 24,
           "uid": "0316"
          },
          "free_bikes": 0,
          "id": "394e2a2a12fbdd8445ba1c9d716c6717",
          "latitude": 55.65669,
          "longitude": 37.57043,
          "name": "ул. Каховка, д.29А",
          "timestamp": "2023-02-20T14:49:22.599000Z"
         },
         {
          "empty_slots": 15,
          "extra": {
           "address": "Потаповский пер., д.3, стр.1",
           "ebikes": 0,
           "electric_free": 15,
           "electric_slots": 15,
           "has_ebikes": true,
           "normal_bikes": 0,
           "normal_free": 0,
           "normal_slots": 0,
           "slots": 15,
           "uid": "0036"
          },
          "free_bikes": 0,
          "id": "778bd5ecee5199ab8bbd0441ac3e4709",
          "latitude": 55.762033,
          "longitude": 37.639564,
          "name": "Потаповский пер., д.3, стр.1",
          "timestamp": "2023-02-20T14:49:22.599000Z"
         },
         {
          "empty_slots": 10,
          "extra": {
           "address": "ст. м. Шоссе Энтузиастов (выход №1)",
           "ebikes": 2,
           "electric_free": 0,
           "electric_slots": 0,
           "normal_bikes": 0,
           "normal_free": 10,
           "normal_slots": 12,
           "slots": 12,
           "uid": "0773"
          },
          "free_bikes": 2,
          "id": "7041b77aad086d9c655d33849b2922a0",
          "latitude": 55.75759,
          "longitude": 37.75168,
          "name": "ст. м. Шоссе Энтузиастов (выход №1)",
          "timestamp": "2023-02-20T14:49:22.600000Z"
         },
         {
          "empty_slots": 12,
          "extra": {
           "address": "ст. м. Коломенская (выход №4)",
           "ebikes": 0,
           "electric_free": 0,
           "electric_slots": 0,
           "normal_bikes": 0,
           "normal_free": 12,
           "normal_slots": 12,
           "slots": 12,
           "uid": "0673"
          },
          "free_bikes": 0,
          "id": "fc78d84d546415a7bc64408b494337ef",
          "latitude": 55.67741,
          "longitude": 37.66297,
          "name": "ст. м. Коломенская (выход №4)",
          "timestamp": "2023-02-20T14:49:22.621000Z"
         },
         {
          "empty_slots": 14,
          "extra": {
           "address": "Звенигородское ш., д.15",
           "ebikes": 0,
           "electric_free": 0,
           "electric_slots": 0,
           "normal_bikes": 0,
           "normal_free": 14,
           "normal_slots": 14,
           "slots": 14,
           "uid": "0227"
          },
          "free_bikes": 0,
          "id": "f2970cb33c52504708db3f963693c323",
          "latitude": 55.7647621,
          "longitude": 37.5476294,
          "name": "Звенигородское ш., д.15",
          "timestamp": "2023-02-20T14:49:22.622000Z"
         },
         {
          "empty_slots": 15,
          "extra": {
           "address": "Берёзовая аллея, д.9, стр.2",
           "ebikes": 0,
           "electric_free": 0,
           "electric_slots": 0,
           "normal_bikes": 0,
           "normal_free": 15,
           "normal_slots": 15,
           "slots": 15,
           "uid": "0317"
          },
          "free_bikes": 0,
          "id": "11541e5dc3746180b5495a72963c580f",
          "latitude": 55.851652,
          "longitude": 37.612874,
          "name": "Берёзовая аллея, д.9, стр.2",
          "timestamp": "2023-02-20T14:49:22.623000Z"
         },
         {
          "empty_slots": 36,
          "extra": {
           "address": "пр-т Будённого, д.19",
           "ebikes": 0,
           "electric_free": 0,
           "electric_slots": 0,
           "normal_bikes": 0,
           "normal_free": 36,
           "normal_slots": 36,
           "slots": 36,
           "uid": "0323"
          },
          "free_bikes": 0,
          "id": "95f9dad88b01b9ed566f59493a792b8c",
          "latitude": 55.77308,
          "longitude": 37.72579,
          "name": "пр-т Будённого, д.19",
          "timestamp": "2023-02-20T14:49:22.624000Z"
         },
         {
          "empty_slots": 15,
          "extra": {
           "address": "Алтуфьевское ш., д.84",
           "ebikes": 0,
           "electric_free": 15,
           "electric_slots": 15,
           "has_ebikes": true,
           "normal_bikes": 0,
           "normal_free": 0,
           "normal_slots": 0,
           "slots": 15,
           "uid": "0860"
          },
          "free_bikes": 0,
          "id": "3c349113713e00bdce890dc679d75e91",
          "latitude": 55.89569,
          "longitude": 37.58773,
          "name": "Алтуфьевское ш., д.84",
          "timestamp": "2023-02-20T14:49:22.638000Z"
         },
         {
          "empty_slots": 12,
          "extra": {
           "address": "ул. Мустая Карима (ст. м. Технопарк, выход №3)",
           "ebikes": 0,
           "electric_free": 12,
           "electric_slots": 12,
           "has_ebikes": true,
           "normal_bikes": 0,
           "normal_free": 0,
           "normal_slots": 0,
           "slots": 12,
           "uid": "0754"
          },
          "free_bikes": 0,
          "id": "1b3d42b9f3c61397b19293cb8921ac6a",
          "latitude": 55.69446,
          "longitude": 37.66363,
          "name": "ул. Мустая Карима (ст. м. Технопарк, выход №3)",
          "timestamp": "2023-02-20T14:49:22.639000Z"
         },
         {
          "empty_slots": 15,
          "extra": {
           "address": "ст. м. Юго-Восточная (выход №1)",
           "ebikes": 0,
           "electric_free": 0,
           "electric_slots": 0,
           "normal_bikes": 0,
           "normal_free": 15,
           "normal_slots": 15,
           "slots": 15,
           "uid": "0702"
          },
          "free_bikes": 0,
          "id": "1d94f03cf0ac6c82591b141e58efe1f4",
          "latitude": 55.70518,
          "longitude": 37.8175,
          "name": "ст. м. Юго-Восточная (выход №1)",
          "timestamp": "2023-02-20T14:49:22.640000Z"
         },
         {
          "empty_slots": 12,
          "extra": {
           "address": "ст. м. Тропарёво (выход №6)",
           "ebikes": 0,
           "electric_free": 0,
           "electric_slots": 0,
           "normal_bikes": 0,
           "normal_free": 12,
           "normal_slots": 12,
           "slots": 12,
           "uid": "0674"
          },
          "free_bikes": 0,
          "id": "f2c6a87693cf5d30a048266f8faa4946",
          "latitude": 55.64414,
          "longitude": 37.47185,
          "name": "ст. м. Тропарёво (выход №6)",
          "timestamp": "2023-02-20T14:49:22.640000Z"
         },
         {
          "empty_slots": 18,
          "extra": {
           "address": "ст. м. Народное Ополчение (выход №3)",
           "ebikes": 0,
           "electric_free": 0,
           "electric_slots": 0,
           "normal_bikes": 0,
           "normal_free": 18,
           "normal_slots": 18,
           "slots": 18,
           "uid": "0660"
          },
          "free_bikes": 0,
          "id": "615c672ef71c2305c8838869094947ef",
          "latitude": 55.77572,
          "longitude": 37.48585,
          "name": "ст. м. Народное Ополчение (выход №3)",
          "timestamp": "2023-02-20T14:49:22.650000Z"
         },
         {
          "empty_slots": 15,
          "extra": {
           "address": "ул. Менжинского, д.6",
           "ebikes": 0,
           "electric_free": 0,
           "electric_slots": 0,
           "normal_bikes": 0,
           "normal_free": 15,
           "normal_slots": 15,
           "slots": 15,
           "uid": "0577"
          },
          "free_bikes": 0,
          "id": "f1ae9cb2c0700453ea522a73090d780d",
          "latitude": 55.86581,
          "longitude": 37.68081,
          "name": "ул. Менжинского, д.6",
          "timestamp": "2023-02-20T14:49:22.652000Z"
         },
         {
          "empty_slots": 12,
          "extra": {
           "address": "Анадырский пр-д, д.10",
           "ebikes": 0,
           "electric_free": 0,
           "electric_slots": 0,
           "normal_bikes": 0,
           "normal_free": 12,
           "normal_slots": 12,
           "slots": 12,
           "uid": "0736"
          },
          "free_bikes": 0,
          "id": "ae57e6d3615de14993661cb5bde1ee54",
          "latitude": 55.86219,
          "longitude": 37.68158,
          "name": "Анадырский пр-д, д.10",
          "timestamp": "2023-02-20T14:49:22.652000Z"
         },
         {
          "empty_slots": 12,
          "extra": {
           "address": "ул. Южнопортовая, д.22А",
           "ebikes": 0,
           "electric_free": 12,
           "electric_slots": 12,
           "has_ebikes": true,
           "normal_bikes": 0,
           "normal_free": 0,
           "normal_slots": 0,
           "slots": 12,
           "uid": "0599"
          },
          "free_bikes": 0,
          "id": "04f05469dde4a8879bfd954d1fa2513d",
          "latitude": 55.70624,
          "longitude": 37.68737,
          "name": "ул. Южнопортовая, д.22А",
          "timestamp": "2023-02-20T14:49:22.679000Z"
         },
         {
          "empty_slots": 12,
          "extra": {
           "address": "МЦК Лужники (выход №1)",
           "ebikes": 0,
           "electric_free": 12,
           "electric_slots": 12,
           "has_ebikes": true,
           "normal_bikes": 0,
           "normal_free": 0,
           "normal_slots": 0,
           "slots": 12,
           "uid": "0194"
          },
          "free_bikes": 0,
          "id": "2659e7c9116f546faf106f1d59deea9e",
          "latitude": 55.720987,
          "longitude": 37.561135,
          "name": "МЦК Лужники (выход №1)",
          "timestamp": "2023-02-20T14:49:22.680000Z"
         },
         {
          "empty_slots": 24,
          "extra": {
           "address": "ул. Красная Пресня, д.25",
           "ebikes": 0,
           "electric_free": 24,
           "electric_slots": 24,
           "has_ebikes": true,
           "normal_bikes": 0,
           "normal_free": 0,
           "normal_slots": 0,
           "slots": 24,
           "uid": "0225"
          },
          "free_bikes": 0,
          "id": "e6c65b2bbfff7fa9f17ae9dbc7209970",
          "latitude": 55.762272,
          "longitude": 37.564949,
          "name": "ул. Красная Пресня, д.25",
          "timestamp": "2023-02-20T14:49:22.717000Z"
         },
         {
          "empty_slots": 12,
          "extra": {
           "address": "Звенигородское ш., д. 20, стр.2",
           "ebikes": 0,
           "electric_free": 12,
           "electric_slots": 12,
           "has_ebikes": true,
           "normal_bikes": 0,
           "normal_free": 0,
           "normal_slots": 0,
           "slots": 12,
           "uid": "0229"
          },
          "free_bikes": 0,
          "id": "c1d8d975ac0e3ff8e88bf015ef185fc7",
          "latitude": 55.764483,
          "longitude": 37.5530759,
          "name": "Звенигородское ш., д. 20, стр.2",
          "timestamp": "2023-02-20T14:49:22.718000Z"
         },
         {
          "empty_slots": 12,
          "extra": {
           "address": "Звенигородское ш., д.7",
           "ebikes": 0,
           "electric_free": 12,
           "electric_slots": 12,
           "has_ebikes": true,
           "normal_bikes": 0,
           "normal_free": 0,
           "normal_slots": 0,
           "slots": 12,
           "uid": "0274"
          },
          "free_bikes": 0,
          "id": "069311d82ec35584305223c4c1530df3",
          "latitude": 55.7641883,
          "longitude": 37.5526489,
          "name": "Звенигородское ш., д.7",
          "timestamp": "2023-02-20T14:49:22.719000Z"
         },
         {
          "empty_slots": 12,
          "extra": {
           "address": "ул. Лётчика Бабушкина, д.26",
           "ebikes": 0,
           "electric_free": 0,
           "electric_slots": 0,
           "normal_bikes": 0,
           "normal_free": 12,
           "normal_slots": 12,
           "slots": 12,
           "uid": "0683"
          },
          "free_bikes": 0,
          "id": "fec9655ee4cb7a614d83adcb283c1fe9",
          "latitude": 55.86831,
          "longitude": 37.67552,
          "name": "ул. Лётчика Бабушкина, д.26",
          "timestamp": "2023-02-20T14:49:22.719000Z"
         },
         {
          "empty_slots": 12,
          "extra": {
           "address": "Ленинский пр-т, д.21",
           "ebikes": 0,
           "electric_free": 12,
           "electric_slots": 12,
           "has_ebikes": true,
           "normal_bikes": 0,
           "normal_free": 0,
           "normal_slots": 0,
           "slots": 12,
           "uid": "0901"
          },
          "free_bikes": 0,
          "id": "d16298bf77c880a43ef2b556f0c55d28",
          "latitude": 55.71812,
          "longitude": 37.59605,
          "name": "Ленинский пр-т, д.21",
          "timestamp": "2023-02-20T14:49:22.530000Z"
         },
         {
          "empty_slots": 6,
          "extra": {
           "address": "ул. Новолесная, д.8/12",
           "ebikes": 0,
           "electric_free": 6,
           "electric_slots": 6,
           "has_ebikes": true,
           "normal_bikes": 0,
           "normal_free": 0,
           "normal_slots": 0,
           "slots": 6,
           "uid": "0811"
          },
          "free_bikes": 0,
          "id": "617fd53e131d108a860c55a95be9a7fc",
          "latitude": 55.782428,
          "longitude": 37.591086,
          "name": "ул. Новолесная, д.8/12",
          "timestamp": "2023-02-20T14:49:22.559000Z"
         },
         {
          "empty_slots": 12,
          "extra": {
           "address": "ул. Старокачаловская, д.5А",
           "ebikes": 0,
           "electric_free": 12,
           "electric_slots": 12,
           "has_ebikes": true,
           "normal_bikes": 0,
           "normal_free": 0,
           "normal_slots": 0,
           "slots": 12,
           "uid": "0892"
          },
          "free_bikes": 0,
          "id": "b0cc273aa8c5245bed1646c4363f6666",
          "latitude": 55.570373,
          "longitude": 37.578774,
          "name": "ул. Старокачаловская, д.5А",
          "timestamp": "2023-02-20T14:49:22.576000Z"
         },
         {
          "empty_slots": 12,
          "extra": {
           "address": "г. Балашиха, ул. Пролетарская, д.50Б, к.1",
           "ebikes": 0,
           "electric_free": 12,
           "electric_slots": 12,
           "has_ebikes": true,
           "normal_bikes": 0,
           "normal_free": 0,
           "normal_slots": 0,
           "slots": 12,
           "uid": "1003"
          },
          "free_bikes": 0,
          "id": "2a538d42be52383543354f6b7dbbd032",
          "latitude": 55.7434,
          "longitude": 38.00596,
          "name": "г. Балашиха, ул. Пролетарская, д.50Б, к.1",
          "timestamp": "2023-02-20T14:49:22.577000Z"
         },
         {
          "empty_slots": 15,
          "extra": {
           "address": "г. Балашиха, ул. Пролетарская, д.2, к.2",
           "ebikes": 0,
           "electric_free": 15,
           "electric_slots": 15,
           "has_ebikes": true,
           "normal_bikes": 0,
           "normal_free": 0,
           "normal_slots": 0,
           "slots": 15,
           "uid": "1005"
          },
          "free_bikes": 0,
          "id": "aeabb471075f1937b66256b1e7d4dd85",
          "latitude": 55.75071,
          "longitude": 38.00857,
          "name": "г. Балашиха, ул. Пролетарская, д.2, к.2",
          "timestamp": "2023-02-20T14:49:22.578000Z"
         },
         {
          "empty_slots": 12,
          "extra": {
           "address": "г. Балашиха, ул. Школьная, стадион Орион",
           "ebikes": 0,
           "electric_free": 12,
           "electric_slots": 12,
           "has_ebikes": true,
           "normal_bikes": 0,
           "normal_free": 0,
           "normal_slots": 0,
           "slots": 12,
           "uid": "1006"
          },
          "free_bikes": 0,
          "id": "d3b4cb454178057411324a648820e117",
          "latitude": 55.74679,
          "longitude": 38.01833,
          "name": "г. Балашиха, ул. Школьная, стадион Орион",
          "timestamp": "2023-02-20T14:49:22.579000Z"
         },
         {
          "empty_slots": 6,
          "extra": {
           "address": "г. Балашиха, ул. Калинина, д.6",
           "ebikes": 0,
           "electric_free": 6,
           "electric_slots": 6,
           "has_ebikes": true,
           "normal_bikes": 0,
           "normal_free": 0,
           "normal_slots": 0,
           "slots": 6,
           "uid": "1010"
          },
          "free_bikes": 0,
          "id": "1857aecea1573c74a12166503780b3b6",
          "latitude": 55.739717,
          "longitude": 38.026272,
          "name": "г. Балашиха, ул. Калинина, д.6",
          "timestamp": "2023-02-20T14:49:22.580000Z"
         },
         {
          "empty_slots": 12,
          "extra": {
           "address": "Большой Саввинский пер., д.12, стр.6",
           "ebikes": 0,
           "electric_free": 0,
           "electric_slots": 0,
           "normal_bikes": 0,
           "normal_free": 12,
           "normal_slots": 12,
           "slots": 12,
           "uid": "0774"
          },
          "free_bikes": 0,
          "id": "662979f0f3402d77b1997ee009502253",
          "latitude": 55.73385,
          "longitude": 37.56306,
          "name": "Большой Саввинский пер., д.12, стр.6",
          "timestamp": "2023-02-20T14:49:22.581000Z"
         },
         {
          "empty_slots": 12,
          "extra": {
           "address": "ул. Салтыковская, д.15Г",
           "ebikes": 0,
           "electric_free": 12,
           "electric_slots": 12,
           "has_ebikes": true,
           "normal_bikes": 0,
           "normal_free": 0,
           "normal_slots": 0,
           "slots": 12,
           "uid": "0792"
          },
          "free_bikes": 0,
          "id": "6947616492babc66c9f3573e0d3101b6",
          "latitude": 55.73693,
          "longitude": 37.86685,
          "name": "ул. Салтыковская, д.15Г",
          "timestamp": "2023-02-20T14:49:22.581000Z"
         },
         {
          "empty_slots": 12,
          "extra": {
           "address": "ул. Крылатские Холмы, д.38, к.3",
           "ebikes": 0,
           "electric_free": 0,
           "electric_slots": 0,
           "normal_bikes": 0,
           "normal_free": 12,
           "normal_slots": 12,
           "slots": 12,
           "uid": "0310"
          },
          "free_bikes": 0,
          "id": "cf3ba81cd79967bb835189bb71a8a888",
          "latitude": 55.76495,
          "longitude": 37.40771,
          "name": "ул. Крылатские Холмы, д.38, к.3",
          "timestamp": "2023-02-20T14:49:22.582000Z"
         },
         {
          "empty_slots": 12,
          "extra": {
           "address": "МЦК Площадь Гагарина",
           "ebikes": 0,
           "electric_free": 12,
           "electric_slots": 12,
           "has_ebikes": true,
           "normal_bikes": 0,
           "normal_free": 0,
           "normal_slots": 0,
           "slots": 12,
           "uid": "0275"
          },
          "free_bikes": 0,
          "id": "6d558014c32bf42a1dfef1101b04be02",
          "latitude": 55.7068,
          "longitude": 37.58689,
          "name": "МЦК Площадь Гагарина",
          "timestamp": "2023-02-20T14:49:22.583000Z"
         },
         {
          "empty_slots": 12,
          "extra": {
           "address": "ст. м. Шоссе Энтузиастов (выход №4)",
           "ebikes": 0,
           "electric_free": 0,
           "electric_slots": 0,
           "normal_bikes": 0,
           "normal_free": 12,
           "normal_slots": 12,
           "slots": 12,
           "uid": "0462"
          },
          "free_bikes": 0,
          "id": "1daa9a60b27401704f1ff11dbea374a9",
          "latitude": 55.758678,
          "longitude": 37.752214,
          "name": "ст. м. Шоссе Энтузиастов (выход №4)",
          "timestamp": "2023-02-20T14:49:22.584000Z"
         },
         {
          "empty_slots": 15,
          "extra": {
           "address": "ул. Новочерёмушкинская, д.53А",
           "ebikes": 0,
           "electric_free": 0,
           "electric_slots": 0,
           "normal_bikes": 0,
           "normal_free": 15,
           "normal_slots": 15,
           "slots": 15,
           "uid": "0825"
          },
          "free_bikes": 0,
          "id": "274d4f75f763925df9a5fc637a7284b1",
          "latitude": 55.671884,
          "longitude": 37.568664,
          "name": "ул. Новочерёмушкинская, д.53А",
          "timestamp": "2023-02-20T14:49:22.584000Z"
         },
         {
          "empty_slots": 15,
          "extra": {
           "address": "ул. Борисовские Пруды, д.26, к.2",
           "ebikes": 0,
           "electric_free": 0,
           "electric_slots": 0,
           "normal_bikes": 0,
           "normal_free": 15,
           "normal_slots": 15,
           "slots": 15,
           "uid": "0669"
          },
          "free_bikes": 0,
          "id": "018fdf79844eceac90f57174ee7b2be2",
          "latitude": 55.638653,
          "longitude": 37.758079,
          "name": "ул. Борисовские Пруды, д.26, к.2",
          "timestamp": "2023-02-20T14:49:22.585000Z"
         },
         {
          "empty_slots": 9,
          "extra": {
           "address": "ул. Константина Федина, д.13",
           "ebikes": 0,
           "electric_free": 0,
           "electric_slots": 0,
           "normal_bikes": 0,
           "normal_free": 9,
           "normal_slots": 9,
           "slots": 9,
           "uid": "0498"
          },
          "free_bikes": 0,
          "id": "9ffd75586fbbbb44d39285b5aac8fd09",
          "latitude": 55.80687,
          "longitude": 37.80356,
          "name": "ул. Константина Федина, д.13",
          "timestamp": "2023-02-20T14:49:22.586000Z"
         },
         {
          "empty_slots": 12,
          "extra": {
           "address": "МЦК Хорошёво (выход №1)",
           "ebikes": 0,
           "electric_free": 12,
           "electric_slots": 12,
           "has_ebikes": true,
           "normal_bikes": 0,
           "normal_free": 0,
           "normal_slots": 0,
           "slots": 12,
           "uid": "0526"
          },
          "free_bikes": 0,
          "id": "c4f87ab725718fa715e32578e747dbcd",
          "latitude": 55.77689,
          "longitude": 37.50698,
          "name": "МЦК Хорошёво (выход №1)",
          "timestamp": "2023-02-20T14:49:22.601000Z"
         },
         {
          "empty_slots": 19,
          "extra": {
           "address": "Ломоносовский пр-т, д.23А",
           "ebikes": 0,
           "electric_free": 0,
           "electric_slots": 0,
           "normal_bikes": 1,
           "normal_free": 19,
           "normal_slots": 20,
           "slots": 20,
           "uid": "0727"
          },
          "free_bikes": 1,
          "id": "c94d9d26022ebf7f4c08a6d63b238d67",
          "latitude": 55.6922,
          "longitude": 37.53593,
          "name": "Ломоносовский пр-т, д.23А",
          "timestamp": "2023-02-20T14:49:22.601000Z"
         },
         {
          "empty_slots": 12,
          "extra": {
           "address": "Новоясеневский пр-т, д.4",
           "ebikes": 0,
           "electric_free": 12,
           "electric_slots": 12,
           "has_ebikes": true,
           "normal_bikes": 0,
           "normal_free": 0,
           "normal_slots": 0,
           "slots": 12,
           "uid": "0777"
          },
          "free_bikes": 0,
          "id": "b7686ff818a728d2e87b088553d1d6b3",
          "latitude": 55.61495,
          "longitude": 37.51302,
          "name": "Новоясеневский пр-т, д.4",
          "timestamp": "2023-02-20T14:49:22.602000Z"
         },
         {
          "empty_slots": 12,
          "extra": {
           "address": "ул. Земляной Вал, д.52/16, стр.1",
           "ebikes": 0,
           "electric_free": 12,
           "electric_slots": 12,
           "has_ebikes": true,
           "normal_bikes": 0,
           "normal_free": 0,
           "normal_slots": 0,
           "slots": 12,
           "uid": "0143"
          },
          "free_bikes": 0,
          "id": "578dc7a4fd3cfca8d5e79e86ed229725",
          "latitude": 55.749398,
          "longitude": 37.655531,
          "name": "ул. Земляной Вал, д.52/16, стр.1",
          "timestamp": "2023-02-20T14:49:22.653000Z"
         },
         {
          "empty_slots": 18,
          "extra": {
           "address": "г. Балашиха, станция Ольгино",
           "ebikes": 0,
           "electric_free": 18,
           "electric_slots": 18,
           "has_ebikes": true,
           "normal_bikes": 0,
           "normal_free": 0,
           "normal_slots": 0,
           "slots": 18,
           "uid": "1001"
          },
          "free_bikes": 0,
          "id": "84ce607a5728eaee25aaa898dc867237",
          "latitude": 55.7515,
          "longitude": 37.98119,
          "name": "г. Балашиха, станция Ольгино",
          "timestamp": "2023-02-20T14:49:22.654000Z"
         },
         {
          "empty_slots": 15,
          "extra": {
           "address": "Филёвский б-р, д.42",
           "ebikes": 0,
           "electric_free": 9,
           "electric_slots": 9,
           "has_ebikes": true,
           "normal_bikes": 0,
           "normal_free": 6,
           "normal_slots": 6,
           "slots": 15,
           "uid": "0593"
          },
          "free_bikes": 0,
          "id": "097caed20f93a920f79a7b5350a06211",
          "latitude": 55.76255,
          "longitude": 37.47864,
          "name": "Филёвский б-р, д.42",
          "timestamp": "2023-02-20T14:49:22.655000Z"
         },
         {
          "empty_slots": 9,
          "extra": {
           "address": "МЦК Крымская (выход №1)",
           "ebikes": 0,
           "electric_free": 9,
           "electric_slots": 9,
           "has_ebikes": true,
           "normal_bikes": 0,
           "normal_free": 0,
           "normal_slots": 0,
           "slots": 9,
           "uid": "0326"
          },
          "free_bikes": 0,
          "id": "d7c33091ec490a4b6723e02948816e1e",
          "latitude": 55.69001,
          "longitude": 37.60628,
          "name": "МЦК Крымская (выход №1)",
          "timestamp": "2023-02-20T14:49:22.656000Z"
         },
         {
          "empty_slots": 9,
          "extra": {
           "address": "ул. Шкулёва, д.13/25, стр.2",
           "ebikes": 0,
           "electric_free": 0,
           "electric_slots": 0,
           "normal_bikes": 0,
           "normal_free": 9,
           "normal_slots": 9,
           "slots": 9,
           "uid": "0665"
          },
          "free_bikes": 0,
          "id": "f6676b812c0ea342291e43f560747044",
          "latitude": 55.693517,
          "longitude": 37.745,
          "name": "ул. Шкулёва, д.13/25, стр.2",
          "timestamp": "2023-02-20T14:49:22.664000Z"
         },
         {
          "empty_slots": 12,
          "extra": {
           "address": "Щёлковский пр., д.15, к.1",
           "ebikes": 0,
           "electric_free": 0,
           "electric_slots": 0,
           "normal_bikes": 0,
           "normal_free": 12,
           "normal_slots": 12,
           "slots": 12,
           "uid": "0720"
          },
          "free_bikes": 0,
          "id": "ce262e2a09d62bdfb1a9cd8f557b6916",
          "latitude": 55.80804,
          "longitude": 37.77674,
          "name": "Щёлковский пр., д.15, к.1",
          "timestamp": "2023-02-20T14:49:22.665000Z"
         },
         {
          "empty_slots": 12,
          "extra": {
           "address": "Сколково, Большой б-р, д.40",
           "ebikes": 0,
           "electric_free": 12,
           "electric_slots": 12,
           "has_ebikes": true,
           "normal_bikes": 0,
           "normal_free": 0,
           "normal_slots": 0,
           "slots": 12,
           "uid": "0964"
          },
          "free_bikes": 0,
          "id": "c44ee83e902c756183a4c0be8733352c",
          "latitude": 55.69532,
          "longitude": 37.34723,
          "name": "Сколково, Большой б-р, д.40",
          "timestamp": "2023-02-20T14:49:22.681000Z"
         },
         {
          "empty_slots": 12,
          "extra": {
           "address": "Сколково, ул. Луговая, д.4, стр.12",
           "ebikes": 0,
           "electric_free": 12,
           "electric_slots": 12,
           "has_ebikes": true,
           "normal_bikes": 0,
           "normal_free": 0,
           "normal_slots": 0,
           "slots": 12,
           "uid": "0961"
          },
          "free_bikes": 0,
          "id": "4adb07df4745f7a570636baf34e2b3a2",
          "latitude": 55.68755,
          "longitude": 37.34411,
          "name": "Сколково, ул. Луговая, д.4, стр.12",
          "timestamp": "2023-02-20T14:49:22.682000Z"
         },
         {
          "empty_slots": 12,
          "extra": {
           "address": "г. Балашиха, ул. Луговая, д.2Е",
           "ebikes": 0,
           "electric_free": 12,
           "electric_slots": 12,
           "has_ebikes": true,
           "normal_bikes": 0,
           "normal_free": 0,
           "normal_slots": 0,
           "slots": 12,
           "uid": "1008"
          },
          "free_bikes": 0,
          "id": "9f7cd8f469e24af594ca212fcf13a439",
          "latitude": 55.74651,
          "longitude": 38.03534,
          "name": "г. Балашиха, ул. Луговая, д.2Е",
          "timestamp": "2023-02-20T14:49:22.690000Z"
         },
         {
          "empty_slots": 15,
          "extra": {
           "address": "ул. Неверовского, д.13",
           "ebikes": 0,
           "electric_free": 9,
           "electric_slots": 9,
           "has_ebikes": true,
           "normal_bikes": 0,
           "normal_free": 6,
           "normal_slots": 6,
           "slots": 15,
           "uid": "0592"
          },
          "free_bikes": 0,
          "id": "78aeeecb811af23daca040a5fbf2414c",
          "latitude": 55.73733,
          "longitude": 37.51442,
          "name": "ул. Неверовского, д.13",
          "timestamp": "2023-02-20T14:49:22.691000Z"
         },
         {
          "empty_slots": 15,
          "extra": {
           "address": "Филёвский б-р, д.3",
           "ebikes": 0,
           "electric_free": 0,
           "electric_slots": 0,
           "normal_bikes": 0,
           "normal_free": 15,
           "normal_slots": 15,
           "slots": 15,
           "uid": "0739"
          },
          "free_bikes": 0,
          "id": "4ab0673335505b4a447d27107a594247",
          "latitude": 55.76356,
          "longitude": 37.49106,
          "name": "Филёвский б-р, д.3",
          "timestamp": "2023-02-20T14:49:22.691000Z"
         },
         {
          "empty_slots": 15,
          "extra": {
           "address": "ул. Руставели, д.1/2",
           "ebikes": 0,
           "electric_free": 0,
           "electric_slots": 0,
           "normal_bikes": 0,
           "normal_free": 15,
           "normal_slots": 15,
           "slots": 15,
           "uid": "0827"
          },
          "free_bikes": 0,
          "id": "ade3d2a2a4c8804ec47850d2ada2b14d",
          "latitude": 55.81222,
          "longitude": 37.58365,
          "name": "ул. Руставели, д.1/2",
          "timestamp": "2023-02-20T14:49:22.692000Z"
         },
         {
          "empty_slots": 12,
          "extra": {
           "address": "г. Балашиха, ул. Рождественская, д.3",
           "ebikes": 0,
           "electric_free": 12,
           "electric_slots": 12,
           "has_ebikes": true,
           "normal_bikes": 0,
           "normal_free": 0,
           "normal_slots": 0,
           "slots": 12,
           "uid": "1002"
          },
          "free_bikes": 0,
          "id": "3cee4c6b3e040b767aed890deda329fc",
          "latitude": 55.7433,
          "longitude": 38.003,
          "name": "г. Балашиха, ул. Рождественская, д.3",
          "timestamp": "2023-02-20T14:49:22.720000Z"
         },
         {
          "empty_slots": 12,
          "extra": {
           "address": "г. Балашиха, ул. Пролетарская, д.27",
           "ebikes": 0,
           "electric_free": 12,
           "electric_slots": 12,
           "has_ebikes": true,
           "normal_bikes": 0,
           "normal_free": 0,
           "normal_slots": 0,
           "slots": 12,
           "uid": "1004"
          },
          "free_bikes": 0,
          "id": "13febb0cb1740030248666e6c247c013",
          "latitude": 55.74631,
          "longitude": 38.00937,
          "name": "г. Балашиха, ул. Пролетарская, д.27",
          "timestamp": "2023-02-20T14:49:22.721000Z"
         },
         {
          "empty_slots": 15,
          "extra": {
           "address": "г. Балашиха, ул. Юбилейная, д.4, к.5",
           "ebikes": 0,
           "electric_free": 15,
           "electric_slots": 15,
           "has_ebikes": true,
           "normal_bikes": 0,
           "normal_free": 0,
           "normal_slots": 0,
           "slots": 15,
           "uid": "1007"
          },
          "free_bikes": 0,
          "id": "a228c74fdc01ea745f1944cc40df8e08",
          "latitude": 55.7432,
          "longitude": 38.01557,
          "name": "г. Балашиха, ул. Юбилейная, д.4, к.5",
          "timestamp": "2023-02-20T14:49:22.724000Z"
         },
         {
          "empty_slots": 12,
          "extra": {
           "address": "ул. Нагатинская, д.2, к.1",
           "ebikes": 0,
           "electric_free": 12,
           "electric_slots": 12,
           "has_ebikes": true,
           "normal_bikes": 0,
           "normal_free": 0,
           "normal_slots": 0,
           "slots": 12,
           "uid": "0742"
          },
          "free_bikes": 0,
          "id": "316350e5bd6975778f1274d4c4288cc1",
          "latitude": 55.68138,
          "longitude": 37.62544,
          "name": "ул. Нагатинская, д.2, к.1",
          "timestamp": "2023-02-20T14:49:22.724000Z"
         },
         {
          "empty_slots": 24,
          "extra": {
           "address": "я Останкинская ул., д.57",
           "ebikes": 0,
           "electric_free": 24,
           "electric_slots": 24,
           "has_ebikes": true,
           "normal_bikes": 0,
           "normal_free": 0,
           "normal_slots": 0,
           "slots": 24,
           "uid": "0596"
          },
          "free_bikes": 0,
          "id": "6bcfc063e907300a43c26aab0a638daa",
          "latitude": 55.82403,
          "longitude": 37.63519,
          "name": "1-я Останкинская ул., д.57",
          "timestamp": "2023-02-20T14:49:22.725000Z"
         },
         {
          "empty_slots": 12,
          "extra": {
           "address": "ул. Нижняя Красносельская, д.40/12, к.11",
           "ebikes": 0,
           "electric_free": 0,
           "electric_slots": 0,
           "normal_bikes": 0,
           "normal_free": 12,
           "normal_slots": 12,
           "slots": 12,
           "uid": "0456"
          },
          "free_bikes": 0,
          "id": "fd649b9d95349a88f806a623243f11eb",
          "latitude": 55.77471,
          "longitude": 37.6726,
          "name": "ул. Нижняя Красносельская, д.40/12, к.11",
          "timestamp": "2023-02-20T14:49:22.284000Z"
         },
         {
          "empty_slots": 15,
          "extra": {
           "address": "Ленинский пр-т, д. 4 (у главного входа в МИСИС)",
           "ebikes": 0,
           "electric_free": 0,
           "electric_slots": 0,
           "normal_bikes": 0,
           "normal_free": 15,
           "normal_slots": 15,
           "slots": 15,
           "uid": "0907"
          },
          "free_bikes": 0,
          "id": "83b7835b77a755a962269401df9e1af3",
          "latitude": 55.728329,
          "longitude": 37.610612,
          "name": "Ленинский пр-т, д. 4 (у главного входа в МИСИС)",
          "timestamp": "2023-02-20T14:49:22.350000Z"
         },
         {
          "empty_slots": 9,
          "extra": {
           "address": "ул. Кастанаевская, д.49",
           "ebikes": 0,
           "electric_free": 0,
           "electric_slots": 0,
           "normal_bikes": 0,
           "normal_free": 9,
           "normal_slots": 9,
           "slots": 9,
           "uid": "0576"
          },
          "free_bikes": 0,
          "id": "4262f0891b131d4752cabf43e87b578a",
          "latitude": 55.73228,
          "longitude": 37.46173,
          "name": "ул. Кастанаевская, д.49",
          "timestamp": "2023-02-20T14:49:22.456000Z"
         },
         {
          "empty_slots": 12,
          "extra": {
           "address": "Есенинский б-р, д.1/26, к.1",
           "ebikes": 0,
           "electric_free": 0,
           "electric_slots": 0,
           "normal_bikes": 0,
           "normal_free": 12,
           "normal_slots": 12,
           "slots": 12,
           "uid": "0738"
          },
          "free_bikes": 0,
          "id": "c10dfa9a2a6ae67a4dcd4cca884a3bd9",
          "latitude": 55.7086,
          "longitude": 37.78195,
          "name": "Есенинский б-р, д.1/26, к.1",
          "timestamp": "2023-02-20T14:49:22.560000Z"
         },
         {
          "empty_slots": 15,
          "extra": {
           "address": "ст. м. Первомайская (выход № 3)",
           "ebikes": 0,
           "electric_free": 0,
           "electric_slots": 0,
           "normal_bikes": 0,
           "normal_free": 15,
           "normal_slots": 15,
           "slots": 15,
           "uid": "0622"
          },
          "free_bikes": 0,
          "id": "b68eeb23c48055b3e34763849ad69f13",
          "latitude": 55.793515,
          "longitude": 37.79947,
          "name": "ст. м. Первомайская (выход № 3)",
          "timestamp": "2023-02-20T14:49:22.561000Z"
         },
         {
          "empty_slots": 6,
          "extra": {
           "address": "ул. Верхняя Радищевская, д.4, стр.1",
           "ebikes": 0,
           "electric_free": 0,
           "electric_slots": 0,
           "normal_bikes": 0,
           "normal_free": 6,
           "normal_slots": 6,
           "slots": 6,
           "uid": "0090"
          },
          "free_bikes": 0,
          "id": "0356cdc38458450dd60b4e47c773ac0f",
          "latitude": 55.7454,
          "longitude": 37.648459,
          "name": "ул. Верхняя Радищевская, д.4, стр.1",
          "timestamp": "2023-02-20T14:49:22.562000Z"
         },
         {
          "empty_slots": 12,
          "extra": {
           "address": "Загородное ш., д.1, к.2, стр.2",
           "ebikes": 0,
           "electric_free": 0,
           "electric_slots": 0,
           "normal_bikes": 0,
           "normal_free": 12,
           "normal_slots": 12,
           "slots": 12,
           "uid": "0423"
          },
          "free_bikes": 0,
          "id": "a4190001a7b9f8b867583d0af7dc9817",
          "latitude": 55.699791,
          "longitude": 37.614761,
          "name": "Загородное ш., д.1, к.2, стр.2",
          "timestamp": "2023-02-20T14:49:22.562000Z"
         },
         {
          "empty_slots": 15,
          "extra": {
           "address": "Сиреневый б-р, д.31",
           "ebikes": 0,
           "electric_free": 0,
           "electric_slots": 0,
           "normal_bikes": 0,
           "normal_free": 15,
           "normal_slots": 15,
           "slots": 15,
           "uid": "0668"
          },
          "free_bikes": 0,
          "id": "45ec0d44b94c9df8e5bdfc383e2d2dc9",
          "latitude": 55.803388,
          "longitude": 37.799385,
          "name": "Сиреневый б-р, д.31",
          "timestamp": "2023-02-20T14:49:22.587000Z"
         },
         {
          "empty_slots": 15,
          "extra": {
           "address": "Измайловская пл., д.1А",
           "ebikes": 0,
           "electric_free": 0,
           "electric_slots": 0,
           "normal_bikes": 0,
           "normal_free": 15,
           "normal_slots": 15,
           "slots": 15,
           "uid": "0793"
          },
          "free_bikes": 0,
          "id": "245a0a56cc2779e0bc15d38fb415167a",
          "latitude": 55.791944,
          "longitude": 37.775838,
          "name": "Измайловская пл., д.1А",
          "timestamp": "2023-02-20T14:49:22.587000Z"
         },
         {
          "empty_slots": 15,
          "extra": {
           "address": "ул. Уссурийская, д.1, к.1",
           "ebikes": 0,
           "electric_free": 0,
           "electric_slots": 0,
           "normal_bikes": 0,
           "normal_free": 15,
           "normal_slots": 15,
           "slots": 15,
           "uid": "0789"
          },
          "free_bikes": 0,
          "id": "2663e923b531c598717d8565911e8cec",
          "latitude": 55.823417,
          "longitude": 37.809537,
          "name": "ул. Уссурийская, д.1, к.1",
          "timestamp": "2023-02-20T14:49:22.588000Z"
         },
         {
          "empty_slots": 12,
          "extra": {
           "address": "cт. м. Кузьминки (выход №7)",
           "ebikes": 0,
           "electric_free": 0,
           "electric_slots": 0,
           "normal_bikes": 0,
           "normal_free": 12,
           "normal_slots": 12,
           "slots": 12,
           "uid": "0729"
          },
          "free_bikes": 0,
          "id": "23e4fd1952246dfc7c9f6cec3c7b54fb",
          "latitude": 55.706138,
          "longitude": 37.763454,
          "name": "cт. м. Кузьминки (выход №7)",
          "timestamp": "2023-02-20T14:49:22.603000Z"
         },
         {
          "empty_slots": 12,
          "extra": {
           "address": "Измайловский б-р, д.16",
           "ebikes": 0,
           "electric_free": 0,
           "electric_slots": 0,
           "normal_bikes": 0,
           "normal_free": 12,
           "normal_slots": 12,
           "slots": 12,
           "uid": "0058"
          },
          "free_bikes": 0,
          "id": "219cb577cc3629c2cf32fc4d5b8ec7f5",
          "latitude": 55.79642,
          "longitude": 37.789881,
          "name": "Измайловский б-р, д.16",
          "timestamp": "2023-02-20T14:49:22.603000Z"
         },
         {
          "empty_slots": 12,
          "extra": {
           "address": "пр-т Мира, д.111",
           "ebikes": 0,
           "electric_free": 0,
           "electric_slots": 0,
           "normal_bikes": 0,
           "normal_free": 12,
           "normal_slots": 12,
           "slots": 12,
           "uid": "0594"
          },
          "free_bikes": 0,
          "id": "39993896e4f76045ffef95ea5cfe295f",
          "latitude": 55.823216,
          "longitude": 37.64114,
          "name": "пр-т Мира, д.111",
          "timestamp": "2023-02-20T14:49:22.604000Z"
         },
         {
          "empty_slots": 15,
          "extra": {
           "address": "Сиреневый б-р, д.1, к.5",
           "ebikes": 0,
           "electric_free": 0,
           "electric_slots": 0,
           "normal_bikes": 0,
           "normal_free": 15,
           "normal_slots": 15,
           "slots": 15,
           "uid": "0486"
          },
          "free_bikes": 0,
          "id": "bf9d0d1b71bc8a73d9845cf953c5537d",
          "latitude": 55.802654,
          "longitude": 37.766616,
          "name": "Сиреневый б-р, д.1, к.5",
          "timestamp": "2023-02-20T14:49:22.693000Z"
         },
         {
          "empty_slots": 12,
          "extra": {
           "address": "ул. Крымский Вал, д.8, к.2",
           "ebikes": 0,
           "electric_free": 0,
           "electric_slots": 0,
           "normal_bikes": 0,
           "normal_free": 12,
           "normal_slots": 12,
           "slots": 12,
           "uid": "0156"
          },
          "free_bikes": 0,
          "id": "eec72beb6cbf30dafdfa7cfc220b082e",
          "latitude": 55.732347,
          "longitude": 37.60482,
          "name": "ул. Крымский Вал, д.8, к.2",
          "timestamp": "2023-02-20T14:49:22.197000Z"
         },
         {
          "empty_slots": 15,
          "extra": {
           "address": "ст. м. Царицыно (выход №4)",
           "ebikes": 0,
           "electric_free": 0,
           "electric_slots": 0,
           "normal_bikes": 0,
           "normal_free": 15,
           "normal_slots": 15,
           "slots": 15,
           "uid": "0838"
          },
          "free_bikes": 0,
          "id": "1c2307c9d6c535d3bd6508e2aea41b3c",
          "latitude": 55.622232,
          "longitude": 37.668229,
          "name": "ст. м. Царицыно (выход №4)",
          "timestamp": "2023-02-20T14:49:22.545000Z"
         },
         {
          "empty_slots": 12,
          "extra": {
           "address": "пр-т Мира, д.123Б",
           "ebikes": 0,
           "electric_free": 0,
           "electric_slots": 0,
           "normal_bikes": 0,
           "normal_free": 12,
           "normal_slots": 12,
           "slots": 12,
           "uid": "0595"
          },
          "free_bikes": 0,
          "id": "37dcadc01ca3c1897dc1b59935a89437",
          "latitude": 55.827567,
          "longitude": 37.644419,
          "name": "пр-т Мира, д.123Б",
          "timestamp": "2023-02-20T14:49:22.545000Z"
         },
         {
          "empty_slots": 11,
          "extra": {
           "address": "ул. Садовая-Кудринская, д.11",
           "ebikes": 0,
           "electric_free": 0,
           "electric_slots": 0,
           "normal_bikes": 0,
           "normal_free": 11,
           "normal_slots": 11,
           "slots": 11,
           "uid": "0112"
          },
          "free_bikes": 0,
          "id": "a02523ca5bf384726ecb3e3d965b7975",
          "latitude": 55.762834,
          "longitude": 37.586947,
          "name": "ул. Садовая-Кудринская, д.11",
          "timestamp": "2023-02-20T14:49:22.563000Z"
         },
         {
          "empty_slots": 12,
          "extra": {
           "address": "Смоленская пл., д.13",
           "ebikes": 0,
           "electric_free": 0,
           "electric_slots": 0,
           "normal_bikes": 0,
           "normal_free": 12,
           "normal_slots": 12,
           "slots": 12,
           "uid": "0107"
          },
          "free_bikes": 0,
          "id": "23fe5d8bc9cc25b53cd486d7bba989e7",
          "latitude": 55.748787,
          "longitude": 37.582296,
          "name": "Смоленская пл., д.13",
          "timestamp": "2023-02-20T14:49:22.564000Z"
         },
         {
          "empty_slots": 12,
          "extra": {
           "address": "Коломенский пр., д.6, к.1",
           "ebikes": 0,
           "electric_free": 0,
           "electric_slots": 0,
           "normal_bikes": 0,
           "normal_free": 12,
           "normal_slots": 12,
           "slots": 12,
           "uid": "0632"
          },
          "free_bikes": 0,
          "id": "c5016a875a18dee6dd3534963462b767",
          "latitude": 55.665687,
          "longitude": 37.646645,
          "name": "Коломенский пр., д.6, к.1",
          "timestamp": "2023-02-20T14:49:22.589000Z"
         },
         {
          "empty_slots": 12,
          "extra": {
           "address": "Нахимовский пр-т, д.11, к.1",
           "ebikes": 0,
           "electric_free": 12,
           "electric_slots": 12,
           "has_ebikes": true,
           "normal_bikes": 0,
           "normal_free": 0,
           "normal_slots": 0,
           "slots": 12,
           "uid": "0398"
          },
          "free_bikes": 0,
          "id": "ec458e7577da5e3bfbcc450ce463ff4a",
          "latitude": 55.663912,
          "longitude": 37.605598,
          "name": "Нахимовский пр-т, д.11, к.1",
          "timestamp": "2023-02-20T14:49:22.590000Z"
         },
         {
          "empty_slots": 14,
          "extra": {
           "address": "пр-т Андропова, д.48",
           "ebikes": 0,
           "electric_free": 0,
           "electric_slots": 0,
           "normal_bikes": 0,
           "normal_free": 14,
           "normal_slots": 14,
           "slots": 14,
           "uid": "0627"
          },
          "free_bikes": 0,
          "id": "db3a3a59fe9b85f710d7f8298436380a",
          "latitude": 55.668962,
          "longitude": 37.660982,
          "name": "пр-т Андропова, д.48",
          "timestamp": "2023-02-20T14:49:22.605000Z"
         },
         {
          "empty_slots": 12,
          "extra": {
           "address": "Зубовский б-р, д.5",
           "ebikes": 0,
           "electric_free": 0,
           "electric_slots": 0,
           "normal_bikes": 0,
           "normal_free": 12,
           "normal_slots": 12,
           "slots": 12,
           "uid": "0159"
          },
          "free_bikes": 0,
          "id": "2f95f0bc9f8f38c1f74ce22949dacf7f",
          "latitude": 55.734379,
          "longitude": 37.593217,
          "name": "Зубовский б-р, д.5",
          "timestamp": "2023-02-20T14:49:22.606000Z"
         },
         {
          "empty_slots": 12,
          "extra": {
           "address": "ул. Валовая, д.21, к.125",
           "ebikes": 0,
           "electric_free": 0,
           "electric_slots": 0,
           "normal_bikes": 0,
           "normal_free": 12,
           "normal_slots": 12,
           "slots": 12,
           "uid": "0153"
          },
          "free_bikes": 0,
          "id": "0d43b0d388283b8542d0f0ef24d3e9b4",
          "latitude": 55.73021,
          "longitude": 37.630928,
          "name": "ул. Валовая, д.21, к.125",
          "timestamp": "2023-02-20T14:49:22.606000Z"
         },
         {
          "empty_slots": 9,
          "extra": {
           "address": "Ореховый б-р, д.14, к.3",
           "ebikes": 0,
           "electric_free": 0,
           "electric_slots": 0,
           "normal_bikes": 0,
           "normal_free": 9,
           "normal_slots": 9,
           "slots": 9,
           "uid": "0690"
          },
          "free_bikes": 0,
          "id": "1778c55f5ce9f03b9dca8107104c87c4",
          "latitude": 55.60976,
          "longitude": 37.718752,
          "name": "Ореховый б-р, д.14, к.3",
          "timestamp": "2023-02-20T14:49:22.666000Z"
         },
         {
          "empty_slots": 9,
          "extra": {
           "address": "Кавказский б-р, д.17",
           "ebikes": 0,
           "electric_free": 0,
           "electric_slots": 0,
           "normal_bikes": 0,
           "normal_free": 9,
           "normal_slots": 9,
           "slots": 9,
           "uid": "0691"
          },
          "free_bikes": 0,
          "id": "55ef257ef7a326c815c1e906217d5350",
          "latitude": 55.631267,
          "longitude": 37.669834,
          "name": "Кавказский б-р, д.17",
          "timestamp": "2023-02-20T14:49:22.667000Z"
         },
         {
          "empty_slots": 15,
          "extra": {
           "address": "ст. м. Беговая (выход №5)",
           "ebikes": 0,
           "electric_free": 0,
           "electric_slots": 0,
           "normal_bikes": 0,
           "normal_free": 15,
           "normal_slots": 15,
           "slots": 15,
           "uid": "0725"
          },
          "free_bikes": 0,
          "id": "7a0b2e12321a4c4fd8474d4f413bb9a3",
          "latitude": 55.773284,
          "longitude": 37.548361,
          "name": "ст. м. Беговая (выход №5)",
          "timestamp": "2023-02-20T14:49:22.668000Z"
         },
         {
          "empty_slots": 24,
          "extra": {
           "address": "МЦД Стрешнево (выход №5)",
           "ebikes": 0,
           "electric_free": 0,
           "electric_slots": 0,
           "normal_bikes": 0,
           "normal_free": 24,
           "normal_slots": 24,
           "slots": 24,
           "uid": "0605"
          },
          "free_bikes": 0,
          "id": "a54f2fabfbc5a02f3147a78aba44d27f",
          "latitude": 55.815708,
          "longitude": 37.487386,
          "name": "МЦД Стрешнево (выход №5)",
          "timestamp": "2023-02-20T14:49:22.669000Z"
         },
         {
          "empty_slots": 9,
          "extra": {
           "address": "ул. Люсиновская, д.9",
           "ebikes": 0,
           "electric_free": 0,
           "electric_slots": 0,
           "normal_bikes": 0,
           "normal_free": 9,
           "normal_slots": 9,
           "slots": 9,
           "uid": "0151"
          },
          "free_bikes": 0,
          "id": "a60752228698d80f4f2a5dedc583a555",
          "latitude": 55.72854,
          "longitude": 37.623085,
          "name": "ул. Люсиновская, д.9",
          "timestamp": "2023-02-20T14:49:22.694000Z"
         },
         {
          "empty_slots": 12,
          "extra": {
           "address": "ул. Садовая-Спасская, д.1, к.5",
           "ebikes": 0,
           "electric_free": 0,
           "electric_slots": 0,
           "normal_bikes": 0,
           "normal_free": 12,
           "normal_slots": 12,
           "slots": 12,
           "uid": "0127"
          },
          "free_bikes": 0,
          "id": "2c9559d7eebb0e23a73e59b1b82fb29e",
          "latitude": 55.771643,
          "longitude": 37.640052,
          "name": "ул. Садовая-Спасская, д.1, к.5",
          "timestamp": "2023-02-20T14:49:22.694000Z"
         },
         {
          "empty_slots": 12,
          "extra": {
           "address": "МЦК Лихоборы (выход №2)",
           "ebikes": 0,
           "electric_free": 0,
           "electric_slots": 0,
           "normal_bikes": 0,
           "normal_free": 12,
           "normal_slots": 12,
           "slots": 12,
           "uid": "0381"
          },
          "free_bikes": 0,
          "id": "bc3eedad80694a66b578f3b5f63ea221",
          "latitude": 55.847103,
          "longitude": 37.553015,
          "name": "МЦК Лихоборы (выход №2)",
          "timestamp": "2023-02-20T14:49:22.695000Z"
         },
         {
          "empty_slots": 9,
          "extra": {
           "address": "ул. Кошкина, д.13, к.1",
           "ebikes": 0,
           "electric_free": 0,
           "electric_slots": 0,
           "normal_bikes": 0,
           "normal_free": 9,
           "normal_slots": 9,
           "slots": 9,
           "uid": "0626"
          },
          "free_bikes": 0,
          "id": "acca71282155aad3a10bf9d767153aa6",
          "latitude": 55.6406611,
          "longitude": 37.671661,
          "name": "ул. Кошкина, д.13, к.1",
          "timestamp": "2023-02-20T14:49:22.729000Z"
         },
         {
          "empty_slots": 9,
          "extra": {
           "address": "Каширское ш., д.61Г",
           "ebikes": 0,
           "electric_free": 0,
           "electric_slots": 0,
           "normal_bikes": 0,
           "normal_free": 9,
           "normal_slots": 9,
           "slots": 9,
           "uid": "0689"
          },
          "free_bikes": 0,
          "id": "b4ff12649c01bee6c1b3e0297d252a59",
          "latitude": 55.619827,
          "longitude": 37.713798,
          "name": "Каширское ш., д.61Г",
          "timestamp": "2023-02-20T14:49:22.730000Z"
         },
         {
          "empty_slots": 13,
          "extra": {
           "address": "Кронштадский б-р, вл.7Б",
           "ebikes": 0,
           "electric_free": 0,
           "electric_slots": 0,
           "normal_bikes": 0,
           "normal_free": 13,
           "normal_slots": 13,
           "slots": 13,
           "uid": "0846"
          },
          "free_bikes": 0,
          "id": "ca133a8947f5ca279010f740bdfffe15",
          "latitude": 55.841098,
          "longitude": 37.486241,
          "name": "Кронштадский б-р, вл.7Б",
          "timestamp": "2023-02-20T14:49:22.731000Z"
         },
         {
          "empty_slots": 12,
          "extra": {
           "address": "Большая Сухаревская пл., д.16",
           "ebikes": 0,
           "electric_free": 0,
           "electric_slots": 0,
           "normal_bikes": 0,
           "normal_free": 12,
           "normal_slots": 12,
           "slots": 12,
           "uid": "0126"
          },
          "free_bikes": 0,
          "id": "23870509901b84d2c4a149ff1f4cf032",
          "latitude": 55.772351,
          "longitude": 37.633515,
          "name": "Большая Сухаревская пл., д.16",
          "timestamp": "2023-02-20T14:49:22.731000Z"
         },
         {
          "empty_slots": 12,
          "extra": {
           "address": "ул. Садовая-Каретная, д.20",
           "ebikes": 0,
           "electric_free": 0,
           "electric_slots": 0,
           "normal_bikes": 0,
           "normal_free": 12,
           "normal_slots": 12,
           "slots": 12,
           "uid": "0121"
          },
          "free_bikes": 0,
          "id": "d9bb18b4a664d18ad8e0ebdcb929b93f",
          "latitude": 55.77299,
          "longitude": 37.610026,
          "name": "ул. Садовая-Каретная, д.20",
          "timestamp": "2023-02-20T14:49:22.732000Z"
         },
         {
          "empty_slots": 12,
          "extra": {
           "address": "ул. Садовая-Спасская, д.21",
           "ebikes": 0,
           "electric_free": 0,
           "electric_slots": 0,
           "normal_bikes": 0,
           "normal_free": 12,
           "normal_slots": 12,
           "slots": 12,
           "uid": "0129"
          },
          "free_bikes": 0,
          "id": "3a6ee5c36446d6af3839c6b261cf0411",
          "latitude": 55.769143,
          "longitude": 37.648697,
          "name": "ул. Садовая-Спасская, д.21",
          "timestamp": "2023-02-20T14:49:22.741000Z"
         },
         {
          "empty_slots": 12,
          "extra": {
           "address": "Смоленский б-р, д.7",
           "ebikes": 0,
           "electric_free": 0,
           "electric_slots": 0,
           "normal_bikes": 0,
           "normal_free": 12,
           "normal_slots": 12,
           "slots": 12,
           "uid": "0099"
          },
          "free_bikes": 0,
          "id": "33747f5199b5432dd4c60c79a812cdc3",
          "latitude": 55.740454,
          "longitude": 37.584673,
          "name": "Смоленский б-р, д.7",
          "timestamp": "2023-02-20T14:49:22.742000Z"
         },
         {
          "empty_slots": 12,
          "extra": {
           "address": "ул. Земляной Вал, д.27",
           "ebikes": 0,
           "electric_free": 0,
           "electric_slots": 0,
           "normal_bikes": 0,
           "normal_free": 12,
           "normal_slots": 12,
           "slots": 12,
           "uid": "0140"
          },
          "free_bikes": 0,
          "id": "7dc4cd2deab8a5f213a2cccf1ea3800d",
          "latitude": 55.758827,
          "longitude": 37.658075,
          "name": "ул. Земляной Вал, д.27",
          "timestamp": "2023-02-20T14:49:22.750000Z"
         },
         {
          "empty_slots": 12,
          "extra": {
           "address": "ул. Малая Дмитровка, д.24",
           "ebikes": 0,
           "electric_free": 0,
           "electric_slots": 0,
           "normal_bikes": 0,
           "normal_free": 12,
           "normal_slots": 12,
           "slots": 12,
           "uid": "0064"
          },
          "free_bikes": 0,
          "id": "d8671915b6d2ea1e90215e580505672d",
          "latitude": 55.772437,
          "longitude": 37.605607,
          "name": "ул. Малая Дмитровка, д.24",
          "timestamp": "2023-02-20T14:49:22.751000Z"
         }
        ]
       }
      },
      "text/plain": [
       "<IPython.core.display.JSON object>"
      ]
     },
     "execution_count": 4,
     "metadata": {
      "application/json": {
       "expanded": false,
       "root": "root"
      }
     },
     "output_type": "execute_result"
    }
   ],
   "source": [
    "#get data for certain network_id\n",
    "network_id = 'velobike-moscow'\n",
    "network_json = requests.get(\"http://api.citybik.es/v2/networks/\"+network_id).json()\n",
    "JSON(network_json)"
   ]
  },
  {
   "cell_type": "markdown",
   "id": "6090e5d5-d31f-4907-9836-fae1ee6d60cd",
   "metadata": {},
   "source": [
    "Remember that data pulled from the API may be updated at any point (e.g. number of free bikes)."
   ]
  }
 ],
 "metadata": {
  "kernelspec": {
   "display_name": "Python 3 (ipykernel)",
   "language": "python",
   "name": "python3"
  },
  "language_info": {
   "codemirror_mode": {
    "name": "ipython",
    "version": 3
   },
   "file_extension": ".py",
   "mimetype": "text/x-python",
   "name": "python",
   "nbconvert_exporter": "python",
   "pygments_lexer": "ipython3",
   "version": "3.9.7"
  }
 },
 "nbformat": 4,
 "nbformat_minor": 5
}
